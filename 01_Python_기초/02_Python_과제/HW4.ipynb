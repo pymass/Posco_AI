{
 "cells": [
  {
   "cell_type": "markdown",
   "metadata": {},
   "source": [
    "# 실습4"
   ]
  },
  {
   "cell_type": "markdown",
   "metadata": {},
   "source": [
    "## 1. 파일"
   ]
  },
  {
   "cell_type": "markdown",
   "metadata": {},
   "source": [
    "### 문제2"
   ]
  },
  {
   "cell_type": "code",
   "execution_count": null,
   "metadata": {},
   "outputs": [],
   "source": [
    "import os\n",
    "\n",
    "fname = input('Enter a file name: ')\n",
    "\n",
    "if os.path.exists(fname):\n",
    "    with open(fname) as f:\n",
    "        for c in f.readlines():\n",
    "            print(c.upper(), end='')\n",
    "\n",
    "else:\n",
    "    print('파일이 존재하지 않는다')"
   ]
  },
  {
   "cell_type": "markdown",
   "metadata": {},
   "source": [
    "### 문제3"
   ]
  },
  {
   "cell_type": "code",
   "execution_count": null,
   "metadata": {},
   "outputs": [],
   "source": [
    "import sys\n",
    "\n",
    "with open(sys.argv[1]) as f:\n",
    "    text = f.read()\n",
    "    \n",
    "with open(sys.argv[2], 'w') as f:\n",
    "    f.write(text)"
   ]
  },
  {
   "cell_type": "markdown",
   "metadata": {},
   "source": [
    "### 문제4"
   ]
  },
  {
   "cell_type": "code",
   "execution_count": null,
   "metadata": {},
   "outputs": [],
   "source": [
    "def scoring(mid, final):\n",
    "    average = mid * 0.4 + final * 0.6\n",
    "    \n",
    "    if average >= 90:\n",
    "        grade = \"A\"\n",
    "    elif 90 > average >= 80:\n",
    "        grade = \"B\"\n",
    "    elif 80 > average >= 70:\n",
    "        grade = \"C\"\n",
    "    elif 70 > average >= 60:\n",
    "        grade = \"D\"\n",
    "    else:\n",
    "        grade = \"F\"\n",
    "        \n",
    "    return \"{}({})\".format(average, grade)\n",
    "\n",
    "\n",
    "r = open('report.txt', 'w')\n",
    "\n",
    "with open('score.txt') as f:\n",
    "    for c in f.readlines():\n",
    "        t = list(map(int, c.split()))\n",
    "        l = c.strip() + ' ' + scoring(t[1], t[2]) + '\\n'\n",
    "        r.write(l)\n",
    "        \n",
    "r.close()\n",
    "\n",
    "with open('report.txt') as f:\n",
    "    print(f.read())"
   ]
  },
  {
   "cell_type": "markdown",
   "metadata": {},
   "source": [
    "## 함수"
   ]
  },
  {
   "cell_type": "markdown",
   "metadata": {},
   "source": [
    "### 문제1"
   ]
  },
  {
   "cell_type": "code",
   "execution_count": 9,
   "metadata": {},
   "outputs": [
    {
     "name": "stdout",
     "output_type": "stream",
     "text": [
      "13는 소수입니다.\n",
      "15는 소수가 아닙니다.\n"
     ]
    }
   ],
   "source": [
    "import math\n",
    "\n",
    "def check_prime(num):\n",
    "    \n",
    "    if num == 1:\n",
    "        return False\n",
    "    \n",
    "    else:\n",
    "        for i in range(2, int(math.sqrt(num))+1):\n",
    "            if num % i == 0:\n",
    "                return False\n",
    "\n",
    "    return True\n",
    "\n",
    "def main():\n",
    "    a = 13\n",
    "    b = 15\n",
    "    \n",
    "    if check_prime(a):\n",
    "        print(str(a)+'는 소수입니다.')\n",
    "    else:\n",
    "        print(str(a)+'는 소수가 아닙니다.')\n",
    "        \n",
    "    if check_prime(b):\n",
    "        print(str(b)+'는 소수입니다.')\n",
    "    else:\n",
    "        print(str(b)+'는 소수가 아닙니다.')\n",
    "        \n",
    "main()"
   ]
  },
  {
   "cell_type": "markdown",
   "metadata": {},
   "source": [
    "### 문제2"
   ]
  },
  {
   "cell_type": "code",
   "execution_count": 83,
   "metadata": {},
   "outputs": [
    {
     "name": "stdout",
     "output_type": "stream",
     "text": [
      "1,234\n",
      "12,345,678\n",
      "12\n"
     ]
    }
   ],
   "source": [
    "def add_comma(val):\n",
    "    reverse = list(str(val)[::-1])\n",
    "    \n",
    "    if len(reverse) < 4:\n",
    "        return str(val)\n",
    "    else:\n",
    "        cnt = 0\n",
    "        for i in range(3, len(reverse), 3):\n",
    "            reverse.insert(i+cnt, ',')\n",
    "            cnt += 1\n",
    "    \n",
    "    return ''.join(reverse)[::-1]\n",
    "    \n",
    "    \n",
    "def main():\n",
    "    comma_added_1234 = add_comma(1234)\n",
    "    comma_added_12345678 = add_comma(12345678)\n",
    "    comma_added_12 = add_comma(12)\n",
    "    \n",
    "    print(comma_added_1234)\n",
    "    print(comma_added_12345678)\n",
    "    print(comma_added_12)\n",
    "    \n",
    "main()"
   ]
  },
  {
   "cell_type": "markdown",
   "metadata": {},
   "source": [
    "### 문제3"
   ]
  },
  {
   "cell_type": "code",
   "execution_count": 130,
   "metadata": {},
   "outputs": [
    {
     "name": "stdout",
     "output_type": "stream",
     "text": [
      "['There', 'was', 'a', 'farmer', 'who', 'had', 'a', 'dog.']\n",
      "['There was', 'was a', 'a farmer', 'farmer who', 'who had', 'had a', 'a dog.']\n"
     ]
    }
   ],
   "source": [
    "def tokenize(trg, N=1):\n",
    "    t = trg.split()\n",
    "    tokens = list(zip(*[t[i:] for i in range(N)]))\n",
    "    result = [' '.join(x) for x in tokens]\n",
    "    return result\n",
    "                  \n",
    "    \n",
    "def main():\n",
    "    a = \"There was a farmer who had a dog.\"\n",
    "    print(tokenize(a))\n",
    "    print(tokenize(a, 2))\n",
    "    \n",
    "main()"
   ]
  },
  {
   "cell_type": "markdown",
   "metadata": {},
   "source": [
    "### 문제4"
   ]
  },
  {
   "cell_type": "code",
   "execution_count": 34,
   "metadata": {},
   "outputs": [
    {
     "name": "stdout",
     "output_type": "stream",
     "text": [
      "평균:  [0.5, 0.5]\n",
      "분산:  [0.16666666666666666, 0.16666666666666666]\n"
     ]
    }
   ],
   "source": [
    "import numpy as np\n",
    "\n",
    "def mean_and_var(*val):\n",
    "    data = [i for i in zip(*val)]\n",
    "    m = list(map(np.mean, data))\n",
    "    var = list(map(np.var, data))\n",
    "    \n",
    "    return m, var\n",
    "\n",
    "def main():\n",
    "    v1 = (0, 1)\n",
    "    v2 = (0.5, 0.5)\n",
    "    v3 = (1, 0)\n",
    "    m, var = mean_and_var(v1, v2, v3)\n",
    "    \n",
    "    print('평균: ', m)\n",
    "    print('분산: ', var)\n",
    "    \n",
    "main()"
   ]
  },
  {
   "cell_type": "markdown",
   "metadata": {},
   "source": [
    "# 책"
   ]
  },
  {
   "cell_type": "markdown",
   "metadata": {},
   "source": [
    "## 실습문제8"
   ]
  },
  {
   "cell_type": "code",
   "execution_count": 61,
   "metadata": {},
   "outputs": [
    {
     "name": "stdout",
     "output_type": "stream",
     "text": [
      "{'d': 1, 'l': 1, 'e': 2, 'p': 2, 'r': 1, 'a': 1, ' ': 1}\n",
      "e\n"
     ]
    }
   ],
   "source": [
    "def letter_dict(s):\n",
    "    dic = {}\n",
    "    for i in set(s):\n",
    "        dic[i] = s.count(i)\n",
    "    \n",
    "    return dic\n",
    "    \n",
    "def max_letter(dic):\n",
    "    return max(dic.keys(), key=(lambda x: dic[x]))\n",
    "    \n",
    "a = letter_dict('red apple')\n",
    "print(a)\n",
    "print(max_letter(a))"
   ]
  },
  {
   "cell_type": "markdown",
   "metadata": {},
   "source": [
    "## 실습문제9"
   ]
  },
  {
   "cell_type": "code",
   "execution_count": 62,
   "metadata": {},
   "outputs": [
    {
     "name": "stdout",
     "output_type": "stream",
     "text": [
      "{'d': 1, 'l': 2, 'e': 1, 'p': 2, 'r': 1, 'a': 3, ' ': 1, 'n': 2, 'o': 1, 'b': 1, 'y': 1, 'w': 1}\n",
      "a\n"
     ]
    }
   ],
   "source": [
    "def comb_dict(dic1, dic2):\n",
    "    dic1.update(dic2)\n",
    "    return dic1\n",
    "    \n",
    "b = letter_dict('yellow banana')\n",
    "c = comb_dict(a, b)\n",
    "\n",
    "print(c)\n",
    "print(max_letter(c))"
   ]
  }
 ],
 "metadata": {
  "kernelspec": {
   "display_name": "Python 3",
   "language": "python",
   "name": "python3"
  },
  "language_info": {
   "codemirror_mode": {
    "name": "ipython",
    "version": 3
   },
   "file_extension": ".py",
   "mimetype": "text/x-python",
   "name": "python",
   "nbconvert_exporter": "python",
   "pygments_lexer": "ipython3",
   "version": "3.7.6"
  }
 },
 "nbformat": 4,
 "nbformat_minor": 4
}
