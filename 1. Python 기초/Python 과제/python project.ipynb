{
 "cells": [
  {
   "cell_type": "code",
   "execution_count": 477,
   "metadata": {},
   "outputs": [],
   "source": [
    "import sys\n",
    "\n",
    "\n",
    "def scoring(mid, final):\n",
    "    average = (float(mid) + float(final.strip())) / 2\n",
    "    \n",
    "    if average >= 90:\n",
    "        grade = \"A\"\n",
    "    elif 90 > average >= 80:\n",
    "        grade = \"B\"\n",
    "    elif 80 > average >= 70:\n",
    "        grade = \"C\"\n",
    "    elif 70 > average >= 60:\n",
    "        grade = \"D\"\n",
    "    else:\n",
    "        grade = \"F\"\n",
    "        \n",
    "    return str(average), grade\n",
    "\n",
    "\n",
    "def show():\n",
    "    body_sortList = sorted(body_split, key=lambda x: x[4], reverse=True)\n",
    "    body_sort = ''\n",
    "\n",
    "    for i in body_sortList:\n",
    "        body_sort += '\\t'.join(i) + '\\n'\n",
    "    \n",
    "    return head + body_sort\n",
    "\n",
    "\n",
    "def search_index(stid):\n",
    "    for idx, sid in enumerate(body_split):\n",
    "        if sid[0].strip() == stid:\n",
    "            return idx\n",
    "\n",
    "\n",
    "def search(stid):\n",
    "    idList = [i[0].strip() for i in body_split]\n",
    "    \n",
    "    if stid in idList:\n",
    "        search_result = '\\t'.join(body_split[search_index(stid)])\n",
    "        return search_result\n",
    "    else:\n",
    "        return 'NO SUCH PERSON.'\n",
    "\n",
    "\n",
    "def changescore(stid):\n",
    "    first_search = search(stid)\n",
    "    \n",
    "    if first_search != 'NO SUCH PERSON.':\n",
    "        test = input('Mid/Final? ')\n",
    "        if test == 'mid':\n",
    "            new_score = float(input('Input new score: '))\n",
    "            if 100 >= new_score >= 0:\n",
    "                find = body_split[search_index(stid)]\n",
    "                find[2] = str(new_score)\n",
    "                find[-2:] = scoring(find[2], find[3])\n",
    "                \n",
    "                return first_search + '\\nScore changed.\\n' + search(stid)\n",
    "\n",
    "        elif test == 'final':\n",
    "            new_score = float(input('Input new score: '))\n",
    "            if 100 >= new_score >= 0:\n",
    "                find = body_split[search_index(stid)]\n",
    "                find[3] = str(new_score)\n",
    "                find[-2:] = scoring(find[2], find[3])\n",
    "                return first_search + '\\nScore changed.\\n' + search(stid)\n",
    "        else:\n",
    "            pass\n",
    "\n",
    "    else:\n",
    "        print('NO SUCH PERSON.')\n",
    "\n",
    "\n",
    "def add(stid):\n",
    "    if search(stid) == 'NO SUCH PERSON.':\n",
    "        name = input('Name: ')\n",
    "        mid_score = input('Midterm Score: ')\n",
    "        final_score = input('Final Score: ')\n",
    "        data = [stid, name, mid_score, final_score]\n",
    "        new_line = ' {}\\t{:>12}\\t{}\\t{}\\t{}\\t{}'.format(data[0], data[1], data[2], data[3].strip(), *scoring(data[-1], data[-2]))\n",
    "        body_split.append(new_line.split('\\t'))\n",
    "        print('Student added')\n",
    "        \n",
    "    else:\n",
    "        print('ALREADY EXISTS.')\n",
    "\n",
    "        \n",
    "def searchgrade(grade):\n",
    "    if grade in ['A', 'B', 'C', 'D', 'F']:\n",
    "        gradeList = [i[-1] for i in body_split]\n",
    "        if gradeList.count(grade) >= 1:\n",
    "            index = [i for i, j in enumerate(gradeList) if j == grade]\n",
    "            search = ''\n",
    "            for idx in index:\n",
    "                search += '\\t'.join(body_split[idx]) + '\\n'\n",
    "            print(head + search.rstrip())\n",
    "        else:\n",
    "            print('NO RESULTS.')\n",
    "\n",
    "            \n",
    "            \n",
    "def remove(stid):\n",
    "    if len(body_split) > 0:\n",
    "        if search(stid) != 'NO SUCH PERSON.':\n",
    "            del body_split[search_index(stid)]\n",
    "            print('Student removed.')\n",
    "        else:\n",
    "            print('NO SUCH PERSON.')\n",
    "        \n",
    "    else:\n",
    "        print('List is empty')\n",
    "\n",
    "\n",
    "def quit(save):\n",
    "    if save == 'yes':\n",
    "        fname = input('File name: ')\n",
    "        body_sortList = sorted(body_split, key=lambda x: x[4], reverse=True)\n",
    "        with open(fname, 'w') as f:\n",
    "            for data in body_sortList:\n",
    "                f.write('\\t'.join(list(map(lambda x: x.strip(), data[:4])))+'\\n')\n",
    "\n",
    "if len(sys.argv) > 1:\n",
    "    filename = sys.argv[1]\n",
    "else:\n",
    "    filename = 'students.txt'\n",
    "\n",
    "with open('students.txt') as f:\n",
    "    body = ''\n",
    "    for line in f.readlines():\n",
    "        data = line.split('\\t')\n",
    "        new_line = ' {}\\t{:>12}\\t{}\\t{}\\t{}\\t{}\\n'.format(data[0], data[1], data[2], data[3].strip(), *scoring(data[-1], data[-2]))\n",
    "        body += new_line\n",
    "\n",
    "head = '  Student               Name  Midterm  Final  Average Grade\\n--------------------------------------------------------------\\n'\n",
    "body = body.rstrip()\n",
    "text = head + body\n",
    "\n",
    "\n",
    "body_split = list(map(lambda x: x.split('\\t'), body.split('\\n')))"
   ]
  },
  {
   "cell_type": "code",
   "execution_count": 476,
   "metadata": {},
   "outputs": [
    {
     "name": "stdout",
     "output_type": "stream",
     "text": [
      "20180002\tLee Jieun\t92\t89\n",
      "\n",
      "20180002\tLee Jieun\t92\t89\n",
      "\n",
      "20180002\tLee Jieun\t92\t89\n",
      "\n",
      "20180002\tLee Jieun\t92\t89\n",
      "\n",
      "20180002\tLee Jieun\t92\t89\n",
      "\n"
     ]
    }
   ],
   "source": [
    "for data in body_sortList:\n",
    "    print('\\t'.join(list(map(lambda x: x.strip(), i[:4])))+'\\n')"
   ]
  },
  {
   "cell_type": "code",
   "execution_count": 475,
   "metadata": {},
   "outputs": [
    {
     "data": {
      "text/plain": [
       "[[' 20180007', ' Kim Cheolsu', '57', '62', '59.5', 'F'],\n",
       " [' 20180011', '  Ha Donghun', '58', '68', '63.0', 'D'],\n",
       " [' 20180001', 'Hong Gildong', '84', '73', '78.5', 'C'],\n",
       " [' 20180009', 'Lee Yeonghee', '81', '84', '82.5', 'B'],\n",
       " [' 20180002', '   Lee Jieun', '92', '89', '90.5', 'A']]"
      ]
     },
     "execution_count": 475,
     "metadata": {},
     "output_type": "execute_result"
    }
   ],
   "source": [
    "body_sortList"
   ]
  },
  {
   "cell_type": "code",
   "execution_count": 478,
   "metadata": {
    "scrolled": true
   },
   "outputs": [
    {
     "name": "stdout",
     "output_type": "stream",
     "text": [
      "File name: test.txt\n"
     ]
    }
   ],
   "source": [
    "quit('yes')"
   ]
  },
  {
   "cell_type": "code",
   "execution_count": null,
   "metadata": {},
   "outputs": [],
   "source": [
    "save = input('Save data?[yes/no] ')\n",
    "\n",
    "if save == 'yes':\n",
    "    fname = input('File name: ')\n",
    "    w"
   ]
  },
  {
   "cell_type": "code",
   "execution_count": 469,
   "metadata": {},
   "outputs": [
    {
     "name": "stdout",
     "output_type": "stream",
     "text": [
      "20180001\tHong Gildong\t84\t73\n",
      "20180002\tLee Jieun\t92\t89\n",
      "20180007\tKim Cheolsu\t57\t62\n",
      "20180009\tLee Yeonghee\t81\t84\n",
      "20180011\tHa Donghun\t58\t68\n"
     ]
    }
   ],
   "source": [
    "for i in body_split:\n",
    "    print('\\t'.join(list(map(lambda x: x.strip(), i[:4]))))"
   ]
  },
  {
   "cell_type": "code",
   "execution_count": 467,
   "metadata": {},
   "outputs": [
    {
     "data": {
      "text/plain": [
       "'20180011\\tHa Donghun\\t58\\t68'"
      ]
     },
     "execution_count": 467,
     "metadata": {},
     "output_type": "execute_result"
    }
   ],
   "source": [
    "'\\t'.join(list(map(lambda x: x.strip(), i[:4])))"
   ]
  },
  {
   "cell_type": "code",
   "execution_count": 439,
   "metadata": {},
   "outputs": [],
   "source": [
    "with open('students.txt') as f:\n",
    "    a = f.read()"
   ]
  },
  {
   "cell_type": "code",
   "execution_count": 442,
   "metadata": {},
   "outputs": [
    {
     "data": {
      "text/plain": [
       "'20180001\\tHong Gildong\\t84\\t73\\n20180002\\tLee Jieun\\t92\\t89\\n20180007\\tKim Cheolsu\\t57\\t62\\n20180009\\tLee Yeonghee\\t81\\t84\\n20180011\\tHa Donghun\\t58\\t68\\n'"
      ]
     },
     "execution_count": 442,
     "metadata": {},
     "output_type": "execute_result"
    }
   ],
   "source": [
    "a"
   ]
  },
  {
   "cell_type": "code",
   "execution_count": 448,
   "metadata": {},
   "outputs": [
    {
     "name": "stdout",
     "output_type": "stream",
     "text": [
      " 20180001\tHong Gildong\t84\t73\n",
      " 20180002\t   Lee Jieun\t92\t89\n",
      " 20180007\t Kim Cheolsu\t57\t62\n",
      " 20180009\tLee Yeonghee\t81\t84\n",
      " 20180011\t  Ha Donghun\t58\t68\n"
     ]
    }
   ],
   "source": [
    "for i in body_split:\n",
    "    print('\\t'.join(i[:4]))"
   ]
  },
  {
   "cell_type": "code",
   "execution_count": 463,
   "metadata": {},
   "outputs": [
    {
     "name": "stdout",
     "output_type": "stream",
     "text": [
      "20180001\tHong Gildong\t84\t73\t20180002\tLee Jieun\t92\t89\t20180007\tKim Cheolsu\t57\t62\t20180009\tLee Yeonghee\t81\t84\t20180011\tHa Donghun\t58\t68\n"
     ]
    }
   ],
   "source": [
    "print('\\t'.join([j.strip() for i in body_split for j in i[:4]]))"
   ]
  },
  {
   "cell_type": "code",
   "execution_count": 457,
   "metadata": {},
   "outputs": [
    {
     "name": "stdout",
     "output_type": "stream",
     "text": [
      "[' 20180001', 'Hong Gildong', '84', '73', '78.5', 'C']\n",
      "[' 20180002', '   Lee Jieun', '92', '89', '90.5', 'A']\n",
      "[' 20180007', ' Kim Cheolsu', '57', '62', '59.5', 'F']\n",
      "[' 20180009', 'Lee Yeonghee', '81', '84', '82.5', 'B']\n",
      "[' 20180011', '  Ha Donghun', '58', '68', '63.0', 'D']\n"
     ]
    }
   ],
   "source": [
    "for i in body_split:\n",
    "    print(i)"
   ]
  },
  {
   "cell_type": "code",
   "execution_count": 435,
   "metadata": {},
   "outputs": [
    {
     "name": "stdout",
     "output_type": "stream",
     "text": [
      "List is empty\n"
     ]
    }
   ],
   "source": [
    "remove('20180011')"
   ]
  },
  {
   "cell_type": "code",
   "execution_count": 436,
   "metadata": {},
   "outputs": [
    {
     "data": {
      "text/plain": [
       "[]"
      ]
     },
     "execution_count": 436,
     "metadata": {},
     "output_type": "execute_result"
    }
   ],
   "source": [
    "body_split"
   ]
  },
  {
   "cell_type": "code",
   "execution_count": 470,
   "metadata": {},
   "outputs": [],
   "source": [
    "body_sortList = sorted(body_split, key=lambda x: x[4])"
   ]
  },
  {
   "cell_type": "code",
   "execution_count": 471,
   "metadata": {},
   "outputs": [
    {
     "data": {
      "text/plain": [
       "[[' 20180007', ' Kim Cheolsu', '57', '62', '59.5', 'F'],\n",
       " [' 20180011', '  Ha Donghun', '58', '68', '63.0', 'D'],\n",
       " [' 20180001', 'Hong Gildong', '84', '73', '78.5', 'C'],\n",
       " [' 20180009', 'Lee Yeonghee', '81', '84', '82.5', 'B'],\n",
       " [' 20180002', '   Lee Jieun', '92', '89', '90.5', 'A']]"
      ]
     },
     "execution_count": 471,
     "metadata": {},
     "output_type": "execute_result"
    }
   ],
   "source": [
    "body_sortList"
   ]
  },
  {
   "cell_type": "code",
   "execution_count": 487,
   "metadata": {},
   "outputs": [
    {
     "name": "stdout",
     "output_type": "stream",
     "text": [
      "Input new score: 120\n",
      "Input new score: 130\n",
      "Input new score: -1\n",
      "Input new score: -5\n",
      "Input new score: 100\n"
     ]
    }
   ],
   "source": [
    "new_score = float(input('Input new score: '))\n",
    "while new_score < 0 or new_score >100:\n",
    "    new_score = float(input('Input new score: '))"
   ]
  },
  {
   "cell_type": "code",
   "execution_count": null,
   "metadata": {},
   "outputs": [],
   "source": [
    "def change(test):\n",
    "    "
   ]
  }
 ],
 "metadata": {
  "kernelspec": {
   "display_name": "Python 3",
   "language": "python",
   "name": "python3"
  },
  "language_info": {
   "codemirror_mode": {
    "name": "ipython",
    "version": 3
   },
   "file_extension": ".py",
   "mimetype": "text/x-python",
   "name": "python",
   "nbconvert_exporter": "python",
   "pygments_lexer": "ipython3",
   "version": "3.7.6"
  }
 },
 "nbformat": 4,
 "nbformat_minor": 4
}
