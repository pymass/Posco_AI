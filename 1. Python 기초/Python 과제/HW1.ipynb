{
 "cells": [
  {
   "cell_type": "markdown",
   "metadata": {},
   "source": [
    "# 실습 문제1"
   ]
  },
  {
   "cell_type": "code",
   "execution_count": 1,
   "metadata": {},
   "outputs": [
    {
     "name": "stdout",
     "output_type": "stream",
     "text": [
      "화씨온도: 100\n",
      "섭씨온도: 37.77777777777778\n"
     ]
    }
   ],
   "source": [
    "f = int(input('화씨온도: '))\n",
    "c = (f-32) * 5/9\n",
    "print('섭씨온도: {}'.format(c))"
   ]
  },
  {
   "cell_type": "markdown",
   "metadata": {},
   "source": [
    "# 실습 문제2"
   ]
  },
  {
   "cell_type": "code",
   "execution_count": 2,
   "metadata": {},
   "outputs": [
    {
     "name": "stdout",
     "output_type": "stream",
     "text": [
      "투입한 돈: 5000\n",
      "물건값: 2700\n",
      "거스름돈: 2300\n",
      "500원짜리: 4개\n",
      "100원짜리: 3개\n"
     ]
    }
   ],
   "source": [
    "money = int(input('투입한 돈: '))\n",
    "product = int(input('물건값: '))\n",
    "\n",
    "remainder = money - product\n",
    "\n",
    "five_hundred = remainder // 500\n",
    "one_hundred = (remainder % 500) // 100\n",
    "\n",
    "print('거스름돈: {}\\n500원짜리: {}개\\n100원짜리: {}개'.format(remainder, five_hundred, one_hundred))"
   ]
  },
  {
   "cell_type": "markdown",
   "metadata": {},
   "source": [
    "# 실습 문제3"
   ]
  },
  {
   "cell_type": "code",
   "execution_count": 3,
   "metadata": {},
   "outputs": [
    {
     "name": "stdout",
     "output_type": "stream",
     "text": [
      "반지름을 입력하시오: 5\n",
      "원 둘레: 31.42\n",
      "원 넓이: 78.54\n"
     ]
    }
   ],
   "source": [
    "r = int(input('반지름을 입력하시오: '))\n",
    "circle_round = 2 * r * 3.141592\n",
    "circle_area = r ** 2 * 3.141592\n",
    "print('원 둘레: %.2f\\n원 넓이: %.2f' % (circle_round, circle_area))"
   ]
  },
  {
   "cell_type": "markdown",
   "metadata": {},
   "source": [
    "# 실습 문제4"
   ]
  },
  {
   "cell_type": "code",
   "execution_count": 4,
   "metadata": {},
   "outputs": [
    {
     "name": "stdout",
     "output_type": "stream",
     "text": [
      "Enter two integers: 8 5\n",
      "8 + 5 = 13\n",
      "8 - 5 = 3\n",
      "8 * 5 = 40\n",
      "8 / 5 = 1.6\n",
      "8 % 5 = 3\n"
     ]
    }
   ],
   "source": [
    "numbers = input('Enter two integers: ')\n",
    "a, b = map(int, numbers.split())\n",
    "print('{} + {} = {}'.format(a, b, a+b))\n",
    "print('{} - {} = {}'.format(a, b, a-b))\n",
    "print('{} * {} = {}'.format(a, b, a*b))\n",
    "print('{} / {} = {}'.format(a, b, a/b))\n",
    "print('{} % {} = {}'.format(a, b, a%b))"
   ]
  },
  {
   "cell_type": "markdown",
   "metadata": {},
   "source": [
    "# 실습 문제5"
   ]
  },
  {
   "cell_type": "code",
   "execution_count": 5,
   "metadata": {},
   "outputs": [
    {
     "name": "stdout",
     "output_type": "stream",
     "text": [
      "Enter two integers: 70 91\n",
      "The sum of 70 and 91 is 161\n",
      "The average of numbers is 80.5\n"
     ]
    }
   ],
   "source": [
    "numbers = input('Enter two integers: ')\n",
    "a, b = map(int, numbers.split())\n",
    "print('The sum of {} and {} is {}'.format(a, b, a+b))\n",
    "print('The average of numbers is {}'.format((a+b)/2))"
   ]
  },
  {
   "cell_type": "markdown",
   "metadata": {},
   "source": [
    "# 실습 문제6"
   ]
  },
  {
   "cell_type": "code",
   "execution_count": 6,
   "metadata": {},
   "outputs": [
    {
     "name": "stdout",
     "output_type": "stream",
     "text": [
      "날짜(연/월/일)입력: 2020/06/15\n",
      "입력한 날짜의 10년 후는 2030년 06월 15일\n"
     ]
    }
   ],
   "source": [
    "date = input('날짜(연/월/일)입력: ')\n",
    "y, m, d = date.split('/')\n",
    "print('입력한 날짜의 10년 후는 {}년 {}월 {}일'.format(int(y) + 10, m, d))"
   ]
  }
 ],
 "metadata": {
  "kernelspec": {
   "display_name": "Python 3",
   "language": "python",
   "name": "python3"
  },
  "language_info": {
   "codemirror_mode": {
    "name": "ipython",
    "version": 3
   },
   "file_extension": ".py",
   "mimetype": "text/x-python",
   "name": "python",
   "nbconvert_exporter": "python",
   "pygments_lexer": "ipython3",
   "version": "3.7.6"
  }
 },
 "nbformat": 4,
 "nbformat_minor": 4
}
