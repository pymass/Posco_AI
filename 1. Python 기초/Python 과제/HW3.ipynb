{
 "cells": [
  {
   "cell_type": "markdown",
   "metadata": {},
   "source": [
    "# 실습2"
   ]
  },
  {
   "cell_type": "markdown",
   "metadata": {},
   "source": [
    "## 2. 반복문"
   ]
  },
  {
   "cell_type": "markdown",
   "metadata": {},
   "source": [
    "### 문제12"
   ]
  },
  {
   "cell_type": "code",
   "execution_count": 33,
   "metadata": {},
   "outputs": [
    {
     "name": "stdout",
     "output_type": "stream",
     "text": [
      "Enter a number: 7\n",
      "Enter a number: 2\n",
      "Enter a number: 9\n",
      "Enter a number: 3\n",
      "Enter a number: 5\n",
      "Enter a number: done\n",
      "\n",
      "[7.0, 2.0, 9.0, 3.0, 5.0]\n",
      "Average: 5.2\n",
      "Maximum: 9.0\n",
      "Minimum: 2.0\n"
     ]
    }
   ],
   "source": [
    "nums = []\n",
    "\n",
    "while True:\n",
    "    number = input('Enter a number: ')\n",
    "    if number == 'done':\n",
    "        break\n",
    "    else:\n",
    "        nums.append(float(number))\n",
    "\n",
    "print()\n",
    "print(nums)\n",
    "print('Average: {}'.format(sum(nums) / len(nums)))\n",
    "print('Maximum: {}'.format(max(nums)))\n",
    "print('Minimum: {}'.format(min(nums)))"
   ]
  },
  {
   "cell_type": "markdown",
   "metadata": {},
   "source": [
    "# 실습3"
   ]
  },
  {
   "cell_type": "markdown",
   "metadata": {},
   "source": [
    "## 1. 딕셔너리(dict)"
   ]
  },
  {
   "cell_type": "markdown",
   "metadata": {},
   "source": [
    "### 문제1"
   ]
  },
  {
   "cell_type": "code",
   "execution_count": 1,
   "metadata": {},
   "outputs": [
    {
     "name": "stdout",
     "output_type": "stream",
     "text": [
      "1 2 10 "
     ]
    }
   ],
   "source": [
    "d = {'youn':1, 'park':2, 'kim':10}\n",
    "\n",
    "for value in d.values():\n",
    "    print(value, end=' ')"
   ]
  },
  {
   "cell_type": "markdown",
   "metadata": {},
   "source": [
    "### 문제2"
   ]
  },
  {
   "cell_type": "code",
   "execution_count": 17,
   "metadata": {},
   "outputs": [
    {
     "name": "stdout",
     "output_type": "stream",
     "text": [
      "five 5\n",
      "four 4\n",
      "one 1\n",
      "three 3\n",
      "two 2\n"
     ]
    }
   ],
   "source": [
    "d = {'one':1, 'two':2, 'three':3, 'four':4, 'five':5}\n",
    "\n",
    "for k, v in sorted(d.items()):\n",
    "    print(k, v)"
   ]
  },
  {
   "cell_type": "markdown",
   "metadata": {},
   "source": [
    "### 문제3"
   ]
  },
  {
   "cell_type": "code",
   "execution_count": 92,
   "metadata": {},
   "outputs": [
    {
     "name": "stdout",
     "output_type": "stream",
     "text": [
      "Enter a sentence: Python is fun!\n",
      "{' ': 2, '!': 1, 'P': 1, 'f': 1, 'h': 1, 'i': 1, 'n': 2, 'o': 1, 's': 1, 't': 1, 'u': 1, 'y': 1}\n"
     ]
    }
   ],
   "source": [
    "word = input('Enter a sentence: ')\n",
    "answer = {}\n",
    "\n",
    "for i in word:\n",
    "    if i not in answer:\n",
    "        answer[i] = 1\n",
    "    else:\n",
    "        answer[i] += 1\n",
    "    \n",
    "print(answer)"
   ]
  },
  {
   "cell_type": "markdown",
   "metadata": {},
   "source": [
    "# 실습4"
   ]
  },
  {
   "cell_type": "markdown",
   "metadata": {},
   "source": [
    "## 1. 파일"
   ]
  },
  {
   "cell_type": "markdown",
   "metadata": {},
   "source": [
    "### 문제1"
   ]
  },
  {
   "cell_type": "code",
   "execution_count": 44,
   "metadata": {},
   "outputs": [
    {
     "name": "stdout",
     "output_type": "stream",
     "text": [
      "first 1\n",
      "line 3\n",
      "second 1\n",
      "third 1\n"
     ]
    }
   ],
   "source": [
    "answer = {}\n",
    "\n",
    "with open('test.txt') as f:\n",
    "    text = f.read()\n",
    "\n",
    "for i in text.split():\n",
    "    if i not in answer:\n",
    "        answer[i] = 1\n",
    "    else:\n",
    "        answer[i] += 1\n",
    "\n",
    "for k, v in answer.items():\n",
    "    print(k, v)"
   ]
  },
  {
   "cell_type": "markdown",
   "metadata": {},
   "source": [
    "### 문제2"
   ]
  },
  {
   "cell_type": "code",
   "execution_count": 87,
   "metadata": {},
   "outputs": [
    {
     "name": "stdout",
     "output_type": "stream",
     "text": [
      "Enter a file name: t.txt\n",
      "파일이 존재하지 않는다\n"
     ]
    }
   ],
   "source": [
    "import os\n",
    "\n",
    "fname = input('Enter a file name: ')\n",
    "\n",
    "if os.path.exists(fname):\n",
    "    with open(fname) as f:\n",
    "        for c in f.readlines():\n",
    "            print(c.upper(), end='')\n",
    "\n",
    "else:\n",
    "    print('파일이 존재하지 않는다')"
   ]
  },
  {
   "cell_type": "markdown",
   "metadata": {},
   "source": [
    "### 문제3"
   ]
  },
  {
   "cell_type": "code",
   "execution_count": null,
   "metadata": {},
   "outputs": [],
   "source": [
    "import sys\n",
    "\n",
    "with open(sys.argv[1]) as f:\n",
    "    text = f.read()\n",
    "    \n",
    "with open(sys.argv[2], 'w') as f:\n",
    "    f.write(text)"
   ]
  },
  {
   "cell_type": "markdown",
   "metadata": {},
   "source": [
    "### 문제4"
   ]
  },
  {
   "cell_type": "code",
   "execution_count": 10,
   "metadata": {
    "scrolled": true
   },
   "outputs": [
    {
     "name": "stdout",
     "output_type": "stream",
     "text": [
      "201901 89 78 82.4(B)\n",
      "201902 76 84 80.8(B)\n",
      "201903 67 42 52.0(F)\n",
      "201904 66 88 79.2(C)\n",
      "201905 98 99 98.6(A)\n",
      "\n"
     ]
    }
   ],
   "source": [
    "def scoring(mid, final):\n",
    "    average = mid * 0.4 + final * 0.6\n",
    "    \n",
    "    if average >= 90:\n",
    "        grade = \"A\"\n",
    "    elif 90 > average >= 80:\n",
    "        grade = \"B\"\n",
    "    elif 80 > average >= 70:\n",
    "        grade = \"C\"\n",
    "    elif 70 > average >= 60:\n",
    "        grade = \"D\"\n",
    "    else:\n",
    "        grade = \"F\"\n",
    "        \n",
    "    return \"{}({})\".format(average, grade)\n",
    "\n",
    "\n",
    "r = open('report.txt', 'w')\n",
    "\n",
    "with open('score.txt') as f:\n",
    "    for c in f.readlines():\n",
    "        t = list(map(int, c.split()))\n",
    "        l = c.strip() + ' ' + scoring(t[1], t[2]) + '\\n'\n",
    "        r.write(l)\n",
    "        \n",
    "r.close()\n",
    "\n",
    "with open('report.txt') as f:\n",
    "    print(f.read())"
   ]
  }
 ],
 "metadata": {
  "kernelspec": {
   "display_name": "Python 3",
   "language": "python",
   "name": "python3"
  },
  "language_info": {
   "codemirror_mode": {
    "name": "ipython",
    "version": 3
   },
   "file_extension": ".py",
   "mimetype": "text/x-python",
   "name": "python",
   "nbconvert_exporter": "python",
   "pygments_lexer": "ipython3",
   "version": "3.7.6"
  }
 },
 "nbformat": 4,
 "nbformat_minor": 4
}
