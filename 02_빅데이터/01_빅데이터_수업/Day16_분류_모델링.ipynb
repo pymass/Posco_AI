{
 "cells": [
  {
   "cell_type": "markdown",
   "metadata": {},
   "source": [
    "# 서포트 벡터 머신"
   ]
  },
  {
   "cell_type": "code",
   "execution_count": 17,
   "metadata": {},
   "outputs": [],
   "source": [
    "import pandas as pd\n",
    "import numpy as np\n",
    "import matplotlib.pyplot as plt\n",
    "import matplotlib\n",
    "\n",
    " \n",
    "\n",
    "from sklearn.preprocessing import StandardScaler\n",
    "from sklearn.model_selection import train_test_split\n",
    "\n",
    " \n",
    "\n",
    "from sklearn.svm import SVC\n",
    "from sklearn.model_selection import GridSearchCV\n",
    "from sklearn.metrics import confusion_matrix\n",
    "\n",
    " \n",
    "\n",
    "matplotlib.rc(\"font\",family=\"NanumGothic\")"
   ]
  },
  {
   "cell_type": "code",
   "execution_count": 18,
   "metadata": {},
   "outputs": [],
   "source": [
    "df_raw = pd.read_csv(\"./Data/3. Big Data 분석/HMEQ.csv\",engine='python')"
   ]
  },
  {
   "cell_type": "code",
   "execution_count": 19,
   "metadata": {},
   "outputs": [
    {
     "data": {
      "text/plain": [
       "BAD          0\n",
       "LOAN         0\n",
       "MORTDUE      0\n",
       "VALUE       14\n",
       "REASON       0\n",
       "JOB         81\n",
       "YOJ        205\n",
       "DEROG        0\n",
       "DELINQ      30\n",
       "CLAGE       37\n",
       "NINQ        56\n",
       "CLNO         0\n",
       "DEBTINC      0\n",
       "dtype: int64"
      ]
     },
     "execution_count": 19,
     "metadata": {},
     "output_type": "execute_result"
    }
   ],
   "source": [
    "df_raw.isnull().sum(axis=0)"
   ]
  },
  {
   "cell_type": "code",
   "execution_count": 20,
   "metadata": {},
   "outputs": [
    {
     "data": {
      "text/html": [
       "<div>\n",
       "<style scoped>\n",
       "    .dataframe tbody tr th:only-of-type {\n",
       "        vertical-align: middle;\n",
       "    }\n",
       "\n",
       "    .dataframe tbody tr th {\n",
       "        vertical-align: top;\n",
       "    }\n",
       "\n",
       "    .dataframe thead th {\n",
       "        text-align: right;\n",
       "    }\n",
       "</style>\n",
       "<table border=\"1\" class=\"dataframe\">\n",
       "  <thead>\n",
       "    <tr style=\"text-align: right;\">\n",
       "      <th></th>\n",
       "      <th>BAD</th>\n",
       "      <th>LOAN</th>\n",
       "      <th>MORTDUE</th>\n",
       "      <th>VALUE</th>\n",
       "      <th>YOJ</th>\n",
       "      <th>DEROG</th>\n",
       "      <th>DELINQ</th>\n",
       "      <th>CLAGE</th>\n",
       "      <th>NINQ</th>\n",
       "      <th>CLNO</th>\n",
       "      <th>DEBTINC</th>\n",
       "    </tr>\n",
       "  </thead>\n",
       "  <tbody>\n",
       "    <tr>\n",
       "      <th>count</th>\n",
       "      <td>3748.000000</td>\n",
       "      <td>3748.000000</td>\n",
       "      <td>3748.000000</td>\n",
       "      <td>3734.000000</td>\n",
       "      <td>3543.000000</td>\n",
       "      <td>3748.000000</td>\n",
       "      <td>3718.000000</td>\n",
       "      <td>3711.000000</td>\n",
       "      <td>3692.000000</td>\n",
       "      <td>3748.000000</td>\n",
       "      <td>3748.000000</td>\n",
       "    </tr>\n",
       "    <tr>\n",
       "      <th>mean</th>\n",
       "      <td>0.092049</td>\n",
       "      <td>19483.564568</td>\n",
       "      <td>75117.309232</td>\n",
       "      <td>106791.045795</td>\n",
       "      <td>9.130398</td>\n",
       "      <td>0.161153</td>\n",
       "      <td>0.269769</td>\n",
       "      <td>180.873315</td>\n",
       "      <td>1.028982</td>\n",
       "      <td>21.649680</td>\n",
       "      <td>34.130636</td>\n",
       "    </tr>\n",
       "    <tr>\n",
       "      <th>std</th>\n",
       "      <td>0.289134</td>\n",
       "      <td>11404.260479</td>\n",
       "      <td>44861.197182</td>\n",
       "      <td>54374.991076</td>\n",
       "      <td>7.637535</td>\n",
       "      <td>0.602606</td>\n",
       "      <td>0.790790</td>\n",
       "      <td>82.507487</td>\n",
       "      <td>1.555433</td>\n",
       "      <td>9.557532</td>\n",
       "      <td>8.372096</td>\n",
       "    </tr>\n",
       "    <tr>\n",
       "      <th>min</th>\n",
       "      <td>0.000000</td>\n",
       "      <td>1700.000000</td>\n",
       "      <td>4641.000000</td>\n",
       "      <td>21144.000000</td>\n",
       "      <td>0.000000</td>\n",
       "      <td>0.000000</td>\n",
       "      <td>0.000000</td>\n",
       "      <td>0.486711</td>\n",
       "      <td>0.000000</td>\n",
       "      <td>0.000000</td>\n",
       "      <td>0.838118</td>\n",
       "    </tr>\n",
       "    <tr>\n",
       "      <th>25%</th>\n",
       "      <td>0.000000</td>\n",
       "      <td>12000.000000</td>\n",
       "      <td>47843.000000</td>\n",
       "      <td>70238.000000</td>\n",
       "      <td>3.000000</td>\n",
       "      <td>0.000000</td>\n",
       "      <td>0.000000</td>\n",
       "      <td>118.625764</td>\n",
       "      <td>0.000000</td>\n",
       "      <td>15.000000</td>\n",
       "      <td>29.397564</td>\n",
       "    </tr>\n",
       "    <tr>\n",
       "      <th>50%</th>\n",
       "      <td>0.000000</td>\n",
       "      <td>17100.000000</td>\n",
       "      <td>66581.000000</td>\n",
       "      <td>93676.500000</td>\n",
       "      <td>7.000000</td>\n",
       "      <td>0.000000</td>\n",
       "      <td>0.000000</td>\n",
       "      <td>177.085845</td>\n",
       "      <td>0.000000</td>\n",
       "      <td>21.000000</td>\n",
       "      <td>35.024732</td>\n",
       "    </tr>\n",
       "    <tr>\n",
       "      <th>75%</th>\n",
       "      <td>0.000000</td>\n",
       "      <td>23900.000000</td>\n",
       "      <td>92353.750000</td>\n",
       "      <td>122423.750000</td>\n",
       "      <td>14.000000</td>\n",
       "      <td>0.000000</td>\n",
       "      <td>0.000000</td>\n",
       "      <td>230.272746</td>\n",
       "      <td>2.000000</td>\n",
       "      <td>26.000000</td>\n",
       "      <td>39.147195</td>\n",
       "    </tr>\n",
       "    <tr>\n",
       "      <th>max</th>\n",
       "      <td>1.000000</td>\n",
       "      <td>89900.000000</td>\n",
       "      <td>399412.000000</td>\n",
       "      <td>512650.000000</td>\n",
       "      <td>41.000000</td>\n",
       "      <td>10.000000</td>\n",
       "      <td>10.000000</td>\n",
       "      <td>1168.233561</td>\n",
       "      <td>13.000000</td>\n",
       "      <td>71.000000</td>\n",
       "      <td>203.312149</td>\n",
       "    </tr>\n",
       "  </tbody>\n",
       "</table>\n",
       "</div>"
      ],
      "text/plain": [
       "               BAD          LOAN        MORTDUE          VALUE          YOJ  \\\n",
       "count  3748.000000   3748.000000    3748.000000    3734.000000  3543.000000   \n",
       "mean      0.092049  19483.564568   75117.309232  106791.045795     9.130398   \n",
       "std       0.289134  11404.260479   44861.197182   54374.991076     7.637535   \n",
       "min       0.000000   1700.000000    4641.000000   21144.000000     0.000000   \n",
       "25%       0.000000  12000.000000   47843.000000   70238.000000     3.000000   \n",
       "50%       0.000000  17100.000000   66581.000000   93676.500000     7.000000   \n",
       "75%       0.000000  23900.000000   92353.750000  122423.750000    14.000000   \n",
       "max       1.000000  89900.000000  399412.000000  512650.000000    41.000000   \n",
       "\n",
       "             DEROG       DELINQ        CLAGE         NINQ         CLNO  \\\n",
       "count  3748.000000  3718.000000  3711.000000  3692.000000  3748.000000   \n",
       "mean      0.161153     0.269769   180.873315     1.028982    21.649680   \n",
       "std       0.602606     0.790790    82.507487     1.555433     9.557532   \n",
       "min       0.000000     0.000000     0.486711     0.000000     0.000000   \n",
       "25%       0.000000     0.000000   118.625764     0.000000    15.000000   \n",
       "50%       0.000000     0.000000   177.085845     0.000000    21.000000   \n",
       "75%       0.000000     0.000000   230.272746     2.000000    26.000000   \n",
       "max      10.000000    10.000000  1168.233561    13.000000    71.000000   \n",
       "\n",
       "           DEBTINC  \n",
       "count  3748.000000  \n",
       "mean     34.130636  \n",
       "std       8.372096  \n",
       "min       0.838118  \n",
       "25%      29.397564  \n",
       "50%      35.024732  \n",
       "75%      39.147195  \n",
       "max     203.312149  "
      ]
     },
     "execution_count": 20,
     "metadata": {},
     "output_type": "execute_result"
    }
   ],
   "source": [
    "df_raw.describe()"
   ]
  },
  {
   "cell_type": "code",
   "execution_count": 35,
   "metadata": {},
   "outputs": [],
   "source": [
    "df_raw[\"JOB\"].fillna(\"Other\",inplace =True)\n",
    "df_raw.fillna(df_raw.mean(),inplace=True)"
   ]
  },
  {
   "cell_type": "code",
   "execution_count": 36,
   "metadata": {},
   "outputs": [],
   "source": [
    "df_raw_dummy = pd.get_dummies(df_raw)"
   ]
  },
  {
   "cell_type": "code",
   "execution_count": 37,
   "metadata": {},
   "outputs": [],
   "source": [
    "df_raw_y=df_raw_dummy[\"BAD\"]\n",
    "df_raw_x=df_raw_dummy.drop(\"BAD\",axis=1,inplace=False)"
   ]
  },
  {
   "cell_type": "code",
   "execution_count": 38,
   "metadata": {},
   "outputs": [],
   "source": [
    "df_train_x, df_test_x, df_train_y, df_test_y = train_test_split(df_raw_x ,df_raw_y, test_size=0.3,random_state=1234)"
   ]
  },
  {
   "cell_type": "code",
   "execution_count": 39,
   "metadata": {},
   "outputs": [
    {
     "data": {
      "text/plain": [
       "SVC(C=1.0, break_ties=False, cache_size=200, class_weight=None, coef0=0.0,\n",
       "    decision_function_shape='ovr', degree=3, gamma='scale', kernel='rbf',\n",
       "    max_iter=-1, probability=False, random_state=1234, shrinking=True,\n",
       "    tol=0.001, verbose=False)"
      ]
     },
     "execution_count": 39,
     "metadata": {},
     "output_type": "execute_result"
    }
   ],
   "source": [
    "svm_uncustomized = SVC(random_state=1234)\n",
    "svm_uncustomized.fit(df_train_x,df_train_y)"
   ]
  },
  {
   "cell_type": "code",
   "execution_count": 40,
   "metadata": {},
   "outputs": [
    {
     "name": "stdout",
     "output_type": "stream",
     "text": [
      "Accuracy on training set :0.908\n",
      "Accuracy on test set :0.908\n"
     ]
    }
   ],
   "source": [
    "print(\"Accuracy on training set :{:.3f}\".format(svm_uncustomized.score(df_train_x,df_train_y)))\n",
    "print(\"Accuracy on test set :{:.3f}\".format(svm_uncustomized.score(df_test_x,df_test_y)))"
   ]
  },
  {
   "cell_type": "code",
   "execution_count": 41,
   "metadata": {},
   "outputs": [
    {
     "data": {
      "text/plain": [
       "SVC(C=1.0, break_ties=False, cache_size=200, class_weight=None, coef0=0.0,\n",
       "    decision_function_shape='ovr', degree=3, gamma='scale', kernel='rbf',\n",
       "    max_iter=-1, probability=False, random_state=1234, shrinking=True,\n",
       "    tol=0.001, verbose=False)"
      ]
     },
     "execution_count": 41,
     "metadata": {},
     "output_type": "execute_result"
    }
   ],
   "source": [
    "svm_uncustomized"
   ]
  },
  {
   "cell_type": "code",
   "execution_count": 42,
   "metadata": {},
   "outputs": [],
   "source": [
    "train_accuracy = []\n",
    "test_accuracy =[]\n",
    "para_c = [10 **c for c in range(-2,2)]\n",
    "for v_C in para_c:\n",
    "    svm = SVC(C=v_C,random_state=1234)\n",
    "    svm.fit(df_train_x,df_train_y)\n",
    "    train_accuracy.append(svm.score(df_train_x,df_train_y))\n",
    "    test_accuracy.append(svm.score(df_test_x,df_test_y))"
   ]
  },
  {
   "cell_type": "code",
   "execution_count": 43,
   "metadata": {},
   "outputs": [
    {
     "data": {
      "text/html": [
       "<div>\n",
       "<style scoped>\n",
       "    .dataframe tbody tr th:only-of-type {\n",
       "        vertical-align: middle;\n",
       "    }\n",
       "\n",
       "    .dataframe tbody tr th {\n",
       "        vertical-align: top;\n",
       "    }\n",
       "\n",
       "    .dataframe thead th {\n",
       "        text-align: right;\n",
       "    }\n",
       "</style>\n",
       "<table border=\"1\" class=\"dataframe\">\n",
       "  <thead>\n",
       "    <tr style=\"text-align: right;\">\n",
       "      <th></th>\n",
       "      <th>C</th>\n",
       "      <th>TrainAccuracy</th>\n",
       "      <th>TestAccuracy</th>\n",
       "    </tr>\n",
       "  </thead>\n",
       "  <tbody>\n",
       "    <tr>\n",
       "      <th>0</th>\n",
       "      <td>0.01</td>\n",
       "      <td>0.908</td>\n",
       "      <td>0.908</td>\n",
       "    </tr>\n",
       "    <tr>\n",
       "      <th>1</th>\n",
       "      <td>0.10</td>\n",
       "      <td>0.908</td>\n",
       "      <td>0.908</td>\n",
       "    </tr>\n",
       "    <tr>\n",
       "      <th>2</th>\n",
       "      <td>1.00</td>\n",
       "      <td>0.908</td>\n",
       "      <td>0.908</td>\n",
       "    </tr>\n",
       "    <tr>\n",
       "      <th>3</th>\n",
       "      <td>10.00</td>\n",
       "      <td>0.909</td>\n",
       "      <td>0.908</td>\n",
       "    </tr>\n",
       "  </tbody>\n",
       "</table>\n",
       "</div>"
      ],
      "text/plain": [
       "       C  TrainAccuracy  TestAccuracy\n",
       "0   0.01          0.908         0.908\n",
       "1   0.10          0.908         0.908\n",
       "2   1.00          0.908         0.908\n",
       "3  10.00          0.909         0.908"
      ]
     },
     "execution_count": 43,
     "metadata": {},
     "output_type": "execute_result"
    }
   ],
   "source": [
    "df_accuracy_c = pd.DataFrame()\n",
    "df_accuracy_c[\"C\"]=para_c\n",
    "df_accuracy_c[\"TrainAccuracy\"]=train_accuracy\n",
    "df_accuracy_c[\"TestAccuracy\"]=test_accuracy\n",
    "df_accuracy_c.round(3)"
   ]
  },
  {
   "cell_type": "code",
   "execution_count": 44,
   "metadata": {},
   "outputs": [
    {
     "data": {
      "text/plain": [
       "<matplotlib.legend.Legend at 0x7f7d2ee31b10>"
      ]
     },
     "execution_count": 44,
     "metadata": {},
     "output_type": "execute_result"
    },
    {
     "data": {
      "image/png": "[encoded data removed]",
      "text/plain": [
       "<Figure size 432x288 with 1 Axes>"
      ]
     },
     "metadata": {
      "needs_background": "light"
     },
     "output_type": "display_data"
    }
   ],
   "source": [
    "plt.plot(para_c,train_accuracy,linestyle='-',label=\"Train Acc\")\n",
    "plt.plot(para_c,test_accuracy,linestyle='--',label=\"Test Acc\")\n",
    "plt.ylabel(\"accuracy\")\n",
    "plt.xlabel(\"C\")\n",
    "plt.legend()"
   ]
  },
  {
   "cell_type": "code",
   "execution_count": 45,
   "metadata": {},
   "outputs": [],
   "source": [
    "C=1"
   ]
  },
  {
   "cell_type": "code",
   "execution_count": 46,
   "metadata": {},
   "outputs": [],
   "source": [
    "#train 및 test 정확도 결과 저장용\n",
    "train_accuracy=[]\n",
    "test_accuracy=[]\n",
    "\n",
    " \n",
    "\n",
    "#gamma:규제(0.01, 0.1, 1, 10)\n",
    "para_gamma=[10**gamma for gamma in range(-2,2)]\n",
    "\n",
    " \n",
    "\n",
    "for v_gamma in para_gamma:\n",
    "    svm=SVC(gamma=v_gamma, C=0.1, random_state=1234)\n",
    "    svm.fit(df_train_x, df_train_y)\n",
    "    train_accuracy.append(svm.score(df_train_x,df_train_y))\n",
    "    test_accuracy.append(svm.score(df_test_x,df_test_y))\n",
    "\n",
    " \n",
    "\n",
    "# 데이터 테이블로 저장    \n",
    "df_accuracy_gamma=pd.DataFrame()\n",
    "df_accuracy_gamma['gamma']=para_gamma\n",
    "df_accuracy_gamma['TrainAccuracy']=train_accuracy\n",
    "df_accuracy_gamma['TestAccuracy']=test_accuracy"
   ]
  },
  {
   "cell_type": "code",
   "execution_count": 47,
   "metadata": {},
   "outputs": [
    {
     "data": {
      "text/plain": [
       "<matplotlib.legend.Legend at 0x7f7d2ef4b190>"
      ]
     },
     "execution_count": 47,
     "metadata": {},
     "output_type": "execute_result"
    },
    {
     "data": {
      "image/png": "[encoded data removed]",
      "text/plain": [
       "<Figure size 432x288 with 1 Axes>"
      ]
     },
     "metadata": {
      "needs_background": "light"
     },
     "output_type": "display_data"
    }
   ],
   "source": [
    "#Gamma별 정확도 테이블\n",
    "df_accuracy_gamma.round(4)\n",
    "\n",
    " \n",
    "\n",
    "# 모델 정확도 그래프 확인\n",
    "plt.plot(para_gamma, train_accuracy, linestyle='-',label='Train Accuracy')\n",
    "plt.plot(para_gamma, test_accuracy, linestyle='--',label='Test Accuracy')\n",
    "plt.ylabel('accuracy')\n",
    "plt.xlabel('gamma')\n",
    "plt.legend()"
   ]
  },
  {
   "cell_type": "code",
   "execution_count": 48,
   "metadata": {},
   "outputs": [
    {
     "name": "stdout",
     "output_type": "stream",
     "text": [
      "train data X size:(2623, 18)\n",
      "test data X size:(1125, 18)\n"
     ]
    }
   ],
   "source": [
    "#변수명 저장\n",
    "v_feature_name=df_train_x.columns\n",
    "\n",
    " \n",
    "\n",
    "#StandardScaler 적용\n",
    "scaler=StandardScaler()\n",
    "df_scaled=scaler.fit_transform(df_raw_x)\n",
    "df_scaled=pd.DataFrame(df_scaled, columns=v_feature_name)\n",
    "df_scaled.head()\n",
    "\n",
    " \n",
    "\n",
    "#데이터 분할\n",
    "df_scaled_train_x, df_scaled_test_x=train_test_split(df_scaled,\n",
    "                                                test_size=0.3,\n",
    "                                                random_state=1234)\n",
    "print(\"train data X size:{}\".format(df_scaled_train_x.shape))\n",
    "print(\"test data X size:{}\".format(df_scaled_test_x.shape))"
   ]
  },
  {
   "cell_type": "code",
   "execution_count": 49,
   "metadata": {},
   "outputs": [
    {
     "name": "stdout",
     "output_type": "stream",
     "text": [
      "Accuracy on training set:0.944\n",
      "Accuracy on test set:0.935\n"
     ]
    }
   ],
   "source": [
    "svm_scaled=SVC(random_state=1234)\n",
    "\n",
    " \n",
    "\n",
    "svm_scaled.fit(df_scaled_train_x, df_train_y)\n",
    "\n",
    " \n",
    "\n",
    "print(\"Accuracy on training set:{:.3f}\".format(svm_scaled.score(df_scaled_train_x,df_train_y)))\n",
    "\n",
    " \n",
    "\n",
    "print('Accuracy on test set:{:.3f}'.format(svm_scaled.score(df_scaled_test_x,df_test_y)))"
   ]
  },
  {
   "cell_type": "code",
   "execution_count": 50,
   "metadata": {},
   "outputs": [],
   "source": [
    "#train 및 test 정확도 결과 저장용\n",
    "train_accuracy=[]\n",
    "test_accuracy=[]\n",
    "\n",
    " \n",
    "\n",
    "#c 규제(0.01, 0.1, 1, 10)\n",
    "para_c=[10**c for c in range(-2,2)]\n",
    "\n",
    " \n",
    "\n",
    "for v_gamma in para_gamma:\n",
    "    svm=SVC(gamma=v_gamma, C=0.1, random_state=1234)\n",
    "    svm.fit(df_train_x, df_train_y)\n",
    "    train_accuracy.append(svm.score(df_train_x,df_train_y))\n",
    "    test_accuracy.append(svm.score(df_test_x,df_test_y))\n",
    "\n",
    "# 데이터 테이블로 저장    \n",
    "df_accuracy_gamma=pd.DataFrame()\n",
    "df_accuracy_gamma['gamma']=para_gamma\n",
    "df_accuracy_gamma['TrainAccuracy']=train_accuracy\n",
    "df_accuracy_gamma['TestAccuracy']=test_accuracy"
   ]
  },
  {
   "cell_type": "code",
   "execution_count": 51,
   "metadata": {},
   "outputs": [
    {
     "data": {
      "text/html": [
       "<div>\n",
       "<style scoped>\n",
       "    .dataframe tbody tr th:only-of-type {\n",
       "        vertical-align: middle;\n",
       "    }\n",
       "\n",
       "    .dataframe tbody tr th {\n",
       "        vertical-align: top;\n",
       "    }\n",
       "\n",
       "    .dataframe thead th {\n",
       "        text-align: right;\n",
       "    }\n",
       "</style>\n",
       "<table border=\"1\" class=\"dataframe\">\n",
       "  <thead>\n",
       "    <tr style=\"text-align: right;\">\n",
       "      <th></th>\n",
       "      <th>C</th>\n",
       "      <th>TrainAccuracy</th>\n",
       "      <th>TestAccuracy</th>\n",
       "    </tr>\n",
       "  </thead>\n",
       "  <tbody>\n",
       "    <tr>\n",
       "      <th>0</th>\n",
       "      <td>0.01</td>\n",
       "      <td>0.908</td>\n",
       "      <td>0.908</td>\n",
       "    </tr>\n",
       "    <tr>\n",
       "      <th>1</th>\n",
       "      <td>0.10</td>\n",
       "      <td>0.908</td>\n",
       "      <td>0.908</td>\n",
       "    </tr>\n",
       "    <tr>\n",
       "      <th>2</th>\n",
       "      <td>1.00</td>\n",
       "      <td>0.908</td>\n",
       "      <td>0.908</td>\n",
       "    </tr>\n",
       "    <tr>\n",
       "      <th>3</th>\n",
       "      <td>10.00</td>\n",
       "      <td>0.909</td>\n",
       "      <td>0.908</td>\n",
       "    </tr>\n",
       "  </tbody>\n",
       "</table>\n",
       "</div>"
      ],
      "text/plain": [
       "       C  TrainAccuracy  TestAccuracy\n",
       "0   0.01          0.908         0.908\n",
       "1   0.10          0.908         0.908\n",
       "2   1.00          0.908         0.908\n",
       "3  10.00          0.909         0.908"
      ]
     },
     "execution_count": 51,
     "metadata": {},
     "output_type": "execute_result"
    }
   ],
   "source": [
    "#C별 정확도 테이블\n",
    "df_accuracy_c.round(3)"
   ]
  },
  {
   "cell_type": "code",
   "execution_count": 52,
   "metadata": {},
   "outputs": [
    {
     "data": {
      "text/plain": [
       "<matplotlib.legend.Legend at 0x7f7d30fcfd50>"
      ]
     },
     "execution_count": 52,
     "metadata": {},
     "output_type": "execute_result"
    },
    {
     "data": {
      "image/png": "[encoded data removed]",
      "text/plain": [
       "<Figure size 432x288 with 1 Axes>"
      ]
     },
     "metadata": {
      "needs_background": "light"
     },
     "output_type": "display_data"
    }
   ],
   "source": [
    "# 모델 정확도 그래프 확인\n",
    "plt.plot(para_c, train_accuracy, linestyle='-',label='Train Accuracy')\n",
    "plt.plot(para_c, test_accuracy, linestyle='--',label='Test Accuracy')\n",
    "plt.ylabel('accuracy')\n",
    "plt.xlabel('C')\n",
    "plt.legend()"
   ]
  },
  {
   "cell_type": "code",
   "execution_count": 53,
   "metadata": {},
   "outputs": [],
   "source": [
    "train_accuracy=[];test_accuracy=[]\n",
    "para_gamma=[10**gamma for gamma in range(-2,2)]\n",
    "\n",
    " \n",
    "\n",
    "for v_gamma in para_gamma:\n",
    "    svm=SVC(gamma=v_gamma, C=1, random_state=1234)\n",
    "    svm.fit(df_scaled_train_x, df_train_y)\n",
    "    train_accuracy.append(svm.score(df_scaled_train_x,df_train_y))\n",
    "    test_accuracy.append(svm.score(df_scaled_test_x,df_test_y))\n",
    "    \n",
    "\n",
    " \n",
    "\n",
    "df_accuracy_gamma=pd.DataFrame()\n",
    "df_accuracy_gamma[\"gamma\"]=para_gamma\n",
    "df_accuracy_gamma[\"TrainAccuracy\"]=train_accuracy\n",
    "df_accuracy_gamma[\"TestAccuracy\"]=test_accuracy"
   ]
  },
  {
   "cell_type": "code",
   "execution_count": 54,
   "metadata": {},
   "outputs": [
    {
     "data": {
      "image/png": "[encoded data removed]",
      "text/plain": [
       "<Figure size 432x288 with 1 Axes>"
      ]
     },
     "metadata": {
      "needs_background": "light"
     },
     "output_type": "display_data"
    }
   ],
   "source": [
    "df_accuracy_gamma.round(3)\n",
    "\n",
    " \n",
    "\n",
    "plt.plot(para_gamma,train_accuracy,linestyle=\"-\",label=\"TrainAccuracy\")\n",
    "plt.plot(para_gamma,test_accuracy,linestyle=\"--\",label=\"TestAccuracy\")\n",
    "plt.ylabel(\"accuracy\");plt.xlabel(\"gamma\")\n",
    "plt.legend()\n",
    "\n",
    " \n",
    "\n",
    "#임의로 지정\n",
    "gamma=0.1"
   ]
  },
  {
   "cell_type": "code",
   "execution_count": 55,
   "metadata": {},
   "outputs": [
    {
     "name": "stdout",
     "output_type": "stream",
     "text": [
      "Accuracy on training set:0.960\n",
      "Accuracy on test set:0.942\n",
      "\n",
      "Accuracy matrix:\n",
      "[[1021    0]\n",
      " [  65   39]]\n"
     ]
    }
   ],
   "source": [
    "svc_final=SVC(gamma=0.1,C=1,random_state=1234)\n",
    "svc_final.fit(df_scaled_train_x, df_train_y)\n",
    "\n",
    " \n",
    "\n",
    "y_pred=svc_final.predict(df_scaled_test_x)\n",
    "\n",
    " \n",
    "\n",
    "print(\"Accuracy on training set:{:.3f}\".format(svc_final.score(df_scaled_train_x,df_train_y)))\n",
    "print(\"Accuracy on test set:{:.3f}\\n\".format(svc_final.score(df_scaled_test_x,df_test_y)))\n",
    "print(\"Accuracy matrix:\\n{}\".format(confusion_matrix(df_test_y,y_pred)))"
   ]
  },
  {
   "cell_type": "code",
   "execution_count": 56,
   "metadata": {},
   "outputs": [
    {
     "name": "stdout",
     "output_type": "stream",
     "text": [
      "best estimator model: \n",
      "SVC(C=10, break_ties=False, cache_size=200, class_weight=None, coef0=0.0,\n",
      "    decision_function_shape='ovr', degree=3, gamma=0.1, kernel='rbf',\n",
      "    max_iter=-1, probability=False, random_state=1234, shrinking=True,\n",
      "    tol=0.001, verbose=False)\n",
      "\n",
      "best parameter:\n",
      "{'C': 10, 'gamma': 0.1}\n",
      "\n",
      "best score:\n",
      "0.96\n"
     ]
    }
   ],
   "source": [
    "estimator=SVC(random_state=1234)\n",
    "param_grid={\"C\":para_c,\"gamma\":para_gamma}\n",
    "\n",
    " \n",
    "\n",
    "grid_rf=GridSearchCV(estimator,param_grid,scoring=\"accuracy\",n_jobs=-1)\n",
    "grid_rf.fit(df_scaled_train_x,df_train_y)\n",
    "print(\"best estimator model: \\n{}\".format(grid_rf.best_estimator_))\n",
    "print(\"\\nbest parameter:\\n{}\".format(grid_rf.best_params_))\n",
    "print(\"\\nbest score:\\n{}\".format(grid_rf.best_score_.round(3)))"
   ]
  },
  {
   "cell_type": "markdown",
   "metadata": {},
   "source": [
    "# 인공신경망"
   ]
  },
  {
   "cell_type": "code",
   "execution_count": 1,
   "metadata": {},
   "outputs": [],
   "source": [
    "import pandas as pd\n",
    "import matplotlib.pyplot as plt\n",
    "import matplotlib\n",
    "\n",
    "from sklearn.preprocessing import StandardScaler\n",
    "from sklearn.model_selection import train_test_split\n",
    "from sklearn.neural_network import MLPClassifier\n",
    "from sklearn.model_selection import GridSearchCV\n",
    "from sklearn.metrics import confusion_matrix"
   ]
  },
  {
   "cell_type": "code",
   "execution_count": 2,
   "metadata": {},
   "outputs": [
    {
     "data": {
      "text/html": [
       "<div>\n",
       "<style scoped>\n",
       "    .dataframe tbody tr th:only-of-type {\n",
       "        vertical-align: middle;\n",
       "    }\n",
       "\n",
       "    .dataframe tbody tr th {\n",
       "        vertical-align: top;\n",
       "    }\n",
       "\n",
       "    .dataframe thead th {\n",
       "        text-align: right;\n",
       "    }\n",
       "</style>\n",
       "<table border=\"1\" class=\"dataframe\">\n",
       "  <thead>\n",
       "    <tr style=\"text-align: right;\">\n",
       "      <th></th>\n",
       "      <th>BAD</th>\n",
       "      <th>LOAN</th>\n",
       "      <th>MORTDUE</th>\n",
       "      <th>VALUE</th>\n",
       "      <th>REASON</th>\n",
       "      <th>JOB</th>\n",
       "      <th>YOJ</th>\n",
       "      <th>DEROG</th>\n",
       "      <th>DELINQ</th>\n",
       "      <th>CLAGE</th>\n",
       "      <th>NINQ</th>\n",
       "      <th>CLNO</th>\n",
       "      <th>DEBTINC</th>\n",
       "    </tr>\n",
       "  </thead>\n",
       "  <tbody>\n",
       "    <tr>\n",
       "      <th>0</th>\n",
       "      <td>1</td>\n",
       "      <td>1700</td>\n",
       "      <td>30548</td>\n",
       "      <td>40320.0</td>\n",
       "      <td>HomeImp</td>\n",
       "      <td>Other</td>\n",
       "      <td>9.0</td>\n",
       "      <td>0</td>\n",
       "      <td>0.0</td>\n",
       "      <td>101.466002</td>\n",
       "      <td>1.0</td>\n",
       "      <td>8</td>\n",
       "      <td>37.113614</td>\n",
       "    </tr>\n",
       "    <tr>\n",
       "      <th>1</th>\n",
       "      <td>1</td>\n",
       "      <td>1800</td>\n",
       "      <td>28502</td>\n",
       "      <td>43034.0</td>\n",
       "      <td>HomeImp</td>\n",
       "      <td>Other</td>\n",
       "      <td>11.0</td>\n",
       "      <td>0</td>\n",
       "      <td>0.0</td>\n",
       "      <td>88.766030</td>\n",
       "      <td>0.0</td>\n",
       "      <td>8</td>\n",
       "      <td>36.884894</td>\n",
       "    </tr>\n",
       "    <tr>\n",
       "      <th>2</th>\n",
       "      <td>0</td>\n",
       "      <td>2300</td>\n",
       "      <td>102370</td>\n",
       "      <td>120953.0</td>\n",
       "      <td>HomeImp</td>\n",
       "      <td>Office</td>\n",
       "      <td>2.0</td>\n",
       "      <td>0</td>\n",
       "      <td>0.0</td>\n",
       "      <td>90.992533</td>\n",
       "      <td>0.0</td>\n",
       "      <td>13</td>\n",
       "      <td>31.588503</td>\n",
       "    </tr>\n",
       "    <tr>\n",
       "      <th>3</th>\n",
       "      <td>1</td>\n",
       "      <td>2400</td>\n",
       "      <td>34863</td>\n",
       "      <td>47471.0</td>\n",
       "      <td>HomeImp</td>\n",
       "      <td>Mgr</td>\n",
       "      <td>12.0</td>\n",
       "      <td>0</td>\n",
       "      <td>0.0</td>\n",
       "      <td>70.491080</td>\n",
       "      <td>1.0</td>\n",
       "      <td>21</td>\n",
       "      <td>38.263601</td>\n",
       "    </tr>\n",
       "    <tr>\n",
       "      <th>4</th>\n",
       "      <td>0</td>\n",
       "      <td>2400</td>\n",
       "      <td>98449</td>\n",
       "      <td>117195.0</td>\n",
       "      <td>HomeImp</td>\n",
       "      <td>Office</td>\n",
       "      <td>4.0</td>\n",
       "      <td>0</td>\n",
       "      <td>0.0</td>\n",
       "      <td>93.811775</td>\n",
       "      <td>0.0</td>\n",
       "      <td>13</td>\n",
       "      <td>29.681827</td>\n",
       "    </tr>\n",
       "  </tbody>\n",
       "</table>\n",
       "</div>"
      ],
      "text/plain": [
       "   BAD  LOAN  MORTDUE     VALUE   REASON     JOB   YOJ  DEROG  DELINQ  \\\n",
       "0    1  1700    30548   40320.0  HomeImp   Other   9.0      0     0.0   \n",
       "1    1  1800    28502   43034.0  HomeImp   Other  11.0      0     0.0   \n",
       "2    0  2300   102370  120953.0  HomeImp  Office   2.0      0     0.0   \n",
       "3    1  2400    34863   47471.0  HomeImp     Mgr  12.0      0     0.0   \n",
       "4    0  2400    98449  117195.0  HomeImp  Office   4.0      0     0.0   \n",
       "\n",
       "        CLAGE  NINQ  CLNO    DEBTINC  \n",
       "0  101.466002   1.0     8  37.113614  \n",
       "1   88.766030   0.0     8  36.884894  \n",
       "2   90.992533   0.0    13  31.588503  \n",
       "3   70.491080   1.0    21  38.263601  \n",
       "4   93.811775   0.0    13  29.681827  "
      ]
     },
     "execution_count": 2,
     "metadata": {},
     "output_type": "execute_result"
    }
   ],
   "source": [
    "df_raw = pd.read_csv('./Data/3. Big Data 분석/HMEQ.csv')\n",
    "df_raw.head()"
   ]
  },
  {
   "cell_type": "code",
   "execution_count": 4,
   "metadata": {},
   "outputs": [
    {
     "data": {
      "text/plain": [
       "BAD          0\n",
       "LOAN         0\n",
       "MORTDUE      0\n",
       "VALUE       14\n",
       "REASON       0\n",
       "JOB         81\n",
       "YOJ        205\n",
       "DEROG        0\n",
       "DELINQ      30\n",
       "CLAGE       37\n",
       "NINQ        56\n",
       "CLNO         0\n",
       "DEBTINC      0\n",
       "dtype: int64"
      ]
     },
     "execution_count": 4,
     "metadata": {},
     "output_type": "execute_result"
    }
   ],
   "source": [
    "df_raw.isnull().sum()"
   ]
  },
  {
   "cell_type": "code",
   "execution_count": 5,
   "metadata": {},
   "outputs": [],
   "source": [
    "df_raw['JOB'].fillna('Other', inplace=True)\n",
    "df_raw.fillna(df_raw.mean(), inplace=True)"
   ]
  },
  {
   "cell_type": "code",
   "execution_count": 6,
   "metadata": {},
   "outputs": [
    {
     "data": {
      "text/html": [
       "<div>\n",
       "<style scoped>\n",
       "    .dataframe tbody tr th:only-of-type {\n",
       "        vertical-align: middle;\n",
       "    }\n",
       "\n",
       "    .dataframe tbody tr th {\n",
       "        vertical-align: top;\n",
       "    }\n",
       "\n",
       "    .dataframe thead th {\n",
       "        text-align: right;\n",
       "    }\n",
       "</style>\n",
       "<table border=\"1\" class=\"dataframe\">\n",
       "  <thead>\n",
       "    <tr style=\"text-align: right;\">\n",
       "      <th></th>\n",
       "      <th>BAD</th>\n",
       "      <th>LOAN</th>\n",
       "      <th>MORTDUE</th>\n",
       "      <th>VALUE</th>\n",
       "      <th>YOJ</th>\n",
       "      <th>DEROG</th>\n",
       "      <th>DELINQ</th>\n",
       "      <th>CLAGE</th>\n",
       "      <th>NINQ</th>\n",
       "      <th>CLNO</th>\n",
       "      <th>DEBTINC</th>\n",
       "      <th>REASON_DebtCon</th>\n",
       "      <th>REASON_HomeImp</th>\n",
       "      <th>JOB_Mgr</th>\n",
       "      <th>JOB_Office</th>\n",
       "      <th>JOB_Other</th>\n",
       "      <th>JOB_ProfExe</th>\n",
       "      <th>JOB_Sales</th>\n",
       "      <th>JOB_Self</th>\n",
       "    </tr>\n",
       "  </thead>\n",
       "  <tbody>\n",
       "    <tr>\n",
       "      <th>0</th>\n",
       "      <td>1</td>\n",
       "      <td>1700</td>\n",
       "      <td>30548</td>\n",
       "      <td>40320.0</td>\n",
       "      <td>9.0</td>\n",
       "      <td>0</td>\n",
       "      <td>0.0</td>\n",
       "      <td>101.466002</td>\n",
       "      <td>1.0</td>\n",
       "      <td>8</td>\n",
       "      <td>37.113614</td>\n",
       "      <td>0</td>\n",
       "      <td>1</td>\n",
       "      <td>0</td>\n",
       "      <td>0</td>\n",
       "      <td>1</td>\n",
       "      <td>0</td>\n",
       "      <td>0</td>\n",
       "      <td>0</td>\n",
       "    </tr>\n",
       "    <tr>\n",
       "      <th>1</th>\n",
       "      <td>1</td>\n",
       "      <td>1800</td>\n",
       "      <td>28502</td>\n",
       "      <td>43034.0</td>\n",
       "      <td>11.0</td>\n",
       "      <td>0</td>\n",
       "      <td>0.0</td>\n",
       "      <td>88.766030</td>\n",
       "      <td>0.0</td>\n",
       "      <td>8</td>\n",
       "      <td>36.884894</td>\n",
       "      <td>0</td>\n",
       "      <td>1</td>\n",
       "      <td>0</td>\n",
       "      <td>0</td>\n",
       "      <td>1</td>\n",
       "      <td>0</td>\n",
       "      <td>0</td>\n",
       "      <td>0</td>\n",
       "    </tr>\n",
       "    <tr>\n",
       "      <th>2</th>\n",
       "      <td>0</td>\n",
       "      <td>2300</td>\n",
       "      <td>102370</td>\n",
       "      <td>120953.0</td>\n",
       "      <td>2.0</td>\n",
       "      <td>0</td>\n",
       "      <td>0.0</td>\n",
       "      <td>90.992533</td>\n",
       "      <td>0.0</td>\n",
       "      <td>13</td>\n",
       "      <td>31.588503</td>\n",
       "      <td>0</td>\n",
       "      <td>1</td>\n",
       "      <td>0</td>\n",
       "      <td>1</td>\n",
       "      <td>0</td>\n",
       "      <td>0</td>\n",
       "      <td>0</td>\n",
       "      <td>0</td>\n",
       "    </tr>\n",
       "    <tr>\n",
       "      <th>3</th>\n",
       "      <td>1</td>\n",
       "      <td>2400</td>\n",
       "      <td>34863</td>\n",
       "      <td>47471.0</td>\n",
       "      <td>12.0</td>\n",
       "      <td>0</td>\n",
       "      <td>0.0</td>\n",
       "      <td>70.491080</td>\n",
       "      <td>1.0</td>\n",
       "      <td>21</td>\n",
       "      <td>38.263601</td>\n",
       "      <td>0</td>\n",
       "      <td>1</td>\n",
       "      <td>1</td>\n",
       "      <td>0</td>\n",
       "      <td>0</td>\n",
       "      <td>0</td>\n",
       "      <td>0</td>\n",
       "      <td>0</td>\n",
       "    </tr>\n",
       "    <tr>\n",
       "      <th>4</th>\n",
       "      <td>0</td>\n",
       "      <td>2400</td>\n",
       "      <td>98449</td>\n",
       "      <td>117195.0</td>\n",
       "      <td>4.0</td>\n",
       "      <td>0</td>\n",
       "      <td>0.0</td>\n",
       "      <td>93.811775</td>\n",
       "      <td>0.0</td>\n",
       "      <td>13</td>\n",
       "      <td>29.681827</td>\n",
       "      <td>0</td>\n",
       "      <td>1</td>\n",
       "      <td>0</td>\n",
       "      <td>1</td>\n",
       "      <td>0</td>\n",
       "      <td>0</td>\n",
       "      <td>0</td>\n",
       "      <td>0</td>\n",
       "    </tr>\n",
       "  </tbody>\n",
       "</table>\n",
       "</div>"
      ],
      "text/plain": [
       "   BAD  LOAN  MORTDUE     VALUE   YOJ  DEROG  DELINQ       CLAGE  NINQ  CLNO  \\\n",
       "0    1  1700    30548   40320.0   9.0      0     0.0  101.466002   1.0     8   \n",
       "1    1  1800    28502   43034.0  11.0      0     0.0   88.766030   0.0     8   \n",
       "2    0  2300   102370  120953.0   2.0      0     0.0   90.992533   0.0    13   \n",
       "3    1  2400    34863   47471.0  12.0      0     0.0   70.491080   1.0    21   \n",
       "4    0  2400    98449  117195.0   4.0      0     0.0   93.811775   0.0    13   \n",
       "\n",
       "     DEBTINC  REASON_DebtCon  REASON_HomeImp  JOB_Mgr  JOB_Office  JOB_Other  \\\n",
       "0  37.113614               0               1        0           0          1   \n",
       "1  36.884894               0               1        0           0          1   \n",
       "2  31.588503               0               1        0           1          0   \n",
       "3  38.263601               0               1        1           0          0   \n",
       "4  29.681827               0               1        0           1          0   \n",
       "\n",
       "   JOB_ProfExe  JOB_Sales  JOB_Self  \n",
       "0            0          0         0  \n",
       "1            0          0         0  \n",
       "2            0          0         0  \n",
       "3            0          0         0  \n",
       "4            0          0         0  "
      ]
     },
     "execution_count": 6,
     "metadata": {},
     "output_type": "execute_result"
    }
   ],
   "source": [
    "df_raw_dummy = pd.get_dummies(df_raw)\n",
    "df_raw_dummy.head()"
   ]
  },
  {
   "cell_type": "code",
   "execution_count": 7,
   "metadata": {},
   "outputs": [],
   "source": [
    "df_train_x, df_test_x, df_train_y, df_test_y = train_test_split(df_raw_dummy.drop('BAD',axis=1), df_raw_dummy['BAD'], test_size=0.3)"
   ]
  },
  {
   "cell_type": "code",
   "execution_count": 8,
   "metadata": {},
   "outputs": [
    {
     "name": "stdout",
     "output_type": "stream",
     "text": [
      "Accuracy on training set: 0.910\n",
      "Accuracy on test set: 0.908\n"
     ]
    },
    {
     "name": "stderr",
     "output_type": "stream",
     "text": [
      "/home/piai/anaconda3/lib/python3.7/site-packages/sklearn/neural_network/_multilayer_perceptron.py:571: ConvergenceWarning: Stochastic Optimizer: Maximum iterations (200) reached and the optimization hasn't converged yet.\n",
      "  % self.max_iter, ConvergenceWarning)\n"
     ]
    }
   ],
   "source": [
    "nn_uncustomized = MLPClassifier(random_state=1234)\n",
    "nn_uncustomized.fit(df_train_x, df_train_y)\n",
    "print(\"Accuracy on training set: {:.3f}\".format(nn_uncustomized.score(df_train_x, df_train_y)))\n",
    "print(\"Accuracy on test set: {:.3f}\".format(nn_uncustomized.score(df_test_x, df_test_y)))"
   ]
  },
  {
   "cell_type": "code",
   "execution_count": 9,
   "metadata": {},
   "outputs": [
    {
     "data": {
      "text/plain": [
       "MLPClassifier(activation='relu', alpha=0.0001, batch_size='auto', beta_1=0.9,\n",
       "              beta_2=0.999, early_stopping=False, epsilon=1e-08,\n",
       "              hidden_layer_sizes=(100,), learning_rate='constant',\n",
       "              learning_rate_init=0.001, max_fun=15000, max_iter=200,\n",
       "              momentum=0.9, n_iter_no_change=10, nesterovs_momentum=True,\n",
       "              power_t=0.5, random_state=1234, shuffle=True, solver='adam',\n",
       "              tol=0.0001, validation_fraction=0.1, verbose=False,\n",
       "              warm_start=False)"
      ]
     },
     "execution_count": 9,
     "metadata": {},
     "output_type": "execute_result"
    }
   ],
   "source": [
    "nn_uncustomized"
   ]
  },
  {
   "cell_type": "code",
   "execution_count": 10,
   "metadata": {},
   "outputs": [
    {
     "name": "stderr",
     "output_type": "stream",
     "text": [
      "/home/piai/anaconda3/lib/python3.7/site-packages/sklearn/neural_network/_multilayer_perceptron.py:571: ConvergenceWarning: Stochastic Optimizer: Maximum iterations (200) reached and the optimization hasn't converged yet.\n",
      "  % self.max_iter, ConvergenceWarning)\n",
      "/home/piai/anaconda3/lib/python3.7/site-packages/sklearn/neural_network/_multilayer_perceptron.py:571: ConvergenceWarning: Stochastic Optimizer: Maximum iterations (200) reached and the optimization hasn't converged yet.\n",
      "  % self.max_iter, ConvergenceWarning)\n",
      "/home/piai/anaconda3/lib/python3.7/site-packages/sklearn/neural_network/_multilayer_perceptron.py:571: ConvergenceWarning: Stochastic Optimizer: Maximum iterations (200) reached and the optimization hasn't converged yet.\n",
      "  % self.max_iter, ConvergenceWarning)\n",
      "/home/piai/anaconda3/lib/python3.7/site-packages/sklearn/neural_network/_multilayer_perceptron.py:571: ConvergenceWarning: Stochastic Optimizer: Maximum iterations (200) reached and the optimization hasn't converged yet.\n",
      "  % self.max_iter, ConvergenceWarning)\n",
      "/home/piai/anaconda3/lib/python3.7/site-packages/sklearn/neural_network/_multilayer_perceptron.py:571: ConvergenceWarning: Stochastic Optimizer: Maximum iterations (200) reached and the optimization hasn't converged yet.\n",
      "  % self.max_iter, ConvergenceWarning)\n",
      "/home/piai/anaconda3/lib/python3.7/site-packages/sklearn/neural_network/_multilayer_perceptron.py:571: ConvergenceWarning: Stochastic Optimizer: Maximum iterations (200) reached and the optimization hasn't converged yet.\n",
      "  % self.max_iter, ConvergenceWarning)\n",
      "/home/piai/anaconda3/lib/python3.7/site-packages/sklearn/neural_network/_multilayer_perceptron.py:571: ConvergenceWarning: Stochastic Optimizer: Maximum iterations (200) reached and the optimization hasn't converged yet.\n",
      "  % self.max_iter, ConvergenceWarning)\n",
      "/home/piai/anaconda3/lib/python3.7/site-packages/sklearn/neural_network/_multilayer_perceptron.py:571: ConvergenceWarning: Stochastic Optimizer: Maximum iterations (200) reached and the optimization hasn't converged yet.\n",
      "  % self.max_iter, ConvergenceWarning)\n"
     ]
    }
   ],
   "source": [
    "train_accuracy = []\n",
    "test_accuracy = []\n",
    "\n",
    "para_hidden = [20 * hidden for hidden in range(1, 9)]\n",
    "for v_hidden in para_hidden:\n",
    "    nn = MLPClassifier(hidden_layer_sizes=v_hidden, random_state=1234)\n",
    "    nn.fit(df_train_x, df_train_y)\n",
    "    train_accuracy.append(nn.score(df_train_x, df_train_y))\n",
    "    test_accuracy.append(nn.score(df_test_x, df_test_y))\n",
    "    \n",
    "df_accuracy_hidden = pd.DataFrame()\n",
    "df_accuracy_hidden['HiddenLayer'] = para_hidden\n",
    "df_accuracy_hidden['TrainAccuracy'] = train_accuracy\n",
    "df_accuracy_hidden['TestAccuracy'] = test_accuracy"
   ]
  },
  {
   "cell_type": "code",
   "execution_count": 11,
   "metadata": {},
   "outputs": [
    {
     "data": {
      "text/html": [
       "<div>\n",
       "<style scoped>\n",
       "    .dataframe tbody tr th:only-of-type {\n",
       "        vertical-align: middle;\n",
       "    }\n",
       "\n",
       "    .dataframe tbody tr th {\n",
       "        vertical-align: top;\n",
       "    }\n",
       "\n",
       "    .dataframe thead th {\n",
       "        text-align: right;\n",
       "    }\n",
       "</style>\n",
       "<table border=\"1\" class=\"dataframe\">\n",
       "  <thead>\n",
       "    <tr style=\"text-align: right;\">\n",
       "      <th></th>\n",
       "      <th>HiddenLayer</th>\n",
       "      <th>TrainAccuracy</th>\n",
       "      <th>TestAccuracy</th>\n",
       "    </tr>\n",
       "  </thead>\n",
       "  <tbody>\n",
       "    <tr>\n",
       "      <th>0</th>\n",
       "      <td>20</td>\n",
       "      <td>0.907</td>\n",
       "      <td>0.910</td>\n",
       "    </tr>\n",
       "    <tr>\n",
       "      <th>1</th>\n",
       "      <td>40</td>\n",
       "      <td>0.903</td>\n",
       "      <td>0.906</td>\n",
       "    </tr>\n",
       "    <tr>\n",
       "      <th>2</th>\n",
       "      <td>60</td>\n",
       "      <td>0.909</td>\n",
       "      <td>0.912</td>\n",
       "    </tr>\n",
       "    <tr>\n",
       "      <th>3</th>\n",
       "      <td>80</td>\n",
       "      <td>0.906</td>\n",
       "      <td>0.908</td>\n",
       "    </tr>\n",
       "    <tr>\n",
       "      <th>4</th>\n",
       "      <td>100</td>\n",
       "      <td>0.910</td>\n",
       "      <td>0.908</td>\n",
       "    </tr>\n",
       "    <tr>\n",
       "      <th>5</th>\n",
       "      <td>120</td>\n",
       "      <td>0.887</td>\n",
       "      <td>0.879</td>\n",
       "    </tr>\n",
       "    <tr>\n",
       "      <th>6</th>\n",
       "      <td>140</td>\n",
       "      <td>0.909</td>\n",
       "      <td>0.912</td>\n",
       "    </tr>\n",
       "    <tr>\n",
       "      <th>7</th>\n",
       "      <td>160</td>\n",
       "      <td>0.908</td>\n",
       "      <td>0.911</td>\n",
       "    </tr>\n",
       "  </tbody>\n",
       "</table>\n",
       "</div>"
      ],
      "text/plain": [
       "   HiddenLayer  TrainAccuracy  TestAccuracy\n",
       "0           20          0.907         0.910\n",
       "1           40          0.903         0.906\n",
       "2           60          0.909         0.912\n",
       "3           80          0.906         0.908\n",
       "4          100          0.910         0.908\n",
       "5          120          0.887         0.879\n",
       "6          140          0.909         0.912\n",
       "7          160          0.908         0.911"
      ]
     },
     "execution_count": 11,
     "metadata": {},
     "output_type": "execute_result"
    }
   ],
   "source": [
    "df_accuracy_hidden.round(3)"
   ]
  },
  {
   "cell_type": "code",
   "execution_count": 12,
   "metadata": {},
   "outputs": [
    {
     "data": {
      "text/plain": [
       "<matplotlib.legend.Legend at 0x7f7d3292ff90>"
      ]
     },
     "execution_count": 12,
     "metadata": {},
     "output_type": "execute_result"
    },
    {
     "data": {
      "image/png": "[encoded data removed]",
      "text/plain": [
       "<Figure size 432x288 with 1 Axes>"
      ]
     },
     "metadata": {
      "needs_background": "light"
     },
     "output_type": "display_data"
    }
   ],
   "source": [
    "plt.plot(para_hidden, train_accuracy, linestyle='-', label='Train Accuracy')\n",
    "plt.plot(para_hidden, test_accuracy, linestyle='--', label='Test Accuracy')\n",
    "plt.ylabel('accuracy')\n",
    "plt.xlabel('Hidden Layer')\n",
    "plt.legend()"
   ]
  },
  {
   "cell_type": "code",
   "execution_count": 13,
   "metadata": {},
   "outputs": [
    {
     "name": "stderr",
     "output_type": "stream",
     "text": [
      "/home/piai/anaconda3/lib/python3.7/site-packages/sklearn/neural_network/_multilayer_perceptron.py:571: ConvergenceWarning: Stochastic Optimizer: Maximum iterations (200) reached and the optimization hasn't converged yet.\n",
      "  % self.max_iter, ConvergenceWarning)\n"
     ]
    }
   ],
   "source": [
    "train_accuracy = []\n",
    "test_accuracy = []\n",
    "\n",
    "para_function = ['logistic', 'tanh', 'relu']\n",
    "for v_function in para_function:\n",
    "    nn = MLPClassifier(activation=v_function, random_state=1234)\n",
    "    nn.fit(df_train_x, df_train_y)\n",
    "    train_accuracy.append(nn.score(df_train_x, df_train_y))\n",
    "    test_accuracy.append(nn.score(df_test_x, df_test_y))\n",
    "    \n",
    "df_accuracy_function = pd.DataFrame()\n",
    "df_accuracy_function['ActivationFunction'] = para_function\n",
    "df_accuracy_function['TrainAccuracy'] = train_accuracy\n",
    "df_accuracy_function['TestAccuracy'] = test_accuracy"
   ]
  },
  {
   "cell_type": "code",
   "execution_count": 15,
   "metadata": {},
   "outputs": [
    {
     "data": {
      "text/html": [
       "<div>\n",
       "<style scoped>\n",
       "    .dataframe tbody tr th:only-of-type {\n",
       "        vertical-align: middle;\n",
       "    }\n",
       "\n",
       "    .dataframe tbody tr th {\n",
       "        vertical-align: top;\n",
       "    }\n",
       "\n",
       "    .dataframe thead th {\n",
       "        text-align: right;\n",
       "    }\n",
       "</style>\n",
       "<table border=\"1\" class=\"dataframe\">\n",
       "  <thead>\n",
       "    <tr style=\"text-align: right;\">\n",
       "      <th></th>\n",
       "      <th>ActivationFunction</th>\n",
       "      <th>TrainAccuracy</th>\n",
       "      <th>TestAccuracy</th>\n",
       "    </tr>\n",
       "  </thead>\n",
       "  <tbody>\n",
       "    <tr>\n",
       "      <th>0</th>\n",
       "      <td>logistic</td>\n",
       "      <td>0.907</td>\n",
       "      <td>0.910</td>\n",
       "    </tr>\n",
       "    <tr>\n",
       "      <th>1</th>\n",
       "      <td>tanh</td>\n",
       "      <td>0.907</td>\n",
       "      <td>0.910</td>\n",
       "    </tr>\n",
       "    <tr>\n",
       "      <th>2</th>\n",
       "      <td>relu</td>\n",
       "      <td>0.910</td>\n",
       "      <td>0.908</td>\n",
       "    </tr>\n",
       "  </tbody>\n",
       "</table>\n",
       "</div>"
      ],
      "text/plain": [
       "  ActivationFunction  TrainAccuracy  TestAccuracy\n",
       "0           logistic          0.907         0.910\n",
       "1               tanh          0.907         0.910\n",
       "2               relu          0.910         0.908"
      ]
     },
     "execution_count": 15,
     "metadata": {},
     "output_type": "execute_result"
    }
   ],
   "source": [
    "df_accuracy_function.round(3)"
   ]
  },
  {
   "cell_type": "code",
   "execution_count": 16,
   "metadata": {},
   "outputs": [
    {
     "data": {
      "text/plain": [
       "<matplotlib.legend.Legend at 0x7f7d2d8987d0>"
      ]
     },
     "execution_count": 16,
     "metadata": {},
     "output_type": "execute_result"
    },
    {
     "data": {
      "image/png": "[encoded data removed]",
      "text/plain": [
       "<Figure size 432x288 with 1 Axes>"
      ]
     },
     "metadata": {
      "needs_background": "light"
     },
     "output_type": "display_data"
    }
   ],
   "source": [
    "plt.plot(para_function, train_accuracy, linestyle='-', label='Train Accuracy')\n",
    "plt.plot(para_function, test_accuracy, linestyle='--', label='Test Accuracy')\n",
    "plt.ylabel('accuracy')\n",
    "plt.xlabel('Activation Function')\n",
    "plt.legend()"
   ]
  },
  {
   "cell_type": "code",
   "execution_count": 57,
   "metadata": {},
   "outputs": [
    {
     "data": {
      "text/html": [
       "<div>\n",
       "<style scoped>\n",
       "    .dataframe tbody tr th:only-of-type {\n",
       "        vertical-align: middle;\n",
       "    }\n",
       "\n",
       "    .dataframe tbody tr th {\n",
       "        vertical-align: top;\n",
       "    }\n",
       "\n",
       "    .dataframe thead th {\n",
       "        text-align: right;\n",
       "    }\n",
       "</style>\n",
       "<table border=\"1\" class=\"dataframe\">\n",
       "  <thead>\n",
       "    <tr style=\"text-align: right;\">\n",
       "      <th></th>\n",
       "      <th>LOAN</th>\n",
       "      <th>MORTDUE</th>\n",
       "      <th>VALUE</th>\n",
       "      <th>YOJ</th>\n",
       "      <th>DEROG</th>\n",
       "      <th>DELINQ</th>\n",
       "      <th>CLAGE</th>\n",
       "      <th>NINQ</th>\n",
       "      <th>CLNO</th>\n",
       "      <th>DEBTINC</th>\n",
       "      <th>REASON_DebtCon</th>\n",
       "      <th>REASON_HomeImp</th>\n",
       "      <th>JOB_Mgr</th>\n",
       "      <th>JOB_Office</th>\n",
       "      <th>JOB_Other</th>\n",
       "      <th>JOB_ProfExe</th>\n",
       "      <th>JOB_Sales</th>\n",
       "      <th>JOB_Self</th>\n",
       "    </tr>\n",
       "  </thead>\n",
       "  <tbody>\n",
       "    <tr>\n",
       "      <th>0</th>\n",
       "      <td>-1.559587</td>\n",
       "      <td>-0.993626</td>\n",
       "      <td>-1.224910</td>\n",
       "      <td>-0.017563</td>\n",
       "      <td>-0.267462</td>\n",
       "      <td>-0.342558</td>\n",
       "      <td>-0.967342</td>\n",
       "      <td>-0.018776</td>\n",
       "      <td>-1.428350</td>\n",
       "      <td>0.356347</td>\n",
       "      <td>-1.548549</td>\n",
       "      <td>1.548549</td>\n",
       "      <td>-0.381873</td>\n",
       "      <td>-0.446497</td>\n",
       "      <td>1.207355</td>\n",
       "      <td>-0.574064</td>\n",
       "      <td>-0.131804</td>\n",
       "      <td>-0.189556</td>\n",
       "    </tr>\n",
       "    <tr>\n",
       "      <th>1</th>\n",
       "      <td>-1.550817</td>\n",
       "      <td>-1.039240</td>\n",
       "      <td>-1.174897</td>\n",
       "      <td>0.251809</td>\n",
       "      <td>-0.267462</td>\n",
       "      <td>-0.342558</td>\n",
       "      <td>-1.122053</td>\n",
       "      <td>-0.666629</td>\n",
       "      <td>-1.428350</td>\n",
       "      <td>0.329025</td>\n",
       "      <td>-1.548549</td>\n",
       "      <td>1.548549</td>\n",
       "      <td>-0.381873</td>\n",
       "      <td>-0.446497</td>\n",
       "      <td>1.207355</td>\n",
       "      <td>-0.574064</td>\n",
       "      <td>-0.131804</td>\n",
       "      <td>-0.189556</td>\n",
       "    </tr>\n",
       "    <tr>\n",
       "      <th>2</th>\n",
       "      <td>-1.506968</td>\n",
       "      <td>0.607570</td>\n",
       "      <td>0.260973</td>\n",
       "      <td>-0.960364</td>\n",
       "      <td>-0.267462</td>\n",
       "      <td>-0.342558</td>\n",
       "      <td>-1.094930</td>\n",
       "      <td>-0.666629</td>\n",
       "      <td>-0.905133</td>\n",
       "      <td>-0.303684</td>\n",
       "      <td>-1.548549</td>\n",
       "      <td>1.548549</td>\n",
       "      <td>-0.381873</td>\n",
       "      <td>2.239654</td>\n",
       "      <td>-0.828257</td>\n",
       "      <td>-0.574064</td>\n",
       "      <td>-0.131804</td>\n",
       "      <td>-0.189556</td>\n",
       "    </tr>\n",
       "    <tr>\n",
       "      <th>3</th>\n",
       "      <td>-1.498198</td>\n",
       "      <td>-0.897428</td>\n",
       "      <td>-1.093133</td>\n",
       "      <td>0.386495</td>\n",
       "      <td>-0.267462</td>\n",
       "      <td>-0.342558</td>\n",
       "      <td>-1.344679</td>\n",
       "      <td>-0.018776</td>\n",
       "      <td>-0.067985</td>\n",
       "      <td>0.493725</td>\n",
       "      <td>-1.548549</td>\n",
       "      <td>1.548549</td>\n",
       "      <td>2.618672</td>\n",
       "      <td>-0.446497</td>\n",
       "      <td>-0.828257</td>\n",
       "      <td>-0.574064</td>\n",
       "      <td>-0.131804</td>\n",
       "      <td>-0.189556</td>\n",
       "    </tr>\n",
       "    <tr>\n",
       "      <th>4</th>\n",
       "      <td>-1.498198</td>\n",
       "      <td>0.520156</td>\n",
       "      <td>0.191721</td>\n",
       "      <td>-0.690992</td>\n",
       "      <td>-0.267462</td>\n",
       "      <td>-0.342558</td>\n",
       "      <td>-1.060586</td>\n",
       "      <td>-0.666629</td>\n",
       "      <td>-0.905133</td>\n",
       "      <td>-0.531456</td>\n",
       "      <td>-1.548549</td>\n",
       "      <td>1.548549</td>\n",
       "      <td>-0.381873</td>\n",
       "      <td>2.239654</td>\n",
       "      <td>-0.828257</td>\n",
       "      <td>-0.574064</td>\n",
       "      <td>-0.131804</td>\n",
       "      <td>-0.189556</td>\n",
       "    </tr>\n",
       "  </tbody>\n",
       "</table>\n",
       "</div>"
      ],
      "text/plain": [
       "       LOAN   MORTDUE     VALUE       YOJ     DEROG    DELINQ     CLAGE  \\\n",
       "0 -1.559587 -0.993626 -1.224910 -0.017563 -0.267462 -0.342558 -0.967342   \n",
       "1 -1.550817 -1.039240 -1.174897  0.251809 -0.267462 -0.342558 -1.122053   \n",
       "2 -1.506968  0.607570  0.260973 -0.960364 -0.267462 -0.342558 -1.094930   \n",
       "3 -1.498198 -0.897428 -1.093133  0.386495 -0.267462 -0.342558 -1.344679   \n",
       "4 -1.498198  0.520156  0.191721 -0.690992 -0.267462 -0.342558 -1.060586   \n",
       "\n",
       "       NINQ      CLNO   DEBTINC  REASON_DebtCon  REASON_HomeImp   JOB_Mgr  \\\n",
       "0 -0.018776 -1.428350  0.356347       -1.548549        1.548549 -0.381873   \n",
       "1 -0.666629 -1.428350  0.329025       -1.548549        1.548549 -0.381873   \n",
       "2 -0.666629 -0.905133 -0.303684       -1.548549        1.548549 -0.381873   \n",
       "3 -0.018776 -0.067985  0.493725       -1.548549        1.548549  2.618672   \n",
       "4 -0.666629 -0.905133 -0.531456       -1.548549        1.548549 -0.381873   \n",
       "\n",
       "   JOB_Office  JOB_Other  JOB_ProfExe  JOB_Sales  JOB_Self  \n",
       "0   -0.446497   1.207355    -0.574064  -0.131804 -0.189556  \n",
       "1   -0.446497   1.207355    -0.574064  -0.131804 -0.189556  \n",
       "2    2.239654  -0.828257    -0.574064  -0.131804 -0.189556  \n",
       "3   -0.446497  -0.828257    -0.574064  -0.131804 -0.189556  \n",
       "4    2.239654  -0.828257    -0.574064  -0.131804 -0.189556  "
      ]
     },
     "execution_count": 57,
     "metadata": {},
     "output_type": "execute_result"
    }
   ],
   "source": [
    "v_feature_name=df_train_x.columns\n",
    "\n",
    " \n",
    "\n",
    "scaler=StandardScaler()\n",
    "df_scaled=scaler.fit_transform(df_raw_x)\n",
    "df_scaled=pd.DataFrame(df_scaled,columns=v_feature_name)\n",
    "df_scaled.head()"
   ]
  },
  {
   "cell_type": "code",
   "execution_count": 58,
   "metadata": {},
   "outputs": [
    {
     "name": "stdout",
     "output_type": "stream",
     "text": [
      "train data X size:(2623, 18)\n",
      "test data X size:(1125, 18)\n"
     ]
    }
   ],
   "source": [
    "df_scaled_train_x,df_scaled_test_x=train_test_split(df_scaled,test_size=0.3,random_state=1234)\n",
    "\n",
    " \n",
    "\n",
    "print(\"train data X size:{}\".format(df_train_x.shape))\n",
    "print(\"test data X size:{}\".format(df_test_x.shape))"
   ]
  },
  {
   "cell_type": "code",
   "execution_count": 59,
   "metadata": {},
   "outputs": [
    {
     "name": "stdout",
     "output_type": "stream",
     "text": [
      "Accuracy on training set:0.971\n",
      "Accuracy on test set:0.943\n"
     ]
    },
    {
     "name": "stderr",
     "output_type": "stream",
     "text": [
      "/home/piai/anaconda3/lib/python3.7/site-packages/sklearn/neural_network/_multilayer_perceptron.py:571: ConvergenceWarning: Stochastic Optimizer: Maximum iterations (200) reached and the optimization hasn't converged yet.\n",
      "  % self.max_iter, ConvergenceWarning)\n"
     ]
    }
   ],
   "source": [
    "nn_scaled=MLPClassifier(random_state=1234)\n",
    "nn_scaled.fit(df_scaled_train_x,df_train_y)\n",
    "\n",
    " \n",
    "\n",
    "print(\"Accuracy on training set:{:.3f}\".format(nn_scaled.score(df_scaled_train_x,df_train_y)))\n",
    "print(\"Accuracy on test set:{:.3f}\".format(nn_scaled.score(df_scaled_test_x,df_test_y)))"
   ]
  },
  {
   "cell_type": "code",
   "execution_count": 60,
   "metadata": {},
   "outputs": [
    {
     "name": "stderr",
     "output_type": "stream",
     "text": [
      "/home/piai/anaconda3/lib/python3.7/site-packages/sklearn/neural_network/_multilayer_perceptron.py:571: ConvergenceWarning: Stochastic Optimizer: Maximum iterations (200) reached and the optimization hasn't converged yet.\n",
      "  % self.max_iter, ConvergenceWarning)\n",
      "/home/piai/anaconda3/lib/python3.7/site-packages/sklearn/neural_network/_multilayer_perceptron.py:571: ConvergenceWarning: Stochastic Optimizer: Maximum iterations (200) reached and the optimization hasn't converged yet.\n",
      "  % self.max_iter, ConvergenceWarning)\n",
      "/home/piai/anaconda3/lib/python3.7/site-packages/sklearn/neural_network/_multilayer_perceptron.py:571: ConvergenceWarning: Stochastic Optimizer: Maximum iterations (200) reached and the optimization hasn't converged yet.\n",
      "  % self.max_iter, ConvergenceWarning)\n",
      "/home/piai/anaconda3/lib/python3.7/site-packages/sklearn/neural_network/_multilayer_perceptron.py:571: ConvergenceWarning: Stochastic Optimizer: Maximum iterations (200) reached and the optimization hasn't converged yet.\n",
      "  % self.max_iter, ConvergenceWarning)\n",
      "/home/piai/anaconda3/lib/python3.7/site-packages/sklearn/neural_network/_multilayer_perceptron.py:571: ConvergenceWarning: Stochastic Optimizer: Maximum iterations (200) reached and the optimization hasn't converged yet.\n",
      "  % self.max_iter, ConvergenceWarning)\n",
      "/home/piai/anaconda3/lib/python3.7/site-packages/sklearn/neural_network/_multilayer_perceptron.py:571: ConvergenceWarning: Stochastic Optimizer: Maximum iterations (200) reached and the optimization hasn't converged yet.\n",
      "  % self.max_iter, ConvergenceWarning)\n"
     ]
    },
    {
     "data": {
      "text/html": [
       "<div>\n",
       "<style scoped>\n",
       "    .dataframe tbody tr th:only-of-type {\n",
       "        vertical-align: middle;\n",
       "    }\n",
       "\n",
       "    .dataframe tbody tr th {\n",
       "        vertical-align: top;\n",
       "    }\n",
       "\n",
       "    .dataframe thead th {\n",
       "        text-align: right;\n",
       "    }\n",
       "</style>\n",
       "<table border=\"1\" class=\"dataframe\">\n",
       "  <thead>\n",
       "    <tr style=\"text-align: right;\">\n",
       "      <th></th>\n",
       "      <th>HiddenLayer</th>\n",
       "      <th>TrainAccuracy</th>\n",
       "      <th>TestAccuracy</th>\n",
       "    </tr>\n",
       "  </thead>\n",
       "  <tbody>\n",
       "    <tr>\n",
       "      <th>0</th>\n",
       "      <td>20</td>\n",
       "      <td>0.975</td>\n",
       "      <td>0.948</td>\n",
       "    </tr>\n",
       "    <tr>\n",
       "      <th>1</th>\n",
       "      <td>40</td>\n",
       "      <td>0.994</td>\n",
       "      <td>0.952</td>\n",
       "    </tr>\n",
       "    <tr>\n",
       "      <th>2</th>\n",
       "      <td>60</td>\n",
       "      <td>0.999</td>\n",
       "      <td>0.949</td>\n",
       "    </tr>\n",
       "    <tr>\n",
       "      <th>3</th>\n",
       "      <td>80</td>\n",
       "      <td>1.000</td>\n",
       "      <td>0.955</td>\n",
       "    </tr>\n",
       "    <tr>\n",
       "      <th>4</th>\n",
       "      <td>100</td>\n",
       "      <td>1.000</td>\n",
       "      <td>0.953</td>\n",
       "    </tr>\n",
       "    <tr>\n",
       "      <th>5</th>\n",
       "      <td>120</td>\n",
       "      <td>1.000</td>\n",
       "      <td>0.951</td>\n",
       "    </tr>\n",
       "    <tr>\n",
       "      <th>6</th>\n",
       "      <td>140</td>\n",
       "      <td>1.000</td>\n",
       "      <td>0.955</td>\n",
       "    </tr>\n",
       "    <tr>\n",
       "      <th>7</th>\n",
       "      <td>160</td>\n",
       "      <td>1.000</td>\n",
       "      <td>0.955</td>\n",
       "    </tr>\n",
       "    <tr>\n",
       "      <th>8</th>\n",
       "      <td>180</td>\n",
       "      <td>1.000</td>\n",
       "      <td>0.957</td>\n",
       "    </tr>\n",
       "    <tr>\n",
       "      <th>9</th>\n",
       "      <td>200</td>\n",
       "      <td>1.000</td>\n",
       "      <td>0.956</td>\n",
       "    </tr>\n",
       "  </tbody>\n",
       "</table>\n",
       "</div>"
      ],
      "text/plain": [
       "   HiddenLayer  TrainAccuracy  TestAccuracy\n",
       "0           20          0.975         0.948\n",
       "1           40          0.994         0.952\n",
       "2           60          0.999         0.949\n",
       "3           80          1.000         0.955\n",
       "4          100          1.000         0.953\n",
       "5          120          1.000         0.951\n",
       "6          140          1.000         0.955\n",
       "7          160          1.000         0.955\n",
       "8          180          1.000         0.957\n",
       "9          200          1.000         0.956"
      ]
     },
     "execution_count": 60,
     "metadata": {},
     "output_type": "execute_result"
    }
   ],
   "source": [
    "train_accuracy=[]\n",
    "test_accuracy=[]\n",
    "\n",
    " \n",
    "\n",
    "para_hidden=[20*hidden for hidden in range(1,11)]\n",
    "\n",
    " \n",
    "\n",
    "\n",
    "for v_hidden in para_hidden:\n",
    "    nn = MLPClassifier(hidden_layer_sizes=(v_hidden,v_hidden),random_state=1234)\n",
    "    nn.fit(df_scaled_train_x,df_train_y)\n",
    "    train_accuracy.append(nn.score(df_scaled_train_x,df_train_y))\n",
    "    test_accuracy.append(nn.score(df_scaled_test_x,df_test_y))\n",
    "    \n",
    "df_accuracy_hidden=pd.DataFrame()\n",
    "df_accuracy_hidden[\"HiddenLayer\"]=para_hidden\n",
    "df_accuracy_hidden[\"TrainAccuracy\"]=train_accuracy\n",
    "df_accuracy_hidden[\"TestAccuracy\"]=test_accuracy\n",
    "\n",
    " \n",
    "\n",
    "df_accuracy_hidden.round(3)"
   ]
  },
  {
   "cell_type": "code",
   "execution_count": 61,
   "metadata": {},
   "outputs": [
    {
     "data": {
      "text/plain": [
       "<matplotlib.legend.Legend at 0x7f7d1f1b3210>"
      ]
     },
     "execution_count": 61,
     "metadata": {},
     "output_type": "execute_result"
    },
    {
     "data": {
      "image/png": "[encoded data removed]",
      "text/plain": [
       "<Figure size 432x288 with 1 Axes>"
      ]
     },
     "metadata": {
      "needs_background": "light"
     },
     "output_type": "display_data"
    }
   ],
   "source": [
    "plt.plot(para_hidden, train_accuracy, linestyle='-', label='Train Accuracy')\n",
    "plt.plot(para_hidden, test_accuracy, linestyle='--', label='Test Accuracy')\n",
    "plt.ylabel('accuracy')\n",
    "plt.xlabel('Hidden Layer')\n",
    "plt.legend()"
   ]
  },
  {
   "cell_type": "code",
   "execution_count": 62,
   "metadata": {},
   "outputs": [],
   "source": [
    "hidden_layer=80"
   ]
  },
  {
   "cell_type": "code",
   "execution_count": 63,
   "metadata": {},
   "outputs": [
    {
     "name": "stderr",
     "output_type": "stream",
     "text": [
      "/home/piai/anaconda3/lib/python3.7/site-packages/sklearn/neural_network/_multilayer_perceptron.py:571: ConvergenceWarning: Stochastic Optimizer: Maximum iterations (200) reached and the optimization hasn't converged yet.\n",
      "  % self.max_iter, ConvergenceWarning)\n"
     ]
    },
    {
     "data": {
      "text/html": [
       "<div>\n",
       "<style scoped>\n",
       "    .dataframe tbody tr th:only-of-type {\n",
       "        vertical-align: middle;\n",
       "    }\n",
       "\n",
       "    .dataframe tbody tr th {\n",
       "        vertical-align: top;\n",
       "    }\n",
       "\n",
       "    .dataframe thead th {\n",
       "        text-align: right;\n",
       "    }\n",
       "</style>\n",
       "<table border=\"1\" class=\"dataframe\">\n",
       "  <thead>\n",
       "    <tr style=\"text-align: right;\">\n",
       "      <th></th>\n",
       "      <th>ActivationFunction</th>\n",
       "      <th>TrainAccuracy</th>\n",
       "      <th>TestAccuracy</th>\n",
       "    </tr>\n",
       "  </thead>\n",
       "  <tbody>\n",
       "    <tr>\n",
       "      <th>0</th>\n",
       "      <td>logistic</td>\n",
       "      <td>0.908</td>\n",
       "      <td>0.908</td>\n",
       "    </tr>\n",
       "    <tr>\n",
       "      <th>1</th>\n",
       "      <td>tanh</td>\n",
       "      <td>0.908</td>\n",
       "      <td>0.908</td>\n",
       "    </tr>\n",
       "    <tr>\n",
       "      <th>2</th>\n",
       "      <td>relu</td>\n",
       "      <td>0.911</td>\n",
       "      <td>0.911</td>\n",
       "    </tr>\n",
       "  </tbody>\n",
       "</table>\n",
       "</div>"
      ],
      "text/plain": [
       "  ActivationFunction  TrainAccuracy  TestAccuracy\n",
       "0           logistic          0.908         0.908\n",
       "1               tanh          0.908         0.908\n",
       "2               relu          0.911         0.911"
      ]
     },
     "execution_count": 63,
     "metadata": {},
     "output_type": "execute_result"
    }
   ],
   "source": [
    "train_accuracy = []\n",
    "test_accuracy = []\n",
    "\n",
    " \n",
    "\n",
    " \n",
    "\n",
    " \n",
    "\n",
    "para_function = ['logistic', 'tanh', 'relu']\n",
    "for v_function in para_function:\n",
    "    nn = MLPClassifier(activation=v_function,hidden_layer_sizes=(80,80), random_state=1234)\n",
    "    nn.fit(df_train_x, df_train_y)\n",
    "    train_accuracy.append(nn.score(df_train_x, df_train_y))\n",
    "    test_accuracy.append(nn.score(df_test_x, df_test_y))\n",
    "    \n",
    "df_accuracy_function = pd.DataFrame()\n",
    "df_accuracy_function['ActivationFunction'] = para_function\n",
    "df_accuracy_function['TrainAccuracy'] = train_accuracy\n",
    "df_accuracy_function['TestAccuracy'] = test_accuracy\n",
    "\n",
    " \n",
    "\n",
    "df_accuracy_function.round(3)"
   ]
  },
  {
   "cell_type": "code",
   "execution_count": 64,
   "metadata": {},
   "outputs": [
    {
     "data": {
      "text/plain": [
       "<matplotlib.legend.Legend at 0x7f7d2c2ea710>"
      ]
     },
     "execution_count": 64,
     "metadata": {},
     "output_type": "execute_result"
    },
    {
     "data": {
      "image/png": "[encoded data removed]",
      "text/plain": [
       "<Figure size 432x288 with 1 Axes>"
      ]
     },
     "metadata": {
      "needs_background": "light"
     },
     "output_type": "display_data"
    }
   ],
   "source": [
    "plt.plot(para_function, train_accuracy, linestyle='-', label='Train Accuracy')\n",
    "plt.plot(para_function, test_accuracy, linestyle='--', label='Test Accuracy')\n",
    "plt.ylabel('accuracy')\n",
    "plt.xlabel('Activation Function')\n",
    "plt.legend()"
   ]
  },
  {
   "cell_type": "code",
   "execution_count": 65,
   "metadata": {},
   "outputs": [],
   "source": [
    "activation=\"relu\""
   ]
  },
  {
   "cell_type": "code",
   "execution_count": 66,
   "metadata": {},
   "outputs": [
    {
     "name": "stderr",
     "output_type": "stream",
     "text": [
      "/home/piai/anaconda3/lib/python3.7/site-packages/sklearn/neural_network/_multilayer_perceptron.py:470: ConvergenceWarning: lbfgs failed to converge (status=1):\n",
      "STOP: TOTAL NO. of ITERATIONS REACHED LIMIT.\n",
      "\n",
      "Increase the number of iterations (max_iter) or scale the data as shown in:\n",
      "    https://scikit-learn.org/stable/modules/preprocessing.html\n",
      "  self.n_iter_ = _check_optimize_result(\"lbfgs\", opt_res, self.max_iter)\n",
      "/home/piai/anaconda3/lib/python3.7/site-packages/sklearn/neural_network/_multilayer_perceptron.py:571: ConvergenceWarning: Stochastic Optimizer: Maximum iterations (200) reached and the optimization hasn't converged yet.\n",
      "  % self.max_iter, ConvergenceWarning)\n"
     ]
    },
    {
     "data": {
      "text/html": [
       "<div>\n",
       "<style scoped>\n",
       "    .dataframe tbody tr th:only-of-type {\n",
       "        vertical-align: middle;\n",
       "    }\n",
       "\n",
       "    .dataframe tbody tr th {\n",
       "        vertical-align: top;\n",
       "    }\n",
       "\n",
       "    .dataframe thead th {\n",
       "        text-align: right;\n",
       "    }\n",
       "</style>\n",
       "<table border=\"1\" class=\"dataframe\">\n",
       "  <thead>\n",
       "    <tr style=\"text-align: right;\">\n",
       "      <th></th>\n",
       "      <th>Solver</th>\n",
       "      <th>TrainAccuracy</th>\n",
       "      <th>TestAccuracy</th>\n",
       "    </tr>\n",
       "  </thead>\n",
       "  <tbody>\n",
       "    <tr>\n",
       "      <th>0</th>\n",
       "      <td>lbfgs</td>\n",
       "      <td>0.889</td>\n",
       "      <td>0.884</td>\n",
       "    </tr>\n",
       "    <tr>\n",
       "      <th>1</th>\n",
       "      <td>sgd</td>\n",
       "      <td>0.908</td>\n",
       "      <td>0.908</td>\n",
       "    </tr>\n",
       "    <tr>\n",
       "      <th>2</th>\n",
       "      <td>adam</td>\n",
       "      <td>0.911</td>\n",
       "      <td>0.911</td>\n",
       "    </tr>\n",
       "  </tbody>\n",
       "</table>\n",
       "</div>"
      ],
      "text/plain": [
       "  Solver  TrainAccuracy  TestAccuracy\n",
       "0  lbfgs          0.889         0.884\n",
       "1    sgd          0.908         0.908\n",
       "2   adam          0.911         0.911"
      ]
     },
     "execution_count": 66,
     "metadata": {},
     "output_type": "execute_result"
    }
   ],
   "source": [
    "train_accuracy = []\n",
    "test_accuracy = []\n",
    "\n",
    " \n",
    "\n",
    " \n",
    "\n",
    " \n",
    "\n",
    "para_solver = ['lbfgs', 'sgd', 'adam']\n",
    "for v_solver in para_solver:\n",
    "    nn = MLPClassifier(solver=v_solver,activation=\"relu\",hidden_layer_sizes=(80,80), random_state=1234)\n",
    "    nn.fit(df_train_x, df_train_y)\n",
    "    train_accuracy.append(nn.score(df_train_x, df_train_y))\n",
    "    test_accuracy.append(nn.score(df_test_x, df_test_y))\n",
    "    \n",
    "df_accuracy_solver = pd.DataFrame()\n",
    "df_accuracy_solver['Solver'] = para_solver\n",
    "df_accuracy_solver['TrainAccuracy'] = train_accuracy\n",
    "df_accuracy_solver['TestAccuracy'] = test_accuracy\n",
    "\n",
    " \n",
    "\n",
    "df_accuracy_solver.round(3)"
   ]
  },
  {
   "cell_type": "code",
   "execution_count": 67,
   "metadata": {},
   "outputs": [
    {
     "data": {
      "text/plain": [
       "<matplotlib.legend.Legend at 0x7f7d2ddc8850>"
      ]
     },
     "execution_count": 67,
     "metadata": {},
     "output_type": "execute_result"
    },
    {
     "data": {
      "image/png": "[encoded data removed]",
      "text/plain": [
       "<Figure size 432x288 with 1 Axes>"
      ]
     },
     "metadata": {
      "needs_background": "light"
     },
     "output_type": "display_data"
    }
   ],
   "source": [
    "plt.plot(para_solver, train_accuracy, linestyle='-', label='Train Accuracy')\n",
    "plt.plot(para_solver, test_accuracy, linestyle='--', label='Test Accuracy')\n",
    "plt.ylabel('accuracy')\n",
    "plt.xlabel('Solver')\n",
    "plt.legend()"
   ]
  },
  {
   "cell_type": "code",
   "execution_count": 68,
   "metadata": {},
   "outputs": [
    {
     "name": "stderr",
     "output_type": "stream",
     "text": [
      "/home/piai/anaconda3/lib/python3.7/site-packages/sklearn/neural_network/_multilayer_perceptron.py:571: ConvergenceWarning: Stochastic Optimizer: Maximum iterations (200) reached and the optimization hasn't converged yet.\n",
      "  % self.max_iter, ConvergenceWarning)\n",
      "/home/piai/anaconda3/lib/python3.7/site-packages/sklearn/neural_network/_multilayer_perceptron.py:571: ConvergenceWarning: Stochastic Optimizer: Maximum iterations (200) reached and the optimization hasn't converged yet.\n",
      "  % self.max_iter, ConvergenceWarning)\n",
      "/home/piai/anaconda3/lib/python3.7/site-packages/sklearn/neural_network/_multilayer_perceptron.py:571: ConvergenceWarning: Stochastic Optimizer: Maximum iterations (200) reached and the optimization hasn't converged yet.\n",
      "  % self.max_iter, ConvergenceWarning)\n",
      "/home/piai/anaconda3/lib/python3.7/site-packages/sklearn/neural_network/_multilayer_perceptron.py:571: ConvergenceWarning: Stochastic Optimizer: Maximum iterations (200) reached and the optimization hasn't converged yet.\n",
      "  % self.max_iter, ConvergenceWarning)\n"
     ]
    },
    {
     "data": {
      "text/html": [
       "<div>\n",
       "<style scoped>\n",
       "    .dataframe tbody tr th:only-of-type {\n",
       "        vertical-align: middle;\n",
       "    }\n",
       "\n",
       "    .dataframe tbody tr th {\n",
       "        vertical-align: top;\n",
       "    }\n",
       "\n",
       "    .dataframe thead th {\n",
       "        text-align: right;\n",
       "    }\n",
       "</style>\n",
       "<table border=\"1\" class=\"dataframe\">\n",
       "  <thead>\n",
       "    <tr style=\"text-align: right;\">\n",
       "      <th></th>\n",
       "      <th>Mini Batch</th>\n",
       "      <th>TrainAccuracy</th>\n",
       "      <th>TestAccuracy</th>\n",
       "    </tr>\n",
       "  </thead>\n",
       "  <tbody>\n",
       "    <tr>\n",
       "      <th>0</th>\n",
       "      <td>20</td>\n",
       "      <td>1.0</td>\n",
       "      <td>0.959</td>\n",
       "    </tr>\n",
       "    <tr>\n",
       "      <th>1</th>\n",
       "      <td>40</td>\n",
       "      <td>1.0</td>\n",
       "      <td>0.956</td>\n",
       "    </tr>\n",
       "    <tr>\n",
       "      <th>2</th>\n",
       "      <td>60</td>\n",
       "      <td>1.0</td>\n",
       "      <td>0.950</td>\n",
       "    </tr>\n",
       "    <tr>\n",
       "      <th>3</th>\n",
       "      <td>80</td>\n",
       "      <td>1.0</td>\n",
       "      <td>0.952</td>\n",
       "    </tr>\n",
       "    <tr>\n",
       "      <th>4</th>\n",
       "      <td>100</td>\n",
       "      <td>1.0</td>\n",
       "      <td>0.952</td>\n",
       "    </tr>\n",
       "    <tr>\n",
       "      <th>5</th>\n",
       "      <td>120</td>\n",
       "      <td>1.0</td>\n",
       "      <td>0.953</td>\n",
       "    </tr>\n",
       "    <tr>\n",
       "      <th>6</th>\n",
       "      <td>140</td>\n",
       "      <td>1.0</td>\n",
       "      <td>0.953</td>\n",
       "    </tr>\n",
       "    <tr>\n",
       "      <th>7</th>\n",
       "      <td>160</td>\n",
       "      <td>1.0</td>\n",
       "      <td>0.954</td>\n",
       "    </tr>\n",
       "    <tr>\n",
       "      <th>8</th>\n",
       "      <td>180</td>\n",
       "      <td>1.0</td>\n",
       "      <td>0.956</td>\n",
       "    </tr>\n",
       "  </tbody>\n",
       "</table>\n",
       "</div>"
      ],
      "text/plain": [
       "   Mini Batch  TrainAccuracy  TestAccuracy\n",
       "0          20            1.0         0.959\n",
       "1          40            1.0         0.956\n",
       "2          60            1.0         0.950\n",
       "3          80            1.0         0.952\n",
       "4         100            1.0         0.952\n",
       "5         120            1.0         0.953\n",
       "6         140            1.0         0.953\n",
       "7         160            1.0         0.954\n",
       "8         180            1.0         0.956"
      ]
     },
     "execution_count": 68,
     "metadata": {},
     "output_type": "execute_result"
    }
   ],
   "source": [
    "#결과는 adam이 아닌데...\n",
    "\n",
    " \n",
    "\n",
    "train_accuracy=[]\n",
    "test_accuracy=[]\n",
    "\n",
    " \n",
    "\n",
    "para_batch=[20*batch for batch in range(1,10)]\n",
    "\n",
    " \n",
    "\n",
    "\n",
    "for v_batch in para_batch:\n",
    "    nn = MLPClassifier(batch_size=v_batch,solver=\"adam\",activation=\"relu\",hidden_layer_sizes=(80,80),random_state=1234)\n",
    "    nn.fit(df_scaled_train_x,df_train_y)\n",
    "    train_accuracy.append(nn.score(df_scaled_train_x,df_train_y))\n",
    "    test_accuracy.append(nn.score(df_scaled_test_x,df_test_y))\n",
    "    \n",
    "df_accuracy_batch=pd.DataFrame()\n",
    "df_accuracy_batch[\"Mini Batch\"]=para_batch\n",
    "df_accuracy_batch[\"TrainAccuracy\"]=train_accuracy\n",
    "df_accuracy_batch[\"TestAccuracy\"]=test_accuracy\n",
    "\n",
    " \n",
    "\n",
    "df_accuracy_batch.round(3)"
   ]
  },
  {
   "cell_type": "code",
   "execution_count": 69,
   "metadata": {},
   "outputs": [
    {
     "data": {
      "text/plain": [
       "<matplotlib.legend.Legend at 0x7f7d2dd87c90>"
      ]
     },
     "execution_count": 69,
     "metadata": {},
     "output_type": "execute_result"
    },
    {
     "data": {
      "image/png": "[encoded data removed]",
      "text/plain": [
       "<Figure size 432x288 with 1 Axes>"
      ]
     },
     "metadata": {
      "needs_background": "light"
     },
     "output_type": "display_data"
    }
   ],
   "source": [
    "plt.plot(para_batch, train_accuracy, linestyle='-', label='Train Accuracy')\n",
    "plt.plot(para_batch, test_accuracy, linestyle='--', label='Test Accuracy')\n",
    "plt.ylabel('accuracy')\n",
    "plt.xlabel('Mini Batch size')\n",
    "plt.legend()"
   ]
  },
  {
   "cell_type": "code",
   "execution_count": 70,
   "metadata": {},
   "outputs": [
    {
     "name": "stdout",
     "output_type": "stream",
     "text": [
      "Accuracy on training set:1.000\n",
      "Accuracy on test set:0.952\n",
      "\n",
      "Accuracy matrix:\n",
      "[[1018    3]\n",
      " [  51   53]]\n"
     ]
    }
   ],
   "source": [
    "nn_final = MLPClassifier(batch_size=100,solver=\"adam\",activation=\"relu\",hidden_layer_sizes=(80,80),random_state=1234)\n",
    "nn_final.fit(df_scaled_train_x,df_train_y)\n",
    "\n",
    " \n",
    "\n",
    "y_pred=nn_final.predict(df_scaled_test_x)\n",
    "\n",
    " \n",
    "\n",
    "\n",
    "print(\"Accuracy on training set:{:.3f}\".format(nn_final.score(df_scaled_train_x,df_train_y)))\n",
    "print(\"Accuracy on test set:{:.3f}\\n\".format(nn_final.score(df_scaled_test_x,df_test_y)))\n",
    "\n",
    " \n",
    "\n",
    "print(\"Accuracy matrix:\\n{}\".format(confusion_matrix(df_test_y,y_pred)))"
   ]
  },
  {
   "cell_type": "markdown",
   "metadata": {},
   "source": [
    "# KNN"
   ]
  },
  {
   "cell_type": "code",
   "execution_count": 86,
   "metadata": {},
   "outputs": [],
   "source": [
    "import pandas as pd\n",
    "import matplotlib.pyplot as plt\n",
    "import matplotlib\n",
    "import seaborn as sns\n",
    "\n",
    "from sklearn.preprocessing import StandardScaler\n",
    "from sklearn.model_selection import train_test_split\n",
    "from sklearn.neighbors import KNeighborsClassifier\n",
    "from sklearn.model_selection import GridSearchCV\n",
    "from sklearn.metrics import confusion_matrix"
   ]
  },
  {
   "cell_type": "code",
   "execution_count": 87,
   "metadata": {},
   "outputs": [
    {
     "data": {
      "text/html": [
       "<div>\n",
       "<style scoped>\n",
       "    .dataframe tbody tr th:only-of-type {\n",
       "        vertical-align: middle;\n",
       "    }\n",
       "\n",
       "    .dataframe tbody tr th {\n",
       "        vertical-align: top;\n",
       "    }\n",
       "\n",
       "    .dataframe thead th {\n",
       "        text-align: right;\n",
       "    }\n",
       "</style>\n",
       "<table border=\"1\" class=\"dataframe\">\n",
       "  <thead>\n",
       "    <tr style=\"text-align: right;\">\n",
       "      <th></th>\n",
       "      <th>BAD</th>\n",
       "      <th>LOAN</th>\n",
       "      <th>MORTDUE</th>\n",
       "      <th>VALUE</th>\n",
       "      <th>REASON</th>\n",
       "      <th>JOB</th>\n",
       "      <th>YOJ</th>\n",
       "      <th>DEROG</th>\n",
       "      <th>DELINQ</th>\n",
       "      <th>CLAGE</th>\n",
       "      <th>NINQ</th>\n",
       "      <th>CLNO</th>\n",
       "      <th>DEBTINC</th>\n",
       "    </tr>\n",
       "  </thead>\n",
       "  <tbody>\n",
       "    <tr>\n",
       "      <th>0</th>\n",
       "      <td>1</td>\n",
       "      <td>1700</td>\n",
       "      <td>30548</td>\n",
       "      <td>40320.0</td>\n",
       "      <td>HomeImp</td>\n",
       "      <td>Other</td>\n",
       "      <td>9.0</td>\n",
       "      <td>0</td>\n",
       "      <td>0.0</td>\n",
       "      <td>101.466002</td>\n",
       "      <td>1.0</td>\n",
       "      <td>8</td>\n",
       "      <td>37.113614</td>\n",
       "    </tr>\n",
       "    <tr>\n",
       "      <th>1</th>\n",
       "      <td>1</td>\n",
       "      <td>1800</td>\n",
       "      <td>28502</td>\n",
       "      <td>43034.0</td>\n",
       "      <td>HomeImp</td>\n",
       "      <td>Other</td>\n",
       "      <td>11.0</td>\n",
       "      <td>0</td>\n",
       "      <td>0.0</td>\n",
       "      <td>88.766030</td>\n",
       "      <td>0.0</td>\n",
       "      <td>8</td>\n",
       "      <td>36.884894</td>\n",
       "    </tr>\n",
       "    <tr>\n",
       "      <th>2</th>\n",
       "      <td>0</td>\n",
       "      <td>2300</td>\n",
       "      <td>102370</td>\n",
       "      <td>120953.0</td>\n",
       "      <td>HomeImp</td>\n",
       "      <td>Office</td>\n",
       "      <td>2.0</td>\n",
       "      <td>0</td>\n",
       "      <td>0.0</td>\n",
       "      <td>90.992533</td>\n",
       "      <td>0.0</td>\n",
       "      <td>13</td>\n",
       "      <td>31.588503</td>\n",
       "    </tr>\n",
       "    <tr>\n",
       "      <th>3</th>\n",
       "      <td>1</td>\n",
       "      <td>2400</td>\n",
       "      <td>34863</td>\n",
       "      <td>47471.0</td>\n",
       "      <td>HomeImp</td>\n",
       "      <td>Mgr</td>\n",
       "      <td>12.0</td>\n",
       "      <td>0</td>\n",
       "      <td>0.0</td>\n",
       "      <td>70.491080</td>\n",
       "      <td>1.0</td>\n",
       "      <td>21</td>\n",
       "      <td>38.263601</td>\n",
       "    </tr>\n",
       "    <tr>\n",
       "      <th>4</th>\n",
       "      <td>0</td>\n",
       "      <td>2400</td>\n",
       "      <td>98449</td>\n",
       "      <td>117195.0</td>\n",
       "      <td>HomeImp</td>\n",
       "      <td>Office</td>\n",
       "      <td>4.0</td>\n",
       "      <td>0</td>\n",
       "      <td>0.0</td>\n",
       "      <td>93.811775</td>\n",
       "      <td>0.0</td>\n",
       "      <td>13</td>\n",
       "      <td>29.681827</td>\n",
       "    </tr>\n",
       "  </tbody>\n",
       "</table>\n",
       "</div>"
      ],
      "text/plain": [
       "   BAD  LOAN  MORTDUE     VALUE   REASON     JOB   YOJ  DEROG  DELINQ  \\\n",
       "0    1  1700    30548   40320.0  HomeImp   Other   9.0      0     0.0   \n",
       "1    1  1800    28502   43034.0  HomeImp   Other  11.0      0     0.0   \n",
       "2    0  2300   102370  120953.0  HomeImp  Office   2.0      0     0.0   \n",
       "3    1  2400    34863   47471.0  HomeImp     Mgr  12.0      0     0.0   \n",
       "4    0  2400    98449  117195.0  HomeImp  Office   4.0      0     0.0   \n",
       "\n",
       "        CLAGE  NINQ  CLNO    DEBTINC  \n",
       "0  101.466002   1.0     8  37.113614  \n",
       "1   88.766030   0.0     8  36.884894  \n",
       "2   90.992533   0.0    13  31.588503  \n",
       "3   70.491080   1.0    21  38.263601  \n",
       "4   93.811775   0.0    13  29.681827  "
      ]
     },
     "execution_count": 87,
     "metadata": {},
     "output_type": "execute_result"
    }
   ],
   "source": [
    "df_raw = pd.read_csv('./Data/3. Big Data 분석/HMEQ.csv')\n",
    "df_raw.head()"
   ]
  },
  {
   "cell_type": "code",
   "execution_count": 88,
   "metadata": {},
   "outputs": [
    {
     "data": {
      "text/plain": [
       "BAD          0\n",
       "LOAN         0\n",
       "MORTDUE      0\n",
       "VALUE       14\n",
       "REASON       0\n",
       "JOB         81\n",
       "YOJ        205\n",
       "DEROG        0\n",
       "DELINQ      30\n",
       "CLAGE       37\n",
       "NINQ        56\n",
       "CLNO         0\n",
       "DEBTINC      0\n",
       "dtype: int64"
      ]
     },
     "execution_count": 88,
     "metadata": {},
     "output_type": "execute_result"
    }
   ],
   "source": [
    "df_raw.isnull().sum()"
   ]
  },
  {
   "cell_type": "code",
   "execution_count": 89,
   "metadata": {},
   "outputs": [],
   "source": [
    "df_raw['JOB'].fillna('Other', inplace=True)\n",
    "df_raw.fillna(df_raw.mean(), inplace=True)"
   ]
  },
  {
   "cell_type": "code",
   "execution_count": 90,
   "metadata": {},
   "outputs": [
    {
     "data": {
      "text/html": [
       "<div>\n",
       "<style scoped>\n",
       "    .dataframe tbody tr th:only-of-type {\n",
       "        vertical-align: middle;\n",
       "    }\n",
       "\n",
       "    .dataframe tbody tr th {\n",
       "        vertical-align: top;\n",
       "    }\n",
       "\n",
       "    .dataframe thead th {\n",
       "        text-align: right;\n",
       "    }\n",
       "</style>\n",
       "<table border=\"1\" class=\"dataframe\">\n",
       "  <thead>\n",
       "    <tr style=\"text-align: right;\">\n",
       "      <th></th>\n",
       "      <th>BAD</th>\n",
       "      <th>LOAN</th>\n",
       "      <th>MORTDUE</th>\n",
       "      <th>VALUE</th>\n",
       "      <th>YOJ</th>\n",
       "      <th>DEROG</th>\n",
       "      <th>DELINQ</th>\n",
       "      <th>CLAGE</th>\n",
       "      <th>NINQ</th>\n",
       "      <th>CLNO</th>\n",
       "      <th>DEBTINC</th>\n",
       "      <th>REASON_DebtCon</th>\n",
       "      <th>REASON_HomeImp</th>\n",
       "      <th>JOB_Mgr</th>\n",
       "      <th>JOB_Office</th>\n",
       "      <th>JOB_Other</th>\n",
       "      <th>JOB_ProfExe</th>\n",
       "      <th>JOB_Sales</th>\n",
       "      <th>JOB_Self</th>\n",
       "    </tr>\n",
       "  </thead>\n",
       "  <tbody>\n",
       "    <tr>\n",
       "      <th>0</th>\n",
       "      <td>1</td>\n",
       "      <td>1700</td>\n",
       "      <td>30548</td>\n",
       "      <td>40320.0</td>\n",
       "      <td>9.0</td>\n",
       "      <td>0</td>\n",
       "      <td>0.0</td>\n",
       "      <td>101.466002</td>\n",
       "      <td>1.0</td>\n",
       "      <td>8</td>\n",
       "      <td>37.113614</td>\n",
       "      <td>0</td>\n",
       "      <td>1</td>\n",
       "      <td>0</td>\n",
       "      <td>0</td>\n",
       "      <td>1</td>\n",
       "      <td>0</td>\n",
       "      <td>0</td>\n",
       "      <td>0</td>\n",
       "    </tr>\n",
       "    <tr>\n",
       "      <th>1</th>\n",
       "      <td>1</td>\n",
       "      <td>1800</td>\n",
       "      <td>28502</td>\n",
       "      <td>43034.0</td>\n",
       "      <td>11.0</td>\n",
       "      <td>0</td>\n",
       "      <td>0.0</td>\n",
       "      <td>88.766030</td>\n",
       "      <td>0.0</td>\n",
       "      <td>8</td>\n",
       "      <td>36.884894</td>\n",
       "      <td>0</td>\n",
       "      <td>1</td>\n",
       "      <td>0</td>\n",
       "      <td>0</td>\n",
       "      <td>1</td>\n",
       "      <td>0</td>\n",
       "      <td>0</td>\n",
       "      <td>0</td>\n",
       "    </tr>\n",
       "    <tr>\n",
       "      <th>2</th>\n",
       "      <td>0</td>\n",
       "      <td>2300</td>\n",
       "      <td>102370</td>\n",
       "      <td>120953.0</td>\n",
       "      <td>2.0</td>\n",
       "      <td>0</td>\n",
       "      <td>0.0</td>\n",
       "      <td>90.992533</td>\n",
       "      <td>0.0</td>\n",
       "      <td>13</td>\n",
       "      <td>31.588503</td>\n",
       "      <td>0</td>\n",
       "      <td>1</td>\n",
       "      <td>0</td>\n",
       "      <td>1</td>\n",
       "      <td>0</td>\n",
       "      <td>0</td>\n",
       "      <td>0</td>\n",
       "      <td>0</td>\n",
       "    </tr>\n",
       "    <tr>\n",
       "      <th>3</th>\n",
       "      <td>1</td>\n",
       "      <td>2400</td>\n",
       "      <td>34863</td>\n",
       "      <td>47471.0</td>\n",
       "      <td>12.0</td>\n",
       "      <td>0</td>\n",
       "      <td>0.0</td>\n",
       "      <td>70.491080</td>\n",
       "      <td>1.0</td>\n",
       "      <td>21</td>\n",
       "      <td>38.263601</td>\n",
       "      <td>0</td>\n",
       "      <td>1</td>\n",
       "      <td>1</td>\n",
       "      <td>0</td>\n",
       "      <td>0</td>\n",
       "      <td>0</td>\n",
       "      <td>0</td>\n",
       "      <td>0</td>\n",
       "    </tr>\n",
       "    <tr>\n",
       "      <th>4</th>\n",
       "      <td>0</td>\n",
       "      <td>2400</td>\n",
       "      <td>98449</td>\n",
       "      <td>117195.0</td>\n",
       "      <td>4.0</td>\n",
       "      <td>0</td>\n",
       "      <td>0.0</td>\n",
       "      <td>93.811775</td>\n",
       "      <td>0.0</td>\n",
       "      <td>13</td>\n",
       "      <td>29.681827</td>\n",
       "      <td>0</td>\n",
       "      <td>1</td>\n",
       "      <td>0</td>\n",
       "      <td>1</td>\n",
       "      <td>0</td>\n",
       "      <td>0</td>\n",
       "      <td>0</td>\n",
       "      <td>0</td>\n",
       "    </tr>\n",
       "  </tbody>\n",
       "</table>\n",
       "</div>"
      ],
      "text/plain": [
       "   BAD  LOAN  MORTDUE     VALUE   YOJ  DEROG  DELINQ       CLAGE  NINQ  CLNO  \\\n",
       "0    1  1700    30548   40320.0   9.0      0     0.0  101.466002   1.0     8   \n",
       "1    1  1800    28502   43034.0  11.0      0     0.0   88.766030   0.0     8   \n",
       "2    0  2300   102370  120953.0   2.0      0     0.0   90.992533   0.0    13   \n",
       "3    1  2400    34863   47471.0  12.0      0     0.0   70.491080   1.0    21   \n",
       "4    0  2400    98449  117195.0   4.0      0     0.0   93.811775   0.0    13   \n",
       "\n",
       "     DEBTINC  REASON_DebtCon  REASON_HomeImp  JOB_Mgr  JOB_Office  JOB_Other  \\\n",
       "0  37.113614               0               1        0           0          1   \n",
       "1  36.884894               0               1        0           0          1   \n",
       "2  31.588503               0               1        0           1          0   \n",
       "3  38.263601               0               1        1           0          0   \n",
       "4  29.681827               0               1        0           1          0   \n",
       "\n",
       "   JOB_ProfExe  JOB_Sales  JOB_Self  \n",
       "0            0          0         0  \n",
       "1            0          0         0  \n",
       "2            0          0         0  \n",
       "3            0          0         0  \n",
       "4            0          0         0  "
      ]
     },
     "execution_count": 90,
     "metadata": {},
     "output_type": "execute_result"
    }
   ],
   "source": [
    "df_raw_dummy = pd.get_dummies(df_raw)\n",
    "df_raw_dummy.head()"
   ]
  },
  {
   "cell_type": "code",
   "execution_count": 91,
   "metadata": {},
   "outputs": [],
   "source": [
    "df_train_x, df_test_x, df_train_y, df_test_y = train_test_split(df_raw_dummy.drop('BAD',axis=1), df_raw_dummy['BAD'], test_size=0.3)"
   ]
  },
  {
   "cell_type": "code",
   "execution_count": 101,
   "metadata": {},
   "outputs": [
    {
     "data": {
      "text/html": [
       "<div>\n",
       "<style scoped>\n",
       "    .dataframe tbody tr th:only-of-type {\n",
       "        vertical-align: middle;\n",
       "    }\n",
       "\n",
       "    .dataframe tbody tr th {\n",
       "        vertical-align: top;\n",
       "    }\n",
       "\n",
       "    .dataframe thead th {\n",
       "        text-align: right;\n",
       "    }\n",
       "</style>\n",
       "<table border=\"1\" class=\"dataframe\">\n",
       "  <thead>\n",
       "    <tr style=\"text-align: right;\">\n",
       "      <th></th>\n",
       "      <th>Neighbors</th>\n",
       "      <th>TrainAccuracy</th>\n",
       "      <th>TestAccuracy</th>\n",
       "    </tr>\n",
       "  </thead>\n",
       "  <tbody>\n",
       "    <tr>\n",
       "      <th>0</th>\n",
       "      <td>1</td>\n",
       "      <td>1.000</td>\n",
       "      <td>0.869</td>\n",
       "    </tr>\n",
       "    <tr>\n",
       "      <th>1</th>\n",
       "      <td>2</td>\n",
       "      <td>0.931</td>\n",
       "      <td>0.908</td>\n",
       "    </tr>\n",
       "    <tr>\n",
       "      <th>2</th>\n",
       "      <td>3</td>\n",
       "      <td>0.933</td>\n",
       "      <td>0.901</td>\n",
       "    </tr>\n",
       "    <tr>\n",
       "      <th>3</th>\n",
       "      <td>4</td>\n",
       "      <td>0.920</td>\n",
       "      <td>0.908</td>\n",
       "    </tr>\n",
       "    <tr>\n",
       "      <th>4</th>\n",
       "      <td>5</td>\n",
       "      <td>0.920</td>\n",
       "      <td>0.904</td>\n",
       "    </tr>\n",
       "    <tr>\n",
       "      <th>5</th>\n",
       "      <td>6</td>\n",
       "      <td>0.917</td>\n",
       "      <td>0.909</td>\n",
       "    </tr>\n",
       "    <tr>\n",
       "      <th>6</th>\n",
       "      <td>7</td>\n",
       "      <td>0.917</td>\n",
       "      <td>0.903</td>\n",
       "    </tr>\n",
       "    <tr>\n",
       "      <th>7</th>\n",
       "      <td>8</td>\n",
       "      <td>0.913</td>\n",
       "      <td>0.909</td>\n",
       "    </tr>\n",
       "    <tr>\n",
       "      <th>8</th>\n",
       "      <td>9</td>\n",
       "      <td>0.914</td>\n",
       "      <td>0.909</td>\n",
       "    </tr>\n",
       "    <tr>\n",
       "      <th>9</th>\n",
       "      <td>10</td>\n",
       "      <td>0.911</td>\n",
       "      <td>0.909</td>\n",
       "    </tr>\n",
       "    <tr>\n",
       "      <th>10</th>\n",
       "      <td>11</td>\n",
       "      <td>0.911</td>\n",
       "      <td>0.908</td>\n",
       "    </tr>\n",
       "    <tr>\n",
       "      <th>11</th>\n",
       "      <td>12</td>\n",
       "      <td>0.910</td>\n",
       "      <td>0.908</td>\n",
       "    </tr>\n",
       "    <tr>\n",
       "      <th>12</th>\n",
       "      <td>13</td>\n",
       "      <td>0.911</td>\n",
       "      <td>0.908</td>\n",
       "    </tr>\n",
       "    <tr>\n",
       "      <th>13</th>\n",
       "      <td>14</td>\n",
       "      <td>0.910</td>\n",
       "      <td>0.910</td>\n",
       "    </tr>\n",
       "    <tr>\n",
       "      <th>14</th>\n",
       "      <td>15</td>\n",
       "      <td>0.910</td>\n",
       "      <td>0.909</td>\n",
       "    </tr>\n",
       "  </tbody>\n",
       "</table>\n",
       "</div>"
      ],
      "text/plain": [
       "    Neighbors  TrainAccuracy  TestAccuracy\n",
       "0           1          1.000         0.869\n",
       "1           2          0.931         0.908\n",
       "2           3          0.933         0.901\n",
       "3           4          0.920         0.908\n",
       "4           5          0.920         0.904\n",
       "5           6          0.917         0.909\n",
       "6           7          0.917         0.903\n",
       "7           8          0.913         0.909\n",
       "8           9          0.914         0.909\n",
       "9          10          0.911         0.909\n",
       "10         11          0.911         0.908\n",
       "11         12          0.910         0.908\n",
       "12         13          0.911         0.908\n",
       "13         14          0.910         0.910\n",
       "14         15          0.910         0.909"
      ]
     },
     "execution_count": 101,
     "metadata": {},
     "output_type": "execute_result"
    }
   ],
   "source": [
    "train_accuracy = []\n",
    "test_accuracy = []\n",
    "\n",
    " \n",
    "\n",
    "\n",
    "para_n_neighbors = [i for i in range(1, 16)]\n",
    "for v_n_neighbors in para_n_neighbors:\n",
    "    knn = KNeighborsClassifier(n_neighbors=v_n_neighbors)\n",
    "    knn.fit(df_train_x, df_train_y)\n",
    "    train_accuracy.append(knn.score(df_train_x, df_train_y))\n",
    "    test_accuracy.append(knn.score(df_test_x, df_test_y))\n",
    "    \n",
    "df_accuracy_neighbors = pd.DataFrame()\n",
    "df_accuracy_neighbors['Neighbors'] = para_n_neighbors\n",
    "df_accuracy_neighbors['TrainAccuracy'] = train_accuracy\n",
    "df_accuracy_neighbors['TestAccuracy'] = test_accuracy\n",
    "\n",
    " \n",
    "\n",
    "df_accuracy_neighbors.round(3)"
   ]
  },
  {
   "cell_type": "code",
   "execution_count": 102,
   "metadata": {},
   "outputs": [
    {
     "data": {
      "text/plain": [
       "<matplotlib.legend.Legend at 0x7f7d14444bd0>"
      ]
     },
     "execution_count": 102,
     "metadata": {},
     "output_type": "execute_result"
    },
    {
     "data": {
      "image/png": "[encoded data removed]",
      "text/plain": [
       "<Figure size 432x288 with 1 Axes>"
      ]
     },
     "metadata": {
      "needs_background": "light"
     },
     "output_type": "display_data"
    }
   ],
   "source": [
    "plt.plot(para_n_neighbors, train_accuracy, linestyle='-', label='Train Accuracy')\n",
    "plt.plot(para_n_neighbors, test_accuracy, linestyle='--', label='Test Accuracy')\n",
    "plt.ylabel('accuracy')\n",
    "plt.xlabel('n_neighbors')\n",
    "plt.legend()"
   ]
  },
  {
   "cell_type": "code",
   "execution_count": 103,
   "metadata": {},
   "outputs": [],
   "source": [
    "n_neighbors=4"
   ]
  },
  {
   "cell_type": "code",
   "execution_count": 104,
   "metadata": {},
   "outputs": [
    {
     "data": {
      "text/html": [
       "<div>\n",
       "<style scoped>\n",
       "    .dataframe tbody tr th:only-of-type {\n",
       "        vertical-align: middle;\n",
       "    }\n",
       "\n",
       "    .dataframe tbody tr th {\n",
       "        vertical-align: top;\n",
       "    }\n",
       "\n",
       "    .dataframe thead th {\n",
       "        text-align: right;\n",
       "    }\n",
       "</style>\n",
       "<table border=\"1\" class=\"dataframe\">\n",
       "  <thead>\n",
       "    <tr style=\"text-align: right;\">\n",
       "      <th></th>\n",
       "      <th>Neighbors</th>\n",
       "      <th>Weights</th>\n",
       "      <th>TrainAccuracy</th>\n",
       "      <th>TestAccuracy</th>\n",
       "    </tr>\n",
       "  </thead>\n",
       "  <tbody>\n",
       "    <tr>\n",
       "      <th>0</th>\n",
       "      <td>1</td>\n",
       "      <td>uniform</td>\n",
       "      <td>1.000</td>\n",
       "      <td>0.869</td>\n",
       "    </tr>\n",
       "    <tr>\n",
       "      <th>1</th>\n",
       "      <td>2</td>\n",
       "      <td>uniform</td>\n",
       "      <td>0.931</td>\n",
       "      <td>0.908</td>\n",
       "    </tr>\n",
       "    <tr>\n",
       "      <th>2</th>\n",
       "      <td>3</td>\n",
       "      <td>uniform</td>\n",
       "      <td>0.933</td>\n",
       "      <td>0.901</td>\n",
       "    </tr>\n",
       "    <tr>\n",
       "      <th>3</th>\n",
       "      <td>4</td>\n",
       "      <td>uniform</td>\n",
       "      <td>0.920</td>\n",
       "      <td>0.908</td>\n",
       "    </tr>\n",
       "    <tr>\n",
       "      <th>4</th>\n",
       "      <td>5</td>\n",
       "      <td>uniform</td>\n",
       "      <td>0.920</td>\n",
       "      <td>0.904</td>\n",
       "    </tr>\n",
       "    <tr>\n",
       "      <th>5</th>\n",
       "      <td>6</td>\n",
       "      <td>uniform</td>\n",
       "      <td>0.917</td>\n",
       "      <td>0.909</td>\n",
       "    </tr>\n",
       "    <tr>\n",
       "      <th>6</th>\n",
       "      <td>7</td>\n",
       "      <td>uniform</td>\n",
       "      <td>0.917</td>\n",
       "      <td>0.903</td>\n",
       "    </tr>\n",
       "    <tr>\n",
       "      <th>7</th>\n",
       "      <td>8</td>\n",
       "      <td>uniform</td>\n",
       "      <td>0.913</td>\n",
       "      <td>0.909</td>\n",
       "    </tr>\n",
       "    <tr>\n",
       "      <th>8</th>\n",
       "      <td>9</td>\n",
       "      <td>uniform</td>\n",
       "      <td>0.914</td>\n",
       "      <td>0.909</td>\n",
       "    </tr>\n",
       "    <tr>\n",
       "      <th>9</th>\n",
       "      <td>10</td>\n",
       "      <td>uniform</td>\n",
       "      <td>0.911</td>\n",
       "      <td>0.909</td>\n",
       "    </tr>\n",
       "    <tr>\n",
       "      <th>10</th>\n",
       "      <td>1</td>\n",
       "      <td>distance</td>\n",
       "      <td>1.000</td>\n",
       "      <td>0.869</td>\n",
       "    </tr>\n",
       "    <tr>\n",
       "      <th>11</th>\n",
       "      <td>2</td>\n",
       "      <td>distance</td>\n",
       "      <td>1.000</td>\n",
       "      <td>0.869</td>\n",
       "    </tr>\n",
       "    <tr>\n",
       "      <th>12</th>\n",
       "      <td>3</td>\n",
       "      <td>distance</td>\n",
       "      <td>1.000</td>\n",
       "      <td>0.892</td>\n",
       "    </tr>\n",
       "    <tr>\n",
       "      <th>13</th>\n",
       "      <td>4</td>\n",
       "      <td>distance</td>\n",
       "      <td>1.000</td>\n",
       "      <td>0.900</td>\n",
       "    </tr>\n",
       "    <tr>\n",
       "      <th>14</th>\n",
       "      <td>5</td>\n",
       "      <td>distance</td>\n",
       "      <td>1.000</td>\n",
       "      <td>0.900</td>\n",
       "    </tr>\n",
       "    <tr>\n",
       "      <th>15</th>\n",
       "      <td>6</td>\n",
       "      <td>distance</td>\n",
       "      <td>1.000</td>\n",
       "      <td>0.903</td>\n",
       "    </tr>\n",
       "    <tr>\n",
       "      <th>16</th>\n",
       "      <td>7</td>\n",
       "      <td>distance</td>\n",
       "      <td>1.000</td>\n",
       "      <td>0.906</td>\n",
       "    </tr>\n",
       "    <tr>\n",
       "      <th>17</th>\n",
       "      <td>8</td>\n",
       "      <td>distance</td>\n",
       "      <td>1.000</td>\n",
       "      <td>0.909</td>\n",
       "    </tr>\n",
       "    <tr>\n",
       "      <th>18</th>\n",
       "      <td>9</td>\n",
       "      <td>distance</td>\n",
       "      <td>1.000</td>\n",
       "      <td>0.912</td>\n",
       "    </tr>\n",
       "    <tr>\n",
       "      <th>19</th>\n",
       "      <td>10</td>\n",
       "      <td>distance</td>\n",
       "      <td>1.000</td>\n",
       "      <td>0.911</td>\n",
       "    </tr>\n",
       "  </tbody>\n",
       "</table>\n",
       "</div>"
      ],
      "text/plain": [
       "    Neighbors   Weights  TrainAccuracy  TestAccuracy\n",
       "0           1   uniform          1.000         0.869\n",
       "1           2   uniform          0.931         0.908\n",
       "2           3   uniform          0.933         0.901\n",
       "3           4   uniform          0.920         0.908\n",
       "4           5   uniform          0.920         0.904\n",
       "5           6   uniform          0.917         0.909\n",
       "6           7   uniform          0.917         0.903\n",
       "7           8   uniform          0.913         0.909\n",
       "8           9   uniform          0.914         0.909\n",
       "9          10   uniform          0.911         0.909\n",
       "10          1  distance          1.000         0.869\n",
       "11          2  distance          1.000         0.869\n",
       "12          3  distance          1.000         0.892\n",
       "13          4  distance          1.000         0.900\n",
       "14          5  distance          1.000         0.900\n",
       "15          6  distance          1.000         0.903\n",
       "16          7  distance          1.000         0.906\n",
       "17          8  distance          1.000         0.909\n",
       "18          9  distance          1.000         0.912\n",
       "19         10  distance          1.000         0.911"
      ]
     },
     "execution_count": 104,
     "metadata": {},
     "output_type": "execute_result"
    }
   ],
   "source": [
    "train_accuracy = []\n",
    "test_accuracy = []\n",
    "\n",
    " \n",
    "\n",
    "\n",
    "para_n_neighbors = [i for i in range(1,11)]*2\n",
    "\n",
    " \n",
    "\n",
    "para_weights=([\"uniform\"])*10+([\"distance\"]*10)\n",
    "\n",
    " \n",
    "\n",
    "\n",
    "for (v_n_neighbors,v_weights) in zip(para_n_neighbors,para_weights):\n",
    "    knn = KNeighborsClassifier(n_neighbors=v_n_neighbors,weights=v_weights)\n",
    "    knn.fit(df_train_x, df_train_y)\n",
    "    train_accuracy.append(knn.score(df_train_x, df_train_y))\n",
    "    test_accuracy.append(knn.score(df_test_x, df_test_y))\n",
    "    \n",
    "df_accuracy_weights = pd.DataFrame()\n",
    "df_accuracy_weights['Neighbors']=para_n_neighbors\n",
    "df_accuracy_weights['Weights'] = para_weights\n",
    "df_accuracy_weights['TrainAccuracy'] = train_accuracy\n",
    "df_accuracy_weights['TestAccuracy'] = test_accuracy\n",
    "\n",
    " \n",
    "\n",
    "df_accuracy_weights.round(3)"
   ]
  },
  {
   "cell_type": "code",
   "execution_count": 105,
   "metadata": {},
   "outputs": [
    {
     "data": {
      "text/html": [
       "<div>\n",
       "<style scoped>\n",
       "    .dataframe tbody tr th:only-of-type {\n",
       "        vertical-align: middle;\n",
       "    }\n",
       "\n",
       "    .dataframe tbody tr th {\n",
       "        vertical-align: top;\n",
       "    }\n",
       "\n",
       "    .dataframe thead th {\n",
       "        text-align: right;\n",
       "    }\n",
       "</style>\n",
       "<table border=\"1\" class=\"dataframe\">\n",
       "  <thead>\n",
       "    <tr style=\"text-align: right;\">\n",
       "      <th></th>\n",
       "      <th>TrainAccuracy_distance</th>\n",
       "      <th>TrainAccuracy_uniform</th>\n",
       "      <th>TestAccuracy_distance</th>\n",
       "      <th>TestAccuracy_uniform</th>\n",
       "    </tr>\n",
       "    <tr>\n",
       "      <th>Neighbors</th>\n",
       "      <th></th>\n",
       "      <th></th>\n",
       "      <th></th>\n",
       "      <th></th>\n",
       "    </tr>\n",
       "  </thead>\n",
       "  <tbody>\n",
       "    <tr>\n",
       "      <th>1</th>\n",
       "      <td>1.0</td>\n",
       "      <td>1.000000</td>\n",
       "      <td>0.869333</td>\n",
       "      <td>0.869333</td>\n",
       "    </tr>\n",
       "    <tr>\n",
       "      <th>2</th>\n",
       "      <td>1.0</td>\n",
       "      <td>0.931376</td>\n",
       "      <td>0.869333</td>\n",
       "      <td>0.908444</td>\n",
       "    </tr>\n",
       "    <tr>\n",
       "      <th>3</th>\n",
       "      <td>1.0</td>\n",
       "      <td>0.932901</td>\n",
       "      <td>0.892444</td>\n",
       "      <td>0.901333</td>\n",
       "    </tr>\n",
       "    <tr>\n",
       "      <th>4</th>\n",
       "      <td>1.0</td>\n",
       "      <td>0.920320</td>\n",
       "      <td>0.899556</td>\n",
       "      <td>0.908444</td>\n",
       "    </tr>\n",
       "    <tr>\n",
       "      <th>5</th>\n",
       "      <td>1.0</td>\n",
       "      <td>0.920320</td>\n",
       "      <td>0.899556</td>\n",
       "      <td>0.904000</td>\n",
       "    </tr>\n",
       "  </tbody>\n",
       "</table>\n",
       "</div>"
      ],
      "text/plain": [
       "           TrainAccuracy_distance  TrainAccuracy_uniform  \\\n",
       "Neighbors                                                  \n",
       "1                             1.0               1.000000   \n",
       "2                             1.0               0.931376   \n",
       "3                             1.0               0.932901   \n",
       "4                             1.0               0.920320   \n",
       "5                             1.0               0.920320   \n",
       "\n",
       "           TestAccuracy_distance  TestAccuracy_uniform  \n",
       "Neighbors                                               \n",
       "1                       0.869333              0.869333  \n",
       "2                       0.869333              0.908444  \n",
       "3                       0.892444              0.901333  \n",
       "4                       0.899556              0.908444  \n",
       "5                       0.899556              0.904000  "
      ]
     },
     "execution_count": 105,
     "metadata": {},
     "output_type": "execute_result"
    }
   ],
   "source": [
    "df_accuracy_weights_pivot=df_accuracy_weights.pivot(index=\"Neighbors\",columns=\"Weights\",values=[\"TrainAccuracy\",\"TestAccuracy\"])\n",
    "\n",
    " \n",
    "\n",
    "df_accuracy_weights_pivot\n",
    "\n",
    " \n",
    "\n",
    "level0=df_accuracy_weights_pivot.columns.get_level_values(0)\n",
    "level1=df_accuracy_weights_pivot.columns.get_level_values(1)\n",
    "df_accuracy_weights_pivot.columns=level0+\"_\"+level1\n",
    "df_accuracy_weights_pivot.head()"
   ]
  },
  {
   "cell_type": "code",
   "execution_count": 106,
   "metadata": {},
   "outputs": [
    {
     "data": {
      "text/plain": [
       "<matplotlib.axes._subplots.AxesSubplot at 0x7f7d1427d090>"
      ]
     },
     "execution_count": 106,
     "metadata": {},
     "output_type": "execute_result"
    },
    {
     "data": {
      "image/png": "[encoded data removed]",
      "text/plain": [
       "<Figure size 432x288 with 1 Axes>"
      ]
     },
     "metadata": {
      "needs_background": "light"
     },
     "output_type": "display_data"
    }
   ],
   "source": [
    "sns.lineplot(data=df_accuracy_weights_pivot)"
   ]
  },
  {
   "cell_type": "code",
   "execution_count": 107,
   "metadata": {},
   "outputs": [],
   "source": [
    "weights=\"uniform\""
   ]
  },
  {
   "cell_type": "code",
   "execution_count": 114,
   "metadata": {},
   "outputs": [
    {
     "data": {
      "text/html": [
       "<div>\n",
       "<style scoped>\n",
       "    .dataframe tbody tr th:only-of-type {\n",
       "        vertical-align: middle;\n",
       "    }\n",
       "\n",
       "    .dataframe tbody tr th {\n",
       "        vertical-align: top;\n",
       "    }\n",
       "\n",
       "    .dataframe thead th {\n",
       "        text-align: right;\n",
       "    }\n",
       "</style>\n",
       "<table border=\"1\" class=\"dataframe\">\n",
       "  <thead>\n",
       "    <tr style=\"text-align: right;\">\n",
       "      <th></th>\n",
       "      <th>Neighbors</th>\n",
       "      <th>Metric</th>\n",
       "      <th>TrainAccuracy</th>\n",
       "      <th>TestAccuracy</th>\n",
       "    </tr>\n",
       "  </thead>\n",
       "  <tbody>\n",
       "    <tr>\n",
       "      <th>0</th>\n",
       "      <td>1</td>\n",
       "      <td>minkowski</td>\n",
       "      <td>0.911</td>\n",
       "      <td>0.909</td>\n",
       "    </tr>\n",
       "    <tr>\n",
       "      <th>1</th>\n",
       "      <td>2</td>\n",
       "      <td>minkowski</td>\n",
       "      <td>0.911</td>\n",
       "      <td>0.909</td>\n",
       "    </tr>\n",
       "    <tr>\n",
       "      <th>2</th>\n",
       "      <td>3</td>\n",
       "      <td>minkowski</td>\n",
       "      <td>0.911</td>\n",
       "      <td>0.909</td>\n",
       "    </tr>\n",
       "    <tr>\n",
       "      <th>3</th>\n",
       "      <td>4</td>\n",
       "      <td>minkowski</td>\n",
       "      <td>0.911</td>\n",
       "      <td>0.909</td>\n",
       "    </tr>\n",
       "    <tr>\n",
       "      <th>4</th>\n",
       "      <td>5</td>\n",
       "      <td>minkowski</td>\n",
       "      <td>0.911</td>\n",
       "      <td>0.909</td>\n",
       "    </tr>\n",
       "    <tr>\n",
       "      <th>5</th>\n",
       "      <td>6</td>\n",
       "      <td>minkowski</td>\n",
       "      <td>0.911</td>\n",
       "      <td>0.909</td>\n",
       "    </tr>\n",
       "    <tr>\n",
       "      <th>6</th>\n",
       "      <td>7</td>\n",
       "      <td>minkowski</td>\n",
       "      <td>0.911</td>\n",
       "      <td>0.909</td>\n",
       "    </tr>\n",
       "    <tr>\n",
       "      <th>7</th>\n",
       "      <td>8</td>\n",
       "      <td>minkowski</td>\n",
       "      <td>0.911</td>\n",
       "      <td>0.909</td>\n",
       "    </tr>\n",
       "    <tr>\n",
       "      <th>8</th>\n",
       "      <td>9</td>\n",
       "      <td>minkowski</td>\n",
       "      <td>0.911</td>\n",
       "      <td>0.909</td>\n",
       "    </tr>\n",
       "    <tr>\n",
       "      <th>9</th>\n",
       "      <td>10</td>\n",
       "      <td>minkowski</td>\n",
       "      <td>0.911</td>\n",
       "      <td>0.909</td>\n",
       "    </tr>\n",
       "    <tr>\n",
       "      <th>10</th>\n",
       "      <td>1</td>\n",
       "      <td>euclidean</td>\n",
       "      <td>0.911</td>\n",
       "      <td>0.909</td>\n",
       "    </tr>\n",
       "    <tr>\n",
       "      <th>11</th>\n",
       "      <td>2</td>\n",
       "      <td>euclidean</td>\n",
       "      <td>0.911</td>\n",
       "      <td>0.909</td>\n",
       "    </tr>\n",
       "    <tr>\n",
       "      <th>12</th>\n",
       "      <td>3</td>\n",
       "      <td>euclidean</td>\n",
       "      <td>0.911</td>\n",
       "      <td>0.909</td>\n",
       "    </tr>\n",
       "    <tr>\n",
       "      <th>13</th>\n",
       "      <td>4</td>\n",
       "      <td>euclidean</td>\n",
       "      <td>0.911</td>\n",
       "      <td>0.909</td>\n",
       "    </tr>\n",
       "    <tr>\n",
       "      <th>14</th>\n",
       "      <td>5</td>\n",
       "      <td>euclidean</td>\n",
       "      <td>0.911</td>\n",
       "      <td>0.909</td>\n",
       "    </tr>\n",
       "    <tr>\n",
       "      <th>15</th>\n",
       "      <td>6</td>\n",
       "      <td>euclidean</td>\n",
       "      <td>0.911</td>\n",
       "      <td>0.909</td>\n",
       "    </tr>\n",
       "    <tr>\n",
       "      <th>16</th>\n",
       "      <td>7</td>\n",
       "      <td>euclidean</td>\n",
       "      <td>0.911</td>\n",
       "      <td>0.909</td>\n",
       "    </tr>\n",
       "    <tr>\n",
       "      <th>17</th>\n",
       "      <td>8</td>\n",
       "      <td>euclidean</td>\n",
       "      <td>0.911</td>\n",
       "      <td>0.909</td>\n",
       "    </tr>\n",
       "    <tr>\n",
       "      <th>18</th>\n",
       "      <td>9</td>\n",
       "      <td>euclidean</td>\n",
       "      <td>0.911</td>\n",
       "      <td>0.909</td>\n",
       "    </tr>\n",
       "    <tr>\n",
       "      <th>19</th>\n",
       "      <td>10</td>\n",
       "      <td>euclidean</td>\n",
       "      <td>0.911</td>\n",
       "      <td>0.909</td>\n",
       "    </tr>\n",
       "    <tr>\n",
       "      <th>20</th>\n",
       "      <td>1</td>\n",
       "      <td>manhattan</td>\n",
       "      <td>0.911</td>\n",
       "      <td>0.906</td>\n",
       "    </tr>\n",
       "    <tr>\n",
       "      <th>21</th>\n",
       "      <td>2</td>\n",
       "      <td>manhattan</td>\n",
       "      <td>0.911</td>\n",
       "      <td>0.906</td>\n",
       "    </tr>\n",
       "    <tr>\n",
       "      <th>22</th>\n",
       "      <td>3</td>\n",
       "      <td>manhattan</td>\n",
       "      <td>0.911</td>\n",
       "      <td>0.906</td>\n",
       "    </tr>\n",
       "    <tr>\n",
       "      <th>23</th>\n",
       "      <td>4</td>\n",
       "      <td>manhattan</td>\n",
       "      <td>0.911</td>\n",
       "      <td>0.906</td>\n",
       "    </tr>\n",
       "    <tr>\n",
       "      <th>24</th>\n",
       "      <td>5</td>\n",
       "      <td>manhattan</td>\n",
       "      <td>0.911</td>\n",
       "      <td>0.906</td>\n",
       "    </tr>\n",
       "    <tr>\n",
       "      <th>25</th>\n",
       "      <td>6</td>\n",
       "      <td>manhattan</td>\n",
       "      <td>0.911</td>\n",
       "      <td>0.906</td>\n",
       "    </tr>\n",
       "    <tr>\n",
       "      <th>26</th>\n",
       "      <td>7</td>\n",
       "      <td>manhattan</td>\n",
       "      <td>0.911</td>\n",
       "      <td>0.906</td>\n",
       "    </tr>\n",
       "    <tr>\n",
       "      <th>27</th>\n",
       "      <td>8</td>\n",
       "      <td>manhattan</td>\n",
       "      <td>0.911</td>\n",
       "      <td>0.906</td>\n",
       "    </tr>\n",
       "    <tr>\n",
       "      <th>28</th>\n",
       "      <td>9</td>\n",
       "      <td>manhattan</td>\n",
       "      <td>0.911</td>\n",
       "      <td>0.906</td>\n",
       "    </tr>\n",
       "    <tr>\n",
       "      <th>29</th>\n",
       "      <td>10</td>\n",
       "      <td>manhattan</td>\n",
       "      <td>0.911</td>\n",
       "      <td>0.906</td>\n",
       "    </tr>\n",
       "  </tbody>\n",
       "</table>\n",
       "</div>"
      ],
      "text/plain": [
       "    Neighbors     Metric  TrainAccuracy  TestAccuracy\n",
       "0           1  minkowski          0.911         0.909\n",
       "1           2  minkowski          0.911         0.909\n",
       "2           3  minkowski          0.911         0.909\n",
       "3           4  minkowski          0.911         0.909\n",
       "4           5  minkowski          0.911         0.909\n",
       "5           6  minkowski          0.911         0.909\n",
       "6           7  minkowski          0.911         0.909\n",
       "7           8  minkowski          0.911         0.909\n",
       "8           9  minkowski          0.911         0.909\n",
       "9          10  minkowski          0.911         0.909\n",
       "10          1  euclidean          0.911         0.909\n",
       "11          2  euclidean          0.911         0.909\n",
       "12          3  euclidean          0.911         0.909\n",
       "13          4  euclidean          0.911         0.909\n",
       "14          5  euclidean          0.911         0.909\n",
       "15          6  euclidean          0.911         0.909\n",
       "16          7  euclidean          0.911         0.909\n",
       "17          8  euclidean          0.911         0.909\n",
       "18          9  euclidean          0.911         0.909\n",
       "19         10  euclidean          0.911         0.909\n",
       "20          1  manhattan          0.911         0.906\n",
       "21          2  manhattan          0.911         0.906\n",
       "22          3  manhattan          0.911         0.906\n",
       "23          4  manhattan          0.911         0.906\n",
       "24          5  manhattan          0.911         0.906\n",
       "25          6  manhattan          0.911         0.906\n",
       "26          7  manhattan          0.911         0.906\n",
       "27          8  manhattan          0.911         0.906\n",
       "28          9  manhattan          0.911         0.906\n",
       "29         10  manhattan          0.911         0.906"
      ]
     },
     "execution_count": 114,
     "metadata": {},
     "output_type": "execute_result"
    }
   ],
   "source": [
    "train_accuracy=[]\n",
    "test_accuracy=[]\n",
    "\n",
    " \n",
    "\n",
    "\n",
    "para_n_neighbors=[i for i in range(1,11)]*3\n",
    "\n",
    " \n",
    "\n",
    "para_metric = [\"minkowski\"]*10 + [\"euclidean\"]*10 + [\"manhattan\"]*10\n",
    "\n",
    " \n",
    "\n",
    "for (v_neighbors,v_metric) in zip(para_n_neighbors,para_metric):\n",
    "    knn = KNeighborsClassifier(n_neighbors=v_n_neighbors,metric=v_metric,weights=\"uniform\")\n",
    "    knn.fit(df_train_x,df_train_y)\n",
    "    train_accuracy.append(knn.score(df_train_x,df_train_y))\n",
    "    test_accuracy.append(knn.score(df_test_x,df_test_y))\n",
    "    \n",
    "df_accuracy_metric=pd.DataFrame()\n",
    "df_accuracy_metric[\"Neighbors\"]=para_n_neighbors\n",
    "df_accuracy_metric[\"Metric\"]=para_metric\n",
    "df_accuracy_metric[\"TrainAccuracy\"]=train_accuracy\n",
    "df_accuracy_metric[\"TestAccuracy\"]=test_accuracy\n",
    "\n",
    " \n",
    "\n",
    "\n",
    "df_accuracy_metric.round(3)"
   ]
  },
  {
   "cell_type": "code",
   "execution_count": 115,
   "metadata": {},
   "outputs": [
    {
     "data": {
      "text/plain": [
       "<matplotlib.axes._subplots.AxesSubplot at 0x7f7d141aadd0>"
      ]
     },
     "execution_count": 115,
     "metadata": {},
     "output_type": "execute_result"
    },
    {
     "data": {
      "image/png": "[encoded data removed]",
      "text/plain": [
       "<Figure size 432x288 with 1 Axes>"
      ]
     },
     "metadata": {
      "needs_background": "light"
     },
     "output_type": "display_data"
    }
   ],
   "source": [
    "df_accuracy_metric_pivot = df_accuracy_metric.pivot(index=\"Neighbors\",columns=\"Metric\",values=[\"TrainAccuracy\",\"TestAccuracy\"])\n",
    "\n",
    " \n",
    "\n",
    "level0 = df_accuracy_metric_pivot.columns.get_level_values(0)\n",
    "level1 = df_accuracy_metric_pivot.columns.get_level_values(1)\n",
    "df_accuracy_metric_pivot.columns = level0 + \"_\" + level1\n",
    "sns.lineplot(data=df_accuracy_metric_pivot)"
   ]
  },
  {
   "cell_type": "code",
   "execution_count": 116,
   "metadata": {},
   "outputs": [
    {
     "data": {
      "text/plain": [
       "KNeighborsClassifier(algorithm='auto', leaf_size=30, metric='euclidean',\n",
       "                     metric_params=None, n_jobs=None, n_neighbors=4, p=2,\n",
       "                     weights='uniform')"
      ]
     },
     "execution_count": 116,
     "metadata": {},
     "output_type": "execute_result"
    }
   ],
   "source": [
    "knn_model = KNeighborsClassifier(n_neighbors =4,weights = \"uniform\",metric=\"euclidean\")\n",
    "knn_model.fit(df_train_x,df_train_y)"
   ]
  },
  {
   "cell_type": "code",
   "execution_count": 117,
   "metadata": {},
   "outputs": [
    {
     "name": "stdout",
     "output_type": "stream",
     "text": [
      "Accuracy on training set:0.920\n",
      "Accuracy on test set:0.908\n",
      "\n",
      "Accuracy matrix:\n",
      "[[1019    3]\n",
      " [ 100    3]]\n"
     ]
    }
   ],
   "source": [
    "y_pred = knn_model.predict(df_test_x)\n",
    "\n",
    "print(\"Accuracy on training set:{:.3f}\".format(knn_model.score(df_train_x,df_train_y)))\n",
    "print(\"Accuracy on test set:{:.3f}\\n\".format(knn_model.score(df_test_x,df_test_y)))\n",
    "print(\"Accuracy matrix:\\n{}\".format(confusion_matrix(df_test_y,y_pred)))"
   ]
  },
  {
   "cell_type": "markdown",
   "metadata": {},
   "source": [
    "# 모델평가"
   ]
  },
  {
   "cell_type": "code",
   "execution_count": 128,
   "metadata": {},
   "outputs": [],
   "source": [
    "import pandas as pd\n",
    "import matplotlib.pyplot as plt\n",
    "import matplotlib\n",
    "\n",
    "from sklearn.tree import DecisionTreeClassifier\n",
    "from sklearn.ensemble import RandomForestClassifier, GradientBoostingClassifier\n",
    "from sklearn.neural_network import MLPClassifier\n",
    "from sklearn.metrics import f1_score, roc_auc_score, auc, roc_curve"
   ]
  },
  {
   "cell_type": "code",
   "execution_count": 120,
   "metadata": {},
   "outputs": [
    {
     "data": {
      "text/html": [
       "<div>\n",
       "<style scoped>\n",
       "    .dataframe tbody tr th:only-of-type {\n",
       "        vertical-align: middle;\n",
       "    }\n",
       "\n",
       "    .dataframe tbody tr th {\n",
       "        vertical-align: top;\n",
       "    }\n",
       "\n",
       "    .dataframe thead th {\n",
       "        text-align: right;\n",
       "    }\n",
       "</style>\n",
       "<table border=\"1\" class=\"dataframe\">\n",
       "  <thead>\n",
       "    <tr style=\"text-align: right;\">\n",
       "      <th></th>\n",
       "      <th>BAD</th>\n",
       "      <th>LOAN</th>\n",
       "      <th>MORTDUE</th>\n",
       "      <th>VALUE</th>\n",
       "      <th>REASON</th>\n",
       "      <th>JOB</th>\n",
       "      <th>YOJ</th>\n",
       "      <th>DEROG</th>\n",
       "      <th>DELINQ</th>\n",
       "      <th>CLAGE</th>\n",
       "      <th>NINQ</th>\n",
       "      <th>CLNO</th>\n",
       "      <th>DEBTINC</th>\n",
       "    </tr>\n",
       "  </thead>\n",
       "  <tbody>\n",
       "    <tr>\n",
       "      <th>0</th>\n",
       "      <td>1</td>\n",
       "      <td>1700</td>\n",
       "      <td>30548</td>\n",
       "      <td>40320.0</td>\n",
       "      <td>HomeImp</td>\n",
       "      <td>Other</td>\n",
       "      <td>9.0</td>\n",
       "      <td>0</td>\n",
       "      <td>0.0</td>\n",
       "      <td>101.466002</td>\n",
       "      <td>1.0</td>\n",
       "      <td>8</td>\n",
       "      <td>37.113614</td>\n",
       "    </tr>\n",
       "    <tr>\n",
       "      <th>1</th>\n",
       "      <td>1</td>\n",
       "      <td>1800</td>\n",
       "      <td>28502</td>\n",
       "      <td>43034.0</td>\n",
       "      <td>HomeImp</td>\n",
       "      <td>Other</td>\n",
       "      <td>11.0</td>\n",
       "      <td>0</td>\n",
       "      <td>0.0</td>\n",
       "      <td>88.766030</td>\n",
       "      <td>0.0</td>\n",
       "      <td>8</td>\n",
       "      <td>36.884894</td>\n",
       "    </tr>\n",
       "    <tr>\n",
       "      <th>2</th>\n",
       "      <td>0</td>\n",
       "      <td>2300</td>\n",
       "      <td>102370</td>\n",
       "      <td>120953.0</td>\n",
       "      <td>HomeImp</td>\n",
       "      <td>Office</td>\n",
       "      <td>2.0</td>\n",
       "      <td>0</td>\n",
       "      <td>0.0</td>\n",
       "      <td>90.992533</td>\n",
       "      <td>0.0</td>\n",
       "      <td>13</td>\n",
       "      <td>31.588503</td>\n",
       "    </tr>\n",
       "    <tr>\n",
       "      <th>3</th>\n",
       "      <td>1</td>\n",
       "      <td>2400</td>\n",
       "      <td>34863</td>\n",
       "      <td>47471.0</td>\n",
       "      <td>HomeImp</td>\n",
       "      <td>Mgr</td>\n",
       "      <td>12.0</td>\n",
       "      <td>0</td>\n",
       "      <td>0.0</td>\n",
       "      <td>70.491080</td>\n",
       "      <td>1.0</td>\n",
       "      <td>21</td>\n",
       "      <td>38.263601</td>\n",
       "    </tr>\n",
       "    <tr>\n",
       "      <th>4</th>\n",
       "      <td>0</td>\n",
       "      <td>2400</td>\n",
       "      <td>98449</td>\n",
       "      <td>117195.0</td>\n",
       "      <td>HomeImp</td>\n",
       "      <td>Office</td>\n",
       "      <td>4.0</td>\n",
       "      <td>0</td>\n",
       "      <td>0.0</td>\n",
       "      <td>93.811775</td>\n",
       "      <td>0.0</td>\n",
       "      <td>13</td>\n",
       "      <td>29.681827</td>\n",
       "    </tr>\n",
       "  </tbody>\n",
       "</table>\n",
       "</div>"
      ],
      "text/plain": [
       "   BAD  LOAN  MORTDUE     VALUE   REASON     JOB   YOJ  DEROG  DELINQ  \\\n",
       "0    1  1700    30548   40320.0  HomeImp   Other   9.0      0     0.0   \n",
       "1    1  1800    28502   43034.0  HomeImp   Other  11.0      0     0.0   \n",
       "2    0  2300   102370  120953.0  HomeImp  Office   2.0      0     0.0   \n",
       "3    1  2400    34863   47471.0  HomeImp     Mgr  12.0      0     0.0   \n",
       "4    0  2400    98449  117195.0  HomeImp  Office   4.0      0     0.0   \n",
       "\n",
       "        CLAGE  NINQ  CLNO    DEBTINC  \n",
       "0  101.466002   1.0     8  37.113614  \n",
       "1   88.766030   0.0     8  36.884894  \n",
       "2   90.992533   0.0    13  31.588503  \n",
       "3   70.491080   1.0    21  38.263601  \n",
       "4   93.811775   0.0    13  29.681827  "
      ]
     },
     "execution_count": 120,
     "metadata": {},
     "output_type": "execute_result"
    }
   ],
   "source": [
    "df_raw = pd.read_csv('./Data/3. Big Data 분석/HMEQ.csv')\n",
    "df_raw.head()"
   ]
  },
  {
   "cell_type": "code",
   "execution_count": 121,
   "metadata": {},
   "outputs": [
    {
     "data": {
      "text/plain": [
       "BAD          0\n",
       "LOAN         0\n",
       "MORTDUE      0\n",
       "VALUE       14\n",
       "REASON       0\n",
       "JOB         81\n",
       "YOJ        205\n",
       "DEROG        0\n",
       "DELINQ      30\n",
       "CLAGE       37\n",
       "NINQ        56\n",
       "CLNO         0\n",
       "DEBTINC      0\n",
       "dtype: int64"
      ]
     },
     "execution_count": 121,
     "metadata": {},
     "output_type": "execute_result"
    }
   ],
   "source": [
    "df_raw.isnull().sum()"
   ]
  },
  {
   "cell_type": "code",
   "execution_count": 122,
   "metadata": {},
   "outputs": [],
   "source": [
    "df_raw['JOB'].fillna('Other', inplace=True)\n",
    "df_raw.fillna(df_raw.mean(), inplace=True)"
   ]
  },
  {
   "cell_type": "code",
   "execution_count": 123,
   "metadata": {},
   "outputs": [
    {
     "data": {
      "text/html": [
       "<div>\n",
       "<style scoped>\n",
       "    .dataframe tbody tr th:only-of-type {\n",
       "        vertical-align: middle;\n",
       "    }\n",
       "\n",
       "    .dataframe tbody tr th {\n",
       "        vertical-align: top;\n",
       "    }\n",
       "\n",
       "    .dataframe thead th {\n",
       "        text-align: right;\n",
       "    }\n",
       "</style>\n",
       "<table border=\"1\" class=\"dataframe\">\n",
       "  <thead>\n",
       "    <tr style=\"text-align: right;\">\n",
       "      <th></th>\n",
       "      <th>BAD</th>\n",
       "      <th>LOAN</th>\n",
       "      <th>MORTDUE</th>\n",
       "      <th>VALUE</th>\n",
       "      <th>YOJ</th>\n",
       "      <th>DEROG</th>\n",
       "      <th>DELINQ</th>\n",
       "      <th>CLAGE</th>\n",
       "      <th>NINQ</th>\n",
       "      <th>CLNO</th>\n",
       "      <th>DEBTINC</th>\n",
       "      <th>REASON_DebtCon</th>\n",
       "      <th>REASON_HomeImp</th>\n",
       "      <th>JOB_Mgr</th>\n",
       "      <th>JOB_Office</th>\n",
       "      <th>JOB_Other</th>\n",
       "      <th>JOB_ProfExe</th>\n",
       "      <th>JOB_Sales</th>\n",
       "      <th>JOB_Self</th>\n",
       "    </tr>\n",
       "  </thead>\n",
       "  <tbody>\n",
       "    <tr>\n",
       "      <th>0</th>\n",
       "      <td>1</td>\n",
       "      <td>1700</td>\n",
       "      <td>30548</td>\n",
       "      <td>40320.0</td>\n",
       "      <td>9.0</td>\n",
       "      <td>0</td>\n",
       "      <td>0.0</td>\n",
       "      <td>101.466002</td>\n",
       "      <td>1.0</td>\n",
       "      <td>8</td>\n",
       "      <td>37.113614</td>\n",
       "      <td>0</td>\n",
       "      <td>1</td>\n",
       "      <td>0</td>\n",
       "      <td>0</td>\n",
       "      <td>1</td>\n",
       "      <td>0</td>\n",
       "      <td>0</td>\n",
       "      <td>0</td>\n",
       "    </tr>\n",
       "    <tr>\n",
       "      <th>1</th>\n",
       "      <td>1</td>\n",
       "      <td>1800</td>\n",
       "      <td>28502</td>\n",
       "      <td>43034.0</td>\n",
       "      <td>11.0</td>\n",
       "      <td>0</td>\n",
       "      <td>0.0</td>\n",
       "      <td>88.766030</td>\n",
       "      <td>0.0</td>\n",
       "      <td>8</td>\n",
       "      <td>36.884894</td>\n",
       "      <td>0</td>\n",
       "      <td>1</td>\n",
       "      <td>0</td>\n",
       "      <td>0</td>\n",
       "      <td>1</td>\n",
       "      <td>0</td>\n",
       "      <td>0</td>\n",
       "      <td>0</td>\n",
       "    </tr>\n",
       "    <tr>\n",
       "      <th>2</th>\n",
       "      <td>0</td>\n",
       "      <td>2300</td>\n",
       "      <td>102370</td>\n",
       "      <td>120953.0</td>\n",
       "      <td>2.0</td>\n",
       "      <td>0</td>\n",
       "      <td>0.0</td>\n",
       "      <td>90.992533</td>\n",
       "      <td>0.0</td>\n",
       "      <td>13</td>\n",
       "      <td>31.588503</td>\n",
       "      <td>0</td>\n",
       "      <td>1</td>\n",
       "      <td>0</td>\n",
       "      <td>1</td>\n",
       "      <td>0</td>\n",
       "      <td>0</td>\n",
       "      <td>0</td>\n",
       "      <td>0</td>\n",
       "    </tr>\n",
       "    <tr>\n",
       "      <th>3</th>\n",
       "      <td>1</td>\n",
       "      <td>2400</td>\n",
       "      <td>34863</td>\n",
       "      <td>47471.0</td>\n",
       "      <td>12.0</td>\n",
       "      <td>0</td>\n",
       "      <td>0.0</td>\n",
       "      <td>70.491080</td>\n",
       "      <td>1.0</td>\n",
       "      <td>21</td>\n",
       "      <td>38.263601</td>\n",
       "      <td>0</td>\n",
       "      <td>1</td>\n",
       "      <td>1</td>\n",
       "      <td>0</td>\n",
       "      <td>0</td>\n",
       "      <td>0</td>\n",
       "      <td>0</td>\n",
       "      <td>0</td>\n",
       "    </tr>\n",
       "    <tr>\n",
       "      <th>4</th>\n",
       "      <td>0</td>\n",
       "      <td>2400</td>\n",
       "      <td>98449</td>\n",
       "      <td>117195.0</td>\n",
       "      <td>4.0</td>\n",
       "      <td>0</td>\n",
       "      <td>0.0</td>\n",
       "      <td>93.811775</td>\n",
       "      <td>0.0</td>\n",
       "      <td>13</td>\n",
       "      <td>29.681827</td>\n",
       "      <td>0</td>\n",
       "      <td>1</td>\n",
       "      <td>0</td>\n",
       "      <td>1</td>\n",
       "      <td>0</td>\n",
       "      <td>0</td>\n",
       "      <td>0</td>\n",
       "      <td>0</td>\n",
       "    </tr>\n",
       "  </tbody>\n",
       "</table>\n",
       "</div>"
      ],
      "text/plain": [
       "   BAD  LOAN  MORTDUE     VALUE   YOJ  DEROG  DELINQ       CLAGE  NINQ  CLNO  \\\n",
       "0    1  1700    30548   40320.0   9.0      0     0.0  101.466002   1.0     8   \n",
       "1    1  1800    28502   43034.0  11.0      0     0.0   88.766030   0.0     8   \n",
       "2    0  2300   102370  120953.0   2.0      0     0.0   90.992533   0.0    13   \n",
       "3    1  2400    34863   47471.0  12.0      0     0.0   70.491080   1.0    21   \n",
       "4    0  2400    98449  117195.0   4.0      0     0.0   93.811775   0.0    13   \n",
       "\n",
       "     DEBTINC  REASON_DebtCon  REASON_HomeImp  JOB_Mgr  JOB_Office  JOB_Other  \\\n",
       "0  37.113614               0               1        0           0          1   \n",
       "1  36.884894               0               1        0           0          1   \n",
       "2  31.588503               0               1        0           1          0   \n",
       "3  38.263601               0               1        1           0          0   \n",
       "4  29.681827               0               1        0           1          0   \n",
       "\n",
       "   JOB_ProfExe  JOB_Sales  JOB_Self  \n",
       "0            0          0         0  \n",
       "1            0          0         0  \n",
       "2            0          0         0  \n",
       "3            0          0         0  \n",
       "4            0          0         0  "
      ]
     },
     "execution_count": 123,
     "metadata": {},
     "output_type": "execute_result"
    }
   ],
   "source": [
    "df_raw_dummy = pd.get_dummies(df_raw)\n",
    "df_raw_dummy.head()"
   ]
  },
  {
   "cell_type": "code",
   "execution_count": 124,
   "metadata": {},
   "outputs": [],
   "source": [
    "df_train_x, df_test_x, df_train_y, df_test_y = train_test_split(df_raw_dummy.drop('BAD',axis=1), df_raw_dummy['BAD'], test_size=0.3)"
   ]
  },
  {
   "cell_type": "code",
   "execution_count": 125,
   "metadata": {},
   "outputs": [
    {
     "name": "stdout",
     "output_type": "stream",
     "text": [
      "train data X size:(2623, 18)\n",
      "test data X size:(1125, 18)\n",
      "train data Y size:(2623,)\n",
      "test data Y size:(1125,)\n"
     ]
    }
   ],
   "source": [
    "print(\"train data X size:{}\".format(df_train_x.shape))\n",
    "print(\"test data X size:{}\".format(df_test_x.shape))\n",
    "print(\"train data Y size:{}\".format(df_train_y.shape))\n",
    "print(\"test data Y size:{}\".format(df_test_y.shape))"
   ]
  },
  {
   "cell_type": "code",
   "execution_count": 132,
   "metadata": {},
   "outputs": [],
   "source": [
    "model = ['DecisionTree', 'RandomForest', 'GradientBoosting', 'NeuralNet']\n",
    "\n",
    "train_accuracy = []\n",
    "test_accuracy = []\n",
    "model_f1_score = []\n",
    "model_auc = []"
   ]
  },
  {
   "cell_type": "code",
   "execution_count": 133,
   "metadata": {},
   "outputs": [],
   "source": [
    "dt_model = DecisionTreeClassifier(max_depth=4, min_samples_leaf=30)\n",
    "dt_model.fit(df_train_x, df_train_y)\n",
    "\n",
    "train_accuracy.append(dt_model.score(df_train_x, df_train_y))\n",
    "test_accuracy.append(dt_model.score(df_test_x, df_test_y))\n",
    "\n",
    "y_pred = dt_model.predict(df_test_x)\n",
    "\n",
    "fpr, tpr, thresholds = roc_curve(df_test_y, y_pred)\n",
    "roc_auc = auc(fpr, tpr)\n",
    "\n",
    "model_auc.append(roc_auc)"
   ]
  },
  {
   "cell_type": "code",
   "execution_count": 134,
   "metadata": {},
   "outputs": [
    {
     "data": {
      "image/png": "[encoded data removed]",
      "text/plain": [
       "<Figure size 432x288 with 1 Axes>"
      ]
     },
     "metadata": {
      "needs_background": "light"
     },
     "output_type": "display_data"
    }
   ],
   "source": [
    "plt.plot(fpr, tpr, label='AUC = %0.2f'%roc_auc)\n",
    "plt.legend(loc='lower right')\n",
    "plt.ylabel('TPR')\n",
    "plt.xlabel('FPR')\n",
    "plt.show()"
   ]
  },
  {
   "cell_type": "code",
   "execution_count": 135,
   "metadata": {},
   "outputs": [],
   "source": [
    "model_f1_score.append(f1_score(df_test_y, y_pred))"
   ]
  },
  {
   "cell_type": "code",
   "execution_count": 136,
   "metadata": {},
   "outputs": [],
   "source": [
    "rf_model = RandomForestClassifier(min_samples_leaf=20, max_depth=4, n_estimators=100, random_state=1234)\n",
    "rf_model.fit(df_train_x, df_train_y)\n",
    "\n",
    "train_accuracy.append(rf_model.score(df_train_x, df_train_y))\n",
    "test_accuracy.append(rf_model.score(df_test_x, df_test_y))\n",
    "\n",
    "y_pred = rf_model.predict(df_test_x)\n",
    "\n",
    "fpr, tpr, thresholds = roc_curve(df_test_y, y_pred)\n",
    "roc_auc = auc(fpr, tpr)\n",
    "\n",
    "model_auc.append(roc_auc)"
   ]
  },
  {
   "cell_type": "code",
   "execution_count": 137,
   "metadata": {},
   "outputs": [
    {
     "data": {
      "image/png": "[encoded data removed]",
      "text/plain": [
       "<Figure size 432x288 with 1 Axes>"
      ]
     },
     "metadata": {
      "needs_background": "light"
     },
     "output_type": "display_data"
    }
   ],
   "source": [
    "plt.plot(fpr, tpr, label='AUC = %0.2f'%roc_auc)\n",
    "plt.legend(loc='lower right')\n",
    "plt.ylabel('TPR')\n",
    "plt.xlabel('FPR')\n",
    "plt.show()"
   ]
  },
  {
   "cell_type": "code",
   "execution_count": 139,
   "metadata": {},
   "outputs": [],
   "source": [
    "model_f1_score.append(f1_score(df_test_y, y_pred))"
   ]
  },
  {
   "cell_type": "code",
   "execution_count": 140,
   "metadata": {},
   "outputs": [],
   "source": [
    "gb_final = GradientBoostingClassifier(min_samples_leaf=10, max_depth=4, n_estimators=100, random_state=1234, learning_rate=.1)\n",
    "gb_final.fit(df_train_x, df_train_y)\n",
    "\n",
    "train_accuracy.append(gb_final.score(df_train_x, df_train_y))\n",
    "test_accuracy.append(gb_final.score(df_test_x, df_test_y))\n",
    "\n",
    "y_pred = gb_final.predict(df_test_x)\n",
    "\n",
    "fpr, tpr, thresholds = roc_curve(df_test_y, y_pred)\n",
    "roc_auc = auc(fpr, tpr)\n",
    "\n",
    "model_auc.append(roc_auc)"
   ]
  },
  {
   "cell_type": "code",
   "execution_count": 141,
   "metadata": {},
   "outputs": [
    {
     "data": {
      "image/png": "[encoded data removed]",
      "text/plain": [
       "<Figure size 432x288 with 1 Axes>"
      ]
     },
     "metadata": {
      "needs_background": "light"
     },
     "output_type": "display_data"
    }
   ],
   "source": [
    "plt.plot(fpr, tpr, label='AUC = %0.2f'%roc_auc)\n",
    "plt.legend(loc='lower right')\n",
    "plt.ylabel('TPR')\n",
    "plt.xlabel('FPR')\n",
    "plt.show()"
   ]
  },
  {
   "cell_type": "code",
   "execution_count": 142,
   "metadata": {},
   "outputs": [],
   "source": [
    "model_f1_score.append(f1_score(df_test_y, y_pred))"
   ]
  },
  {
   "cell_type": "code",
   "execution_count": 143,
   "metadata": {},
   "outputs": [],
   "source": [
    "v_feature_names = df_train_x.columns\n",
    "\n",
    "scaler = StandardScaler()\n",
    "df_scaled = scaler.fit_transform(df_raw_dummy.drop(\"BAD\", axis=1))\n",
    "df_scaled = pd.DataFrame(df_scaled, columns=v_feature_names)"
   ]
  },
  {
   "cell_type": "code",
   "execution_count": 144,
   "metadata": {},
   "outputs": [
    {
     "name": "stdout",
     "output_type": "stream",
     "text": [
      "train data X size: (2623, 18)\n",
      "test data Y size: (1125, 18)\n"
     ]
    }
   ],
   "source": [
    "df_scaled_train_x, df_scaled_test_x = train_test_split(df_scaled, test_size=0.3, random_state=1234)\n",
    "print('train data X size: {}'.format(df_scaled_train_x.shape))\n",
    "print('test data Y size: {}'.format(df_scaled_test_x.shape))"
   ]
  },
  {
   "cell_type": "code",
   "execution_count": 145,
   "metadata": {},
   "outputs": [
    {
     "name": "stderr",
     "output_type": "stream",
     "text": [
      "/home/piai/anaconda3/lib/python3.7/site-packages/sklearn/neural_network/_multilayer_perceptron.py:571: ConvergenceWarning: Stochastic Optimizer: Maximum iterations (200) reached and the optimization hasn't converged yet.\n",
      "  % self.max_iter, ConvergenceWarning)\n"
     ]
    }
   ],
   "source": [
    "nn_model = MLPClassifier(hidden_layer_sizes=(80,80), activation='relu', solver='adam', random_state=1234)\n",
    "nn_model.fit(df_scaled_train_x, df_train_y)\n",
    "\n",
    "train_accuracy.append(nn_model.score(df_scaled_train_x, df_train_y))\n",
    "test_accuracy.append(nn_model.score(df_scaled_test_x, df_test_y))\n",
    "\n",
    "y_pred = nn_model.predict(df_scaled_test_x)\n",
    "\n",
    "fpr, tpr, thresholds = roc_curve(df_test_y, y_pred)\n",
    "roc_auc = auc(fpr, tpr)\n",
    "\n",
    "model_auc.append(roc_auc)"
   ]
  },
  {
   "cell_type": "code",
   "execution_count": 146,
   "metadata": {},
   "outputs": [
    {
     "data": {
      "image/png": "[encoded data removed]",
      "text/plain": [
       "<Figure size 432x288 with 1 Axes>"
      ]
     },
     "metadata": {
      "needs_background": "light"
     },
     "output_type": "display_data"
    }
   ],
   "source": [
    "plt.plot(fpr, tpr, label='AUC = %0.2f'%roc_auc)\n",
    "plt.legend(loc='lower right')\n",
    "plt.ylabel('TPR')\n",
    "plt.xlabel('FPR')\n",
    "plt.show()"
   ]
  },
  {
   "cell_type": "code",
   "execution_count": 147,
   "metadata": {},
   "outputs": [],
   "source": [
    "model_f1_score.append(f1_score(df_test_y, y_pred))"
   ]
  },
  {
   "cell_type": "code",
   "execution_count": 148,
   "metadata": {},
   "outputs": [
    {
     "data": {
      "text/html": [
       "<div>\n",
       "<style scoped>\n",
       "    .dataframe tbody tr th:only-of-type {\n",
       "        vertical-align: middle;\n",
       "    }\n",
       "\n",
       "    .dataframe tbody tr th {\n",
       "        vertical-align: top;\n",
       "    }\n",
       "\n",
       "    .dataframe thead th {\n",
       "        text-align: right;\n",
       "    }\n",
       "</style>\n",
       "<table border=\"1\" class=\"dataframe\">\n",
       "  <thead>\n",
       "    <tr style=\"text-align: right;\">\n",
       "      <th></th>\n",
       "      <th>TrainAccuracy</th>\n",
       "      <th>TestAccuracy</th>\n",
       "      <th>F1Score</th>\n",
       "      <th>AUC</th>\n",
       "    </tr>\n",
       "  </thead>\n",
       "  <tbody>\n",
       "    <tr>\n",
       "      <th>DecisionTree</th>\n",
       "      <td>0.928</td>\n",
       "      <td>0.926</td>\n",
       "      <td>0.411</td>\n",
       "      <td>0.638</td>\n",
       "    </tr>\n",
       "    <tr>\n",
       "      <th>RandomForest</th>\n",
       "      <td>0.927</td>\n",
       "      <td>0.926</td>\n",
       "      <td>0.325</td>\n",
       "      <td>0.598</td>\n",
       "    </tr>\n",
       "    <tr>\n",
       "      <th>GradientBoosting</th>\n",
       "      <td>0.972</td>\n",
       "      <td>0.947</td>\n",
       "      <td>0.600</td>\n",
       "      <td>0.721</td>\n",
       "    </tr>\n",
       "    <tr>\n",
       "      <th>NeuralNet</th>\n",
       "      <td>0.914</td>\n",
       "      <td>0.904</td>\n",
       "      <td>0.018</td>\n",
       "      <td>0.501</td>\n",
       "    </tr>\n",
       "  </tbody>\n",
       "</table>\n",
       "</div>"
      ],
      "text/plain": [
       "                  TrainAccuracy  TestAccuracy  F1Score    AUC\n",
       "DecisionTree              0.928         0.926    0.411  0.638\n",
       "RandomForest              0.927         0.926    0.325  0.598\n",
       "GradientBoosting          0.972         0.947    0.600  0.721\n",
       "NeuralNet                 0.914         0.904    0.018  0.501"
      ]
     },
     "execution_count": 148,
     "metadata": {},
     "output_type": "execute_result"
    }
   ],
   "source": [
    "df_eval = pd.DataFrame(index=model)\n",
    "df_eval['TrainAccuracy'] = train_accuracy\n",
    "df_eval['TestAccuracy'] = test_accuracy\n",
    "df_eval['F1Score'] = model_f1_score\n",
    "df_eval['AUC'] = model_auc\n",
    "df_eval.round(3)"
   ]
  },
  {
   "cell_type": "code",
   "execution_count": 149,
   "metadata": {},
   "outputs": [
    {
     "data": {
      "image/png": "[encoded data removed]",
      "text/plain": [
       "<Figure size 432x288 with 1 Axes>"
      ]
     },
     "metadata": {
      "needs_background": "light"
     },
     "output_type": "display_data"
    }
   ],
   "source": [
    "df_eval.plot.bar(rot=0)\n",
    "plt.legend(loc='lower right')\n",
    "plt.grid(axis='y')"
   ]
  },
  {
   "cell_type": "code",
   "execution_count": null,
   "metadata": {},
   "outputs": [],
   "source": []
  }
 ],
 "metadata": {
  "kernelspec": {
   "display_name": "Python 3",
   "language": "python",
   "name": "python3"
  },
  "language_info": {
   "codemirror_mode": {
    "name": "ipython",
    "version": 3
   },
   "file_extension": ".py",
   "mimetype": "text/x-python",
   "name": "python",
   "nbconvert_exporter": "python",
   "pygments_lexer": "ipython3",
   "version": "3.7.6"
  }
 },
 "nbformat": 4,
 "nbformat_minor": 4
}
