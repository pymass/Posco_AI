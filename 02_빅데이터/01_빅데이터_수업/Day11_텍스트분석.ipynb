{
 "cells": [
  {
   "cell_type": "code",
   "execution_count": 4,
   "metadata": {
    "ExecuteTime": {
     "end_time": "2020-07-04T00:06:44.967469Z",
     "start_time": "2020-07-04T00:06:44.842004Z"
    }
   },
   "outputs": [
    {
     "name": "stdout",
     "output_type": "stream",
     "text": [
      "10830000\n"
     ]
    }
   ],
   "source": [
    "import requests\n",
    "\n",
    "order_currency = \"BTC\"\n",
    "payment_currency = 'KRW'\n",
    "url = f\"https://api.bithumb.com/public/ticker/{order_currency}_{payment_currency}\"\n",
    "\n",
    "resp = requests.get(url)\n",
    "data = resp.json()\n",
    "print(data['data']['closing_price'])"
   ]
  },
  {
   "cell_type": "code",
   "execution_count": 12,
   "metadata": {
    "ExecuteTime": {
     "end_time": "2020-07-04T00:14:31.141704Z",
     "start_time": "2020-07-04T00:14:31.020654Z"
    }
   },
   "outputs": [
    {
     "name": "stdout",
     "output_type": "stream",
     "text": [
      "49350\n"
     ]
    }
   ],
   "source": [
    "def 최근거래가격조회(order_currency):\n",
    "    payment_currency = \"KRW\"\n",
    "    url = f\"https://api.bithumb.com/public/ticker/{order_currency}_{payment_currency}\"\n",
    "\n",
    "    resp = requests.get(url)\n",
    "    data = resp.json()\n",
    "    print(data['data']['closing_price'])\n",
    "    \n",
    "최근거래가격조회(\"LTC\")"
   ]
  },
  {
   "cell_type": "code",
   "execution_count": 9,
   "metadata": {
    "ExecuteTime": {
     "end_time": "2020-07-04T00:12:02.647136Z",
     "start_time": "2020-07-04T00:12:02.634024Z"
    }
   },
   "outputs": [
    {
     "name": "stdout",
     "output_type": "stream",
     "text": [
      "이름:유종훈 나이:35ㅋㅋㅋㅋ\n",
      "이름:유종훈 나이:35ㅋㅋㅋㅋ\n"
     ]
    }
   ],
   "source": [
    "이름 = \"유종훈\"\n",
    "나이 = \"35\"\n",
    "\n",
    "# 이름 : 유종훈 나이 : 35 ㅋㅋㅋㅋ\n",
    "\n",
    "print(\"이름:\" + 이름 + \" 나이:\" + 나이 + \"ㅋㅋㅋㅋ\")\n",
    "print(f\"이름:{이름} 나이:{나이}ㅋㅋㅋㅋ\")"
   ]
  },
  {
   "cell_type": "code",
   "execution_count": 22,
   "metadata": {
    "ExecuteTime": {
     "end_time": "2020-07-04T00:19:05.035483Z",
     "start_time": "2020-07-04T00:19:05.023511Z"
    }
   },
   "outputs": [],
   "source": [
    "def 최상단매수호가조회(order_currency):\n",
    "    payment_currency = \"KRW\"\n",
    "    url = f\"https://api.bithumb.com/public/orderbook/{order_currency}_{payment_currency}\"\n",
    "\n",
    "    resp = requests.get(url)\n",
    "    data = resp.json()\n",
    "    print(data['data']['bids'][0]['price'])"
   ]
  },
  {
   "cell_type": "code",
   "execution_count": 24,
   "metadata": {
    "ExecuteTime": {
     "end_time": "2020-07-04T00:21:06.594926Z",
     "start_time": "2020-07-04T00:21:06.479264Z"
    }
   },
   "outputs": [
    {
     "name": "stdout",
     "output_type": "stream",
     "text": [
      "49300\n"
     ]
    }
   ],
   "source": [
    "최상단매수호가조회(order_currency=\"LTC\")"
   ]
  },
  {
   "cell_type": "code",
   "execution_count": 28,
   "metadata": {
    "ExecuteTime": {
     "end_time": "2020-07-04T00:23:05.939189Z",
     "start_time": "2020-07-04T00:23:05.920964Z"
    }
   },
   "outputs": [
    {
     "name": "stdout",
     "output_type": "stream",
     "text": [
      "영수 영희 결혼합니다.\n",
      "영수 영희 결혼합니다.\n",
      "영수 영희 결혼합니다.\n",
      "영희 영수 결혼합니다.\n"
     ]
    }
   ],
   "source": [
    "def 청첩장(신랑, 신부):\n",
    "    print(신랑, 신부, \"결혼합니다.\")\n",
    "    \n",
    "청첩장(\"영수\", \"영희\")\n",
    "청첩장(신랑=\"영수\", 신부=\"영희\")\n",
    "청첩장(신부=\"영희\", 신랑=\"영수\")\n",
    "청첩장(\"영희\", \"영수\")"
   ]
  },
  {
   "cell_type": "code",
   "execution_count": 30,
   "metadata": {
    "ExecuteTime": {
     "end_time": "2020-07-04T00:25:06.879669Z",
     "start_time": "2020-07-04T00:25:06.865211Z"
    }
   },
   "outputs": [
    {
     "name": "stdout",
     "output_type": "stream",
     "text": [
      "영수 영희 결혼합니다.\n",
      "철수 영희 결혼합니다.\n",
      "철수 영자 결혼합니다.\n"
     ]
    }
   ],
   "source": [
    "def 청첩장(신랑, 신부=\"영희\"):\n",
    "    print(신랑, 신부, \"결혼합니다.\")\n",
    "    \n",
    "청첩장(\"영수\")\n",
    "청첩장(\"철수\")\n",
    "청첩장(\"철수\", \"영자\")"
   ]
  },
  {
   "cell_type": "code",
   "execution_count": 31,
   "metadata": {
    "ExecuteTime": {
     "end_time": "2020-07-04T00:28:25.080723Z",
     "start_time": "2020-07-04T00:28:24.993514Z"
    }
   },
   "outputs": [],
   "source": [
    "class 비트코인:\n",
    "    def 최근거래가격조회(self, order_currency):\n",
    "        payment_currency = \"KRW\"\n",
    "        url = f\"https://api.bithumb.com/public/ticker/{order_currency}_{payment_currency}\"\n",
    "\n",
    "        resp = requests.get(url)\n",
    "        data = resp.json()\n",
    "        print(data['data']['closing_price'])\n",
    "\n",
    "    def 최상단매수호가조회(self, order_currency):\n",
    "        payment_currency = \"KRW\"\n",
    "        url = f\"https://api.bithumb.com/public/orderbook/{order_currency}_{payment_currency}\"\n",
    "\n",
    "        resp = requests.get(url)\n",
    "        data = resp.json()\n",
    "        print(data['data']['bids'][0]['price'])"
   ]
  },
  {
   "cell_type": "code",
   "execution_count": 33,
   "metadata": {
    "ExecuteTime": {
     "end_time": "2020-07-04T00:29:51.456295Z",
     "start_time": "2020-07-04T00:29:51.202819Z"
    }
   },
   "outputs": [
    {
     "name": "stdout",
     "output_type": "stream",
     "text": [
      "10850000\n",
      "10849000\n"
     ]
    }
   ],
   "source": [
    "객체 = 비트코인()\n",
    "객체.최근거래가격조회(\"BTC\")\n",
    "객체.최상단매수호가조회(\"BTC\")"
   ]
  },
  {
   "cell_type": "markdown",
   "metadata": {},
   "source": [
    "# 정규표현식"
   ]
  },
  {
   "cell_type": "code",
   "execution_count": 34,
   "metadata": {
    "ExecuteTime": {
     "end_time": "2020-07-04T00:52:53.744818Z",
     "start_time": "2020-07-04T00:52:53.731977Z"
    }
   },
   "outputs": [
    {
     "name": "stdout",
     "output_type": "stream",
     "text": [
      "\n",
      "park 800905-*******\n",
      "kim 700905-*******\n",
      "\n"
     ]
    }
   ],
   "source": [
    "import re\n",
    "\n",
    "text = \"\"\"\n",
    "park 800905-1049118\n",
    "kim 700905-1059119\n",
    "\"\"\"\n",
    "\n",
    "p = re.compile(r\"(\\d{6})-\\d{7}\")\n",
    "text1 = p.sub(r\"\\1-*******\", text)\n",
    "print(text1)"
   ]
  },
  {
   "cell_type": "code",
   "execution_count": 35,
   "metadata": {
    "ExecuteTime": {
     "end_time": "2020-07-04T01:07:07.028640Z",
     "start_time": "2020-07-04T01:07:07.017464Z"
    }
   },
   "outputs": [
    {
     "name": "stdout",
     "output_type": "stream",
     "text": [
      "['가능', '가능']\n"
     ]
    }
   ],
   "source": [
    "import re\n",
    "\n",
    "text = '불가능을 가능하게!'\n",
    "p = re.compile(r\"가능\") # r은 raw string을 뜻한다.\n",
    "m = re.findall(p, text)\n",
    "# p.findall(text)\n",
    "print(m)"
   ]
  },
  {
   "cell_type": "code",
   "execution_count": 39,
   "metadata": {
    "ExecuteTime": {
     "end_time": "2020-07-04T01:12:25.959310Z",
     "start_time": "2020-07-04T01:12:25.951454Z"
    }
   },
   "outputs": [
    {
     "name": "stdout",
     "output_type": "stream",
     "text": [
      "<class 're.Pattern'>\n"
     ]
    }
   ],
   "source": [
    "print(type(p))"
   ]
  },
  {
   "cell_type": "code",
   "execution_count": 36,
   "metadata": {
    "ExecuteTime": {
     "end_time": "2020-07-04T01:07:35.494734Z",
     "start_time": "2020-07-04T01:07:35.484759Z"
    }
   },
   "outputs": [
    {
     "name": "stdout",
     "output_type": "stream",
     "text": [
      "<re.Match object; span=(1, 3), match='가능'>\n"
     ]
    }
   ],
   "source": [
    "import re\n",
    "\n",
    "text = '불가능을 가능하게!'\n",
    "p = re.compile(\"가능\")\n",
    "m = re.search(p, text)\n",
    "print(m)"
   ]
  },
  {
   "cell_type": "code",
   "execution_count": 38,
   "metadata": {
    "ExecuteTime": {
     "end_time": "2020-07-04T01:10:22.936874Z",
     "start_time": "2020-07-04T01:10:22.927540Z"
    }
   },
   "outputs": [
    {
     "name": "stdout",
     "output_type": "stream",
     "text": [
      "\\n\n"
     ]
    }
   ],
   "source": [
    "print(r\"\\n\")"
   ]
  },
  {
   "cell_type": "code",
   "execution_count": 40,
   "metadata": {
    "ExecuteTime": {
     "end_time": "2020-07-04T01:15:02.360839Z",
     "start_time": "2020-07-04T01:15:02.353479Z"
    }
   },
   "outputs": [
    {
     "name": "stdout",
     "output_type": "stream",
     "text": [
      "불!!!을 !!!하게!\n"
     ]
    }
   ],
   "source": [
    "결과 = p.sub(\"!!!\", text)\n",
    "print(결과)"
   ]
  },
  {
   "cell_type": "code",
   "execution_count": 41,
   "metadata": {
    "ExecuteTime": {
     "end_time": "2020-07-04T01:15:27.322824Z",
     "start_time": "2020-07-04T01:15:27.313035Z"
    }
   },
   "outputs": [
    {
     "name": "stdout",
     "output_type": "stream",
     "text": [
      "['불', '을 ', '하게!']\n"
     ]
    }
   ],
   "source": [
    "결과 = p.split(text)\n",
    "print(결과)"
   ]
  },
  {
   "cell_type": "code",
   "execution_count": 42,
   "metadata": {
    "ExecuteTime": {
     "end_time": "2020-07-04T01:15:56.829180Z",
     "start_time": "2020-07-04T01:15:56.817906Z"
    }
   },
   "outputs": [
    {
     "name": "stdout",
     "output_type": "stream",
     "text": [
      "가능하게 가능하게!\n"
     ]
    }
   ],
   "source": [
    "p = re.compile(r\"불가능을\")\n",
    "결과 = p.sub(\"가능하게\", text)\n",
    "print(결과)"
   ]
  },
  {
   "cell_type": "code",
   "execution_count": 44,
   "metadata": {
    "ExecuteTime": {
     "end_time": "2020-07-04T01:17:23.679204Z",
     "start_time": "2020-07-04T01:17:23.665910Z"
    }
   },
   "outputs": [
    {
     "name": "stdout",
     "output_type": "stream",
     "text": [
      "4\n"
     ]
    }
   ],
   "source": [
    "import re\n",
    "\n",
    "text = '''\n",
    "내가 그린 기린 그림은 잘 그린 기린 그림이고\n",
    "네가 그린 기린 그림은 잘 못 그린 기린 그림이다.\n",
    "'''\n",
    "\n",
    "p = re.compile(r\"기린\")\n",
    "m = re.findall(p, text)\n",
    "print(len(m))"
   ]
  },
  {
   "cell_type": "code",
   "execution_count": 54,
   "metadata": {
    "ExecuteTime": {
     "end_time": "2020-07-04T01:30:32.645848Z",
     "start_time": "2020-07-04T01:30:32.633772Z"
    }
   },
   "outputs": [
    {
     "name": "stdout",
     "output_type": "stream",
     "text": [
      "['bj11.xls', 'jd1.xls']\n"
     ]
    }
   ],
   "source": [
    "데이터 = '''\n",
    "성적이 저장: a1.xls\n",
    "몰라: b1.xls\n",
    "몰라: cbjbj11.xls\n",
    "몰라: jd1.xls\n",
    "'''\n",
    "\n",
    "p = re.compile(r\"[a-z]{2}\\d+.xls\")\n",
    "결과 = p.findall(데이터)\n",
    "print(결과)"
   ]
  },
  {
   "cell_type": "code",
   "execution_count": 64,
   "metadata": {
    "ExecuteTime": {
     "end_time": "2020-07-04T01:45:45.568240Z",
     "start_time": "2020-07-04T01:45:45.555035Z"
    }
   },
   "outputs": [
    {
     "name": "stdout",
     "output_type": "stream",
     "text": [
      "['860301-*******', '880303-*******']\n"
     ]
    }
   ],
   "source": [
    "데이터 = '''\n",
    "ㅁ훠ㅏ뭏ㄱ뭐룯 유종훈 860301-1010222\n",
    "므ㅏㅡ하므피믜 880303-2022222\n",
    "'''\n",
    "\n",
    "p = re.compile(r\"\\d{7}\")\n",
    "결과 = p.sub('*******', 데이터)\n",
    "p = re.compile(r\"\\d{6}-\\*{7}\")\n",
    "결과 = p.findall(결과)\n",
    "print(결과)"
   ]
  },
  {
   "cell_type": "code",
   "execution_count": 69,
   "metadata": {
    "ExecuteTime": {
     "end_time": "2020-07-04T02:10:52.380297Z",
     "start_time": "2020-07-04T02:10:52.369282Z"
    }
   },
   "outputs": [
    {
     "name": "stdout",
     "output_type": "stream",
     "text": [
      "['jonghun.yoo@outlook.com', 'jong.boo@gmail.com']\n"
     ]
    }
   ],
   "source": [
    "데이터 = '''\n",
    "기자: 유종훈 jonghun.yoo@outlook.com\n",
    "jong.boo@gmail.com\n",
    "'''\n",
    "\n",
    "p = re.compile(\"[\\w+\\.]+@\\w+\\.\\w+\")\n",
    "결과 = p.findall(데이터)\n",
    "print(결과)"
   ]
  },
  {
   "cell_type": "code",
   "execution_count": null,
   "metadata": {},
   "outputs": [],
   "source": [
    "# \\w 는 일반 문자 == [가-힣a-zA-Z0-9]\n",
    "# \\W 는 특수 문자 == "
   ]
  },
  {
   "cell_type": "code",
   "execution_count": 70,
   "metadata": {
    "ExecuteTime": {
     "end_time": "2020-07-04T02:21:47.350206Z",
     "start_time": "2020-07-04T02:21:47.200855Z"
    }
   },
   "outputs": [],
   "source": [
    "import konlpy"
   ]
  },
  {
   "cell_type": "code",
   "execution_count": 72,
   "metadata": {
    "ExecuteTime": {
     "end_time": "2020-07-04T02:23:43.725584Z",
     "start_time": "2020-07-04T02:23:43.553054Z"
    }
   },
   "outputs": [
    {
     "data": {
      "text/plain": [
       "<BarContainer object of 3 artists>"
      ]
     },
     "execution_count": 72,
     "metadata": {},
     "output_type": "execute_result"
    },
    {
     "data": {
      "image/png": "[encoded data removed]",
      "text/plain": [
       "<Figure size 432x288 with 1 Axes>"
      ]
     },
     "metadata": {
      "needs_background": "light"
     },
     "output_type": "display_data"
    }
   ],
   "source": [
    "import matplotlib.pyplot as plt\n",
    "\n",
    "x = [0, 1, 2]\n",
    "y = [10, 20, 15]\n",
    "\n",
    "plt.bar(x,y)"
   ]
  },
  {
   "cell_type": "code",
   "execution_count": 73,
   "metadata": {
    "ExecuteTime": {
     "end_time": "2020-07-04T02:28:49.017544Z",
     "start_time": "2020-07-04T02:28:48.865627Z"
    }
   },
   "outputs": [
    {
     "data": {
      "text/plain": [
       "[<matplotlib.lines.Line2D at 0x7f9cd2e87290>]"
      ]
     },
     "execution_count": 73,
     "metadata": {},
     "output_type": "execute_result"
    },
    {
     "data": {
      "image/png": "[encoded data removed]",
      "text/plain": [
       "<Figure size 432x288 with 1 Axes>"
      ]
     },
     "metadata": {
      "needs_background": "light"
     },
     "output_type": "display_data"
    }
   ],
   "source": [
    "x = np.linspace(0, 10, 100)\n",
    "y = [k**2 for k in x]\n",
    "\n",
    "plt.plot(x,y)"
   ]
  },
  {
   "cell_type": "code",
   "execution_count": 76,
   "metadata": {
    "ExecuteTime": {
     "end_time": "2020-07-04T02:38:18.217832Z",
     "start_time": "2020-07-04T02:38:18.181548Z"
    }
   },
   "outputs": [
    {
     "data": {
      "text/plain": [
       "'열심히'"
      ]
     },
     "execution_count": 76,
     "metadata": {},
     "output_type": "execute_result"
    }
   ],
   "source": [
    "from konlpy.tag import Okt\n",
    "tagger = Okt()\n",
    "\n",
    "text = \"열심히 코딩한 당신, 연휴에는 여행을 가봐요\"\n",
    "# print(tagger.morphs(text))\n",
    "# print(tagger.nouns(text))\n",
    "\n",
    "''.join([i[0] for i in tagger.pos(text) if i[1] == 'Adverb'])"
   ]
  },
  {
   "cell_type": "code",
   "execution_count": 75,
   "metadata": {
    "ExecuteTime": {
     "end_time": "2020-07-04T02:33:04.023497Z",
     "start_time": "2020-07-04T02:33:03.987608Z"
    }
   },
   "outputs": [
    {
     "name": "stdout",
     "output_type": "stream",
     "text": [
      "['아버지', '방']\n"
     ]
    }
   ],
   "source": [
    "text = \"아버지가 방에 들어가신다.\"\n",
    "result = tagger.nouns(text)\n",
    "print(result)"
   ]
  },
  {
   "cell_type": "code",
   "execution_count": 7,
   "metadata": {
    "ExecuteTime": {
     "end_time": "2020-07-04T03:01:01.587756Z",
     "start_time": "2020-07-04T03:01:01.570848Z"
    }
   },
   "outputs": [
    {
     "data": {
      "text/plain": [
       "[('아버지', 3), ('들어가', 2), ('신다', 2)]"
      ]
     },
     "execution_count": 7,
     "metadata": {},
     "output_type": "execute_result"
    }
   ],
   "source": [
    "from konlpy.tag import Mecab\n",
    "\n",
    "tagger = Mecab()\n",
    "text = \"아버지가방에들어가신다. 정말 들어가신다. 아버지. 아버지. 사랑합니다.\"\n",
    "\n",
    "# pre-processing\n",
    "text = text.replace(\".\", \"\")\n",
    "\n",
    "result = tagger.morphs(text)\n",
    "c = Counter(result)\n",
    "c.most_common(3)"
   ]
  },
  {
   "cell_type": "code",
   "execution_count": 5,
   "metadata": {
    "ExecuteTime": {
     "end_time": "2020-07-04T02:58:41.838446Z",
     "start_time": "2020-07-04T02:58:41.827653Z"
    }
   },
   "outputs": [
    {
     "data": {
      "text/plain": [
       "[('.', 5), ('아버지', 3), ('들어가', 2)]"
      ]
     },
     "execution_count": 5,
     "metadata": {},
     "output_type": "execute_result"
    }
   ],
   "source": [
    "from collections import Counter\n",
    "\n",
    "c = Counter(result)\n",
    "c.most_common(3)"
   ]
  },
  {
   "cell_type": "code",
   "execution_count": 44,
   "metadata": {
    "ExecuteTime": {
     "end_time": "2020-07-04T04:29:53.157722Z",
     "start_time": "2020-07-04T04:29:53.147404Z"
    }
   },
   "outputs": [],
   "source": [
    "from konlpy.tag import Mecab\n",
    "import re\n",
    "\n",
    "with open('./Data/텍스트분석_실습화일/news.txt', 'r', encoding='utf8') as f:\n",
    "    content = f.read()\n",
    "    \n",
    "# p = re.compile(\"[\\Wa-zA-Z0-9_]+\")\n",
    "# content = re.sub(p, \"\", content)\n",
    "\n",
    "# tagger = Mecab()\n",
    "# result = tagger.morphs(content)"
   ]
  },
  {
   "cell_type": "code",
   "execution_count": 26,
   "metadata": {
    "ExecuteTime": {
     "end_time": "2020-07-04T04:16:43.079049Z",
     "start_time": "2020-07-04T04:16:43.068643Z"
    }
   },
   "outputs": [],
   "source": [
    "stop_word = [\"의\", \"을\", \",\", \".\", \"은\", \"는\", \"를\", \"이\", \"다\", \"하\", \"고\", \"가\", \"있\", \"에\", \"와\", \"도\"]\n",
    "\n",
    "result_filtered = [i for i in result if i not in stop_word]"
   ]
  },
  {
   "cell_type": "code",
   "execution_count": 27,
   "metadata": {
    "ExecuteTime": {
     "end_time": "2020-07-04T04:16:43.259325Z",
     "start_time": "2020-07-04T04:16:43.250471Z"
    }
   },
   "outputs": [
    {
     "name": "stdout",
     "output_type": "stream",
     "text": [
      "[('소설', 40), ('웹', 38), ('작가', 25), ('게', 16), ('에서', 15)]\n"
     ]
    }
   ],
   "source": [
    "from collections import Counter\n",
    "\n",
    "c = Counter(result_filtered)\n",
    "print(c.most_common(5))"
   ]
  },
  {
   "cell_type": "code",
   "execution_count": 28,
   "metadata": {
    "ExecuteTime": {
     "end_time": "2020-07-04T04:18:21.522030Z",
     "start_time": "2020-07-04T04:18:21.510234Z"
    }
   },
   "outputs": [
    {
     "name": "stdout",
     "output_type": "stream",
     "text": [
      "['소설', '웹', '작가', '게', '에서']\n",
      "[40, 38, 25, 16, 15]\n"
     ]
    }
   ],
   "source": [
    "top5 = c.most_common(5)\n",
    "\n",
    "x = [x[0] for x in top5]\n",
    "y = [x[1] for x in top5]\n",
    "print(x)\n",
    "print(y)"
   ]
  },
  {
   "cell_type": "code",
   "execution_count": 29,
   "metadata": {
    "ExecuteTime": {
     "end_time": "2020-07-04T04:19:06.241206Z",
     "start_time": "2020-07-04T04:19:05.703175Z"
    }
   },
   "outputs": [
    {
     "data": {
      "text/plain": [
       "<BarContainer object of 5 artists>"
      ]
     },
     "execution_count": 29,
     "metadata": {},
     "output_type": "execute_result"
    },
    {
     "name": "stderr",
     "output_type": "stream",
     "text": [
      "/home/piai/anaconda3/lib/python3.7/site-packages/matplotlib/backends/backend_agg.py:211: RuntimeWarning: Glyph 49548 missing from current font.\n",
      "  font.set_text(s, 0.0, flags=flags)\n",
      "/home/piai/anaconda3/lib/python3.7/site-packages/matplotlib/backends/backend_agg.py:211: RuntimeWarning: Glyph 49444 missing from current font.\n",
      "  font.set_text(s, 0.0, flags=flags)\n",
      "/home/piai/anaconda3/lib/python3.7/site-packages/matplotlib/backends/backend_agg.py:211: RuntimeWarning: Glyph 50937 missing from current font.\n",
      "  font.set_text(s, 0.0, flags=flags)\n",
      "/home/piai/anaconda3/lib/python3.7/site-packages/matplotlib/backends/backend_agg.py:211: RuntimeWarning: Glyph 51089 missing from current font.\n",
      "  font.set_text(s, 0.0, flags=flags)\n",
      "/home/piai/anaconda3/lib/python3.7/site-packages/matplotlib/backends/backend_agg.py:211: RuntimeWarning: Glyph 44032 missing from current font.\n",
      "  font.set_text(s, 0.0, flags=flags)\n",
      "/home/piai/anaconda3/lib/python3.7/site-packages/matplotlib/backends/backend_agg.py:211: RuntimeWarning: Glyph 44172 missing from current font.\n",
      "  font.set_text(s, 0.0, flags=flags)\n",
      "/home/piai/anaconda3/lib/python3.7/site-packages/matplotlib/backends/backend_agg.py:211: RuntimeWarning: Glyph 50640 missing from current font.\n",
      "  font.set_text(s, 0.0, flags=flags)\n",
      "/home/piai/anaconda3/lib/python3.7/site-packages/matplotlib/backends/backend_agg.py:211: RuntimeWarning: Glyph 49436 missing from current font.\n",
      "  font.set_text(s, 0.0, flags=flags)\n",
      "/home/piai/anaconda3/lib/python3.7/site-packages/matplotlib/backends/backend_agg.py:180: RuntimeWarning: Glyph 49548 missing from current font.\n",
      "  font.set_text(s, 0, flags=flags)\n",
      "/home/piai/anaconda3/lib/python3.7/site-packages/matplotlib/backends/backend_agg.py:180: RuntimeWarning: Glyph 49444 missing from current font.\n",
      "  font.set_text(s, 0, flags=flags)\n",
      "/home/piai/anaconda3/lib/python3.7/site-packages/matplotlib/backends/backend_agg.py:176: RuntimeWarning: Glyph 50937 missing from current font.\n",
      "  font.load_char(ord(s), flags=flags)\n",
      "/home/piai/anaconda3/lib/python3.7/site-packages/matplotlib/backends/backend_agg.py:180: RuntimeWarning: Glyph 51089 missing from current font.\n",
      "  font.set_text(s, 0, flags=flags)\n",
      "/home/piai/anaconda3/lib/python3.7/site-packages/matplotlib/backends/backend_agg.py:180: RuntimeWarning: Glyph 44032 missing from current font.\n",
      "  font.set_text(s, 0, flags=flags)\n",
      "/home/piai/anaconda3/lib/python3.7/site-packages/matplotlib/backends/backend_agg.py:176: RuntimeWarning: Glyph 44172 missing from current font.\n",
      "  font.load_char(ord(s), flags=flags)\n",
      "/home/piai/anaconda3/lib/python3.7/site-packages/matplotlib/backends/backend_agg.py:180: RuntimeWarning: Glyph 50640 missing from current font.\n",
      "  font.set_text(s, 0, flags=flags)\n",
      "/home/piai/anaconda3/lib/python3.7/site-packages/matplotlib/backends/backend_agg.py:180: RuntimeWarning: Glyph 49436 missing from current font.\n",
      "  font.set_text(s, 0, flags=flags)\n"
     ]
    },
    {
     "data": {
      "image/png": "[encoded data removed]",
      "text/plain": [
       "<Figure size 432x288 with 1 Axes>"
      ]
     },
     "metadata": {
      "needs_background": "light"
     },
     "output_type": "display_data"
    }
   ],
   "source": [
    "import matplotlib.pyplot as plt\n",
    "\n",
    "plt.bar(x, y)"
   ]
  },
  {
   "cell_type": "code",
   "execution_count": 32,
   "metadata": {
    "ExecuteTime": {
     "end_time": "2020-07-04T04:20:59.155929Z",
     "start_time": "2020-07-04T04:20:59.127470Z"
    }
   },
   "outputs": [
    {
     "name": "stdout",
     "output_type": "stream",
     "text": [
      "Counter({'소설': 40, '웹': 38, '작가': 25, '독자': 12, '수': 11, '작품': 10, '시장': 8, '말': 7, '것': 6, '수입': 6, '인기': 5, '명': 5, '연재': 5, '스토리': 5, '대표': 5, '사회': 5, '카카오': 5, '페이지': 5, '우리': 5, '원': 5, '얘기': 4, '이': 4, '기존': 4, '시간': 4, '년': 4, '웹툰': 4, '드라마': 4, '해외': 4, '담론': 4, '형성': 4, '경우': 3, '판타지': 3, '피아': 3, '김환철': 3, '만': 3, '수십만': 3, '수백만': 3, '에너지': 3, '문피': 3, '환생': 3, '회귀': 3, '마음': 3, '등': 3, '원작': 3, '억': 3, '영역': 3, '정도': 2, '분위기': 2, '곳': 2, '처음': 2, '출판': 2, '스낵': 2, '컬처': 2, '긴장감': 2, '흥미': 2, '게': 2, '입장': 2, '벽': 2, '데': 2, '플랫폼': 2, '자신': 2, '무협': 2, '플랫': 2, '폼': 2, '필명': 2, '생산자': 2, '소비자': 2, '경계': 2, '국내': 2, '전체': 2, '생태': 2, '경쟁': 2, '때': 2, '최근': 2, '네이버': 2, '세대': 2, '이진수': 2, '이해': 2, '평론': 2, '창의': 2, '장강명': 2, '분석': 2, '영화': 2, '몸값': 2, '이야기': 2, '규모': 2, '검증': 2, '리스크': 2, '영상': 2, '일': 2, '피곤': 2, '조사': 2, '진출': 2, '공공': 2, '부문': 2, '관심': 2, '독서': 1, '위기': 1, '출판계': 1, '불황': 1, '사정': 1, '소식': 1, '종이': 1, '책': 1, '만권': 1, '베스트셀러': 1, '목록': 1, '스마트폰': 1, '나': 1, '백만': 1, '공개': 1, '겨냥': 1, '창작': 1, '성격': 1, '매회': 1, '중요': 1, '인물': 1, '캐릭터': 1, '대화': 1, '중심': 1, '전개': 1, '호응': 1, '진입': 1, '장벽': 1, '누구': 1, '무료': 1, '의미': 1, '전문': 1, '인문': 1, '금강': 1, '커트라인': 1, '의견': 1, '출판사': 1, '무엇': 1, '모두': 1, '평가': 1, '선택': 1, '유료': 1, '판매': 1, '활동': 1, '추정': 1, '용광로': 1, '대신': 1, '치열': 1, '조': 1, '회수': 1, '댓글': 1, '검': 1, '승부': 1, '전쟁': 1, '글': 1, '까닭': 1, '역동': 1, '상호': 1, '작용': 1, '반영': 1, '수년': 1, '간': 1, '등장': 1, '단어': 1, '귀환': 1, '이번': 1, '실패': 1, '사람': 1, '현재': 1, '기억': 1, '과거': 1, '실수': 1, '복수': 1, '조아라': 1, '문': 1, '최고': 1, '상당수': 1, '틀': 1, '트렌드': 1, '이제': 1, '대세': 1, '세상': 1, '좌절': 1, '성공': 1, '투영': 1, '진단': 1, '곳곳': 1, '다양': 1, '표현': 1, '매체': 1, '대한민국': 1, '기성': 1, '의대': 1, '대': 1, '방법': 1, '주장': 1, '상업': 1, '중독': 1, '가운데': 1, '성취': 1, '명작': 1, '발견': 1, '속': 1, '신화': 1, '종교': 1, '현대': 1, '과학': 1, '다방면': 1, '지식': 1, '세계관': 1, '궁금증': 1, '유지': 1, '문법': 1, '번': 1, '마니아': 1, '고집': 1, '긍정': 1, '편': 1, '관련': 1, '문단': 1, '이걸': 1, '설명': 1, '언어': 1, '필요': 1, '상황': 1, '승중': 1, '산업': 1, '성장세': 1, '폭발': 1, '수준': 1, '급상': 1, '승세': 1, '천문학': 1, '제작비': 1, '시나리오': 1, '열': 1, '독자층': 1, '요인': 1, '선': 1, '순환': 1, '구조': 1, '사례': 1, '김': 1, '비서': 1, '제작': 1, '시청': 1, '기록': 1, '상승': 1, '정경윤': 1, '부산': 1, '약사': 1, '기자': 1, '질문': 1, '약국': 1, '몸': 1, '건': 1, '나중': 1, '밥': 1, '전력': 1, '그게': 1, '취미': 1, '치유': 1, '선배': 1, '지망': 1, '조언': 1, '주문': 1, '생업': 1, '여유': 1, '한국': 1, '콘텐츠': 1, '흥원': 1, '평균': 1, '기준': 1, '다연': 1, '억대': 1, '정상급': 1, '상회': 1, '대다수': 1, '중명': 1, '가연': 1, '천만': 1, '미만': 1, '차세대': 1, '한류': 1, '주역': 1, '주목': 1, '아도': 1, '모색': 1, '전문가': 1, '경쟁력': 1, '그': 1, '초기': 1, '단계': 1, '기대': 1, '맥락': 1, '대부분': 1, '시대': 1, '감각': 1, '포착': 1, '노력': 1, '기운': 1, '방향': 1, '문학계': 1, '방식': 1, '문학': 1, '만큼': 1, '비평': 1, '문화': 1, '전반': 1, '파급': 1, '효과': 1, '감안': 1, '업체': 1, '공간': 1, '마련': 1, '출처': 1, '뉴스': 1, '원본': 1, '링크': 1})\n"
     ]
    }
   ],
   "source": [
    "result = tagger.nouns(content)\n",
    "c = Counter(result)\n",
    "print(c)"
   ]
  },
  {
   "cell_type": "code",
   "execution_count": 39,
   "metadata": {
    "ExecuteTime": {
     "end_time": "2020-07-04T04:28:32.499054Z",
     "start_time": "2020-07-04T04:28:32.493076Z"
    }
   },
   "outputs": [],
   "source": [
    "FONT_PATH =\"/usr/share/fonts/truetype/nanum/NanumGothic.ttf\""
   ]
  },
  {
   "cell_type": "code",
   "execution_count": 46,
   "metadata": {
    "ExecuteTime": {
     "end_time": "2020-07-04T04:29:59.879502Z",
     "start_time": "2020-07-04T04:29:59.422457Z"
    }
   },
   "outputs": [
    {
     "data": {
      "image/png": "[encoded data removed]",
      "text/plain": [
       "<Figure size 432x288 with 1 Axes>"
      ]
     },
     "metadata": {
      "needs_background": "light"
     },
     "output_type": "display_data"
    }
   ],
   "source": [
    "from wordcloud import WordCloud\n",
    "\n",
    "wc = WordCloud(font_path=FONT_PATH)\n",
    "fig = wc.generate(content)\n",
    "\n",
    "plt.imshow(fig)\n",
    "plt.show()"
   ]
  },
  {
   "cell_type": "code",
   "execution_count": 47,
   "metadata": {
    "ExecuteTime": {
     "end_time": "2020-07-04T04:47:43.084621Z",
     "start_time": "2020-07-04T04:47:43.074056Z"
    }
   },
   "outputs": [
    {
     "name": "stdout",
     "output_type": "stream",
     "text": [
      "['나', '는', '자연어', '처리', '를', '배운다']\n"
     ]
    }
   ],
   "source": [
    "phrase = \"나는 자연어 처리를 배운다\"\n",
    "mecab = Mecab()\n",
    "token = mecab.morphs(phrase)\n",
    "print(token)"
   ]
  },
  {
   "cell_type": "code",
   "execution_count": 49,
   "metadata": {
    "ExecuteTime": {
     "end_time": "2020-07-04T04:49:08.670254Z",
     "start_time": "2020-07-04T04:49:08.659888Z"
    }
   },
   "outputs": [
    {
     "name": "stdout",
     "output_type": "stream",
     "text": [
      "{'나': 0, '는': 1, '자연어': 2, '처리': 3, '를': 4, '배운다': 5}\n"
     ]
    }
   ],
   "source": [
    "word_to_index = { }\n",
    "\n",
    "index = 0\n",
    "for 변수 in token:\n",
    "    word_to_index[변수] = index\n",
    "    index += 1\n",
    "    \n",
    "print(word_to_index)"
   ]
  },
  {
   "cell_type": "code",
   "execution_count": 51,
   "metadata": {
    "ExecuteTime": {
     "end_time": "2020-07-04T04:50:39.917184Z",
     "start_time": "2020-07-04T04:50:39.907673Z"
    }
   },
   "outputs": [
    {
     "name": "stdout",
     "output_type": "stream",
     "text": [
      "[0, 0, 0, 0, 0, 0]\n",
      "[1, 0, 0, 0, 0, 0]\n"
     ]
    }
   ],
   "source": [
    "result = [0] * len(word_to_index)\n",
    "print(result)\n",
    "\n",
    "idx = word_to_index[\"나\"]\n",
    "result[idx] = 1\n",
    "print(result)"
   ]
  },
  {
   "cell_type": "code",
   "execution_count": 54,
   "metadata": {
    "ExecuteTime": {
     "end_time": "2020-07-04T04:52:35.312457Z",
     "start_time": "2020-07-04T04:52:35.299719Z"
    }
   },
   "outputs": [
    {
     "name": "stdout",
     "output_type": "stream",
     "text": [
      "[1, 0, 0, 0, 0, 0]\n",
      "[0, 1, 0, 0, 0, 0]\n",
      "[0, 0, 1, 0, 0, 0]\n"
     ]
    }
   ],
   "source": [
    "def one_hot(단어, word_to_index):\n",
    "    result = [0] * len(word_to_index)\n",
    "    idx = word_to_index[단어]\n",
    "    result[idx] = 1\n",
    "    print(result)\n",
    "    \n",
    "one_hot(\"나\", word_to_index)\n",
    "one_hot(\"는\", word_to_index)\n",
    "one_hot(\"자연어\", word_to_index)"
   ]
  },
  {
   "cell_type": "code",
   "execution_count": 58,
   "metadata": {
    "ExecuteTime": {
     "end_time": "2020-07-04T05:01:24.133841Z",
     "start_time": "2020-07-04T05:01:24.120618Z"
    }
   },
   "outputs": [
    {
     "name": "stdout",
     "output_type": "stream",
     "text": [
      "{'나는': 3, '배가': 7, '고프다': 0, '내일': 4, '점심': 8, '뭐먹지': 6, '공부': 1, '해야겠다': 9, '먹고': 5, '공부해야지': 2}\n",
      "10\n"
     ]
    }
   ],
   "source": [
    "from sklearn.feature_extraction.text import CountVectorizer\n",
    "\n",
    "text_data = [\n",
    "    '나는 배가 고프다',\n",
    "    '내일 점심 뭐먹지',\n",
    "    '내일 공부 해야겠다.',\n",
    "    '점심 먹고 공부해야지'\n",
    "]\n",
    "\n",
    "count_vectorizer = CountVectorizer()\n",
    "x = count_vectorizer.fit_transform(text_data)\n",
    "print(count_vectorizer.vocabulary_)\n",
    "print(len(count_vectorizer.vocabulary_))"
   ]
  },
  {
   "cell_type": "code",
   "execution_count": 59,
   "metadata": {
    "ExecuteTime": {
     "end_time": "2020-07-04T05:01:26.094411Z",
     "start_time": "2020-07-04T05:01:26.087266Z"
    }
   },
   "outputs": [
    {
     "name": "stdout",
     "output_type": "stream",
     "text": [
      "<class 'sklearn.feature_extraction.text.CountVectorizer'>\n"
     ]
    }
   ],
   "source": [
    "print(type(count_vectorizer))"
   ]
  },
  {
   "cell_type": "code",
   "execution_count": 63,
   "metadata": {
    "ExecuteTime": {
     "end_time": "2020-07-04T05:03:04.944896Z",
     "start_time": "2020-07-04T05:03:04.936994Z"
    }
   },
   "outputs": [
    {
     "name": "stdout",
     "output_type": "stream",
     "text": [
      "[[1 0 0 1 0 0 0 1 0 0]\n",
      " [0 0 0 0 1 0 1 0 1 0]\n",
      " [0 1 0 0 1 0 0 0 0 1]\n",
      " [0 0 1 0 0 1 0 0 1 0]]\n"
     ]
    }
   ],
   "source": [
    "print(x.toarray())"
   ]
  },
  {
   "cell_type": "code",
   "execution_count": 64,
   "metadata": {
    "ExecuteTime": {
     "end_time": "2020-07-04T05:07:17.675753Z",
     "start_time": "2020-07-04T05:07:17.659604Z"
    }
   },
   "outputs": [
    {
     "name": "stdout",
     "output_type": "stream",
     "text": [
      "{'나는': 3, '배가': 7, '고프다': 0, '내일': 4, '점심': 8, '뭐먹지': 6, '공부': 1, '해야겠다': 9, '먹고': 5, '공부해야지': 2}\n"
     ]
    }
   ],
   "source": [
    "from sklearn.feature_extraction.text import TfidfVectorizer\n",
    "\n",
    "text_data = [\n",
    "    '나는 배가 고프다',\n",
    "    '내일 점심 뭐먹지',\n",
    "    '내일 공부 해야겠다.',\n",
    "    '점심 먹고 공부해야지'\n",
    "]\n",
    "\n",
    "tfid = TfidfVectorizer()\n",
    "x = tfid.fit_transform(text_data)\n",
    "print(tfid.vocabulary_)"
   ]
  },
  {
   "cell_type": "code",
   "execution_count": 65,
   "metadata": {
    "ExecuteTime": {
     "end_time": "2020-07-04T05:07:25.239253Z",
     "start_time": "2020-07-04T05:07:25.230073Z"
    }
   },
   "outputs": [
    {
     "name": "stdout",
     "output_type": "stream",
     "text": [
      "[[0.57735027 0.         0.         0.57735027 0.         0.\n",
      "  0.         0.57735027 0.         0.        ]\n",
      " [0.         0.         0.         0.         0.52640543 0.\n",
      "  0.66767854 0.         0.52640543 0.        ]\n",
      " [0.         0.61761437 0.         0.         0.48693426 0.\n",
      "  0.         0.         0.         0.61761437]\n",
      " [0.         0.         0.61761437 0.         0.         0.61761437\n",
      "  0.         0.         0.48693426 0.        ]]\n"
     ]
    }
   ],
   "source": [
    "print(x.toarray())"
   ]
  },
  {
   "cell_type": "code",
   "execution_count": 68,
   "metadata": {
    "ExecuteTime": {
     "end_time": "2020-07-04T05:29:59.057501Z",
     "start_time": "2020-07-04T05:29:59.035371Z"
    }
   },
   "outputs": [
    {
     "data": {
      "text/html": [
       "<div>\n",
       "<style scoped>\n",
       "    .dataframe tbody tr th:only-of-type {\n",
       "        vertical-align: middle;\n",
       "    }\n",
       "\n",
       "    .dataframe tbody tr th {\n",
       "        vertical-align: top;\n",
       "    }\n",
       "\n",
       "    .dataframe thead th {\n",
       "        text-align: right;\n",
       "    }\n",
       "</style>\n",
       "<table border=\"1\" class=\"dataframe\">\n",
       "  <thead>\n",
       "    <tr style=\"text-align: right;\">\n",
       "      <th></th>\n",
       "      <th>a</th>\n",
       "      <th>b</th>\n",
       "      <th>c</th>\n",
       "      <th>d</th>\n",
       "    </tr>\n",
       "  </thead>\n",
       "  <tbody>\n",
       "    <tr>\n",
       "      <th>row0</th>\n",
       "      <td>0</td>\n",
       "      <td>1</td>\n",
       "      <td>2</td>\n",
       "      <td>3</td>\n",
       "    </tr>\n",
       "    <tr>\n",
       "      <th>row1</th>\n",
       "      <td>4</td>\n",
       "      <td>5</td>\n",
       "      <td>6</td>\n",
       "      <td>7</td>\n",
       "    </tr>\n",
       "    <tr>\n",
       "      <th>row2</th>\n",
       "      <td>8</td>\n",
       "      <td>9</td>\n",
       "      <td>10</td>\n",
       "      <td>11</td>\n",
       "    </tr>\n",
       "    <tr>\n",
       "      <th>row3</th>\n",
       "      <td>12</td>\n",
       "      <td>13</td>\n",
       "      <td>14</td>\n",
       "      <td>15</td>\n",
       "    </tr>\n",
       "  </tbody>\n",
       "</table>\n",
       "</div>"
      ],
      "text/plain": [
       "       a   b   c   d\n",
       "row0   0   1   2   3\n",
       "row1   4   5   6   7\n",
       "row2   8   9  10  11\n",
       "row3  12  13  14  15"
      ]
     },
     "execution_count": 68,
     "metadata": {},
     "output_type": "execute_result"
    }
   ],
   "source": [
    "from pandas import DataFrame\n",
    "import numpy as np\n",
    "\n",
    "df = DataFrame(np.arange(16).reshape(4,4))\n",
    "df.columns = ['a', 'b', 'c', 'd']\n",
    "df.index = ['row0', 'row1', 'row2', 'row3']\n",
    "df"
   ]
  },
  {
   "cell_type": "code",
   "execution_count": 69,
   "metadata": {
    "ExecuteTime": {
     "end_time": "2020-07-04T05:32:05.589333Z",
     "start_time": "2020-07-04T05:32:05.574681Z"
    }
   },
   "outputs": [
    {
     "name": "stdout",
     "output_type": "stream",
     "text": [
      "a    0\n",
      "b    1\n",
      "c    2\n",
      "d    3\n",
      "Name: row0, dtype: int64\n",
      "      a  b  c  d\n",
      "row0  0  1  2  3\n",
      "row1  4  5  6  7\n"
     ]
    }
   ],
   "source": [
    "print(df.iloc[0])\n",
    "print(df.iloc[0:2])"
   ]
  },
  {
   "cell_type": "code",
   "execution_count": 70,
   "metadata": {
    "ExecuteTime": {
     "end_time": "2020-07-04T05:33:26.902081Z",
     "start_time": "2020-07-04T05:33:26.888149Z"
    }
   },
   "outputs": [
    {
     "name": "stdout",
     "output_type": "stream",
     "text": [
      "      a  b   c   d\n",
      "row0  0  1   2   3\n",
      "row2  8  9  10  11\n"
     ]
    }
   ],
   "source": [
    "target = [0,2]\n",
    "print(df.iloc[target])"
   ]
  },
  {
   "cell_type": "code",
   "execution_count": 72,
   "metadata": {
    "ExecuteTime": {
     "end_time": "2020-07-04T05:36:17.557854Z",
     "start_time": "2020-07-04T05:36:17.546742Z"
    }
   },
   "outputs": [
    {
     "data": {
      "text/plain": [
       "row0     0\n",
       "row1     4\n",
       "row2     8\n",
       "row3    12\n",
       "Name: a, dtype: int64"
      ]
     },
     "execution_count": 72,
     "metadata": {},
     "output_type": "execute_result"
    }
   ],
   "source": [
    "df['a']"
   ]
  },
  {
   "cell_type": "code",
   "execution_count": 73,
   "metadata": {
    "ExecuteTime": {
     "end_time": "2020-07-04T05:38:19.458872Z",
     "start_time": "2020-07-04T05:38:19.452192Z"
    }
   },
   "outputs": [],
   "source": [
    "def myfunc(x):\n",
    "    return x + 10"
   ]
  },
  {
   "cell_type": "code",
   "execution_count": 74,
   "metadata": {
    "ExecuteTime": {
     "end_time": "2020-07-04T05:38:34.429796Z",
     "start_time": "2020-07-04T05:38:34.410180Z"
    }
   },
   "outputs": [
    {
     "data": {
      "text/html": [
       "<div>\n",
       "<style scoped>\n",
       "    .dataframe tbody tr th:only-of-type {\n",
       "        vertical-align: middle;\n",
       "    }\n",
       "\n",
       "    .dataframe tbody tr th {\n",
       "        vertical-align: top;\n",
       "    }\n",
       "\n",
       "    .dataframe thead th {\n",
       "        text-align: right;\n",
       "    }\n",
       "</style>\n",
       "<table border=\"1\" class=\"dataframe\">\n",
       "  <thead>\n",
       "    <tr style=\"text-align: right;\">\n",
       "      <th></th>\n",
       "      <th>a</th>\n",
       "      <th>b</th>\n",
       "      <th>c</th>\n",
       "      <th>d</th>\n",
       "    </tr>\n",
       "  </thead>\n",
       "  <tbody>\n",
       "    <tr>\n",
       "      <th>row0</th>\n",
       "      <td>0</td>\n",
       "      <td>1</td>\n",
       "      <td>2</td>\n",
       "      <td>3</td>\n",
       "    </tr>\n",
       "    <tr>\n",
       "      <th>row1</th>\n",
       "      <td>4</td>\n",
       "      <td>5</td>\n",
       "      <td>6</td>\n",
       "      <td>7</td>\n",
       "    </tr>\n",
       "    <tr>\n",
       "      <th>row2</th>\n",
       "      <td>8</td>\n",
       "      <td>9</td>\n",
       "      <td>10</td>\n",
       "      <td>11</td>\n",
       "    </tr>\n",
       "    <tr>\n",
       "      <th>row3</th>\n",
       "      <td>12</td>\n",
       "      <td>13</td>\n",
       "      <td>14</td>\n",
       "      <td>15</td>\n",
       "    </tr>\n",
       "  </tbody>\n",
       "</table>\n",
       "</div>"
      ],
      "text/plain": [
       "       a   b   c   d\n",
       "row0   0   1   2   3\n",
       "row1   4   5   6   7\n",
       "row2   8   9  10  11\n",
       "row3  12  13  14  15"
      ]
     },
     "execution_count": 74,
     "metadata": {},
     "output_type": "execute_result"
    }
   ],
   "source": [
    "df"
   ]
  },
  {
   "cell_type": "code",
   "execution_count": 75,
   "metadata": {
    "ExecuteTime": {
     "end_time": "2020-07-04T05:38:46.902935Z",
     "start_time": "2020-07-04T05:38:46.890773Z"
    }
   },
   "outputs": [
    {
     "data": {
      "text/plain": [
       "row0    10\n",
       "row1    14\n",
       "row2    18\n",
       "row3    22\n",
       "Name: a, dtype: int64"
      ]
     },
     "execution_count": 75,
     "metadata": {},
     "output_type": "execute_result"
    }
   ],
   "source": [
    "df['a'].apply(myfunc)"
   ]
  },
  {
   "cell_type": "code",
   "execution_count": 76,
   "metadata": {
    "ExecuteTime": {
     "end_time": "2020-07-04T05:40:29.322927Z",
     "start_time": "2020-07-04T05:40:29.314392Z"
    }
   },
   "outputs": [
    {
     "name": "stdout",
     "output_type": "stream",
     "text": [
      "[0, 4, 8, 12]\n"
     ]
    }
   ],
   "source": [
    "결과 = []\n",
    "for 변수 in df['a']:\n",
    "    결과.append(변수)\n",
    "print(결과)"
   ]
  },
  {
   "cell_type": "code",
   "execution_count": 77,
   "metadata": {
    "ExecuteTime": {
     "end_time": "2020-07-04T05:40:35.789888Z",
     "start_time": "2020-07-04T05:40:35.772291Z"
    }
   },
   "outputs": [
    {
     "data": {
      "text/html": [
       "<div>\n",
       "<style scoped>\n",
       "    .dataframe tbody tr th:only-of-type {\n",
       "        vertical-align: middle;\n",
       "    }\n",
       "\n",
       "    .dataframe tbody tr th {\n",
       "        vertical-align: top;\n",
       "    }\n",
       "\n",
       "    .dataframe thead th {\n",
       "        text-align: right;\n",
       "    }\n",
       "</style>\n",
       "<table border=\"1\" class=\"dataframe\">\n",
       "  <thead>\n",
       "    <tr style=\"text-align: right;\">\n",
       "      <th></th>\n",
       "      <th>a</th>\n",
       "      <th>b</th>\n",
       "      <th>c</th>\n",
       "      <th>d</th>\n",
       "    </tr>\n",
       "  </thead>\n",
       "  <tbody>\n",
       "    <tr>\n",
       "      <th>row0</th>\n",
       "      <td>0</td>\n",
       "      <td>1</td>\n",
       "      <td>2</td>\n",
       "      <td>3</td>\n",
       "    </tr>\n",
       "    <tr>\n",
       "      <th>row1</th>\n",
       "      <td>4</td>\n",
       "      <td>5</td>\n",
       "      <td>6</td>\n",
       "      <td>7</td>\n",
       "    </tr>\n",
       "    <tr>\n",
       "      <th>row2</th>\n",
       "      <td>8</td>\n",
       "      <td>9</td>\n",
       "      <td>10</td>\n",
       "      <td>11</td>\n",
       "    </tr>\n",
       "    <tr>\n",
       "      <th>row3</th>\n",
       "      <td>12</td>\n",
       "      <td>13</td>\n",
       "      <td>14</td>\n",
       "      <td>15</td>\n",
       "    </tr>\n",
       "  </tbody>\n",
       "</table>\n",
       "</div>"
      ],
      "text/plain": [
       "       a   b   c   d\n",
       "row0   0   1   2   3\n",
       "row1   4   5   6   7\n",
       "row2   8   9  10  11\n",
       "row3  12  13  14  15"
      ]
     },
     "execution_count": 77,
     "metadata": {},
     "output_type": "execute_result"
    }
   ],
   "source": [
    "df['a'] = 결과\n",
    "df"
   ]
  },
  {
   "cell_type": "code",
   "execution_count": 66,
   "metadata": {
    "ExecuteTime": {
     "end_time": "2020-07-04T05:24:58.038038Z",
     "start_time": "2020-07-04T05:24:57.080632Z"
    }
   },
   "outputs": [
    {
     "data": {
      "text/html": [
       "<div>\n",
       "<style scoped>\n",
       "    .dataframe tbody tr th:only-of-type {\n",
       "        vertical-align: middle;\n",
       "    }\n",
       "\n",
       "    .dataframe tbody tr th {\n",
       "        vertical-align: top;\n",
       "    }\n",
       "\n",
       "    .dataframe thead th {\n",
       "        text-align: right;\n",
       "    }\n",
       "</style>\n",
       "<table border=\"1\" class=\"dataframe\">\n",
       "  <thead>\n",
       "    <tr style=\"text-align: right;\">\n",
       "      <th></th>\n",
       "      <th>adult</th>\n",
       "      <th>belongs_to_collection</th>\n",
       "      <th>budget</th>\n",
       "      <th>genres</th>\n",
       "      <th>homepage</th>\n",
       "      <th>id</th>\n",
       "      <th>imdb_id</th>\n",
       "      <th>original_language</th>\n",
       "      <th>original_title</th>\n",
       "      <th>overview</th>\n",
       "      <th>...</th>\n",
       "      <th>release_date</th>\n",
       "      <th>revenue</th>\n",
       "      <th>runtime</th>\n",
       "      <th>spoken_languages</th>\n",
       "      <th>status</th>\n",
       "      <th>tagline</th>\n",
       "      <th>title</th>\n",
       "      <th>video</th>\n",
       "      <th>vote_average</th>\n",
       "      <th>vote_count</th>\n",
       "    </tr>\n",
       "  </thead>\n",
       "  <tbody>\n",
       "    <tr>\n",
       "      <th>0</th>\n",
       "      <td>False</td>\n",
       "      <td>{'id': 10194, 'name': 'Toy Story Collection', ...</td>\n",
       "      <td>30000000</td>\n",
       "      <td>[{'id': 16, 'name': 'Animation'}, {'id': 35, '...</td>\n",
       "      <td>http://toystory.disney.com/toy-story</td>\n",
       "      <td>862</td>\n",
       "      <td>tt0114709</td>\n",
       "      <td>en</td>\n",
       "      <td>Toy Story</td>\n",
       "      <td>Led by Woody, Andy's toys live happily in his ...</td>\n",
       "      <td>...</td>\n",
       "      <td>1995-10-30</td>\n",
       "      <td>373554033.0</td>\n",
       "      <td>81.0</td>\n",
       "      <td>[{'iso_639_1': 'en', 'name': 'English'}]</td>\n",
       "      <td>Released</td>\n",
       "      <td>NaN</td>\n",
       "      <td>Toy Story</td>\n",
       "      <td>False</td>\n",
       "      <td>7.7</td>\n",
       "      <td>5415.0</td>\n",
       "    </tr>\n",
       "    <tr>\n",
       "      <th>1</th>\n",
       "      <td>False</td>\n",
       "      <td>NaN</td>\n",
       "      <td>65000000</td>\n",
       "      <td>[{'id': 12, 'name': 'Adventure'}, {'id': 14, '...</td>\n",
       "      <td>NaN</td>\n",
       "      <td>8844</td>\n",
       "      <td>tt0113497</td>\n",
       "      <td>en</td>\n",
       "      <td>Jumanji</td>\n",
       "      <td>When siblings Judy and Peter discover an encha...</td>\n",
       "      <td>...</td>\n",
       "      <td>1995-12-15</td>\n",
       "      <td>262797249.0</td>\n",
       "      <td>104.0</td>\n",
       "      <td>[{'iso_639_1': 'en', 'name': 'English'}, {'iso...</td>\n",
       "      <td>Released</td>\n",
       "      <td>Roll the dice and unleash the excitement!</td>\n",
       "      <td>Jumanji</td>\n",
       "      <td>False</td>\n",
       "      <td>6.9</td>\n",
       "      <td>2413.0</td>\n",
       "    </tr>\n",
       "    <tr>\n",
       "      <th>2</th>\n",
       "      <td>False</td>\n",
       "      <td>{'id': 119050, 'name': 'Grumpy Old Men Collect...</td>\n",
       "      <td>0</td>\n",
       "      <td>[{'id': 10749, 'name': 'Romance'}, {'id': 35, ...</td>\n",
       "      <td>NaN</td>\n",
       "      <td>15602</td>\n",
       "      <td>tt0113228</td>\n",
       "      <td>en</td>\n",
       "      <td>Grumpier Old Men</td>\n",
       "      <td>A family wedding reignites the ancient feud be...</td>\n",
       "      <td>...</td>\n",
       "      <td>1995-12-22</td>\n",
       "      <td>0.0</td>\n",
       "      <td>101.0</td>\n",
       "      <td>[{'iso_639_1': 'en', 'name': 'English'}]</td>\n",
       "      <td>Released</td>\n",
       "      <td>Still Yelling. Still Fighting. Still Ready for...</td>\n",
       "      <td>Grumpier Old Men</td>\n",
       "      <td>False</td>\n",
       "      <td>6.5</td>\n",
       "      <td>92.0</td>\n",
       "    </tr>\n",
       "    <tr>\n",
       "      <th>3</th>\n",
       "      <td>False</td>\n",
       "      <td>NaN</td>\n",
       "      <td>16000000</td>\n",
       "      <td>[{'id': 35, 'name': 'Comedy'}, {'id': 18, 'nam...</td>\n",
       "      <td>NaN</td>\n",
       "      <td>31357</td>\n",
       "      <td>tt0114885</td>\n",
       "      <td>en</td>\n",
       "      <td>Waiting to Exhale</td>\n",
       "      <td>Cheated on, mistreated and stepped on, the wom...</td>\n",
       "      <td>...</td>\n",
       "      <td>1995-12-22</td>\n",
       "      <td>81452156.0</td>\n",
       "      <td>127.0</td>\n",
       "      <td>[{'iso_639_1': 'en', 'name': 'English'}]</td>\n",
       "      <td>Released</td>\n",
       "      <td>Friends are the people who let you be yourself...</td>\n",
       "      <td>Waiting to Exhale</td>\n",
       "      <td>False</td>\n",
       "      <td>6.1</td>\n",
       "      <td>34.0</td>\n",
       "    </tr>\n",
       "    <tr>\n",
       "      <th>4</th>\n",
       "      <td>False</td>\n",
       "      <td>{'id': 96871, 'name': 'Father of the Bride Col...</td>\n",
       "      <td>0</td>\n",
       "      <td>[{'id': 35, 'name': 'Comedy'}]</td>\n",
       "      <td>NaN</td>\n",
       "      <td>11862</td>\n",
       "      <td>tt0113041</td>\n",
       "      <td>en</td>\n",
       "      <td>Father of the Bride Part II</td>\n",
       "      <td>Just when George Banks has recovered from his ...</td>\n",
       "      <td>...</td>\n",
       "      <td>1995-02-10</td>\n",
       "      <td>76578911.0</td>\n",
       "      <td>106.0</td>\n",
       "      <td>[{'iso_639_1': 'en', 'name': 'English'}]</td>\n",
       "      <td>Released</td>\n",
       "      <td>Just When His World Is Back To Normal... He's ...</td>\n",
       "      <td>Father of the Bride Part II</td>\n",
       "      <td>False</td>\n",
       "      <td>5.7</td>\n",
       "      <td>173.0</td>\n",
       "    </tr>\n",
       "  </tbody>\n",
       "</table>\n",
       "<p>5 rows × 24 columns</p>\n",
       "</div>"
      ],
      "text/plain": [
       "   adult                              belongs_to_collection    budget  \\\n",
       "0  False  {'id': 10194, 'name': 'Toy Story Collection', ...  30000000   \n",
       "1  False                                                NaN  65000000   \n",
       "2  False  {'id': 119050, 'name': 'Grumpy Old Men Collect...         0   \n",
       "3  False                                                NaN  16000000   \n",
       "4  False  {'id': 96871, 'name': 'Father of the Bride Col...         0   \n",
       "\n",
       "                                              genres  \\\n",
       "0  [{'id': 16, 'name': 'Animation'}, {'id': 35, '...   \n",
       "1  [{'id': 12, 'name': 'Adventure'}, {'id': 14, '...   \n",
       "2  [{'id': 10749, 'name': 'Romance'}, {'id': 35, ...   \n",
       "3  [{'id': 35, 'name': 'Comedy'}, {'id': 18, 'nam...   \n",
       "4                     [{'id': 35, 'name': 'Comedy'}]   \n",
       "\n",
       "                               homepage     id    imdb_id original_language  \\\n",
       "0  http://toystory.disney.com/toy-story    862  tt0114709                en   \n",
       "1                                   NaN   8844  tt0113497                en   \n",
       "2                                   NaN  15602  tt0113228                en   \n",
       "3                                   NaN  31357  tt0114885                en   \n",
       "4                                   NaN  11862  tt0113041                en   \n",
       "\n",
       "                original_title  \\\n",
       "0                    Toy Story   \n",
       "1                      Jumanji   \n",
       "2             Grumpier Old Men   \n",
       "3            Waiting to Exhale   \n",
       "4  Father of the Bride Part II   \n",
       "\n",
       "                                            overview  ... release_date  \\\n",
       "0  Led by Woody, Andy's toys live happily in his ...  ...   1995-10-30   \n",
       "1  When siblings Judy and Peter discover an encha...  ...   1995-12-15   \n",
       "2  A family wedding reignites the ancient feud be...  ...   1995-12-22   \n",
       "3  Cheated on, mistreated and stepped on, the wom...  ...   1995-12-22   \n",
       "4  Just when George Banks has recovered from his ...  ...   1995-02-10   \n",
       "\n",
       "       revenue runtime                                   spoken_languages  \\\n",
       "0  373554033.0    81.0           [{'iso_639_1': 'en', 'name': 'English'}]   \n",
       "1  262797249.0   104.0  [{'iso_639_1': 'en', 'name': 'English'}, {'iso...   \n",
       "2          0.0   101.0           [{'iso_639_1': 'en', 'name': 'English'}]   \n",
       "3   81452156.0   127.0           [{'iso_639_1': 'en', 'name': 'English'}]   \n",
       "4   76578911.0   106.0           [{'iso_639_1': 'en', 'name': 'English'}]   \n",
       "\n",
       "     status                                            tagline  \\\n",
       "0  Released                                                NaN   \n",
       "1  Released          Roll the dice and unleash the excitement!   \n",
       "2  Released  Still Yelling. Still Fighting. Still Ready for...   \n",
       "3  Released  Friends are the people who let you be yourself...   \n",
       "4  Released  Just When His World Is Back To Normal... He's ...   \n",
       "\n",
       "                         title  video vote_average vote_count  \n",
       "0                    Toy Story  False          7.7     5415.0  \n",
       "1                      Jumanji  False          6.9     2413.0  \n",
       "2             Grumpier Old Men  False          6.5       92.0  \n",
       "3            Waiting to Exhale  False          6.1       34.0  \n",
       "4  Father of the Bride Part II  False          5.7      173.0  \n",
       "\n",
       "[5 rows x 24 columns]"
      ]
     },
     "execution_count": 66,
     "metadata": {},
     "output_type": "execute_result"
    }
   ],
   "source": [
    "import pandas as pd\n",
    "from sklearn.feature_extraction.text import TfidfVectorizer\n",
    "from sklearn.metrics.pairwise import linear_kernel\n",
    "\n",
    "data = pd.read_csv('./Data/텍스트분석_실습화일/movies_metadata.csv', low_memory=False) # low_memory : 데이터타입을 확인하지 말아라\n",
    "data = data.iloc[:20000]\n",
    "data.head()"
   ]
  },
  {
   "cell_type": "code",
   "execution_count": 85,
   "metadata": {
    "ExecuteTime": {
     "end_time": "2020-07-04T06:03:43.323390Z",
     "start_time": "2020-07-04T06:03:42.233777Z"
    }
   },
   "outputs": [
    {
     "name": "stderr",
     "output_type": "stream",
     "text": [
      "/home/piai/anaconda3/lib/python3.7/site-packages/ipykernel_launcher.py:5: SettingWithCopyWarning: \n",
      "A value is trying to be set on a copy of a slice from a DataFrame.\n",
      "Try using .loc[row_indexer,col_indexer] = value instead\n",
      "\n",
      "See the caveats in the documentation: https://pandas.pydata.org/pandas-docs/stable/user_guide/indexing.html#returning-a-view-versus-a-copy\n",
      "  \"\"\"\n"
     ]
    },
    {
     "name": "stdout",
     "output_type": "stream",
     "text": [
      "(20000, 47788)\n"
     ]
    }
   ],
   "source": [
    "filtering=['title','overview']\n",
    "data_filtered=data[filtering]\n",
    "data_filtered\n",
    " \n",
    "data_filtered['overview']=data_filtered['overview'].fillna(\"\")\n",
    "tv=TfidfVectorizer()\n",
    "x=tv.fit_transform(data_filtered['overview'])\n",
    "print(x.shape)"
   ]
  },
  {
   "cell_type": "code",
   "execution_count": 86,
   "metadata": {
    "ExecuteTime": {
     "end_time": "2020-07-04T06:04:21.905592Z",
     "start_time": "2020-07-04T06:04:05.273450Z"
    }
   },
   "outputs": [
    {
     "name": "stdout",
     "output_type": "stream",
     "text": [
      "[[1.         0.03159638 0.01315753 ... 0.00937445 0.00663579 0.01287191]\n",
      " [0.03159638 1.         0.05861841 ... 0.01662246 0.00923478 0.02075763]\n",
      " [0.01315753 0.05861841 1.         ... 0.02126599 0.0113464  0.02714279]\n",
      " ...\n",
      " [0.00937445 0.01662246 0.02126599 ... 1.         0.01155386 0.09221195]\n",
      " [0.00663579 0.00923478 0.0113464  ... 0.01155386 1.         0.01962758]\n",
      " [0.01287191 0.02075763 0.02714279 ... 0.09221195 0.01962758 1.        ]]\n"
     ]
    }
   ],
   "source": [
    "cosine_sim = linear_kernel(x, x)\n",
    "print(cosine_sim)"
   ]
  },
  {
   "cell_type": "code",
   "execution_count": 87,
   "metadata": {
    "ExecuteTime": {
     "end_time": "2020-07-04T06:23:14.088790Z",
     "start_time": "2020-07-04T06:23:14.083001Z"
    }
   },
   "outputs": [],
   "source": [
    "from pandas import DataFrame"
   ]
  },
  {
   "cell_type": "code",
   "execution_count": 90,
   "metadata": {
    "ExecuteTime": {
     "end_time": "2020-07-04T06:24:24.149212Z",
     "start_time": "2020-07-04T06:24:24.084416Z"
    }
   },
   "outputs": [
    {
     "data": {
      "text/html": [
       "<div>\n",
       "<style scoped>\n",
       "    .dataframe tbody tr th:only-of-type {\n",
       "        vertical-align: middle;\n",
       "    }\n",
       "\n",
       "    .dataframe tbody tr th {\n",
       "        vertical-align: top;\n",
       "    }\n",
       "\n",
       "    .dataframe thead th {\n",
       "        text-align: right;\n",
       "    }\n",
       "</style>\n",
       "<table border=\"1\" class=\"dataframe\">\n",
       "  <thead>\n",
       "    <tr style=\"text-align: right;\">\n",
       "      <th></th>\n",
       "      <th>0</th>\n",
       "      <th>1</th>\n",
       "      <th>2</th>\n",
       "      <th>3</th>\n",
       "      <th>4</th>\n",
       "      <th>5</th>\n",
       "      <th>6</th>\n",
       "      <th>7</th>\n",
       "      <th>8</th>\n",
       "      <th>9</th>\n",
       "      <th>...</th>\n",
       "      <th>19990</th>\n",
       "      <th>19991</th>\n",
       "      <th>19992</th>\n",
       "      <th>19993</th>\n",
       "      <th>19994</th>\n",
       "      <th>19995</th>\n",
       "      <th>19996</th>\n",
       "      <th>19997</th>\n",
       "      <th>19998</th>\n",
       "      <th>19999</th>\n",
       "    </tr>\n",
       "  </thead>\n",
       "  <tbody>\n",
       "    <tr>\n",
       "      <th>0</th>\n",
       "      <td>1.000000</td>\n",
       "      <td>0.031596</td>\n",
       "      <td>0.013158</td>\n",
       "      <td>0.015170</td>\n",
       "      <td>0.031137</td>\n",
       "      <td>0.015090</td>\n",
       "      <td>0.009666</td>\n",
       "      <td>0.008859</td>\n",
       "      <td>0.017594</td>\n",
       "      <td>0.013810</td>\n",
       "      <td>...</td>\n",
       "      <td>0.033621</td>\n",
       "      <td>0.033223</td>\n",
       "      <td>0.078046</td>\n",
       "      <td>0.025756</td>\n",
       "      <td>0.003536</td>\n",
       "      <td>0.006145</td>\n",
       "      <td>0.028347</td>\n",
       "      <td>0.009374</td>\n",
       "      <td>0.006636</td>\n",
       "      <td>0.012872</td>\n",
       "    </tr>\n",
       "    <tr>\n",
       "      <th>1</th>\n",
       "      <td>0.031596</td>\n",
       "      <td>1.000000</td>\n",
       "      <td>0.058618</td>\n",
       "      <td>0.039357</td>\n",
       "      <td>0.038015</td>\n",
       "      <td>0.072337</td>\n",
       "      <td>0.016634</td>\n",
       "      <td>0.017872</td>\n",
       "      <td>0.109981</td>\n",
       "      <td>0.021099</td>\n",
       "      <td>...</td>\n",
       "      <td>0.068981</td>\n",
       "      <td>0.026958</td>\n",
       "      <td>0.020444</td>\n",
       "      <td>0.048386</td>\n",
       "      <td>0.005340</td>\n",
       "      <td>0.003960</td>\n",
       "      <td>0.044776</td>\n",
       "      <td>0.016622</td>\n",
       "      <td>0.009235</td>\n",
       "      <td>0.020758</td>\n",
       "    </tr>\n",
       "    <tr>\n",
       "      <th>2</th>\n",
       "      <td>0.013158</td>\n",
       "      <td>0.058618</td>\n",
       "      <td>1.000000</td>\n",
       "      <td>0.044808</td>\n",
       "      <td>0.056953</td>\n",
       "      <td>0.017225</td>\n",
       "      <td>0.005048</td>\n",
       "      <td>0.029669</td>\n",
       "      <td>0.015860</td>\n",
       "      <td>0.018907</td>\n",
       "      <td>...</td>\n",
       "      <td>0.051708</td>\n",
       "      <td>0.016751</td>\n",
       "      <td>0.022256</td>\n",
       "      <td>0.042754</td>\n",
       "      <td>0.008591</td>\n",
       "      <td>0.009444</td>\n",
       "      <td>0.008705</td>\n",
       "      <td>0.021266</td>\n",
       "      <td>0.011346</td>\n",
       "      <td>0.027143</td>\n",
       "    </tr>\n",
       "    <tr>\n",
       "      <th>3</th>\n",
       "      <td>0.015170</td>\n",
       "      <td>0.039357</td>\n",
       "      <td>0.044808</td>\n",
       "      <td>1.000000</td>\n",
       "      <td>0.028359</td>\n",
       "      <td>0.036603</td>\n",
       "      <td>0.015868</td>\n",
       "      <td>0.024653</td>\n",
       "      <td>0.009164</td>\n",
       "      <td>0.027014</td>\n",
       "      <td>...</td>\n",
       "      <td>0.053058</td>\n",
       "      <td>0.027434</td>\n",
       "      <td>0.028045</td>\n",
       "      <td>0.031191</td>\n",
       "      <td>0.010878</td>\n",
       "      <td>0.006849</td>\n",
       "      <td>0.040733</td>\n",
       "      <td>0.012848</td>\n",
       "      <td>0.013658</td>\n",
       "      <td>0.016048</td>\n",
       "    </tr>\n",
       "    <tr>\n",
       "      <th>4</th>\n",
       "      <td>0.031137</td>\n",
       "      <td>0.038015</td>\n",
       "      <td>0.056953</td>\n",
       "      <td>0.028359</td>\n",
       "      <td>1.000000</td>\n",
       "      <td>0.021814</td>\n",
       "      <td>0.047444</td>\n",
       "      <td>0.022711</td>\n",
       "      <td>0.044583</td>\n",
       "      <td>0.026815</td>\n",
       "      <td>...</td>\n",
       "      <td>0.090237</td>\n",
       "      <td>0.041642</td>\n",
       "      <td>0.059301</td>\n",
       "      <td>0.094464</td>\n",
       "      <td>0.013599</td>\n",
       "      <td>0.004842</td>\n",
       "      <td>0.082597</td>\n",
       "      <td>0.011373</td>\n",
       "      <td>0.014654</td>\n",
       "      <td>0.019320</td>\n",
       "    </tr>\n",
       "    <tr>\n",
       "      <th>...</th>\n",
       "      <td>...</td>\n",
       "      <td>...</td>\n",
       "      <td>...</td>\n",
       "      <td>...</td>\n",
       "      <td>...</td>\n",
       "      <td>...</td>\n",
       "      <td>...</td>\n",
       "      <td>...</td>\n",
       "      <td>...</td>\n",
       "      <td>...</td>\n",
       "      <td>...</td>\n",
       "      <td>...</td>\n",
       "      <td>...</td>\n",
       "      <td>...</td>\n",
       "      <td>...</td>\n",
       "      <td>...</td>\n",
       "      <td>...</td>\n",
       "      <td>...</td>\n",
       "      <td>...</td>\n",
       "      <td>...</td>\n",
       "      <td>...</td>\n",
       "    </tr>\n",
       "    <tr>\n",
       "      <th>19995</th>\n",
       "      <td>0.006145</td>\n",
       "      <td>0.003960</td>\n",
       "      <td>0.009444</td>\n",
       "      <td>0.006849</td>\n",
       "      <td>0.004842</td>\n",
       "      <td>0.009184</td>\n",
       "      <td>0.000000</td>\n",
       "      <td>0.003701</td>\n",
       "      <td>0.005614</td>\n",
       "      <td>0.002869</td>\n",
       "      <td>...</td>\n",
       "      <td>0.018855</td>\n",
       "      <td>0.004440</td>\n",
       "      <td>0.008248</td>\n",
       "      <td>0.013583</td>\n",
       "      <td>0.006311</td>\n",
       "      <td>1.000000</td>\n",
       "      <td>0.003774</td>\n",
       "      <td>0.009680</td>\n",
       "      <td>0.004919</td>\n",
       "      <td>0.009013</td>\n",
       "    </tr>\n",
       "    <tr>\n",
       "      <th>19996</th>\n",
       "      <td>0.028347</td>\n",
       "      <td>0.044776</td>\n",
       "      <td>0.008705</td>\n",
       "      <td>0.040733</td>\n",
       "      <td>0.082597</td>\n",
       "      <td>0.040635</td>\n",
       "      <td>0.011179</td>\n",
       "      <td>0.019192</td>\n",
       "      <td>0.006970</td>\n",
       "      <td>0.021219</td>\n",
       "      <td>...</td>\n",
       "      <td>0.050866</td>\n",
       "      <td>0.055550</td>\n",
       "      <td>0.013612</td>\n",
       "      <td>0.037979</td>\n",
       "      <td>0.044340</td>\n",
       "      <td>0.003774</td>\n",
       "      <td>1.000000</td>\n",
       "      <td>0.008864</td>\n",
       "      <td>0.011422</td>\n",
       "      <td>0.015059</td>\n",
       "    </tr>\n",
       "    <tr>\n",
       "      <th>19997</th>\n",
       "      <td>0.009374</td>\n",
       "      <td>0.016622</td>\n",
       "      <td>0.021266</td>\n",
       "      <td>0.012848</td>\n",
       "      <td>0.011373</td>\n",
       "      <td>0.014199</td>\n",
       "      <td>0.004068</td>\n",
       "      <td>0.030558</td>\n",
       "      <td>0.026795</td>\n",
       "      <td>0.010105</td>\n",
       "      <td>...</td>\n",
       "      <td>0.022311</td>\n",
       "      <td>0.011376</td>\n",
       "      <td>0.011160</td>\n",
       "      <td>0.038841</td>\n",
       "      <td>0.010734</td>\n",
       "      <td>0.009680</td>\n",
       "      <td>0.008864</td>\n",
       "      <td>1.000000</td>\n",
       "      <td>0.011554</td>\n",
       "      <td>0.092212</td>\n",
       "    </tr>\n",
       "    <tr>\n",
       "      <th>19998</th>\n",
       "      <td>0.006636</td>\n",
       "      <td>0.009235</td>\n",
       "      <td>0.011346</td>\n",
       "      <td>0.013658</td>\n",
       "      <td>0.014654</td>\n",
       "      <td>0.014613</td>\n",
       "      <td>0.000000</td>\n",
       "      <td>0.010707</td>\n",
       "      <td>0.007397</td>\n",
       "      <td>0.016033</td>\n",
       "      <td>...</td>\n",
       "      <td>0.025101</td>\n",
       "      <td>0.021948</td>\n",
       "      <td>0.011923</td>\n",
       "      <td>0.024490</td>\n",
       "      <td>0.047254</td>\n",
       "      <td>0.004919</td>\n",
       "      <td>0.011422</td>\n",
       "      <td>0.011554</td>\n",
       "      <td>1.000000</td>\n",
       "      <td>0.019628</td>\n",
       "    </tr>\n",
       "    <tr>\n",
       "      <th>19999</th>\n",
       "      <td>0.012872</td>\n",
       "      <td>0.020758</td>\n",
       "      <td>0.027143</td>\n",
       "      <td>0.016048</td>\n",
       "      <td>0.019320</td>\n",
       "      <td>0.020262</td>\n",
       "      <td>0.007086</td>\n",
       "      <td>0.018347</td>\n",
       "      <td>0.017575</td>\n",
       "      <td>0.023175</td>\n",
       "      <td>...</td>\n",
       "      <td>0.029855</td>\n",
       "      <td>0.019366</td>\n",
       "      <td>0.019917</td>\n",
       "      <td>0.030276</td>\n",
       "      <td>0.010937</td>\n",
       "      <td>0.009013</td>\n",
       "      <td>0.015059</td>\n",
       "      <td>0.092212</td>\n",
       "      <td>0.019628</td>\n",
       "      <td>1.000000</td>\n",
       "    </tr>\n",
       "  </tbody>\n",
       "</table>\n",
       "<p>20000 rows × 20000 columns</p>\n",
       "</div>"
      ],
      "text/plain": [
       "          0         1         2         3         4         5         6      \\\n",
       "0      1.000000  0.031596  0.013158  0.015170  0.031137  0.015090  0.009666   \n",
       "1      0.031596  1.000000  0.058618  0.039357  0.038015  0.072337  0.016634   \n",
       "2      0.013158  0.058618  1.000000  0.044808  0.056953  0.017225  0.005048   \n",
       "3      0.015170  0.039357  0.044808  1.000000  0.028359  0.036603  0.015868   \n",
       "4      0.031137  0.038015  0.056953  0.028359  1.000000  0.021814  0.047444   \n",
       "...         ...       ...       ...       ...       ...       ...       ...   \n",
       "19995  0.006145  0.003960  0.009444  0.006849  0.004842  0.009184  0.000000   \n",
       "19996  0.028347  0.044776  0.008705  0.040733  0.082597  0.040635  0.011179   \n",
       "19997  0.009374  0.016622  0.021266  0.012848  0.011373  0.014199  0.004068   \n",
       "19998  0.006636  0.009235  0.011346  0.013658  0.014654  0.014613  0.000000   \n",
       "19999  0.012872  0.020758  0.027143  0.016048  0.019320  0.020262  0.007086   \n",
       "\n",
       "          7         8         9      ...     19990     19991     19992  \\\n",
       "0      0.008859  0.017594  0.013810  ...  0.033621  0.033223  0.078046   \n",
       "1      0.017872  0.109981  0.021099  ...  0.068981  0.026958  0.020444   \n",
       "2      0.029669  0.015860  0.018907  ...  0.051708  0.016751  0.022256   \n",
       "3      0.024653  0.009164  0.027014  ...  0.053058  0.027434  0.028045   \n",
       "4      0.022711  0.044583  0.026815  ...  0.090237  0.041642  0.059301   \n",
       "...         ...       ...       ...  ...       ...       ...       ...   \n",
       "19995  0.003701  0.005614  0.002869  ...  0.018855  0.004440  0.008248   \n",
       "19996  0.019192  0.006970  0.021219  ...  0.050866  0.055550  0.013612   \n",
       "19997  0.030558  0.026795  0.010105  ...  0.022311  0.011376  0.011160   \n",
       "19998  0.010707  0.007397  0.016033  ...  0.025101  0.021948  0.011923   \n",
       "19999  0.018347  0.017575  0.023175  ...  0.029855  0.019366  0.019917   \n",
       "\n",
       "          19993     19994     19995     19996     19997     19998     19999  \n",
       "0      0.025756  0.003536  0.006145  0.028347  0.009374  0.006636  0.012872  \n",
       "1      0.048386  0.005340  0.003960  0.044776  0.016622  0.009235  0.020758  \n",
       "2      0.042754  0.008591  0.009444  0.008705  0.021266  0.011346  0.027143  \n",
       "3      0.031191  0.010878  0.006849  0.040733  0.012848  0.013658  0.016048  \n",
       "4      0.094464  0.013599  0.004842  0.082597  0.011373  0.014654  0.019320  \n",
       "...         ...       ...       ...       ...       ...       ...       ...  \n",
       "19995  0.013583  0.006311  1.000000  0.003774  0.009680  0.004919  0.009013  \n",
       "19996  0.037979  0.044340  0.003774  1.000000  0.008864  0.011422  0.015059  \n",
       "19997  0.038841  0.010734  0.009680  0.008864  1.000000  0.011554  0.092212  \n",
       "19998  0.024490  0.047254  0.004919  0.011422  0.011554  1.000000  0.019628  \n",
       "19999  0.030276  0.010937  0.009013  0.015059  0.092212  0.019628  1.000000  \n",
       "\n",
       "[20000 rows x 20000 columns]"
      ]
     },
     "execution_count": 90,
     "metadata": {},
     "output_type": "execute_result"
    }
   ],
   "source": [
    "df = DataFrame(cosine_sim)\n",
    "df"
   ]
  },
  {
   "cell_type": "code",
   "execution_count": 91,
   "metadata": {
    "ExecuteTime": {
     "end_time": "2020-07-04T06:24:57.443380Z",
     "start_time": "2020-07-04T06:24:57.430544Z"
    }
   },
   "outputs": [
    {
     "data": {
      "text/plain": [
       "0                                                Toy Story\n",
       "1                                                  Jumanji\n",
       "2                                         Grumpier Old Men\n",
       "3                                        Waiting to Exhale\n",
       "4                              Father of the Bride Part II\n",
       "                               ...                        \n",
       "19995                                            Rebellion\n",
       "19996                                           Versailles\n",
       "19997                                      Two in the Wave\n",
       "19998    Lotte Reiniger: Homage to the Inventor of the ...\n",
       "19999    RKO Production 601: The Making of 'Kong, the E...\n",
       "Name: title, Length: 20000, dtype: object"
      ]
     },
     "execution_count": 91,
     "metadata": {},
     "output_type": "execute_result"
    }
   ],
   "source": [
    "data_filtered['title']"
   ]
  },
  {
   "cell_type": "code",
   "execution_count": 92,
   "metadata": {
    "ExecuteTime": {
     "end_time": "2020-07-04T06:25:17.852020Z",
     "start_time": "2020-07-04T06:25:17.814957Z"
    }
   },
   "outputs": [],
   "source": [
    "df.columns = data_filtered['title']"
   ]
  },
  {
   "cell_type": "code",
   "execution_count": 96,
   "metadata": {
    "ExecuteTime": {
     "end_time": "2020-07-04T06:27:54.247460Z",
     "start_time": "2020-07-04T06:27:54.233690Z"
    }
   },
   "outputs": [],
   "source": [
    "df = df.T"
   ]
  },
  {
   "cell_type": "code",
   "execution_count": 98,
   "metadata": {
    "ExecuteTime": {
     "end_time": "2020-07-04T06:28:27.358312Z",
     "start_time": "2020-07-04T06:28:27.350069Z"
    }
   },
   "outputs": [],
   "source": [
    "s = df.loc['Toy Story']"
   ]
  },
  {
   "cell_type": "code",
   "execution_count": 99,
   "metadata": {
    "ExecuteTime": {
     "end_time": "2020-07-04T06:28:32.342081Z",
     "start_time": "2020-07-04T06:28:32.326895Z"
    }
   },
   "outputs": [],
   "source": [
    "s_sorted = s.sort_values()"
   ]
  },
  {
   "cell_type": "code",
   "execution_count": 100,
   "metadata": {
    "ExecuteTime": {
     "end_time": "2020-07-04T06:28:34.594695Z",
     "start_time": "2020-07-04T06:28:34.582498Z"
    }
   },
   "outputs": [
    {
     "data": {
      "text/plain": [
       "16575    0.000000\n",
       "11115    0.000000\n",
       "17490    0.000000\n",
       "17462    0.000000\n",
       "15733    0.000000\n",
       "           ...   \n",
       "8327     0.205903\n",
       "10301    0.272732\n",
       "2997     0.452408\n",
       "15348    0.485672\n",
       "0        1.000000\n",
       "Name: Toy Story, Length: 20000, dtype: float64"
      ]
     },
     "execution_count": 100,
     "metadata": {},
     "output_type": "execute_result"
    }
   ],
   "source": [
    "s_sorted"
   ]
  },
  {
   "cell_type": "code",
   "execution_count": 101,
   "metadata": {
    "ExecuteTime": {
     "end_time": "2020-07-04T06:29:43.458993Z",
     "start_time": "2020-07-04T06:29:43.447318Z"
    }
   },
   "outputs": [
    {
     "data": {
      "text/plain": [
       "Int64Index([11115, 17490, 17462, 15733, 17458], dtype='int64')"
      ]
     },
     "execution_count": 101,
     "metadata": {},
     "output_type": "execute_result"
    }
   ],
   "source": [
    "s_sorted.iloc[1:6].index"
   ]
  },
  {
   "cell_type": "code",
   "execution_count": 81,
   "metadata": {
    "ExecuteTime": {
     "end_time": "2020-07-04T05:45:57.147969Z",
     "start_time": "2020-07-04T05:45:57.122056Z"
    }
   },
   "outputs": [],
   "source": [
    "title = \"The Dark Knight Rises\"\n",
    "title2index = pd.Series(data=data.index, index=data['title']).drop_duplicates()\n",
    "index = title2index[title]"
   ]
  },
  {
   "cell_type": "code",
   "execution_count": 82,
   "metadata": {
    "ExecuteTime": {
     "end_time": "2020-07-04T05:46:10.269657Z",
     "start_time": "2020-07-04T05:46:10.255338Z"
    }
   },
   "outputs": [],
   "source": [
    "sim_scores = list(enumerate(cosine_sim[index]))"
   ]
  },
  {
   "cell_type": "code",
   "execution_count": 83,
   "metadata": {
    "ExecuteTime": {
     "end_time": "2020-07-04T05:46:59.794249Z",
     "start_time": "2020-07-04T05:46:59.761217Z"
    }
   },
   "outputs": [
    {
     "name": "stdout",
     "output_type": "stream",
     "text": [
      "[12481, 150, 1328, 15511, 585, 9230, 18035, 19792, 3095, 10122]\n",
      "12481                            The Dark Knight\n",
      "150                               Batman Forever\n",
      "1328                              Batman Returns\n",
      "15511                 Batman: Under the Red Hood\n",
      "585                                       Batman\n",
      "9230          Batman Beyond: Return of the Joker\n",
      "18035                           Batman: Year One\n",
      "19792    Batman: The Dark Knight Returns, Part 1\n",
      "3095                Batman: Mask of the Phantasm\n",
      "10122                              Batman Begins\n",
      "Name: title, dtype: object\n"
     ]
    }
   ],
   "source": [
    "sim_scores.sort(key=lambda x:x[1], reverse=True)\n",
    "top10 = sim_scores[1:11]\n",
    "top10_index = [x[0] for x in top10]\n",
    "print(top10_index)\n",
    "print(data['title'].iloc[top10_index])"
   ]
  },
  {
   "cell_type": "code",
   "execution_count": null,
   "metadata": {},
   "outputs": [],
   "source": []
  }
 ],
 "metadata": {
  "kernelspec": {
   "display_name": "Python 3",
   "language": "python",
   "name": "python3"
  },
  "language_info": {
   "codemirror_mode": {
    "name": "ipython",
    "version": 3
   },
   "file_extension": ".py",
   "mimetype": "text/x-python",
   "name": "python",
   "nbconvert_exporter": "python",
   "pygments_lexer": "ipython3",
   "version": "3.7.6"
  },
  "toc": {
   "base_numbering": 1,
   "nav_menu": {},
   "number_sections": true,
   "sideBar": true,
   "skip_h1_title": false,
   "title_cell": "Table of Contents",
   "title_sidebar": "Contents",
   "toc_cell": false,
   "toc_position": {},
   "toc_section_display": true,
   "toc_window_display": false
  },
  "varInspector": {
   "cols": {
    "lenName": 16,
    "lenType": 16,
    "lenVar": 40
   },
   "kernels_config": {
    "python": {
     "delete_cmd_postfix": "",
     "delete_cmd_prefix": "del ",
     "library": "var_list.py",
     "varRefreshCmd": "print(var_dic_list())"
    },
    "r": {
     "delete_cmd_postfix": ") ",
     "delete_cmd_prefix": "rm(",
     "library": "var_list.r",
     "varRefreshCmd": "cat(var_dic_list()) "
    }
   },
   "types_to_exclude": [
    "module",
    "function",
    "builtin_function_or_method",
    "instance",
    "_Feature"
   ],
   "window_display": false
  }
 },
 "nbformat": 4,
 "nbformat_minor": 4
}
