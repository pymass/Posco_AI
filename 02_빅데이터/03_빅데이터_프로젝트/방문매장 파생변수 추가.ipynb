{
 "cells": [
  {
   "cell_type": "code",
   "execution_count": 73,
   "metadata": {
    "ExecuteTime": {
     "end_time": "2020-07-21T01:43:06.458604Z",
     "start_time": "2020-07-21T01:43:06.452344Z"
    }
   },
   "outputs": [],
   "source": [
    "import pandas as pd\n",
    "import numpy as np"
   ]
  },
  {
   "cell_type": "code",
   "execution_count": 74,
   "metadata": {
    "ExecuteTime": {
     "end_time": "2020-07-21T01:43:07.306044Z",
     "start_time": "2020-07-21T01:43:06.680582Z"
    }
   },
   "outputs": [],
   "source": [
    "member = pd.read_csv('member_data_preprocessed.csv')\n",
    "product = pd.read_csv('product_preprocessed.csv')"
   ]
  },
  {
   "cell_type": "markdown",
   "metadata": {},
   "source": [
    "# 매장별 방문횟수 (1일 기준)"
   ]
  },
  {
   "cell_type": "code",
   "execution_count": 75,
   "metadata": {
    "ExecuteTime": {
     "end_time": "2020-07-21T01:43:08.210175Z",
     "start_time": "2020-07-21T01:43:08.036057Z"
    }
   },
   "outputs": [],
   "source": [
    "df1 = pd.pivot_table(index=['공급일자', '회원번호'], columns='구매매장', values='구매금액', aggfunc='count', data=product)"
   ]
  },
  {
   "cell_type": "code",
   "execution_count": 76,
   "metadata": {
    "ExecuteTime": {
     "end_time": "2020-07-21T01:43:08.664639Z",
     "start_time": "2020-07-21T01:43:08.377842Z"
    }
   },
   "outputs": [],
   "source": [
    "df1 = df1.applymap(lambda x: 1 if x > 0 else 0)"
   ]
  },
  {
   "cell_type": "code",
   "execution_count": 77,
   "metadata": {
    "ExecuteTime": {
     "end_time": "2020-07-21T01:43:08.794055Z",
     "start_time": "2020-07-21T01:43:08.770232Z"
    }
   },
   "outputs": [],
   "source": [
    "df1 = df1.reset_index().groupby('회원번호').sum()"
   ]
  },
  {
   "cell_type": "code",
   "execution_count": 78,
   "metadata": {
    "ExecuteTime": {
     "end_time": "2020-07-21T01:43:09.165223Z",
     "start_time": "2020-07-21T01:43:09.124379Z"
    }
   },
   "outputs": [],
   "source": [
    "df1['최다방문매장'] = df1.idxmax(axis=1)"
   ]
  },
  {
   "cell_type": "code",
   "execution_count": 79,
   "metadata": {
    "ExecuteTime": {
     "end_time": "2020-07-21T01:43:10.227955Z",
     "start_time": "2020-07-21T01:43:10.196779Z"
    }
   },
   "outputs": [],
   "source": [
    "member = pd.merge(member, df1['최다방문매장'], left_on='회원번호', right_index=True)"
   ]
  },
  {
   "cell_type": "markdown",
   "metadata": {},
   "source": [
    "# 최대매출매장"
   ]
  },
  {
   "cell_type": "code",
   "execution_count": 81,
   "metadata": {
    "ExecuteTime": {
     "end_time": "2020-07-21T01:43:14.237846Z",
     "start_time": "2020-07-21T01:43:14.164202Z"
    }
   },
   "outputs": [],
   "source": [
    "df2 = pd.pivot_table(data=product, index='회원번호', columns='구매매장', values='구매금액', aggfunc='sum').fillna(0).astype('int')"
   ]
  },
  {
   "cell_type": "code",
   "execution_count": 82,
   "metadata": {
    "ExecuteTime": {
     "end_time": "2020-07-21T01:43:14.743124Z",
     "start_time": "2020-07-21T01:43:14.707467Z"
    }
   },
   "outputs": [],
   "source": [
    "df2['최대매출매장'] = df2.idxmax(axis=1)"
   ]
  },
  {
   "cell_type": "code",
   "execution_count": 83,
   "metadata": {
    "ExecuteTime": {
     "end_time": "2020-07-21T01:43:15.134291Z",
     "start_time": "2020-07-21T01:43:15.111895Z"
    }
   },
   "outputs": [],
   "source": [
    "member = pd.merge(member, df2['최대매출매장'], left_on='회원번호', right_index=True)"
   ]
  },
  {
   "cell_type": "markdown",
   "metadata": {},
   "source": [
    "# 최종확인"
   ]
  },
  {
   "cell_type": "code",
   "execution_count": 88,
   "metadata": {
    "ExecuteTime": {
     "end_time": "2020-07-21T01:45:55.305893Z",
     "start_time": "2020-07-21T01:45:55.251386Z"
    }
   },
   "outputs": [
    {
     "data": {
      "text/html": [
       "<div>\n",
       "<style scoped>\n",
       "    .dataframe tbody tr th:only-of-type {\n",
       "        vertical-align: middle;\n",
       "    }\n",
       "\n",
       "    .dataframe tbody tr th {\n",
       "        vertical-align: top;\n",
       "    }\n",
       "\n",
       "    .dataframe thead th {\n",
       "        text-align: right;\n",
       "    }\n",
       "</style>\n",
       "<table border=\"1\" class=\"dataframe\">\n",
       "  <thead>\n",
       "    <tr style=\"text-align: right;\">\n",
       "      <th></th>\n",
       "      <th>회원번호</th>\n",
       "      <th>조합원상태</th>\n",
       "      <th>주소</th>\n",
       "      <th>성별</th>\n",
       "      <th>연령</th>\n",
       "      <th>배송서비스신청여부</th>\n",
       "      <th>모바일알람여부</th>\n",
       "      <th>Gold_member</th>\n",
       "      <th>연령대</th>\n",
       "      <th>구</th>\n",
       "      <th>동</th>\n",
       "      <th>방문횟수</th>\n",
       "      <th>반품횟수</th>\n",
       "      <th>총구매금액</th>\n",
       "      <th>1회평균구매금액</th>\n",
       "      <th>첫방문일</th>\n",
       "      <th>최종방문일</th>\n",
       "      <th>최다방문매장</th>\n",
       "      <th>최대매출매장</th>\n",
       "    </tr>\n",
       "  </thead>\n",
       "  <tbody>\n",
       "    <tr>\n",
       "      <th>1316</th>\n",
       "      <td>1171579584</td>\n",
       "      <td>정상회원</td>\n",
       "      <td>기타-기타</td>\n",
       "      <td>여</td>\n",
       "      <td>41</td>\n",
       "      <td>미신청</td>\n",
       "      <td>미수신</td>\n",
       "      <td>normal</td>\n",
       "      <td>35 ~ 44</td>\n",
       "      <td>기타</td>\n",
       "      <td>기타</td>\n",
       "      <td>6</td>\n",
       "      <td>0</td>\n",
       "      <td>306209</td>\n",
       "      <td>51035</td>\n",
       "      <td>2018-01-04</td>\n",
       "      <td>2018-10-07</td>\n",
       "      <td>매장C</td>\n",
       "      <td>매장A</td>\n",
       "    </tr>\n",
       "    <tr>\n",
       "      <th>1927</th>\n",
       "      <td>1254049088</td>\n",
       "      <td>정상회원</td>\n",
       "      <td>기타-기타</td>\n",
       "      <td>여</td>\n",
       "      <td>34</td>\n",
       "      <td>미신청</td>\n",
       "      <td>미수신</td>\n",
       "      <td>normal</td>\n",
       "      <td>34 이하</td>\n",
       "      <td>기타</td>\n",
       "      <td>기타</td>\n",
       "      <td>6</td>\n",
       "      <td>0</td>\n",
       "      <td>124533</td>\n",
       "      <td>20756</td>\n",
       "      <td>2018-01-10</td>\n",
       "      <td>2018-09-05</td>\n",
       "      <td>매장D</td>\n",
       "      <td>매장C</td>\n",
       "    </tr>\n",
       "    <tr>\n",
       "      <th>3033</th>\n",
       "      <td>1440601216</td>\n",
       "      <td>정상회원</td>\n",
       "      <td>기타-기타</td>\n",
       "      <td>남</td>\n",
       "      <td>37</td>\n",
       "      <td>미신청</td>\n",
       "      <td>미수신</td>\n",
       "      <td>normal</td>\n",
       "      <td>35 ~ 44</td>\n",
       "      <td>기타</td>\n",
       "      <td>기타</td>\n",
       "      <td>2</td>\n",
       "      <td>0</td>\n",
       "      <td>90551</td>\n",
       "      <td>45276</td>\n",
       "      <td>2018-01-22</td>\n",
       "      <td>2018-01-23</td>\n",
       "      <td>매장A</td>\n",
       "      <td>매장B</td>\n",
       "    </tr>\n",
       "    <tr>\n",
       "      <th>4497</th>\n",
       "      <td>1670400000</td>\n",
       "      <td>탈퇴</td>\n",
       "      <td>기타-비조합원</td>\n",
       "      <td>남</td>\n",
       "      <td>36</td>\n",
       "      <td>미신청</td>\n",
       "      <td>수신</td>\n",
       "      <td>normal</td>\n",
       "      <td>35 ~ 44</td>\n",
       "      <td>기타</td>\n",
       "      <td>비조합원</td>\n",
       "      <td>281</td>\n",
       "      <td>54</td>\n",
       "      <td>13398493</td>\n",
       "      <td>47681</td>\n",
       "      <td>2018-01-02</td>\n",
       "      <td>2018-10-31</td>\n",
       "      <td>매장B</td>\n",
       "      <td>매장C</td>\n",
       "    </tr>\n",
       "    <tr>\n",
       "      <th>4576</th>\n",
       "      <td>180288128</td>\n",
       "      <td>정상회원</td>\n",
       "      <td>기타-기타</td>\n",
       "      <td>여</td>\n",
       "      <td>54</td>\n",
       "      <td>미신청</td>\n",
       "      <td>미수신</td>\n",
       "      <td>normal</td>\n",
       "      <td>45 ~ 54</td>\n",
       "      <td>기타</td>\n",
       "      <td>기타</td>\n",
       "      <td>4</td>\n",
       "      <td>0</td>\n",
       "      <td>164258</td>\n",
       "      <td>41064</td>\n",
       "      <td>2018-01-30</td>\n",
       "      <td>2018-10-31</td>\n",
       "      <td>매장C</td>\n",
       "      <td>매장D</td>\n",
       "    </tr>\n",
       "    <tr>\n",
       "      <th>5565</th>\n",
       "      <td>313675136</td>\n",
       "      <td>정상회원</td>\n",
       "      <td>기타-기타</td>\n",
       "      <td>여</td>\n",
       "      <td>40</td>\n",
       "      <td>미신청</td>\n",
       "      <td>미수신</td>\n",
       "      <td>normal</td>\n",
       "      <td>35 ~ 44</td>\n",
       "      <td>기타</td>\n",
       "      <td>기타</td>\n",
       "      <td>2</td>\n",
       "      <td>0</td>\n",
       "      <td>76385</td>\n",
       "      <td>38192</td>\n",
       "      <td>2018-03-17</td>\n",
       "      <td>2018-09-08</td>\n",
       "      <td>매장B</td>\n",
       "      <td>매장C</td>\n",
       "    </tr>\n",
       "    <tr>\n",
       "      <th>7117</th>\n",
       "      <td>548177024</td>\n",
       "      <td>정상회원</td>\n",
       "      <td>기타-기타</td>\n",
       "      <td>여</td>\n",
       "      <td>59</td>\n",
       "      <td>미신청</td>\n",
       "      <td>미수신</td>\n",
       "      <td>normal</td>\n",
       "      <td>55 ~ 64</td>\n",
       "      <td>기타</td>\n",
       "      <td>기타</td>\n",
       "      <td>3</td>\n",
       "      <td>0</td>\n",
       "      <td>52360</td>\n",
       "      <td>17453</td>\n",
       "      <td>2018-01-09</td>\n",
       "      <td>2018-10-25</td>\n",
       "      <td>매장A</td>\n",
       "      <td>매장B</td>\n",
       "    </tr>\n",
       "    <tr>\n",
       "      <th>7123</th>\n",
       "      <td>548962112</td>\n",
       "      <td>정상회원</td>\n",
       "      <td>기타-기타</td>\n",
       "      <td>여</td>\n",
       "      <td>45</td>\n",
       "      <td>미신청</td>\n",
       "      <td>미수신</td>\n",
       "      <td>normal</td>\n",
       "      <td>35 ~ 44</td>\n",
       "      <td>기타</td>\n",
       "      <td>기타</td>\n",
       "      <td>12</td>\n",
       "      <td>0</td>\n",
       "      <td>334543</td>\n",
       "      <td>27879</td>\n",
       "      <td>2018-06-23</td>\n",
       "      <td>2018-09-29</td>\n",
       "      <td>매장C</td>\n",
       "      <td>매장D</td>\n",
       "    </tr>\n",
       "    <tr>\n",
       "      <th>7623</th>\n",
       "      <td>603730816</td>\n",
       "      <td>정상회원</td>\n",
       "      <td>기타-기타</td>\n",
       "      <td>여</td>\n",
       "      <td>43</td>\n",
       "      <td>미신청</td>\n",
       "      <td>미수신</td>\n",
       "      <td>normal</td>\n",
       "      <td>35 ~ 44</td>\n",
       "      <td>기타</td>\n",
       "      <td>기타</td>\n",
       "      <td>8</td>\n",
       "      <td>0</td>\n",
       "      <td>157364</td>\n",
       "      <td>19670</td>\n",
       "      <td>2018-01-08</td>\n",
       "      <td>2018-07-16</td>\n",
       "      <td>매장C</td>\n",
       "      <td>매장D</td>\n",
       "    </tr>\n",
       "    <tr>\n",
       "      <th>7717</th>\n",
       "      <td>613677120</td>\n",
       "      <td>정상회원</td>\n",
       "      <td>기타-기타</td>\n",
       "      <td>여</td>\n",
       "      <td>63</td>\n",
       "      <td>미신청</td>\n",
       "      <td>미수신</td>\n",
       "      <td>normal</td>\n",
       "      <td>55 ~ 64</td>\n",
       "      <td>기타</td>\n",
       "      <td>기타</td>\n",
       "      <td>3</td>\n",
       "      <td>0</td>\n",
       "      <td>50402</td>\n",
       "      <td>16801</td>\n",
       "      <td>2018-03-13</td>\n",
       "      <td>2018-05-10</td>\n",
       "      <td>매장B</td>\n",
       "      <td>매장C</td>\n",
       "    </tr>\n",
       "    <tr>\n",
       "      <th>8216</th>\n",
       "      <td>674099200</td>\n",
       "      <td>정상회원</td>\n",
       "      <td>기타-기타</td>\n",
       "      <td>여</td>\n",
       "      <td>63</td>\n",
       "      <td>미신청</td>\n",
       "      <td>미수신</td>\n",
       "      <td>normal</td>\n",
       "      <td>55 ~ 64</td>\n",
       "      <td>기타</td>\n",
       "      <td>기타</td>\n",
       "      <td>43</td>\n",
       "      <td>1</td>\n",
       "      <td>954390</td>\n",
       "      <td>22195</td>\n",
       "      <td>2018-01-04</td>\n",
       "      <td>2018-10-22</td>\n",
       "      <td>매장D</td>\n",
       "      <td>매장C</td>\n",
       "    </tr>\n",
       "    <tr>\n",
       "      <th>10498</th>\n",
       "      <td>855835008</td>\n",
       "      <td>정상회원</td>\n",
       "      <td>기타-기타</td>\n",
       "      <td>여</td>\n",
       "      <td>39</td>\n",
       "      <td>미신청</td>\n",
       "      <td>미수신</td>\n",
       "      <td>normal</td>\n",
       "      <td>35 ~ 44</td>\n",
       "      <td>기타</td>\n",
       "      <td>기타</td>\n",
       "      <td>3</td>\n",
       "      <td>0</td>\n",
       "      <td>68728</td>\n",
       "      <td>22909</td>\n",
       "      <td>2018-01-12</td>\n",
       "      <td>2018-08-22</td>\n",
       "      <td>매장D</td>\n",
       "      <td>매장C</td>\n",
       "    </tr>\n",
       "    <tr>\n",
       "      <th>11048</th>\n",
       "      <td>924935744</td>\n",
       "      <td>정상회원</td>\n",
       "      <td>기타-기타</td>\n",
       "      <td>여</td>\n",
       "      <td>38</td>\n",
       "      <td>미신청</td>\n",
       "      <td>미수신</td>\n",
       "      <td>normal</td>\n",
       "      <td>35 ~ 44</td>\n",
       "      <td>기타</td>\n",
       "      <td>기타</td>\n",
       "      <td>5</td>\n",
       "      <td>0</td>\n",
       "      <td>42883</td>\n",
       "      <td>8577</td>\n",
       "      <td>2018-01-08</td>\n",
       "      <td>2018-08-06</td>\n",
       "      <td>매장C</td>\n",
       "      <td>매장A</td>\n",
       "    </tr>\n",
       "  </tbody>\n",
       "</table>\n",
       "</div>"
      ],
      "text/plain": [
       "             회원번호 조합원상태       주소 성별  연령 배송서비스신청여부 모바일알람여부 Gold_member  \\\n",
       "1316   1171579584  정상회원    기타-기타  여  41       미신청     미수신      normal   \n",
       "1927   1254049088  정상회원    기타-기타  여  34       미신청     미수신      normal   \n",
       "3033   1440601216  정상회원    기타-기타  남  37       미신청     미수신      normal   \n",
       "4497   1670400000    탈퇴  기타-비조합원  남  36       미신청      수신      normal   \n",
       "4576    180288128  정상회원    기타-기타  여  54       미신청     미수신      normal   \n",
       "5565    313675136  정상회원    기타-기타  여  40       미신청     미수신      normal   \n",
       "7117    548177024  정상회원    기타-기타  여  59       미신청     미수신      normal   \n",
       "7123    548962112  정상회원    기타-기타  여  45       미신청     미수신      normal   \n",
       "7623    603730816  정상회원    기타-기타  여  43       미신청     미수신      normal   \n",
       "7717    613677120  정상회원    기타-기타  여  63       미신청     미수신      normal   \n",
       "8216    674099200  정상회원    기타-기타  여  63       미신청     미수신      normal   \n",
       "10498   855835008  정상회원    기타-기타  여  39       미신청     미수신      normal   \n",
       "11048   924935744  정상회원    기타-기타  여  38       미신청     미수신      normal   \n",
       "\n",
       "           연령대   구     동  방문횟수  반품횟수     총구매금액  1회평균구매금액        첫방문일  \\\n",
       "1316   35 ~ 44  기타    기타     6     0    306209     51035  2018-01-04   \n",
       "1927     34 이하  기타    기타     6     0    124533     20756  2018-01-10   \n",
       "3033   35 ~ 44  기타    기타     2     0     90551     45276  2018-01-22   \n",
       "4497   35 ~ 44  기타  비조합원   281    54  13398493     47681  2018-01-02   \n",
       "4576   45 ~ 54  기타    기타     4     0    164258     41064  2018-01-30   \n",
       "5565   35 ~ 44  기타    기타     2     0     76385     38192  2018-03-17   \n",
       "7117   55 ~ 64  기타    기타     3     0     52360     17453  2018-01-09   \n",
       "7123   35 ~ 44  기타    기타    12     0    334543     27879  2018-06-23   \n",
       "7623   35 ~ 44  기타    기타     8     0    157364     19670  2018-01-08   \n",
       "7717   55 ~ 64  기타    기타     3     0     50402     16801  2018-03-13   \n",
       "8216   55 ~ 64  기타    기타    43     1    954390     22195  2018-01-04   \n",
       "10498  35 ~ 44  기타    기타     3     0     68728     22909  2018-01-12   \n",
       "11048  35 ~ 44  기타    기타     5     0     42883      8577  2018-01-08   \n",
       "\n",
       "            최종방문일 최다방문매장 최대매출매장  \n",
       "1316   2018-10-07    매장C    매장A  \n",
       "1927   2018-09-05    매장D    매장C  \n",
       "3033   2018-01-23    매장A    매장B  \n",
       "4497   2018-10-31    매장B    매장C  \n",
       "4576   2018-10-31    매장C    매장D  \n",
       "5565   2018-09-08    매장B    매장C  \n",
       "7117   2018-10-25    매장A    매장B  \n",
       "7123   2018-09-29    매장C    매장D  \n",
       "7623   2018-07-16    매장C    매장D  \n",
       "7717   2018-05-10    매장B    매장C  \n",
       "8216   2018-10-22    매장D    매장C  \n",
       "10498  2018-08-22    매장D    매장C  \n",
       "11048  2018-08-06    매장C    매장A  "
      ]
     },
     "execution_count": 88,
     "metadata": {},
     "output_type": "execute_result"
    }
   ],
   "source": [
    "member.loc[(member['최다방문매장'] != member['최대매출매장']) & (member['구'] == '기타')]"
   ]
  },
  {
   "cell_type": "code",
   "execution_count": 89,
   "metadata": {
    "ExecuteTime": {
     "end_time": "2020-07-21T01:47:37.424897Z",
     "start_time": "2020-07-21T01:47:37.332845Z"
    }
   },
   "outputs": [],
   "source": [
    "member.to_csv('member_data_preprocessed.csv', index=False, encoding='utf-8')"
   ]
  }
 ],
 "metadata": {
  "kernelspec": {
   "display_name": "Python 3",
   "language": "python",
   "name": "python3"
  },
  "language_info": {
   "codemirror_mode": {
    "name": "ipython",
    "version": 3
   },
   "file_extension": ".py",
   "mimetype": "text/x-python",
   "name": "python",
   "nbconvert_exporter": "python",
   "pygments_lexer": "ipython3",
   "version": "3.7.6"
  },
  "toc": {
   "base_numbering": 1,
   "nav_menu": {},
   "number_sections": true,
   "sideBar": true,
   "skip_h1_title": false,
   "title_cell": "Table of Contents",
   "title_sidebar": "Contents",
   "toc_cell": false,
   "toc_position": {},
   "toc_section_display": true,
   "toc_window_display": false
  },
  "varInspector": {
   "cols": {
    "lenName": 16,
    "lenType": 16,
    "lenVar": 40
   },
   "kernels_config": {
    "python": {
     "delete_cmd_postfix": "",
     "delete_cmd_prefix": "del ",
     "library": "var_list.py",
     "varRefreshCmd": "print(var_dic_list())"
    },
    "r": {
     "delete_cmd_postfix": ") ",
     "delete_cmd_prefix": "rm(",
     "library": "var_list.r",
     "varRefreshCmd": "cat(var_dic_list()) "
    }
   },
   "types_to_exclude": [
    "module",
    "function",
    "builtin_function_or_method",
    "instance",
    "_Feature"
   ],
   "window_display": false
  }
 },
 "nbformat": 4,
 "nbformat_minor": 4
}
