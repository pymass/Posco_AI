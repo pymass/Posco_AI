{
 "cells": [
  {
   "cell_type": "code",
   "execution_count": 1,
   "metadata": {
    "ExecuteTime": {
     "end_time": "2020-07-18T15:23:39.281012Z",
     "start_time": "2020-07-18T15:23:39.111894Z"
    }
   },
   "outputs": [],
   "source": [
    "import numpy as np\n",
    "import pandas as pd"
   ]
  },
  {
   "cell_type": "code",
   "execution_count": 2,
   "metadata": {
    "ExecuteTime": {
     "end_time": "2020-07-18T15:23:40.251089Z",
     "start_time": "2020-07-18T15:23:39.783830Z"
    }
   },
   "outputs": [],
   "source": [
    "member = pd.read_csv('member_data.csv')\n",
    "product = pd.read_csv('product.csv', index_col=0)"
   ]
  },
  {
   "cell_type": "markdown",
   "metadata": {},
   "source": [
    "# 구매수량 0인 건 삭제"
   ]
  },
  {
   "cell_type": "code",
   "execution_count": 3,
   "metadata": {
    "ExecuteTime": {
     "end_time": "2020-07-18T15:23:41.304835Z",
     "start_time": "2020-07-18T15:23:41.175444Z"
    }
   },
   "outputs": [],
   "source": [
    "product = product.drop(product.loc[product['구매수량'] == 0].index).reset_index(drop=True)"
   ]
  },
  {
   "cell_type": "markdown",
   "metadata": {},
   "source": [
    "# 연령, 성별 결측치 삭제"
   ]
  },
  {
   "cell_type": "code",
   "execution_count": 4,
   "metadata": {
    "ExecuteTime": {
     "end_time": "2020-07-18T15:23:42.168928Z",
     "start_time": "2020-07-18T15:23:42.153058Z"
    }
   },
   "outputs": [],
   "source": [
    "member = member.loc[~member['연령'].isnull()].reset_index(drop=True)"
   ]
  },
  {
   "cell_type": "code",
   "execution_count": 5,
   "metadata": {
    "ExecuteTime": {
     "end_time": "2020-07-18T15:23:43.449218Z",
     "start_time": "2020-07-18T15:23:43.434225Z"
    }
   },
   "outputs": [],
   "source": [
    "member = member.loc[~member['성별'].isnull()].reset_index(drop=True)"
   ]
  },
  {
   "cell_type": "markdown",
   "metadata": {},
   "source": [
    "# 공급일자 형 변경"
   ]
  },
  {
   "cell_type": "code",
   "execution_count": 6,
   "metadata": {
    "ExecuteTime": {
     "end_time": "2020-07-18T15:23:44.211399Z",
     "start_time": "2020-07-18T15:23:44.135876Z"
    }
   },
   "outputs": [],
   "source": [
    "product['공급일자'] = pd.to_datetime(product['공급일자'])"
   ]
  },
  {
   "cell_type": "markdown",
   "metadata": {},
   "source": [
    "# 반품 원거래일자 형 변경"
   ]
  },
  {
   "cell_type": "code",
   "execution_count": 7,
   "metadata": {
    "ExecuteTime": {
     "end_time": "2020-07-18T15:23:44.892686Z",
     "start_time": "2020-07-18T15:23:44.870989Z"
    }
   },
   "outputs": [],
   "source": [
    "product.loc[product['반품_원거래일자'].notnull(), '반품_원거래일자'] = product.loc[product['반품_원거래일자'].notnull(), '반품_원거래일자'].astype('int')"
   ]
  },
  {
   "cell_type": "code",
   "execution_count": 8,
   "metadata": {
    "ExecuteTime": {
     "end_time": "2020-07-18T15:23:45.228810Z",
     "start_time": "2020-07-18T15:23:45.174681Z"
    }
   },
   "outputs": [],
   "source": [
    "product['반품_원거래일자'] = pd.to_datetime(product['반품_원거래일자'], format='%Y%m%d')"
   ]
  },
  {
   "cell_type": "markdown",
   "metadata": {},
   "source": [
    "# 반품 중 원거래일자 미기입"
   ]
  },
  {
   "cell_type": "code",
   "execution_count": 9,
   "metadata": {
    "ExecuteTime": {
     "end_time": "2020-07-18T15:23:46.002799Z",
     "start_time": "2020-07-18T15:23:45.973952Z"
    }
   },
   "outputs": [],
   "source": [
    "product.loc[(product['구매수량'] < 0) & (product['반품_원거래일자'].isnull()), '반품_원거래일자'] = product.loc[(product['구매수량'] < 0) & (product['반품_원거래일자'].isnull()), '공급일자']"
   ]
  },
  {
   "cell_type": "markdown",
   "metadata": {},
   "source": [
    "# 모바일알람여부 수정"
   ]
  },
  {
   "cell_type": "code",
   "execution_count": 10,
   "metadata": {
    "ExecuteTime": {
     "end_time": "2020-07-18T15:23:47.184044Z",
     "start_time": "2020-07-18T15:23:47.158279Z"
    }
   },
   "outputs": [],
   "source": [
    "member['모바일알람여부'] = member['모바일알람여부'].str.replace('.', '미수신')"
   ]
  },
  {
   "cell_type": "code",
   "execution_count": 13,
   "metadata": {
    "ExecuteTime": {
     "end_time": "2020-07-18T15:28:04.378544Z",
     "start_time": "2020-07-18T15:28:04.329707Z"
    }
   },
   "outputs": [
    {
     "data": {
      "text/html": [
       "<div>\n",
       "<style scoped>\n",
       "    .dataframe tbody tr th:only-of-type {\n",
       "        vertical-align: middle;\n",
       "    }\n",
       "\n",
       "    .dataframe tbody tr th {\n",
       "        vertical-align: top;\n",
       "    }\n",
       "\n",
       "    .dataframe thead th {\n",
       "        text-align: right;\n",
       "    }\n",
       "</style>\n",
       "<table border=\"1\" class=\"dataframe\">\n",
       "  <thead>\n",
       "    <tr style=\"text-align: right;\">\n",
       "      <th></th>\n",
       "      <th>공급일자</th>\n",
       "      <th>회원번호</th>\n",
       "      <th>조합원상태</th>\n",
       "      <th>물품대분류</th>\n",
       "      <th>물품중분류</th>\n",
       "      <th>물품소분류</th>\n",
       "      <th>물품명</th>\n",
       "      <th>구매수량</th>\n",
       "      <th>구매금액</th>\n",
       "      <th>구매매장</th>\n",
       "      <th>반품_원거래일자</th>\n",
       "      <th>구매시각</th>\n",
       "    </tr>\n",
       "  </thead>\n",
       "  <tbody>\n",
       "    <tr>\n",
       "      <th>129</th>\n",
       "      <td>2018-01-02</td>\n",
       "      <td>742641280</td>\n",
       "      <td>정상회원</td>\n",
       "      <td>간식</td>\n",
       "      <td>밀가공</td>\n",
       "      <td>만두</td>\n",
       "      <td>고기만두(500g)</td>\n",
       "      <td>-1.0</td>\n",
       "      <td>-10338</td>\n",
       "      <td>매장C</td>\n",
       "      <td>2018-01-02</td>\n",
       "      <td>18:25</td>\n",
       "    </tr>\n",
       "    <tr>\n",
       "      <th>136</th>\n",
       "      <td>2018-01-02</td>\n",
       "      <td>978221504</td>\n",
       "      <td>정상회원</td>\n",
       "      <td>채소</td>\n",
       "      <td>뿌리채소</td>\n",
       "      <td>월동무</td>\n",
       "      <td>월동무(1.2kg이상)</td>\n",
       "      <td>-1.0</td>\n",
       "      <td>-3733</td>\n",
       "      <td>매장C</td>\n",
       "      <td>2018-01-02</td>\n",
       "      <td>19:55</td>\n",
       "    </tr>\n",
       "    <tr>\n",
       "      <th>196</th>\n",
       "      <td>2018-01-02</td>\n",
       "      <td>742641280</td>\n",
       "      <td>정상회원</td>\n",
       "      <td>축산물</td>\n",
       "      <td>돼지</td>\n",
       "      <td>보리살림돼지</td>\n",
       "      <td>불고기용(600g/우리보리살림돼지)</td>\n",
       "      <td>-1.0</td>\n",
       "      <td>-16847</td>\n",
       "      <td>매장C</td>\n",
       "      <td>2018-01-02</td>\n",
       "      <td>18:25</td>\n",
       "    </tr>\n",
       "    <tr>\n",
       "      <th>197</th>\n",
       "      <td>2018-01-02</td>\n",
       "      <td>742641280</td>\n",
       "      <td>정상회원</td>\n",
       "      <td>채소</td>\n",
       "      <td>잎/줄기채소</td>\n",
       "      <td>시금치</td>\n",
       "      <td>시금치(300g)</td>\n",
       "      <td>-1.0</td>\n",
       "      <td>-4403</td>\n",
       "      <td>매장C</td>\n",
       "      <td>2018-01-02</td>\n",
       "      <td>18:25</td>\n",
       "    </tr>\n",
       "    <tr>\n",
       "      <th>258</th>\n",
       "      <td>2018-01-02</td>\n",
       "      <td>742641280</td>\n",
       "      <td>정상회원</td>\n",
       "      <td>양념/가루</td>\n",
       "      <td>기름/식초</td>\n",
       "      <td>기름</td>\n",
       "      <td>참기름(330ml)</td>\n",
       "      <td>-1.0</td>\n",
       "      <td>-48052</td>\n",
       "      <td>매장C</td>\n",
       "      <td>2018-01-02</td>\n",
       "      <td>18:25</td>\n",
       "    </tr>\n",
       "    <tr>\n",
       "      <th>...</th>\n",
       "      <td>...</td>\n",
       "      <td>...</td>\n",
       "      <td>...</td>\n",
       "      <td>...</td>\n",
       "      <td>...</td>\n",
       "      <td>...</td>\n",
       "      <td>...</td>\n",
       "      <td>...</td>\n",
       "      <td>...</td>\n",
       "      <td>...</td>\n",
       "      <td>...</td>\n",
       "      <td>...</td>\n",
       "    </tr>\n",
       "    <tr>\n",
       "      <th>294013</th>\n",
       "      <td>2018-10-29</td>\n",
       "      <td>135862912</td>\n",
       "      <td>정상회원</td>\n",
       "      <td>수산</td>\n",
       "      <td>해조</td>\n",
       "      <td>기타해조류</td>\n",
       "      <td>마른청각(100g)</td>\n",
       "      <td>-1.0</td>\n",
       "      <td>-7658</td>\n",
       "      <td>매장A</td>\n",
       "      <td>2018-10-29</td>\n",
       "      <td>11:35</td>\n",
       "    </tr>\n",
       "    <tr>\n",
       "      <th>294041</th>\n",
       "      <td>2018-10-29</td>\n",
       "      <td>1352610112</td>\n",
       "      <td>정상회원</td>\n",
       "      <td>생활용품</td>\n",
       "      <td>섬유</td>\n",
       "      <td>성인</td>\n",
       "      <td>오가닉코튼 라운드넥 반소매 티셔츠(XL/회색/남성)</td>\n",
       "      <td>-1.0</td>\n",
       "      <td>-29482</td>\n",
       "      <td>매장A</td>\n",
       "      <td>2018-10-28</td>\n",
       "      <td>12:29</td>\n",
       "    </tr>\n",
       "    <tr>\n",
       "      <th>294394</th>\n",
       "      <td>2018-10-31</td>\n",
       "      <td>1020384256</td>\n",
       "      <td>정상회원</td>\n",
       "      <td>축산물</td>\n",
       "      <td>알</td>\n",
       "      <td>유정란</td>\n",
       "      <td>유정란/매장용(15알/국내산)</td>\n",
       "      <td>-1.0</td>\n",
       "      <td>-10338</td>\n",
       "      <td>매장A</td>\n",
       "      <td>2018-10-31</td>\n",
       "      <td>11:27</td>\n",
       "    </tr>\n",
       "    <tr>\n",
       "      <th>294411</th>\n",
       "      <td>2018-10-31</td>\n",
       "      <td>419628608</td>\n",
       "      <td>정상회원</td>\n",
       "      <td>양념/가루</td>\n",
       "      <td>가루</td>\n",
       "      <td>고춧가루</td>\n",
       "      <td>고춧가루/유(2kg/양념용)</td>\n",
       "      <td>-2.0</td>\n",
       "      <td>-356081</td>\n",
       "      <td>매장A</td>\n",
       "      <td>2018-10-31</td>\n",
       "      <td>15:48</td>\n",
       "    </tr>\n",
       "    <tr>\n",
       "      <th>294414</th>\n",
       "      <td>2018-10-31</td>\n",
       "      <td>1066054848</td>\n",
       "      <td>정상회원</td>\n",
       "      <td>서류</td>\n",
       "      <td>감자</td>\n",
       "      <td>감자</td>\n",
       "      <td>감자(2kg)</td>\n",
       "      <td>-1.0</td>\n",
       "      <td>-9572</td>\n",
       "      <td>매장A</td>\n",
       "      <td>2018-10-31</td>\n",
       "      <td>18:02</td>\n",
       "    </tr>\n",
       "  </tbody>\n",
       "</table>\n",
       "<p>5378 rows × 12 columns</p>\n",
       "</div>"
      ],
      "text/plain": [
       "             공급일자        회원번호 조합원상태  물품대분류   물품중분류   물품소분류  \\\n",
       "129    2018-01-02   742641280  정상회원     간식     밀가공      만두   \n",
       "136    2018-01-02   978221504  정상회원     채소    뿌리채소     월동무   \n",
       "196    2018-01-02   742641280  정상회원    축산물      돼지  보리살림돼지   \n",
       "197    2018-01-02   742641280  정상회원     채소  잎/줄기채소     시금치   \n",
       "258    2018-01-02   742641280  정상회원  양념/가루   기름/식초      기름   \n",
       "...           ...         ...   ...    ...     ...     ...   \n",
       "294013 2018-10-29   135862912  정상회원     수산      해조   기타해조류   \n",
       "294041 2018-10-29  1352610112  정상회원   생활용품      섬유      성인   \n",
       "294394 2018-10-31  1020384256  정상회원    축산물       알     유정란   \n",
       "294411 2018-10-31   419628608  정상회원  양념/가루      가루    고춧가루   \n",
       "294414 2018-10-31  1066054848  정상회원     서류      감자      감자   \n",
       "\n",
       "                                 물품명  구매수량    구매금액 구매매장   반품_원거래일자   구매시각  \n",
       "129                       고기만두(500g)  -1.0  -10338  매장C 2018-01-02  18:25  \n",
       "136                     월동무(1.2kg이상)  -1.0   -3733  매장C 2018-01-02  19:55  \n",
       "196              불고기용(600g/우리보리살림돼지)  -1.0  -16847  매장C 2018-01-02  18:25  \n",
       "197                        시금치(300g)  -1.0   -4403  매장C 2018-01-02  18:25  \n",
       "258                       참기름(330ml)  -1.0  -48052  매장C 2018-01-02  18:25  \n",
       "...                              ...   ...     ...  ...        ...    ...  \n",
       "294013                    마른청각(100g)  -1.0   -7658  매장A 2018-10-29  11:35  \n",
       "294041  오가닉코튼 라운드넥 반소매 티셔츠(XL/회색/남성)  -1.0  -29482  매장A 2018-10-28  12:29  \n",
       "294394              유정란/매장용(15알/국내산)  -1.0  -10338  매장A 2018-10-31  11:27  \n",
       "294411               고춧가루/유(2kg/양념용)  -2.0 -356081  매장A 2018-10-31  15:48  \n",
       "294414                       감자(2kg)  -1.0   -9572  매장A 2018-10-31  18:02  \n",
       "\n",
       "[5378 rows x 12 columns]"
      ]
     },
     "execution_count": 13,
     "metadata": {},
     "output_type": "execute_result"
    }
   ],
   "source": [
    "product[product['반품_원거래일자'].notnull()]"
   ]
  },
  {
   "cell_type": "code",
   "execution_count": 14,
   "metadata": {
    "ExecuteTime": {
     "end_time": "2020-07-18T15:29:38.429749Z",
     "start_time": "2020-07-18T15:29:38.394437Z"
    }
   },
   "outputs": [
    {
     "data": {
      "text/html": [
       "<div>\n",
       "<style scoped>\n",
       "    .dataframe tbody tr th:only-of-type {\n",
       "        vertical-align: middle;\n",
       "    }\n",
       "\n",
       "    .dataframe tbody tr th {\n",
       "        vertical-align: top;\n",
       "    }\n",
       "\n",
       "    .dataframe thead th {\n",
       "        text-align: right;\n",
       "    }\n",
       "</style>\n",
       "<table border=\"1\" class=\"dataframe\">\n",
       "  <thead>\n",
       "    <tr style=\"text-align: right;\">\n",
       "      <th></th>\n",
       "      <th>회원번호</th>\n",
       "      <th>조합원상태</th>\n",
       "      <th>주소</th>\n",
       "      <th>성별</th>\n",
       "      <th>연령</th>\n",
       "      <th>배송서비스신청여부</th>\n",
       "      <th>모바일알람여부</th>\n",
       "      <th>Gold_member</th>\n",
       "    </tr>\n",
       "  </thead>\n",
       "  <tbody>\n",
       "    <tr>\n",
       "      <th>0</th>\n",
       "      <td>1000012800</td>\n",
       "      <td>정상회원</td>\n",
       "      <td>수지구-풍덕천동</td>\n",
       "      <td>여</td>\n",
       "      <td>58.0</td>\n",
       "      <td>미신청</td>\n",
       "      <td>미수신</td>\n",
       "      <td>normal</td>\n",
       "    </tr>\n",
       "    <tr>\n",
       "      <th>1</th>\n",
       "      <td>1000103744</td>\n",
       "      <td>정상회원</td>\n",
       "      <td>처인구-고림동</td>\n",
       "      <td>여</td>\n",
       "      <td>34.0</td>\n",
       "      <td>미신청</td>\n",
       "      <td>미수신</td>\n",
       "      <td>normal</td>\n",
       "    </tr>\n",
       "    <tr>\n",
       "      <th>2</th>\n",
       "      <td>1000122304</td>\n",
       "      <td>정상회원</td>\n",
       "      <td>광주-기타</td>\n",
       "      <td>여</td>\n",
       "      <td>38.0</td>\n",
       "      <td>미신청</td>\n",
       "      <td>미수신</td>\n",
       "      <td>normal</td>\n",
       "    </tr>\n",
       "    <tr>\n",
       "      <th>3</th>\n",
       "      <td>1000163136</td>\n",
       "      <td>정상회원</td>\n",
       "      <td>수지구-동천동</td>\n",
       "      <td>여</td>\n",
       "      <td>73.0</td>\n",
       "      <td>미신청</td>\n",
       "      <td>미수신</td>\n",
       "      <td>normal</td>\n",
       "    </tr>\n",
       "    <tr>\n",
       "      <th>4</th>\n",
       "      <td>1000281920</td>\n",
       "      <td>정상회원</td>\n",
       "      <td>수지구-풍덕천동</td>\n",
       "      <td>여</td>\n",
       "      <td>42.0</td>\n",
       "      <td>신청</td>\n",
       "      <td>미수신</td>\n",
       "      <td>normal</td>\n",
       "    </tr>\n",
       "    <tr>\n",
       "      <th>...</th>\n",
       "      <td>...</td>\n",
       "      <td>...</td>\n",
       "      <td>...</td>\n",
       "      <td>...</td>\n",
       "      <td>...</td>\n",
       "      <td>...</td>\n",
       "      <td>...</td>\n",
       "      <td>...</td>\n",
       "    </tr>\n",
       "    <tr>\n",
       "      <th>11547</th>\n",
       "      <td>999682432</td>\n",
       "      <td>탈퇴</td>\n",
       "      <td>수지구-동천동</td>\n",
       "      <td>여</td>\n",
       "      <td>47.0</td>\n",
       "      <td>미신청</td>\n",
       "      <td>미수신</td>\n",
       "      <td>normal</td>\n",
       "    </tr>\n",
       "    <tr>\n",
       "      <th>11548</th>\n",
       "      <td>999721408</td>\n",
       "      <td>정상회원</td>\n",
       "      <td>수지구-동천동</td>\n",
       "      <td>여</td>\n",
       "      <td>43.0</td>\n",
       "      <td>미신청</td>\n",
       "      <td>미수신</td>\n",
       "      <td>normal</td>\n",
       "    </tr>\n",
       "    <tr>\n",
       "      <th>11549</th>\n",
       "      <td>999738112</td>\n",
       "      <td>정상회원</td>\n",
       "      <td>수지구-성복동</td>\n",
       "      <td>여</td>\n",
       "      <td>67.0</td>\n",
       "      <td>미신청</td>\n",
       "      <td>미수신</td>\n",
       "      <td>normal</td>\n",
       "    </tr>\n",
       "    <tr>\n",
       "      <th>11550</th>\n",
       "      <td>999754816</td>\n",
       "      <td>정상회원</td>\n",
       "      <td>수지구-상현동</td>\n",
       "      <td>여</td>\n",
       "      <td>44.0</td>\n",
       "      <td>신청</td>\n",
       "      <td>미수신</td>\n",
       "      <td>normal</td>\n",
       "    </tr>\n",
       "    <tr>\n",
       "      <th>11551</th>\n",
       "      <td>99995712</td>\n",
       "      <td>정상회원</td>\n",
       "      <td>수지구-상현동</td>\n",
       "      <td>여</td>\n",
       "      <td>66.0</td>\n",
       "      <td>미신청</td>\n",
       "      <td>미수신</td>\n",
       "      <td>normal</td>\n",
       "    </tr>\n",
       "  </tbody>\n",
       "</table>\n",
       "<p>11552 rows × 8 columns</p>\n",
       "</div>"
      ],
      "text/plain": [
       "             회원번호 조합원상태        주소 성별    연령 배송서비스신청여부 모바일알람여부 Gold_member\n",
       "0      1000012800  정상회원  수지구-풍덕천동  여  58.0       미신청     미수신      normal\n",
       "1      1000103744  정상회원   처인구-고림동  여  34.0       미신청     미수신      normal\n",
       "2      1000122304  정상회원     광주-기타  여  38.0       미신청     미수신      normal\n",
       "3      1000163136  정상회원   수지구-동천동  여  73.0       미신청     미수신      normal\n",
       "4      1000281920  정상회원  수지구-풍덕천동  여  42.0        신청     미수신      normal\n",
       "...           ...   ...       ... ..   ...       ...     ...         ...\n",
       "11547   999682432    탈퇴   수지구-동천동  여  47.0       미신청     미수신      normal\n",
       "11548   999721408  정상회원   수지구-동천동  여  43.0       미신청     미수신      normal\n",
       "11549   999738112  정상회원   수지구-성복동  여  67.0       미신청     미수신      normal\n",
       "11550   999754816  정상회원   수지구-상현동  여  44.0        신청     미수신      normal\n",
       "11551    99995712  정상회원   수지구-상현동  여  66.0       미신청     미수신      normal\n",
       "\n",
       "[11552 rows x 8 columns]"
      ]
     },
     "execution_count": 14,
     "metadata": {},
     "output_type": "execute_result"
    }
   ],
   "source": [
    "member"
   ]
  },
  {
   "cell_type": "markdown",
   "metadata": {},
   "source": [
    "1. 반품횟수가 1이상인 회원들만 추출\n",
    "2. "
   ]
  }
 ],
 "metadata": {
  "kernelspec": {
   "display_name": "Python 3",
   "language": "python",
   "name": "python3"
  },
  "language_info": {
   "codemirror_mode": {
    "name": "ipython",
    "version": 3
   },
   "file_extension": ".py",
   "mimetype": "text/x-python",
   "name": "python",
   "nbconvert_exporter": "python",
   "pygments_lexer": "ipython3",
   "version": "3.7.6"
  },
  "toc": {
   "base_numbering": 1,
   "nav_menu": {},
   "number_sections": true,
   "sideBar": true,
   "skip_h1_title": false,
   "title_cell": "Table of Contents",
   "title_sidebar": "Contents",
   "toc_cell": false,
   "toc_position": {},
   "toc_section_display": true,
   "toc_window_display": false
  },
  "varInspector": {
   "cols": {
    "lenName": 16,
    "lenType": 16,
    "lenVar": 40
   },
   "kernels_config": {
    "python": {
     "delete_cmd_postfix": "",
     "delete_cmd_prefix": "del ",
     "library": "var_list.py",
     "varRefreshCmd": "print(var_dic_list())"
    },
    "r": {
     "delete_cmd_postfix": ") ",
     "delete_cmd_prefix": "rm(",
     "library": "var_list.r",
     "varRefreshCmd": "cat(var_dic_list()) "
    }
   },
   "types_to_exclude": [
    "module",
    "function",
    "builtin_function_or_method",
    "instance",
    "_Feature"
   ],
   "window_display": false
  }
 },
 "nbformat": 4,
 "nbformat_minor": 2
}
