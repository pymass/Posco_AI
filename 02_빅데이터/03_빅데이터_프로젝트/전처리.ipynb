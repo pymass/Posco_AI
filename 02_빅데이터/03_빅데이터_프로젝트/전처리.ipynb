{
 "cells": [
  {
   "cell_type": "code",
   "execution_count": 1,
   "metadata": {
    "ExecuteTime": {
     "end_time": "2020-07-21T11:40:30.395044Z",
     "start_time": "2020-07-21T11:40:30.161982Z"
    }
   },
   "outputs": [],
   "source": [
    "import numpy as np\n",
    "import pandas as pd\n",
    "from collections import Counter"
   ]
  },
  {
   "cell_type": "code",
   "execution_count": 2,
   "metadata": {
    "ExecuteTime": {
     "end_time": "2020-07-21T11:40:30.841436Z",
     "start_time": "2020-07-21T11:40:30.399386Z"
    }
   },
   "outputs": [],
   "source": [
    "member = pd.read_csv('member_data.csv')\n",
    "product = pd.read_csv('product.csv')"
   ]
  },
  {
   "cell_type": "markdown",
   "metadata": {},
   "source": [
    "# 이상치처리"
   ]
  },
  {
   "cell_type": "markdown",
   "metadata": {},
   "source": [
    "## 비조합원 삭제"
   ]
  },
  {
   "cell_type": "code",
   "execution_count": 3,
   "metadata": {
    "ExecuteTime": {
     "end_time": "2020-07-21T11:40:30.865804Z",
     "start_time": "2020-07-21T11:40:30.848275Z"
    }
   },
   "outputs": [],
   "source": [
    "member = member.drop(4502)\n",
    "member = member.reset_index(drop=True)"
   ]
  },
  {
   "cell_type": "code",
   "execution_count": 4,
   "metadata": {
    "ExecuteTime": {
     "end_time": "2020-07-21T11:40:30.920069Z",
     "start_time": "2020-07-21T11:40:30.869145Z"
    }
   },
   "outputs": [],
   "source": [
    "product = product.loc[product['회원번호'] != 1670400000]"
   ]
  },
  {
   "cell_type": "markdown",
   "metadata": {},
   "source": [
    "## 구매수량 0 삭제\n",
    "65행 삭제"
   ]
  },
  {
   "cell_type": "code",
   "execution_count": 5,
   "metadata": {
    "ExecuteTime": {
     "end_time": "2020-07-21T11:40:30.988168Z",
     "start_time": "2020-07-21T11:40:30.921555Z"
    }
   },
   "outputs": [],
   "source": [
    "product = product.drop(product.loc[product['구매수량'] == 0].index).reset_index(drop=True)"
   ]
  },
  {
   "cell_type": "markdown",
   "metadata": {},
   "source": [
    "## 연령, 성별 결측인 회원정보 및 구매정보 삭제\n",
    "고객정보 3행 삭제  \n",
    "구매정보 20행 삭제"
   ]
  },
  {
   "cell_type": "code",
   "execution_count": 6,
   "metadata": {
    "ExecuteTime": {
     "end_time": "2020-07-21T11:40:30.994397Z",
     "start_time": "2020-07-21T11:40:30.990042Z"
    }
   },
   "outputs": [],
   "source": [
    "null_customer = member.loc[(member['연령'].isnull()) | (member['성별'].isnull()), '회원번호'].values"
   ]
  },
  {
   "cell_type": "code",
   "execution_count": 7,
   "metadata": {
    "ExecuteTime": {
     "end_time": "2020-07-21T11:40:31.087387Z",
     "start_time": "2020-07-21T11:40:30.996328Z"
    }
   },
   "outputs": [],
   "source": [
    "product.drop(product.loc[product['회원번호'] == null_customer[0]].index, inplace=True)\n",
    "product.drop(product.loc[product['회원번호'] == null_customer[1]].index, inplace=True)\n",
    "product.drop(product.loc[product['회원번호'] == null_customer[2]].index, inplace=True)"
   ]
  },
  {
   "cell_type": "code",
   "execution_count": 8,
   "metadata": {
    "ExecuteTime": {
     "end_time": "2020-07-21T11:40:31.104106Z",
     "start_time": "2020-07-21T11:40:31.091912Z"
    }
   },
   "outputs": [],
   "source": [
    "member = member.loc[~member['연령'].isnull()].reset_index(drop=True)"
   ]
  },
  {
   "cell_type": "code",
   "execution_count": 9,
   "metadata": {
    "ExecuteTime": {
     "end_time": "2020-07-21T11:40:31.121954Z",
     "start_time": "2020-07-21T11:40:31.106303Z"
    }
   },
   "outputs": [],
   "source": [
    "member = member.loc[~member['성별'].isnull()].reset_index(drop=True)"
   ]
  },
  {
   "cell_type": "markdown",
   "metadata": {},
   "source": [
    "## 공급일자 형 변경\n",
    "object -> datetime"
   ]
  },
  {
   "cell_type": "code",
   "execution_count": 10,
   "metadata": {
    "ExecuteTime": {
     "end_time": "2020-07-21T11:40:31.189874Z",
     "start_time": "2020-07-21T11:40:31.125663Z"
    }
   },
   "outputs": [],
   "source": [
    "product['공급일자'] = pd.to_datetime(product['공급일자'])"
   ]
  },
  {
   "cell_type": "markdown",
   "metadata": {},
   "source": [
    "## 반품원거래일자 형 변경\n",
    "float -> datetime"
   ]
  },
  {
   "cell_type": "code",
   "execution_count": 11,
   "metadata": {
    "ExecuteTime": {
     "end_time": "2020-07-21T11:40:31.206318Z",
     "start_time": "2020-07-21T11:40:31.193575Z"
    }
   },
   "outputs": [],
   "source": [
    "product.loc[product['반품_원거래일자'].notnull(), '반품_원거래일자'] = product.loc[product['반품_원거래일자'].notnull(), '반품_원거래일자'].astype('int')"
   ]
  },
  {
   "cell_type": "code",
   "execution_count": 12,
   "metadata": {
    "ExecuteTime": {
     "end_time": "2020-07-21T11:40:31.242129Z",
     "start_time": "2020-07-21T11:40:31.207690Z"
    }
   },
   "outputs": [],
   "source": [
    "product['반품_원거래일자'] = pd.to_datetime(product['반품_원거래일자'], format='%Y%m%d')"
   ]
  },
  {
   "cell_type": "markdown",
   "metadata": {},
   "source": [
    "## 원거래일자 결측값 대체\n",
    "\n",
    "424행 대체  \n",
    "NaN -> 공급일자"
   ]
  },
  {
   "cell_type": "code",
   "execution_count": 13,
   "metadata": {
    "ExecuteTime": {
     "end_time": "2020-07-21T11:40:31.255225Z",
     "start_time": "2020-07-21T11:40:31.243977Z"
    }
   },
   "outputs": [],
   "source": [
    "product.loc[(product['구매수량'] < 0) & (product['반품_원거래일자'].isnull()), '반품_원거래일자'] = product.loc[(product['구매수량'] < 0) & (product['반품_원거래일자'].isnull()), '공급일자']"
   ]
  },
  {
   "cell_type": "markdown",
   "metadata": {},
   "source": [
    "## 모바일알림여부 수정\n",
    "\n",
    ". -> 미수신"
   ]
  },
  {
   "cell_type": "code",
   "execution_count": 14,
   "metadata": {
    "ExecuteTime": {
     "end_time": "2020-07-21T11:40:31.281317Z",
     "start_time": "2020-07-21T11:40:31.260014Z"
    }
   },
   "outputs": [],
   "source": [
    "member['모바일알람여부'] = member['모바일알람여부'].str.replace('.', '미수신')"
   ]
  },
  {
   "cell_type": "markdown",
   "metadata": {},
   "source": [
    "# 파생변수 생성"
   ]
  },
  {
   "cell_type": "markdown",
   "metadata": {},
   "source": [
    "## 제품 정보 파일"
   ]
  },
  {
   "cell_type": "markdown",
   "metadata": {},
   "source": [
    "### 요일 생성"
   ]
  },
  {
   "cell_type": "code",
   "execution_count": 15,
   "metadata": {
    "ExecuteTime": {
     "end_time": "2020-07-21T11:40:31.386592Z",
     "start_time": "2020-07-21T11:40:31.283640Z"
    }
   },
   "outputs": [],
   "source": [
    "product['요일'] = product['공급일자'].dt.day_name()"
   ]
  },
  {
   "cell_type": "markdown",
   "metadata": {},
   "source": [
    "### 주차 생성"
   ]
  },
  {
   "cell_type": "code",
   "execution_count": 16,
   "metadata": {
    "ExecuteTime": {
     "end_time": "2020-07-21T11:40:31.420409Z",
     "start_time": "2020-07-21T11:40:31.388565Z"
    }
   },
   "outputs": [],
   "source": [
    "product['주차'] = product['공급일자'].dt.weekofyear"
   ]
  },
  {
   "cell_type": "markdown",
   "metadata": {},
   "source": [
    "### 주중/주말 생성"
   ]
  },
  {
   "cell_type": "code",
   "execution_count": 17,
   "metadata": {
    "ExecuteTime": {
     "end_time": "2020-07-21T11:40:31.548433Z",
     "start_time": "2020-07-21T11:40:31.424379Z"
    }
   },
   "outputs": [],
   "source": [
    "product['주중'] = '주중'\n",
    "product.loc[product['요일'] == 'Saturday', '주중'] = '주말'\n",
    "product.loc[product['요일'] == 'Sunday', '주중'] = '주말'"
   ]
  },
  {
   "cell_type": "markdown",
   "metadata": {},
   "source": [
    "### 계절 생성\n",
    "12 ~ 2 : 겨울  \n",
    "3 ~ 5 : 봄  \n",
    "6 ~ 8 : 여름  \n",
    "9 ~ 11 : 가을"
   ]
  },
  {
   "cell_type": "code",
   "execution_count": 18,
   "metadata": {
    "ExecuteTime": {
     "end_time": "2020-07-21T11:40:31.831878Z",
     "start_time": "2020-07-21T11:40:31.550057Z"
    }
   },
   "outputs": [],
   "source": [
    "product['계절'] = '여름'\n",
    "\n",
    "product.loc[product['공급일자'].dt.month == 1, '계절'] = '겨울'\n",
    "product.loc[product['공급일자'].dt.month == 2, '계절'] = '겨울'\n",
    "product.loc[product['공급일자'].dt.month == 3, '계절'] = '봄'\n",
    "product.loc[product['공급일자'].dt.month == 4, '계절'] = '봄'\n",
    "product.loc[product['공급일자'].dt.month == 5, '계절'] = '봄'\n",
    "product.loc[product['공급일자'].dt.month == 9, '계절'] = '가을'\n",
    "product.loc[product['공급일자'].dt.month == 10, '계절'] = '가을'"
   ]
  },
  {
   "cell_type": "markdown",
   "metadata": {},
   "source": [
    "### 구매시간대 생성\n",
    "가게 운영 시간은 오전 8시부터 오후 9시까지\n",
    "\n",
    "08 ~ 12 아침  \n",
    "13 ~ 17 점심  \n",
    "18 ~ 20 저녁"
   ]
  },
  {
   "cell_type": "code",
   "execution_count": 19,
   "metadata": {
    "ExecuteTime": {
     "end_time": "2020-07-21T11:40:32.568427Z",
     "start_time": "2020-07-21T11:40:31.833731Z"
    }
   },
   "outputs": [],
   "source": [
    "product['구매시간대'] = '아침'\n",
    "hour = product['구매시각'].str.partition(':')[0]\n",
    "\n",
    "product.loc[hour == '13', '구매시간대'] = '점심'\n",
    "product.loc[hour == '14', '구매시간대'] = '점심'\n",
    "product.loc[hour == '15', '구매시간대'] = '점심'\n",
    "product.loc[hour == '16', '구매시간대'] = '점심'\n",
    "product.loc[hour == '17', '구매시간대'] = '점심'\n",
    "product.loc[hour == '18', '구매시간대'] = '저녁'\n",
    "product.loc[hour == '19', '구매시간대'] = '저녁'\n",
    "product.loc[hour == '20', '구매시간대'] = '저녁'"
   ]
  },
  {
   "cell_type": "markdown",
   "metadata": {},
   "source": [
    "## 고객 정보 파일"
   ]
  },
  {
   "cell_type": "markdown",
   "metadata": {},
   "source": [
    "### 연령대 생성\n",
    "15 ~ 24  \n",
    "25 ~ 34  \n",
    "35 ~ 44  \n",
    "45 ~ 54  \n",
    "55 ~ 64  \n",
    "65 이상"
   ]
  },
  {
   "cell_type": "code",
   "execution_count": 20,
   "metadata": {
    "ExecuteTime": {
     "end_time": "2020-07-21T11:40:32.593525Z",
     "start_time": "2020-07-21T11:40:32.569992Z"
    }
   },
   "outputs": [],
   "source": [
    "member['연령대'] = '34 이하'\n",
    "\n",
    "member.loc[(member['연령'] >= 36) & (member['연령'] <= 45), '연령대'] = '35 ~ 44'\n",
    "member.loc[(member['연령'] >= 46) & (member['연령'] <= 55), '연령대'] = '45 ~ 54'\n",
    "member.loc[(member['연령'] >= 56) & (member['연령'] <= 65), '연령대'] = '55 ~ 64'\n",
    "member.loc[(member['연령'] > 65), '연령대'] = '65 이상'"
   ]
  },
  {
   "cell_type": "markdown",
   "metadata": {},
   "source": [
    "### 구 생성"
   ]
  },
  {
   "cell_type": "code",
   "execution_count": 21,
   "metadata": {
    "ExecuteTime": {
     "end_time": "2020-07-21T11:40:32.639754Z",
     "start_time": "2020-07-21T11:40:32.597520Z"
    }
   },
   "outputs": [],
   "source": [
    "member['구'] = member['주소'].str.partition('-').loc[:, 0]"
   ]
  },
  {
   "cell_type": "markdown",
   "metadata": {},
   "source": [
    "### 동 생성"
   ]
  },
  {
   "cell_type": "code",
   "execution_count": 22,
   "metadata": {
    "ExecuteTime": {
     "end_time": "2020-07-21T11:40:32.686321Z",
     "start_time": "2020-07-21T11:40:32.650016Z"
    }
   },
   "outputs": [],
   "source": [
    "member['동'] = member['주소'].str.partition('-').loc[:, 2]"
   ]
  },
  {
   "cell_type": "markdown",
   "metadata": {},
   "source": [
    "### 반품횟수 생성\n",
    "반품한 물품의 갯수이다."
   ]
  },
  {
   "cell_type": "code",
   "execution_count": 23,
   "metadata": {
    "ExecuteTime": {
     "end_time": "2020-07-21T11:40:32.715239Z",
     "start_time": "2020-07-21T11:40:32.688610Z"
    }
   },
   "outputs": [],
   "source": [
    "temp = pd.DataFrame(product.loc[product['구매수량'] < 0].groupby('회원번호').count()['물품명']).reset_index()\n",
    "temp.columns = ['회원번호', '반품횟수']\n",
    "member = pd.merge(member, temp, how='left', on='회원번호')\n",
    "member['반품횟수'] = member['반품횟수'].fillna(0)\n",
    "member['반품횟수'] = member['반품횟수'].astype('int')"
   ]
  },
  {
   "cell_type": "markdown",
   "metadata": {},
   "source": [
    "### 방문횟수 생성"
   ]
  },
  {
   "cell_type": "code",
   "execution_count": 24,
   "metadata": {
    "ExecuteTime": {
     "end_time": "2020-07-21T11:40:33.008779Z",
     "start_time": "2020-07-21T11:40:32.716697Z"
    }
   },
   "outputs": [],
   "source": [
    "temp = pd.pivot_table(index=['공급일자', '회원번호'], aggfunc='count', data=product).reset_index()['회원번호']\n",
    "member = pd.merge(member, pd.Series(Counter(temp), name='방문횟수'), how='left', left_on='회원번호', right_index=True)"
   ]
  },
  {
   "cell_type": "markdown",
   "metadata": {},
   "source": [
    "## 이상치처리 - 구매없이 반품만 존재하는 구매정보 삭제\n",
    "반품횟수 생성 이후 진행할 것!!\n",
    "2331 건 삭제"
   ]
  },
  {
   "cell_type": "code",
   "execution_count": 25,
   "metadata": {
    "ExecuteTime": {
     "end_time": "2020-07-21T11:42:38.078588Z",
     "start_time": "2020-07-21T11:40:33.010525Z"
    }
   },
   "outputs": [],
   "source": [
    "for i in member.loc[member['반품횟수'] >= 1, '회원번호'].values:\n",
    "    pt = pd.pivot_table(index='물품명', values='구매수량', aggfunc='sum', data=product[product['회원번호'] == i]).reset_index()\n",
    "    for j in pt.loc[pt['구매수량'] < 0, '물품명'].values:\n",
    "        product.drop(product.loc[(product['회원번호'] == i) & (product['물품명'] == j)].index, inplace=True)"
   ]
  },
  {
   "cell_type": "code",
   "execution_count": 26,
   "metadata": {
    "ExecuteTime": {
     "end_time": "2020-07-21T11:42:38.099431Z",
     "start_time": "2020-07-21T11:42:38.080579Z"
    }
   },
   "outputs": [],
   "source": [
    "product = product.reset_index(drop=True)"
   ]
  },
  {
   "cell_type": "markdown",
   "metadata": {},
   "source": [
    "## 이상치처리 - 반품내역만 있는 회원정보 삭제"
   ]
  },
  {
   "cell_type": "code",
   "execution_count": 27,
   "metadata": {
    "ExecuteTime": {
     "end_time": "2020-07-21T11:42:38.114889Z",
     "start_time": "2020-07-21T11:42:38.100865Z"
    }
   },
   "outputs": [],
   "source": [
    "drop_list = list(set(member['회원번호'].unique()) - set(product['회원번호'].unique()))"
   ]
  },
  {
   "cell_type": "code",
   "execution_count": 28,
   "metadata": {
    "ExecuteTime": {
     "end_time": "2020-07-21T11:42:38.149380Z",
     "start_time": "2020-07-21T11:42:38.116775Z"
    }
   },
   "outputs": [],
   "source": [
    "for i in drop_list:\n",
    "    member.drop(member[member['회원번호'] == i].index, inplace=True)"
   ]
  },
  {
   "cell_type": "code",
   "execution_count": 29,
   "metadata": {
    "ExecuteTime": {
     "end_time": "2020-07-21T11:42:38.155705Z",
     "start_time": "2020-07-21T11:42:38.150985Z"
    }
   },
   "outputs": [],
   "source": [
    "member = member.reset_index(drop=True)"
   ]
  },
  {
   "cell_type": "markdown",
   "metadata": {},
   "source": [
    "### 반품횟수 갱신\n",
    "이상치 처리 이후 갱신필요"
   ]
  },
  {
   "cell_type": "code",
   "execution_count": 30,
   "metadata": {
    "ExecuteTime": {
     "end_time": "2020-07-21T11:42:38.187558Z",
     "start_time": "2020-07-21T11:42:38.157641Z"
    }
   },
   "outputs": [],
   "source": [
    "member.drop('반품횟수', axis=1, inplace=True)\n",
    "temp = pd.DataFrame(product.loc[product['구매수량'] < 0].groupby('회원번호').count()['물품명']).reset_index()\n",
    "temp.columns = ['회원번호', '반품횟수']\n",
    "member = pd.merge(member, temp, how='left', on='회원번호')\n",
    "member['반품횟수'] = member['반품횟수'].fillna(0)\n",
    "member['반품횟수'] = member['반품횟수'].astype('int')"
   ]
  },
  {
   "cell_type": "markdown",
   "metadata": {},
   "source": [
    "### 총구매금액 생성"
   ]
  },
  {
   "cell_type": "code",
   "execution_count": 31,
   "metadata": {
    "ExecuteTime": {
     "end_time": "2020-07-21T11:42:38.220083Z",
     "start_time": "2020-07-21T11:42:38.188952Z"
    }
   },
   "outputs": [],
   "source": [
    "temp = pd.pivot_table(index='회원번호', aggfunc='sum', values='구매금액', data=product).reset_index()\n",
    "member = pd.merge(member, temp, on='회원번호', how='outer')\n",
    "member['구매금액'] = member['구매금액'].fillna(0)\n",
    "member.rename(columns={'구매금액':'총구매금액'}, inplace=True)"
   ]
  },
  {
   "cell_type": "markdown",
   "metadata": {},
   "source": [
    "### 1회평균구매금액 생성"
   ]
  },
  {
   "cell_type": "code",
   "execution_count": 32,
   "metadata": {
    "ExecuteTime": {
     "end_time": "2020-07-21T11:42:38.289336Z",
     "start_time": "2020-07-21T11:42:38.222132Z"
    }
   },
   "outputs": [],
   "source": [
    "member['1회평균구매금액'] = member['총구매금액'] / member['방문횟수']\n",
    "member['1회평균구매금액'] = member['1회평균구매금액'].round()"
   ]
  },
  {
   "cell_type": "markdown",
   "metadata": {},
   "source": [
    "### 주별평균구매금액 생성"
   ]
  },
  {
   "cell_type": "code",
   "execution_count": 33,
   "metadata": {
    "ExecuteTime": {
     "end_time": "2020-07-21T11:42:38.294793Z",
     "start_time": "2020-07-21T11:42:38.290742Z"
    }
   },
   "outputs": [],
   "source": [
    "member['주별평균구매금액'] = (member['총구매금액'] / 44).astype('int')"
   ]
  },
  {
   "cell_type": "markdown",
   "metadata": {},
   "source": [
    "### 첫방문일, 최종방문일 생성"
   ]
  },
  {
   "cell_type": "code",
   "execution_count": 34,
   "metadata": {
    "ExecuteTime": {
     "end_time": "2020-07-21T11:43:21.068614Z",
     "start_time": "2020-07-21T11:42:38.295960Z"
    }
   },
   "outputs": [],
   "source": [
    "for cn in member['회원번호']:\n",
    "    sort_values = product.loc[product['회원번호'] == cn, '공급일자'].sort_values()\n",
    "    member.loc[member['회원번호'] == cn, '첫방문일'] = sort_values.iloc[0]\n",
    "    member.loc[member['회원번호'] == cn, '최종방문일'] = sort_values.iloc[-1]\n",
    "\n",
    "member['첫방문일'] = member['첫방문일'].dt.dayofyear\n",
    "member['최종방문일'] = member['최종방문일'].dt.dayofyear"
   ]
  },
  {
   "cell_type": "markdown",
   "metadata": {},
   "source": [
    "### 미방문기간 생성\n",
    "\n",
    "304가 10월 31일이다."
   ]
  },
  {
   "cell_type": "code",
   "execution_count": 35,
   "metadata": {
    "ExecuteTime": {
     "end_time": "2020-07-21T11:43:21.077565Z",
     "start_time": "2020-07-21T11:43:21.070461Z"
    }
   },
   "outputs": [],
   "source": [
    "member['미방문기간'] = 304 - member['최종방문일']"
   ]
  },
  {
   "cell_type": "markdown",
   "metadata": {},
   "source": [
    "### 방문주기 생성"
   ]
  },
  {
   "cell_type": "code",
   "execution_count": 36,
   "metadata": {
    "ExecuteTime": {
     "end_time": "2020-07-21T11:43:21.092172Z",
     "start_time": "2020-07-21T11:43:21.082663Z"
    }
   },
   "outputs": [],
   "source": [
    "member['방문주기'] = (member['최종방문일'] - member['첫방문일']) / member['방문횟수']"
   ]
  },
  {
   "cell_type": "code",
   "execution_count": 37,
   "metadata": {
    "ExecuteTime": {
     "end_time": "2020-07-21T11:43:21.100175Z",
     "start_time": "2020-07-21T11:43:21.095415Z"
    }
   },
   "outputs": [],
   "source": [
    "member['방문주기'] = member['방문주기'].round(1)"
   ]
  },
  {
   "cell_type": "markdown",
   "metadata": {},
   "source": [
    "### 최대매출매장"
   ]
  },
  {
   "cell_type": "code",
   "execution_count": 38,
   "metadata": {
    "ExecuteTime": {
     "end_time": "2020-07-21T11:43:21.160271Z",
     "start_time": "2020-07-21T11:43:21.103123Z"
    }
   },
   "outputs": [],
   "source": [
    "temp = pd.pivot_table(data=product, index='회원번호', columns='구매매장', values='구매금액', aggfunc='sum').fillna(0).astype('int')"
   ]
  },
  {
   "cell_type": "code",
   "execution_count": 39,
   "metadata": {
    "ExecuteTime": {
     "end_time": "2020-07-21T11:43:21.180209Z",
     "start_time": "2020-07-21T11:43:21.162028Z"
    }
   },
   "outputs": [],
   "source": [
    "temp['최대매출매장'] = temp.idxmax(axis=1)"
   ]
  },
  {
   "cell_type": "code",
   "execution_count": 40,
   "metadata": {
    "ExecuteTime": {
     "end_time": "2020-07-21T11:43:21.196852Z",
     "start_time": "2020-07-21T11:43:21.181668Z"
    }
   },
   "outputs": [],
   "source": [
    "member = pd.merge(member, temp['최대매출매장'], left_on='회원번호', right_index=True)"
   ]
  },
  {
   "cell_type": "markdown",
   "metadata": {},
   "source": [
    "### 구매증감율"
   ]
  },
  {
   "cell_type": "code",
   "execution_count": 41,
   "metadata": {
    "ExecuteTime": {
     "end_time": "2020-07-21T11:43:21.231504Z",
     "start_time": "2020-07-21T11:43:21.198327Z"
    }
   },
   "outputs": [],
   "source": [
    "product['공급일자'] = pd.to_datetime(product['공급일자']).dt.dayofyear"
   ]
  },
  {
   "cell_type": "code",
   "execution_count": 42,
   "metadata": {
    "ExecuteTime": {
     "end_time": "2020-07-21T11:43:21.240091Z",
     "start_time": "2020-07-21T11:43:21.234112Z"
    }
   },
   "outputs": [],
   "source": [
    "date = member.loc[member['방문주기'] != 0, '첫방문일'] + (member.loc[member['방문주기'] != 0, '최종방문일'] - member.loc[member['방문주기'] != 0, '첫방문일']) / 2"
   ]
  },
  {
   "cell_type": "code",
   "execution_count": 43,
   "metadata": {
    "ExecuteTime": {
     "end_time": "2020-07-21T11:43:21.244218Z",
     "start_time": "2020-07-21T11:43:21.241763Z"
    }
   },
   "outputs": [],
   "source": [
    "date.name = '중앙방문일'"
   ]
  },
  {
   "cell_type": "code",
   "execution_count": 44,
   "metadata": {
    "ExecuteTime": {
     "end_time": "2020-07-21T11:43:21.250192Z",
     "start_time": "2020-07-21T11:43:21.245607Z"
    }
   },
   "outputs": [],
   "source": [
    "df = pd.concat([member.loc[member['방문주기'] != 0, '회원번호'], date], axis=1)"
   ]
  },
  {
   "cell_type": "code",
   "execution_count": 45,
   "metadata": {
    "ExecuteTime": {
     "end_time": "2020-07-21T11:43:21.254656Z",
     "start_time": "2020-07-21T11:43:21.251526Z"
    }
   },
   "outputs": [],
   "source": [
    "member['구매증감율'] = 0"
   ]
  },
  {
   "cell_type": "code",
   "execution_count": 47,
   "metadata": {
    "ExecuteTime": {
     "end_time": "2020-07-21T11:45:12.281451Z",
     "start_time": "2020-07-21T11:44:36.434625Z"
    }
   },
   "outputs": [],
   "source": [
    "for number, date in zip(df['회원번호'], df['중앙방문일']):\n",
    "    first = product.loc[(product['공급일자'] < date) & (product['회원번호'] == number), '구매금액'].sum()\n",
    "    last = product.loc[(product['공급일자'] >= date) & (product['회원번호'] == number), '구매금액'].sum()\n",
    "    with np.errstate(divide='ignore'):\n",
    "        member.loc[member['회원번호'] == number, '구매증감율'] = np.where(first != 0, (last - first) / first, 1)"
   ]
  },
  {
   "cell_type": "code",
   "execution_count": 48,
   "metadata": {
    "ExecuteTime": {
     "end_time": "2020-07-21T11:47:52.424308Z",
     "start_time": "2020-07-21T11:47:52.415392Z"
    }
   },
   "outputs": [],
   "source": [
    "member['구매증감율'] = member['구매증감율'].round(3)"
   ]
  },
  {
   "cell_type": "markdown",
   "metadata": {},
   "source": [
    "### 연령, 1회평균구매금액 형 변환\n",
    "float -> int"
   ]
  },
  {
   "cell_type": "code",
   "execution_count": 49,
   "metadata": {
    "ExecuteTime": {
     "end_time": "2020-07-21T11:47:53.427180Z",
     "start_time": "2020-07-21T11:47:53.412949Z"
    }
   },
   "outputs": [],
   "source": [
    "member[['연령', '1회평균구매금액']] = member[['연령', '1회평균구매금액']].astype(int)"
   ]
  },
  {
   "cell_type": "markdown",
   "metadata": {},
   "source": [
    " # 최종확인"
   ]
  },
  {
   "cell_type": "code",
   "execution_count": 50,
   "metadata": {
    "ExecuteTime": {
     "end_time": "2020-07-21T11:47:54.328589Z",
     "start_time": "2020-07-21T11:47:54.254860Z"
    }
   },
   "outputs": [
    {
     "data": {
      "text/html": [
       "<div>\n",
       "<style scoped>\n",
       "    .dataframe tbody tr th:only-of-type {\n",
       "        vertical-align: middle;\n",
       "    }\n",
       "\n",
       "    .dataframe tbody tr th {\n",
       "        vertical-align: top;\n",
       "    }\n",
       "\n",
       "    .dataframe thead th {\n",
       "        text-align: right;\n",
       "    }\n",
       "</style>\n",
       "<table border=\"1\" class=\"dataframe\">\n",
       "  <thead>\n",
       "    <tr style=\"text-align: right;\">\n",
       "      <th></th>\n",
       "      <th>회원번호</th>\n",
       "      <th>조합원상태</th>\n",
       "      <th>주소</th>\n",
       "      <th>성별</th>\n",
       "      <th>연령</th>\n",
       "      <th>배송서비스신청여부</th>\n",
       "      <th>모바일알람여부</th>\n",
       "      <th>Gold_member</th>\n",
       "      <th>연령대</th>\n",
       "      <th>구</th>\n",
       "      <th>...</th>\n",
       "      <th>반품횟수</th>\n",
       "      <th>총구매금액</th>\n",
       "      <th>1회평균구매금액</th>\n",
       "      <th>주별평균구매금액</th>\n",
       "      <th>첫방문일</th>\n",
       "      <th>최종방문일</th>\n",
       "      <th>미방문기간</th>\n",
       "      <th>방문주기</th>\n",
       "      <th>최대매출매장</th>\n",
       "      <th>구매증감율</th>\n",
       "    </tr>\n",
       "  </thead>\n",
       "  <tbody>\n",
       "    <tr>\n",
       "      <th>0</th>\n",
       "      <td>1000012800</td>\n",
       "      <td>정상회원</td>\n",
       "      <td>수지구-풍덕천동</td>\n",
       "      <td>여</td>\n",
       "      <td>58</td>\n",
       "      <td>미신청</td>\n",
       "      <td>미수신</td>\n",
       "      <td>normal</td>\n",
       "      <td>55 ~ 64</td>\n",
       "      <td>수지구</td>\n",
       "      <td>...</td>\n",
       "      <td>0</td>\n",
       "      <td>7658</td>\n",
       "      <td>7658</td>\n",
       "      <td>174</td>\n",
       "      <td>165</td>\n",
       "      <td>165</td>\n",
       "      <td>139</td>\n",
       "      <td>0.0</td>\n",
       "      <td>매장B</td>\n",
       "      <td>0.000</td>\n",
       "    </tr>\n",
       "    <tr>\n",
       "      <th>1</th>\n",
       "      <td>1000103744</td>\n",
       "      <td>정상회원</td>\n",
       "      <td>처인구-고림동</td>\n",
       "      <td>여</td>\n",
       "      <td>34</td>\n",
       "      <td>미신청</td>\n",
       "      <td>미수신</td>\n",
       "      <td>normal</td>\n",
       "      <td>34 이하</td>\n",
       "      <td>처인구</td>\n",
       "      <td>...</td>\n",
       "      <td>0</td>\n",
       "      <td>36948</td>\n",
       "      <td>36948</td>\n",
       "      <td>839</td>\n",
       "      <td>286</td>\n",
       "      <td>286</td>\n",
       "      <td>18</td>\n",
       "      <td>0.0</td>\n",
       "      <td>매장C</td>\n",
       "      <td>0.000</td>\n",
       "    </tr>\n",
       "    <tr>\n",
       "      <th>2</th>\n",
       "      <td>1000122304</td>\n",
       "      <td>정상회원</td>\n",
       "      <td>광주-기타</td>\n",
       "      <td>여</td>\n",
       "      <td>38</td>\n",
       "      <td>미신청</td>\n",
       "      <td>미수신</td>\n",
       "      <td>normal</td>\n",
       "      <td>35 ~ 44</td>\n",
       "      <td>광주</td>\n",
       "      <td>...</td>\n",
       "      <td>0</td>\n",
       "      <td>142831</td>\n",
       "      <td>9522</td>\n",
       "      <td>3246</td>\n",
       "      <td>104</td>\n",
       "      <td>304</td>\n",
       "      <td>0</td>\n",
       "      <td>13.3</td>\n",
       "      <td>매장C</td>\n",
       "      <td>0.859</td>\n",
       "    </tr>\n",
       "    <tr>\n",
       "      <th>3</th>\n",
       "      <td>1000163136</td>\n",
       "      <td>정상회원</td>\n",
       "      <td>수지구-동천동</td>\n",
       "      <td>여</td>\n",
       "      <td>73</td>\n",
       "      <td>미신청</td>\n",
       "      <td>미수신</td>\n",
       "      <td>normal</td>\n",
       "      <td>65 이상</td>\n",
       "      <td>수지구</td>\n",
       "      <td>...</td>\n",
       "      <td>0</td>\n",
       "      <td>138892</td>\n",
       "      <td>34723</td>\n",
       "      <td>3156</td>\n",
       "      <td>258</td>\n",
       "      <td>304</td>\n",
       "      <td>0</td>\n",
       "      <td>11.5</td>\n",
       "      <td>매장A</td>\n",
       "      <td>-0.503</td>\n",
       "    </tr>\n",
       "    <tr>\n",
       "      <th>4</th>\n",
       "      <td>1000281920</td>\n",
       "      <td>정상회원</td>\n",
       "      <td>수지구-풍덕천동</td>\n",
       "      <td>여</td>\n",
       "      <td>42</td>\n",
       "      <td>신청</td>\n",
       "      <td>미수신</td>\n",
       "      <td>normal</td>\n",
       "      <td>35 ~ 44</td>\n",
       "      <td>수지구</td>\n",
       "      <td>...</td>\n",
       "      <td>0</td>\n",
       "      <td>632554</td>\n",
       "      <td>22591</td>\n",
       "      <td>14376</td>\n",
       "      <td>2</td>\n",
       "      <td>279</td>\n",
       "      <td>25</td>\n",
       "      <td>9.9</td>\n",
       "      <td>매장C</td>\n",
       "      <td>-0.305</td>\n",
       "    </tr>\n",
       "    <tr>\n",
       "      <th>...</th>\n",
       "      <td>...</td>\n",
       "      <td>...</td>\n",
       "      <td>...</td>\n",
       "      <td>...</td>\n",
       "      <td>...</td>\n",
       "      <td>...</td>\n",
       "      <td>...</td>\n",
       "      <td>...</td>\n",
       "      <td>...</td>\n",
       "      <td>...</td>\n",
       "      <td>...</td>\n",
       "      <td>...</td>\n",
       "      <td>...</td>\n",
       "      <td>...</td>\n",
       "      <td>...</td>\n",
       "      <td>...</td>\n",
       "      <td>...</td>\n",
       "      <td>...</td>\n",
       "      <td>...</td>\n",
       "      <td>...</td>\n",
       "      <td>...</td>\n",
       "    </tr>\n",
       "    <tr>\n",
       "      <th>11537</th>\n",
       "      <td>999682432</td>\n",
       "      <td>탈퇴</td>\n",
       "      <td>수지구-동천동</td>\n",
       "      <td>여</td>\n",
       "      <td>47</td>\n",
       "      <td>미신청</td>\n",
       "      <td>미수신</td>\n",
       "      <td>normal</td>\n",
       "      <td>45 ~ 54</td>\n",
       "      <td>수지구</td>\n",
       "      <td>...</td>\n",
       "      <td>0</td>\n",
       "      <td>39246</td>\n",
       "      <td>39246</td>\n",
       "      <td>891</td>\n",
       "      <td>8</td>\n",
       "      <td>8</td>\n",
       "      <td>296</td>\n",
       "      <td>0.0</td>\n",
       "      <td>매장A</td>\n",
       "      <td>0.000</td>\n",
       "    </tr>\n",
       "    <tr>\n",
       "      <th>11538</th>\n",
       "      <td>999721408</td>\n",
       "      <td>정상회원</td>\n",
       "      <td>수지구-동천동</td>\n",
       "      <td>여</td>\n",
       "      <td>43</td>\n",
       "      <td>미신청</td>\n",
       "      <td>미수신</td>\n",
       "      <td>normal</td>\n",
       "      <td>35 ~ 44</td>\n",
       "      <td>수지구</td>\n",
       "      <td>...</td>\n",
       "      <td>0</td>\n",
       "      <td>43457</td>\n",
       "      <td>14486</td>\n",
       "      <td>987</td>\n",
       "      <td>178</td>\n",
       "      <td>264</td>\n",
       "      <td>40</td>\n",
       "      <td>28.7</td>\n",
       "      <td>매장A</td>\n",
       "      <td>1.847</td>\n",
       "    </tr>\n",
       "    <tr>\n",
       "      <th>11539</th>\n",
       "      <td>999738112</td>\n",
       "      <td>정상회원</td>\n",
       "      <td>수지구-성복동</td>\n",
       "      <td>여</td>\n",
       "      <td>67</td>\n",
       "      <td>미신청</td>\n",
       "      <td>미수신</td>\n",
       "      <td>normal</td>\n",
       "      <td>65 이상</td>\n",
       "      <td>수지구</td>\n",
       "      <td>...</td>\n",
       "      <td>0</td>\n",
       "      <td>152960</td>\n",
       "      <td>16996</td>\n",
       "      <td>3476</td>\n",
       "      <td>28</td>\n",
       "      <td>291</td>\n",
       "      <td>13</td>\n",
       "      <td>29.2</td>\n",
       "      <td>매장D</td>\n",
       "      <td>-0.318</td>\n",
       "    </tr>\n",
       "    <tr>\n",
       "      <th>11540</th>\n",
       "      <td>999754816</td>\n",
       "      <td>정상회원</td>\n",
       "      <td>수지구-상현동</td>\n",
       "      <td>여</td>\n",
       "      <td>44</td>\n",
       "      <td>신청</td>\n",
       "      <td>미수신</td>\n",
       "      <td>normal</td>\n",
       "      <td>35 ~ 44</td>\n",
       "      <td>수지구</td>\n",
       "      <td>...</td>\n",
       "      <td>0</td>\n",
       "      <td>641334</td>\n",
       "      <td>30540</td>\n",
       "      <td>14575</td>\n",
       "      <td>10</td>\n",
       "      <td>295</td>\n",
       "      <td>9</td>\n",
       "      <td>13.6</td>\n",
       "      <td>매장B</td>\n",
       "      <td>-0.139</td>\n",
       "    </tr>\n",
       "    <tr>\n",
       "      <th>11541</th>\n",
       "      <td>99995712</td>\n",
       "      <td>정상회원</td>\n",
       "      <td>수지구-상현동</td>\n",
       "      <td>여</td>\n",
       "      <td>66</td>\n",
       "      <td>미신청</td>\n",
       "      <td>미수신</td>\n",
       "      <td>normal</td>\n",
       "      <td>65 이상</td>\n",
       "      <td>수지구</td>\n",
       "      <td>...</td>\n",
       "      <td>0</td>\n",
       "      <td>1848650</td>\n",
       "      <td>46216</td>\n",
       "      <td>42014</td>\n",
       "      <td>18</td>\n",
       "      <td>299</td>\n",
       "      <td>5</td>\n",
       "      <td>7.0</td>\n",
       "      <td>매장B</td>\n",
       "      <td>0.018</td>\n",
       "    </tr>\n",
       "  </tbody>\n",
       "</table>\n",
       "<p>11542 rows × 22 columns</p>\n",
       "</div>"
      ],
      "text/plain": [
       "             회원번호 조합원상태        주소 성별  연령 배송서비스신청여부 모바일알람여부 Gold_member  \\\n",
       "0      1000012800  정상회원  수지구-풍덕천동  여  58       미신청     미수신      normal   \n",
       "1      1000103744  정상회원   처인구-고림동  여  34       미신청     미수신      normal   \n",
       "2      1000122304  정상회원     광주-기타  여  38       미신청     미수신      normal   \n",
       "3      1000163136  정상회원   수지구-동천동  여  73       미신청     미수신      normal   \n",
       "4      1000281920  정상회원  수지구-풍덕천동  여  42        신청     미수신      normal   \n",
       "...           ...   ...       ... ..  ..       ...     ...         ...   \n",
       "11537   999682432    탈퇴   수지구-동천동  여  47       미신청     미수신      normal   \n",
       "11538   999721408  정상회원   수지구-동천동  여  43       미신청     미수신      normal   \n",
       "11539   999738112  정상회원   수지구-성복동  여  67       미신청     미수신      normal   \n",
       "11540   999754816  정상회원   수지구-상현동  여  44        신청     미수신      normal   \n",
       "11541    99995712  정상회원   수지구-상현동  여  66       미신청     미수신      normal   \n",
       "\n",
       "           연령대    구  ... 반품횟수    총구매금액  1회평균구매금액  주별평균구매금액  첫방문일  최종방문일  \\\n",
       "0      55 ~ 64  수지구  ...    0     7658      7658       174   165    165   \n",
       "1        34 이하  처인구  ...    0    36948     36948       839   286    286   \n",
       "2      35 ~ 44   광주  ...    0   142831      9522      3246   104    304   \n",
       "3        65 이상  수지구  ...    0   138892     34723      3156   258    304   \n",
       "4      35 ~ 44  수지구  ...    0   632554     22591     14376     2    279   \n",
       "...        ...  ...  ...  ...      ...       ...       ...   ...    ...   \n",
       "11537  45 ~ 54  수지구  ...    0    39246     39246       891     8      8   \n",
       "11538  35 ~ 44  수지구  ...    0    43457     14486       987   178    264   \n",
       "11539    65 이상  수지구  ...    0   152960     16996      3476    28    291   \n",
       "11540  35 ~ 44  수지구  ...    0   641334     30540     14575    10    295   \n",
       "11541    65 이상  수지구  ...    0  1848650     46216     42014    18    299   \n",
       "\n",
       "       미방문기간  방문주기  최대매출매장  구매증감율  \n",
       "0        139   0.0     매장B  0.000  \n",
       "1         18   0.0     매장C  0.000  \n",
       "2          0  13.3     매장C  0.859  \n",
       "3          0  11.5     매장A -0.503  \n",
       "4         25   9.9     매장C -0.305  \n",
       "...      ...   ...     ...    ...  \n",
       "11537    296   0.0     매장A  0.000  \n",
       "11538     40  28.7     매장A  1.847  \n",
       "11539     13  29.2     매장D -0.318  \n",
       "11540      9  13.6     매장B -0.139  \n",
       "11541      5   7.0     매장B  0.018  \n",
       "\n",
       "[11542 rows x 22 columns]"
      ]
     },
     "execution_count": 50,
     "metadata": {},
     "output_type": "execute_result"
    }
   ],
   "source": [
    "member"
   ]
  },
  {
   "cell_type": "code",
   "execution_count": 52,
   "metadata": {
    "ExecuteTime": {
     "end_time": "2020-07-21T11:50:07.920616Z",
     "start_time": "2020-07-21T11:50:07.809693Z"
    }
   },
   "outputs": [],
   "source": [
    "member.to_csv('member_data_preprocessed.csv', index=False, encoding='utf-8')"
   ]
  },
  {
   "cell_type": "code",
   "execution_count": 51,
   "metadata": {
    "ExecuteTime": {
     "end_time": "2020-07-21T11:47:59.088669Z",
     "start_time": "2020-07-21T11:47:59.041579Z"
    }
   },
   "outputs": [
    {
     "data": {
      "text/html": [
       "<div>\n",
       "<style scoped>\n",
       "    .dataframe tbody tr th:only-of-type {\n",
       "        vertical-align: middle;\n",
       "    }\n",
       "\n",
       "    .dataframe tbody tr th {\n",
       "        vertical-align: top;\n",
       "    }\n",
       "\n",
       "    .dataframe thead th {\n",
       "        text-align: right;\n",
       "    }\n",
       "</style>\n",
       "<table border=\"1\" class=\"dataframe\">\n",
       "  <thead>\n",
       "    <tr style=\"text-align: right;\">\n",
       "      <th></th>\n",
       "      <th>공급일자</th>\n",
       "      <th>회원번호</th>\n",
       "      <th>조합원상태</th>\n",
       "      <th>물품대분류</th>\n",
       "      <th>물품중분류</th>\n",
       "      <th>물품소분류</th>\n",
       "      <th>물품명</th>\n",
       "      <th>구매수량</th>\n",
       "      <th>구매금액</th>\n",
       "      <th>구매매장</th>\n",
       "      <th>반품_원거래일자</th>\n",
       "      <th>구매시각</th>\n",
       "      <th>요일</th>\n",
       "      <th>주차</th>\n",
       "      <th>주중</th>\n",
       "      <th>계절</th>\n",
       "      <th>구매시간대</th>\n",
       "    </tr>\n",
       "  </thead>\n",
       "  <tbody>\n",
       "    <tr>\n",
       "      <th>0</th>\n",
       "      <td>2</td>\n",
       "      <td>272369856</td>\n",
       "      <td>정상회원</td>\n",
       "      <td>과실</td>\n",
       "      <td>과일</td>\n",
       "      <td>사과</td>\n",
       "      <td>사과/유(1.5kg)</td>\n",
       "      <td>1.0</td>\n",
       "      <td>22207</td>\n",
       "      <td>매장C</td>\n",
       "      <td>NaT</td>\n",
       "      <td>10:04</td>\n",
       "      <td>Tuesday</td>\n",
       "      <td>1</td>\n",
       "      <td>주중</td>\n",
       "      <td>겨울</td>\n",
       "      <td>아침</td>\n",
       "    </tr>\n",
       "    <tr>\n",
       "      <th>1</th>\n",
       "      <td>2</td>\n",
       "      <td>1476143616</td>\n",
       "      <td>정상회원</td>\n",
       "      <td>간식</td>\n",
       "      <td>빵</td>\n",
       "      <td>식빵, 식사대용</td>\n",
       "      <td>아침빵(240g/8개)/매장</td>\n",
       "      <td>1.0</td>\n",
       "      <td>4403</td>\n",
       "      <td>매장C</td>\n",
       "      <td>NaT</td>\n",
       "      <td>10:09</td>\n",
       "      <td>Tuesday</td>\n",
       "      <td>1</td>\n",
       "      <td>주중</td>\n",
       "      <td>겨울</td>\n",
       "      <td>아침</td>\n",
       "    </tr>\n",
       "    <tr>\n",
       "      <th>2</th>\n",
       "      <td>2</td>\n",
       "      <td>743192512</td>\n",
       "      <td>정상회원</td>\n",
       "      <td>채소</td>\n",
       "      <td>양념채소</td>\n",
       "      <td>생강</td>\n",
       "      <td>생강(300g)</td>\n",
       "      <td>1.0</td>\n",
       "      <td>7083</td>\n",
       "      <td>매장C</td>\n",
       "      <td>NaT</td>\n",
       "      <td>10:12</td>\n",
       "      <td>Tuesday</td>\n",
       "      <td>1</td>\n",
       "      <td>주중</td>\n",
       "      <td>겨울</td>\n",
       "      <td>아침</td>\n",
       "    </tr>\n",
       "    <tr>\n",
       "      <th>3</th>\n",
       "      <td>2</td>\n",
       "      <td>176912064</td>\n",
       "      <td>정상회원</td>\n",
       "      <td>축산물</td>\n",
       "      <td>유제품</td>\n",
       "      <td>우유/산양유</td>\n",
       "      <td>유기농저지방우유(종이팩/900ml)</td>\n",
       "      <td>1.0</td>\n",
       "      <td>7849</td>\n",
       "      <td>매장C</td>\n",
       "      <td>NaT</td>\n",
       "      <td>10:23</td>\n",
       "      <td>Tuesday</td>\n",
       "      <td>1</td>\n",
       "      <td>주중</td>\n",
       "      <td>겨울</td>\n",
       "      <td>아침</td>\n",
       "    </tr>\n",
       "    <tr>\n",
       "      <th>4</th>\n",
       "      <td>2</td>\n",
       "      <td>87592064</td>\n",
       "      <td>정상회원</td>\n",
       "      <td>양념/가루</td>\n",
       "      <td>가루</td>\n",
       "      <td>양념가루</td>\n",
       "      <td>카레(매운맛: 100g)</td>\n",
       "      <td>3.0</td>\n",
       "      <td>15507</td>\n",
       "      <td>매장C</td>\n",
       "      <td>NaT</td>\n",
       "      <td>10:29</td>\n",
       "      <td>Tuesday</td>\n",
       "      <td>1</td>\n",
       "      <td>주중</td>\n",
       "      <td>겨울</td>\n",
       "      <td>아침</td>\n",
       "    </tr>\n",
       "    <tr>\n",
       "      <th>...</th>\n",
       "      <td>...</td>\n",
       "      <td>...</td>\n",
       "      <td>...</td>\n",
       "      <td>...</td>\n",
       "      <td>...</td>\n",
       "      <td>...</td>\n",
       "      <td>...</td>\n",
       "      <td>...</td>\n",
       "      <td>...</td>\n",
       "      <td>...</td>\n",
       "      <td>...</td>\n",
       "      <td>...</td>\n",
       "      <td>...</td>\n",
       "      <td>...</td>\n",
       "      <td>...</td>\n",
       "      <td>...</td>\n",
       "      <td>...</td>\n",
       "    </tr>\n",
       "    <tr>\n",
       "      <th>290887</th>\n",
       "      <td>304</td>\n",
       "      <td>1110819712</td>\n",
       "      <td>정상회원</td>\n",
       "      <td>채소</td>\n",
       "      <td>뿌리채소</td>\n",
       "      <td>무</td>\n",
       "      <td>무(0.7~1kg미만)</td>\n",
       "      <td>1.0</td>\n",
       "      <td>2680</td>\n",
       "      <td>매장A</td>\n",
       "      <td>NaT</td>\n",
       "      <td>13:26</td>\n",
       "      <td>Wednesday</td>\n",
       "      <td>44</td>\n",
       "      <td>주중</td>\n",
       "      <td>가을</td>\n",
       "      <td>점심</td>\n",
       "    </tr>\n",
       "    <tr>\n",
       "      <th>290888</th>\n",
       "      <td>304</td>\n",
       "      <td>1517953728</td>\n",
       "      <td>정상회원</td>\n",
       "      <td>채소</td>\n",
       "      <td>양념채소</td>\n",
       "      <td>쪽파</td>\n",
       "      <td>쪽파(500g)</td>\n",
       "      <td>1.0</td>\n",
       "      <td>4212</td>\n",
       "      <td>매장A</td>\n",
       "      <td>NaT</td>\n",
       "      <td>10:58</td>\n",
       "      <td>Wednesday</td>\n",
       "      <td>44</td>\n",
       "      <td>주중</td>\n",
       "      <td>가을</td>\n",
       "      <td>아침</td>\n",
       "    </tr>\n",
       "    <tr>\n",
       "      <th>290889</th>\n",
       "      <td>304</td>\n",
       "      <td>713691392</td>\n",
       "      <td>정상회원</td>\n",
       "      <td>반찬</td>\n",
       "      <td>밑반찬</td>\n",
       "      <td>조림</td>\n",
       "      <td>우엉조림(반찬용/150g)</td>\n",
       "      <td>1.0</td>\n",
       "      <td>7658</td>\n",
       "      <td>매장A</td>\n",
       "      <td>NaT</td>\n",
       "      <td>14:36</td>\n",
       "      <td>Wednesday</td>\n",
       "      <td>44</td>\n",
       "      <td>주중</td>\n",
       "      <td>가을</td>\n",
       "      <td>점심</td>\n",
       "    </tr>\n",
       "    <tr>\n",
       "      <th>290890</th>\n",
       "      <td>304</td>\n",
       "      <td>247926336</td>\n",
       "      <td>정상회원</td>\n",
       "      <td>간식</td>\n",
       "      <td>빵</td>\n",
       "      <td>건강곡물빵</td>\n",
       "      <td>감자바게트(180g)/매장</td>\n",
       "      <td>1.0</td>\n",
       "      <td>5169</td>\n",
       "      <td>매장A</td>\n",
       "      <td>NaT</td>\n",
       "      <td>16:23</td>\n",
       "      <td>Wednesday</td>\n",
       "      <td>44</td>\n",
       "      <td>주중</td>\n",
       "      <td>가을</td>\n",
       "      <td>점심</td>\n",
       "    </tr>\n",
       "    <tr>\n",
       "      <th>290891</th>\n",
       "      <td>304</td>\n",
       "      <td>748292800</td>\n",
       "      <td>정상회원</td>\n",
       "      <td>채소</td>\n",
       "      <td>뿌리채소</td>\n",
       "      <td>무</td>\n",
       "      <td>무(1kg이상)</td>\n",
       "      <td>1.0</td>\n",
       "      <td>3829</td>\n",
       "      <td>매장A</td>\n",
       "      <td>NaT</td>\n",
       "      <td>16:51</td>\n",
       "      <td>Wednesday</td>\n",
       "      <td>44</td>\n",
       "      <td>주중</td>\n",
       "      <td>가을</td>\n",
       "      <td>점심</td>\n",
       "    </tr>\n",
       "  </tbody>\n",
       "</table>\n",
       "<p>290892 rows × 17 columns</p>\n",
       "</div>"
      ],
      "text/plain": [
       "        공급일자        회원번호 조합원상태  물품대분류 물품중분류     물품소분류                  물품명  \\\n",
       "0          2   272369856  정상회원     과실    과일        사과          사과/유(1.5kg)   \n",
       "1          2  1476143616  정상회원     간식     빵  식빵, 식사대용      아침빵(240g/8개)/매장   \n",
       "2          2   743192512  정상회원     채소  양념채소        생강             생강(300g)   \n",
       "3          2   176912064  정상회원    축산물   유제품    우유/산양유  유기농저지방우유(종이팩/900ml)   \n",
       "4          2    87592064  정상회원  양념/가루    가루      양념가루        카레(매운맛: 100g)   \n",
       "...      ...         ...   ...    ...   ...       ...                  ...   \n",
       "290887   304  1110819712  정상회원     채소  뿌리채소         무         무(0.7~1kg미만)   \n",
       "290888   304  1517953728  정상회원     채소  양념채소        쪽파             쪽파(500g)   \n",
       "290889   304   713691392  정상회원     반찬   밑반찬        조림       우엉조림(반찬용/150g)   \n",
       "290890   304   247926336  정상회원     간식     빵     건강곡물빵       감자바게트(180g)/매장   \n",
       "290891   304   748292800  정상회원     채소  뿌리채소         무             무(1kg이상)   \n",
       "\n",
       "        구매수량   구매금액 구매매장 반품_원거래일자   구매시각         요일  주차  주중  계절 구매시간대  \n",
       "0        1.0  22207  매장C      NaT  10:04    Tuesday   1  주중  겨울    아침  \n",
       "1        1.0   4403  매장C      NaT  10:09    Tuesday   1  주중  겨울    아침  \n",
       "2        1.0   7083  매장C      NaT  10:12    Tuesday   1  주중  겨울    아침  \n",
       "3        1.0   7849  매장C      NaT  10:23    Tuesday   1  주중  겨울    아침  \n",
       "4        3.0  15507  매장C      NaT  10:29    Tuesday   1  주중  겨울    아침  \n",
       "...      ...    ...  ...      ...    ...        ...  ..  ..  ..   ...  \n",
       "290887   1.0   2680  매장A      NaT  13:26  Wednesday  44  주중  가을    점심  \n",
       "290888   1.0   4212  매장A      NaT  10:58  Wednesday  44  주중  가을    아침  \n",
       "290889   1.0   7658  매장A      NaT  14:36  Wednesday  44  주중  가을    점심  \n",
       "290890   1.0   5169  매장A      NaT  16:23  Wednesday  44  주중  가을    점심  \n",
       "290891   1.0   3829  매장A      NaT  16:51  Wednesday  44  주중  가을    점심  \n",
       "\n",
       "[290892 rows x 17 columns]"
      ]
     },
     "execution_count": 51,
     "metadata": {},
     "output_type": "execute_result"
    }
   ],
   "source": [
    "product"
   ]
  },
  {
   "cell_type": "code",
   "execution_count": 53,
   "metadata": {
    "ExecuteTime": {
     "end_time": "2020-07-21T11:50:11.300553Z",
     "start_time": "2020-07-21T11:50:09.698701Z"
    }
   },
   "outputs": [],
   "source": [
    "product.to_csv('product_preprocessed.csv', index=False, encoding='utf-8')"
   ]
  }
 ],
 "metadata": {
  "kernelspec": {
   "display_name": "Python 3",
   "language": "python",
   "name": "python3"
  },
  "language_info": {
   "codemirror_mode": {
    "name": "ipython",
    "version": 3
   },
   "file_extension": ".py",
   "mimetype": "text/x-python",
   "name": "python",
   "nbconvert_exporter": "python",
   "pygments_lexer": "ipython3",
   "version": "3.7.6"
  },
  "toc": {
   "base_numbering": 1,
   "nav_menu": {},
   "number_sections": true,
   "sideBar": true,
   "skip_h1_title": false,
   "title_cell": "Table of Contents",
   "title_sidebar": "Contents",
   "toc_cell": false,
   "toc_position": {},
   "toc_section_display": true,
   "toc_window_display": false
  },
  "varInspector": {
   "cols": {
    "lenName": 16,
    "lenType": 16,
    "lenVar": 40
   },
   "kernels_config": {
    "python": {
     "delete_cmd_postfix": "",
     "delete_cmd_prefix": "del ",
     "library": "var_list.py",
     "varRefreshCmd": "print(var_dic_list())"
    },
    "r": {
     "delete_cmd_postfix": ") ",
     "delete_cmd_prefix": "rm(",
     "library": "var_list.r",
     "varRefreshCmd": "cat(var_dic_list()) "
    }
   },
   "types_to_exclude": [
    "module",
    "function",
    "builtin_function_or_method",
    "instance",
    "_Feature"
   ],
   "window_display": false
  }
 },
 "nbformat": 4,
 "nbformat_minor": 4
}
