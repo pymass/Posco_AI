{
 "cells": [
  {
   "cell_type": "code",
   "execution_count": 1,
   "metadata": {
    "ExecuteTime": {
     "end_time": "2020-07-21T16:34:54.513927Z",
     "start_time": "2020-07-21T16:34:53.815787Z"
    }
   },
   "outputs": [],
   "source": [
    "import pandas as pd\n",
    "\n",
    "from sklearn.preprocessing import MinMaxScaler\n",
    "from sklearn.cluster import KMeans, AgglomerativeClustering\n",
    "from sklearn.metrics.cluster import silhouette_score\n",
    "from sklearn.manifold import TSNE\n",
    "from sklearn.decomposition import PCA\n",
    "\n",
    "import seaborn as sns\n",
    "import matplotlib.pyplot as plt\n",
    "\n",
    "from sklearn.model_selection import train_test_split\n",
    "from sklearn.tree import DecisionTreeClassifier\n",
    "\n",
    "from sklearn.tree import export_graphviz\n",
    "import graphviz\n",
    "from sklearn.model_selection import cross_val_score"
   ]
  },
  {
   "cell_type": "code",
   "execution_count": 2,
   "metadata": {
    "ExecuteTime": {
     "end_time": "2020-07-21T16:34:54.738377Z",
     "start_time": "2020-07-21T16:34:54.729250Z"
    }
   },
   "outputs": [],
   "source": [
    "plt.rc('font', family='NanumGothic', size=14)\n",
    "plt.rcParams['axes.unicode_minus'] = False\n",
    "plt.style.use('ggplot')"
   ]
  },
  {
   "cell_type": "code",
   "execution_count": 3,
   "metadata": {
    "ExecuteTime": {
     "end_time": "2020-07-21T16:34:56.008620Z",
     "start_time": "2020-07-21T16:34:55.401268Z"
    }
   },
   "outputs": [],
   "source": [
    "member = pd.read_csv('member_data_preprocessed.csv')\n",
    "product = pd.read_csv('product_preprocessed.csv')"
   ]
  },
  {
   "cell_type": "markdown",
   "metadata": {},
   "source": [
    "# 전처리"
   ]
  },
  {
   "cell_type": "code",
   "execution_count": null,
   "metadata": {
    "ExecuteTime": {
     "start_time": "2020-07-21T16:34:47.715Z"
    }
   },
   "outputs": [],
   "source": [
    "drop_list = member.loc[member['조합원상태'] != '정상회원', '회원번호']"
   ]
  },
  {
   "cell_type": "code",
   "execution_count": 622,
   "metadata": {
    "ExecuteTime": {
     "end_time": "2020-07-21T15:40:01.525298Z",
     "start_time": "2020-07-21T15:40:01.516474Z"
    }
   },
   "outputs": [],
   "source": [
    "member = member.drop(drop_list.index).reset_index(drop=True)"
   ]
  },
  {
   "cell_type": "code",
   "execution_count": 623,
   "metadata": {
    "ExecuteTime": {
     "end_time": "2020-07-21T15:40:06.106251Z",
     "start_time": "2020-07-21T15:40:01.776582Z"
    }
   },
   "outputs": [],
   "source": [
    "for number in drop_list:\n",
    "    product = product.loc[product['회원번호'] != number]"
   ]
  },
  {
   "cell_type": "code",
   "execution_count": 624,
   "metadata": {
    "ExecuteTime": {
     "end_time": "2020-07-21T15:40:06.283750Z",
     "start_time": "2020-07-21T15:40:06.264449Z"
    }
   },
   "outputs": [],
   "source": [
    "product = product.reset_index(drop=True)"
   ]
  },
  {
   "cell_type": "code",
   "execution_count": 4,
   "metadata": {
    "ExecuteTime": {
     "end_time": "2020-07-21T16:34:59.214104Z",
     "start_time": "2020-07-21T16:34:59.175419Z"
    }
   },
   "outputs": [],
   "source": [
    "X = pd.get_dummies(member.drop(['회원번호', '주소', '연령대', '구', '총구매금액', 'Gold_member', '배송서비스신청여부'], axis=1))"
   ]
  },
  {
   "cell_type": "code",
   "execution_count": 5,
   "metadata": {
    "ExecuteTime": {
     "end_time": "2020-07-21T16:34:59.491247Z",
     "start_time": "2020-07-21T16:34:59.485382Z"
    }
   },
   "outputs": [],
   "source": [
    "minmax = MinMaxScaler()"
   ]
  },
  {
   "cell_type": "code",
   "execution_count": 6,
   "metadata": {
    "ExecuteTime": {
     "end_time": "2020-07-21T16:34:59.869751Z",
     "start_time": "2020-07-21T16:34:59.833172Z"
    }
   },
   "outputs": [],
   "source": [
    "feature = minmax.fit_transform(X)"
   ]
  },
  {
   "cell_type": "code",
   "execution_count": 7,
   "metadata": {
    "ExecuteTime": {
     "end_time": "2020-07-21T16:35:00.495594Z",
     "start_time": "2020-07-21T16:35:00.407117Z"
    }
   },
   "outputs": [
    {
     "data": {
      "text/plain": [
       "PCA(copy=True, iterated_power='auto', n_components=0.8, random_state=1004,\n",
       "    svd_solver='auto', tol=0.0, whiten=False)"
      ]
     },
     "execution_count": 7,
     "metadata": {},
     "output_type": "execute_result"
    }
   ],
   "source": [
    "pca = PCA(n_components=0.8, random_state=1004)\n",
    "pca.fit(feature)"
   ]
  },
  {
   "cell_type": "code",
   "execution_count": 8,
   "metadata": {
    "ExecuteTime": {
     "end_time": "2020-07-21T16:35:00.866682Z",
     "start_time": "2020-07-21T16:35:00.854673Z"
    }
   },
   "outputs": [],
   "source": [
    "pca_feature = pca.transform(feature)"
   ]
  },
  {
   "cell_type": "markdown",
   "metadata": {},
   "source": [
    "## KMeans Clustering"
   ]
  },
  {
   "cell_type": "code",
   "execution_count": 9,
   "metadata": {
    "ExecuteTime": {
     "end_time": "2020-07-21T16:35:33.248795Z",
     "start_time": "2020-07-21T16:35:03.543842Z"
    }
   },
   "outputs": [
    {
     "name": "stdout",
     "output_type": "stream",
     "text": [
      "2 군집의 기본 실루엣 계수 : 0.192\t pca 실루엣 계수 : 0.246\n",
      "3 군집의 기본 실루엣 계수 : 0.26\t pca 실루엣 계수 : 0.326\n",
      "4 군집의 기본 실루엣 계수 : 0.318\t pca 실루엣 계수 : 0.398\n",
      "5 군집의 기본 실루엣 계수 : 0.302\t pca 실루엣 계수 : 0.391\n",
      "6 군집의 기본 실루엣 계수 : 0.3\t pca 실루엣 계수 : 0.403\n",
      "7 군집의 기본 실루엣 계수 : 0.305\t pca 실루엣 계수 : 0.401\n",
      "8 군집의 기본 실루엣 계수 : 0.307\t pca 실루엣 계수 : 0.406\n",
      "9 군집의 기본 실루엣 계수 : 0.318\t pca 실루엣 계수 : 0.422\n",
      "10 군집의 기본 실루엣 계수 : 0.327\t pca 실루엣 계수 : 0.429\n"
     ]
    }
   ],
   "source": [
    "silhouette1 = []\n",
    "silhouette2 = []\n",
    "\n",
    "for k in range(2, 11):\n",
    "    km = KMeans(n_clusters=k, random_state=1234, n_jobs=-1)\n",
    "    score1 = silhouette_score(feature, km.fit_predict(feature), random_state=1004).round(3)\n",
    "    score2 = silhouette_score(pca_feature, km.fit_predict(pca_feature), random_state=1004).round(3)    \n",
    "    silhouette1.append(score1)\n",
    "    silhouette2.append(score2)\n",
    "    print(f'{k} 군집의 기본 실루엣 계수 : {score1}\\t pca 실루엣 계수 : {score2}')"
   ]
  },
  {
   "cell_type": "code",
   "execution_count": 10,
   "metadata": {
    "ExecuteTime": {
     "end_time": "2020-07-21T16:35:33.634772Z",
     "start_time": "2020-07-21T16:35:33.412176Z"
    }
   },
   "outputs": [
    {
     "data": {
      "text/plain": [
       "<matplotlib.axes._subplots.AxesSubplot at 0x7fc3b82d23d0>"
      ]
     },
     "execution_count": 10,
     "metadata": {},
     "output_type": "execute_result"
    },
    {
     "data": {
      "image/png": "[encoded data removed]",
      "text/plain": [
       "<Figure size 432x288 with 1 Axes>"
      ]
     },
     "metadata": {},
     "output_type": "display_data"
    }
   ],
   "source": [
    "sns.lineplot(x=range(2,11), y=silhouette1, label='default')\n",
    "sns.lineplot(x=range(2,11), y=silhouette2, label='pca')"
   ]
  },
  {
   "cell_type": "markdown",
   "metadata": {},
   "source": [
    "## AgglomerativeClustering"
   ]
  },
  {
   "cell_type": "code",
   "execution_count": 632,
   "metadata": {
    "ExecuteTime": {
     "end_time": "2020-07-21T15:42:58.505647Z",
     "start_time": "2020-07-21T15:40:40.576601Z"
    }
   },
   "outputs": [
    {
     "name": "stdout",
     "output_type": "stream",
     "text": [
      "2 군집의 기본 실루엣 계수 : 0.145\t pca 실루엣 계수 : 0.194\n",
      "3 군집의 기본 실루엣 계수 : 0.175\t pca 실루엣 계수 : 0.233\n",
      "4 군집의 기본 실루엣 계수 : 0.21\t pca 실루엣 계수 : 0.256\n",
      "5 군집의 기본 실루엣 계수 : 0.246\t pca 실루엣 계수 : 0.296\n",
      "6 군집의 기본 실루엣 계수 : 0.273\t pca 실루엣 계수 : 0.338\n",
      "7 군집의 기본 실루엣 계수 : 0.296\t pca 실루엣 계수 : 0.363\n",
      "8 군집의 기본 실루엣 계수 : 0.279\t pca 실루엣 계수 : 0.38\n",
      "9 군집의 기본 실루엣 계수 : 0.275\t pca 실루엣 계수 : 0.378\n",
      "10 군집의 기본 실루엣 계수 : 0.273\t pca 실루엣 계수 : 0.383\n"
     ]
    }
   ],
   "source": [
    "silhouette1 = []\n",
    "silhouette2 = []\n",
    "\n",
    "for k in range(2, 11):\n",
    "    agg = AgglomerativeClustering(n_clusters=k)\n",
    "    score1 = silhouette_score(feature, agg.fit_predict(feature), random_state=1004).round(3)\n",
    "    score2 = silhouette_score(pca_feature, agg.fit_predict(pca_feature), random_state=1004).round(3)    \n",
    "    silhouette1.append(score1)\n",
    "    silhouette2.append(score2)\n",
    "    print(f'{k} 군집의 기본 실루엣 계수 : {score1}\\t pca 실루엣 계수 : {score2}')"
   ]
  },
  {
   "cell_type": "code",
   "execution_count": 633,
   "metadata": {
    "ExecuteTime": {
     "end_time": "2020-07-21T15:42:58.880001Z",
     "start_time": "2020-07-21T15:42:58.661927Z"
    }
   },
   "outputs": [
    {
     "data": {
      "text/plain": [
       "<matplotlib.axes._subplots.AxesSubplot at 0x7f67c7463d50>"
      ]
     },
     "execution_count": 633,
     "metadata": {},
     "output_type": "execute_result"
    },
    {
     "data": {
      "image/png": "[encoded data removed]",
      "text/plain": [
       "<Figure size 432x288 with 1 Axes>"
      ]
     },
     "metadata": {},
     "output_type": "display_data"
    }
   ],
   "source": [
    "sns.lineplot(x=range(2,11), y=silhouette1, label='default')\n",
    "sns.lineplot(x=range(2,11), y=silhouette2, label='pca')"
   ]
  },
  {
   "cell_type": "markdown",
   "metadata": {},
   "source": [
    "# 군집특성 파악"
   ]
  },
  {
   "cell_type": "markdown",
   "metadata": {},
   "source": [
    "## k군집"
   ]
  },
  {
   "cell_type": "code",
   "execution_count": 25,
   "metadata": {
    "ExecuteTime": {
     "end_time": "2020-07-21T16:38:09.459392Z",
     "start_time": "2020-07-21T16:38:08.968130Z"
    }
   },
   "outputs": [],
   "source": [
    "km = KMeans(n_clusters=8, n_jobs=-1, random_state=1234)\n",
    "km.fit(feature)\n",
    "member['k군집'] = km.labels_"
   ]
  },
  {
   "cell_type": "code",
   "execution_count": 26,
   "metadata": {
    "ExecuteTime": {
     "end_time": "2020-07-21T16:38:11.267074Z",
     "start_time": "2020-07-21T16:38:09.607438Z"
    }
   },
   "outputs": [
    {
     "data": {
      "image/png": "[encoded data removed]",
      "text/plain": [
       "<Figure size 1440x720 with 8 Axes>"
      ]
     },
     "metadata": {},
     "output_type": "display_data"
    }
   ],
   "source": [
    "plt.figure(figsize=(20,10))\n",
    "for i in range(8):\n",
    "    sns.distplot(member.loc[member['k군집'] == i, '총구매금액'], ax=plt.subplot(2, 5, i+1), label=i)\n",
    "plt.tight_layout()"
   ]
  },
  {
   "cell_type": "markdown",
   "metadata": {},
   "source": [
    "## agg군집"
   ]
  },
  {
   "cell_type": "code",
   "execution_count": 744,
   "metadata": {
    "ExecuteTime": {
     "end_time": "2020-07-21T16:06:24.704059Z",
     "start_time": "2020-07-21T16:06:16.593698Z"
    }
   },
   "outputs": [],
   "source": [
    "agg = AgglomerativeClustering(n_clusters=6)\n",
    "agg.fit(feature)\n",
    "member['agg군집'] = agg.labels_"
   ]
  },
  {
   "cell_type": "code",
   "execution_count": 745,
   "metadata": {
    "ExecuteTime": {
     "end_time": "2020-07-21T16:06:26.943152Z",
     "start_time": "2020-07-21T16:06:24.854986Z"
    }
   },
   "outputs": [
    {
     "data": {
      "image/png": "[encoded data removed]",
      "text/plain": [
       "<Figure size 1440x720 with 6 Axes>"
      ]
     },
     "metadata": {},
     "output_type": "display_data"
    }
   ],
   "source": [
    "plt.figure(figsize=(20,10))\n",
    "for i in range(6):\n",
    "    sns.distplot(member.loc[member['agg군집'] == i, '총구매금액'], ax=plt.subplot(2, 5, i+1), label=i)\n",
    "plt.tight_layout()"
   ]
  },
  {
   "cell_type": "code",
   "execution_count": 670,
   "metadata": {
    "ExecuteTime": {
     "end_time": "2020-07-21T15:47:19.829923Z",
     "start_time": "2020-07-21T15:47:19.814651Z"
    }
   },
   "outputs": [
    {
     "data": {
      "text/plain": [
       "3    2564\n",
       "2    2216\n",
       "4    1948\n",
       "5    1837\n",
       "1    1800\n",
       "0    1036\n",
       "Name: k군집, dtype: int64"
      ]
     },
     "execution_count": 670,
     "metadata": {},
     "output_type": "execute_result"
    }
   ],
   "source": [
    "member['k군집'].value_counts()"
   ]
  },
  {
   "cell_type": "code",
   "execution_count": 671,
   "metadata": {
    "ExecuteTime": {
     "end_time": "2020-07-21T15:47:32.947748Z",
     "start_time": "2020-07-21T15:47:32.933643Z"
    }
   },
   "outputs": [
    {
     "data": {
      "text/plain": [
       "1    3389\n",
       "2    2253\n",
       "0    2206\n",
       "3    1684\n",
       "4     980\n",
       "5     889\n",
       "Name: agg군집, dtype: int64"
      ]
     },
     "execution_count": 671,
     "metadata": {},
     "output_type": "execute_result"
    }
   ],
   "source": [
    "member['agg군집'].value_counts()"
   ]
  },
  {
   "cell_type": "markdown",
   "metadata": {},
   "source": [
    "# VIP 분류 모델 생성"
   ]
  },
  {
   "cell_type": "markdown",
   "metadata": {},
   "source": [
    "## k군집"
   ]
  },
  {
   "cell_type": "code",
   "execution_count": 770,
   "metadata": {
    "ExecuteTime": {
     "end_time": "2020-07-21T16:15:24.134326Z",
     "start_time": "2020-07-21T16:15:24.127011Z"
    }
   },
   "outputs": [],
   "source": [
    "member['VIP'] = 0"
   ]
  },
  {
   "cell_type": "code",
   "execution_count": 771,
   "metadata": {
    "ExecuteTime": {
     "end_time": "2020-07-21T16:15:24.392181Z",
     "start_time": "2020-07-21T16:15:24.379254Z"
    }
   },
   "outputs": [],
   "source": [
    "member.loc[member['k군집'] == 6, 'VIP'] = 1"
   ]
  },
  {
   "cell_type": "code",
   "execution_count": 799,
   "metadata": {
    "ExecuteTime": {
     "end_time": "2020-07-21T16:21:41.719467Z",
     "start_time": "2020-07-21T16:21:41.666596Z"
    }
   },
   "outputs": [],
   "source": [
    "X = pd.get_dummies(member.drop(['Gold_member', 'VIP', 'agg군집', 'k군집', '배송서비스신청여부', '회원번호', '총구매금액', '방문횟수'], axis=1))\n",
    "y = member['VIP']"
   ]
  },
  {
   "cell_type": "code",
   "execution_count": 800,
   "metadata": {
    "ExecuteTime": {
     "end_time": "2020-07-21T16:21:41.936176Z",
     "start_time": "2020-07-21T16:21:41.919443Z"
    }
   },
   "outputs": [],
   "source": [
    "x_train, x_test, y_train, y_test = train_test_split(X, y, test_size=0.3, stratify=y, random_state=1234)"
   ]
  },
  {
   "cell_type": "code",
   "execution_count": 801,
   "metadata": {
    "ExecuteTime": {
     "end_time": "2020-07-21T16:21:42.150067Z",
     "start_time": "2020-07-21T16:21:42.146939Z"
    }
   },
   "outputs": [],
   "source": [
    "dt = DecisionTreeClassifier(random_state=1234, max_depth=4)"
   ]
  },
  {
   "cell_type": "code",
   "execution_count": 802,
   "metadata": {
    "ExecuteTime": {
     "end_time": "2020-07-21T16:21:42.412780Z",
     "start_time": "2020-07-21T16:21:42.359626Z"
    }
   },
   "outputs": [
    {
     "data": {
      "text/plain": [
       "DecisionTreeClassifier(ccp_alpha=0.0, class_weight=None, criterion='gini',\n",
       "                       max_depth=4, max_features=None, max_leaf_nodes=None,\n",
       "                       min_impurity_decrease=0.0, min_impurity_split=None,\n",
       "                       min_samples_leaf=1, min_samples_split=2,\n",
       "                       min_weight_fraction_leaf=0.0, presort='deprecated',\n",
       "                       random_state=1234, splitter='best')"
      ]
     },
     "execution_count": 802,
     "metadata": {},
     "output_type": "execute_result"
    }
   ],
   "source": [
    "dt.fit(x_train, y_train)"
   ]
  },
  {
   "cell_type": "code",
   "execution_count": 803,
   "metadata": {
    "ExecuteTime": {
     "end_time": "2020-07-21T16:21:42.633990Z",
     "start_time": "2020-07-21T16:21:42.625681Z"
    }
   },
   "outputs": [
    {
     "data": {
      "text/plain": [
       "0.9555685472084186"
      ]
     },
     "execution_count": 803,
     "metadata": {},
     "output_type": "execute_result"
    }
   ],
   "source": [
    "dt.score(x_test, y_test)"
   ]
  },
  {
   "cell_type": "code",
   "execution_count": 804,
   "metadata": {
    "ExecuteTime": {
     "end_time": "2020-07-21T16:21:43.123682Z",
     "start_time": "2020-07-21T16:21:42.797140Z"
    }
   },
   "outputs": [
    {
     "data": {
      "text/plain": [
       "0.949477337578932"
      ]
     },
     "execution_count": 804,
     "metadata": {},
     "output_type": "execute_result"
    }
   ],
   "source": [
    "cross_val_score(dt, X, y).mean()"
   ]
  },
  {
   "cell_type": "code",
   "execution_count": 805,
   "metadata": {
    "ExecuteTime": {
     "end_time": "2020-07-21T16:21:43.372486Z",
     "start_time": "2020-07-21T16:21:43.279207Z"
    },
    "scrolled": false
   },
   "outputs": [
    {
     "data": {
      "image/svg+xml": [
       "<?xml version=\"1.0\" encoding=\"UTF-8\" standalone=\"no\"?>\n",
       "<!DOCTYPE svg PUBLIC \"-//W3C//DTD SVG 1.1//EN\"\n",
       " \"http://www.w3.org/Graphics/SVG/1.1/DTD/svg11.dtd\">\n",
       "<!-- Generated by graphviz version 2.40.1 (20161225.0304)\n",
       " -->\n",
       "<!-- Title: Tree Pages: 1 -->\n",
       "<svg width=\"1672pt\" height=\"552pt\"\n",
       " viewBox=\"0.00 0.00 1671.50 552.00\" xmlns=\"http://www.w3.org/2000/svg\" xmlns:xlink=\"http://www.w3.org/1999/xlink\">\n",
       "<g id=\"graph0\" class=\"graph\" transform=\"scale(1 1) rotate(0) translate(4 548)\">\n",
       "<title>Tree</title>\n",
       "<polygon fill=\"#ffffff\" stroke=\"transparent\" points=\"-4,4 -4,-548 1667.5,-548 1667.5,4 -4,4\"/>\n",
       "<!-- 0 -->\n",
       "<g id=\"node1\" class=\"node\">\n",
       "<title>0</title>\n",
       "<polygon fill=\"#e78946\" stroke=\"#000000\" points=\"903,-544 717,-544 717,-461 903,-461 903,-544\"/>\n",
       "<text text-anchor=\"middle\" x=\"810\" y=\"-528.8\" font-family=\"Times,serif\" font-size=\"14.00\" fill=\"#000000\">주별평균구매금액 &lt;= 8264.5</text>\n",
       "<text text-anchor=\"middle\" x=\"810\" y=\"-513.8\" font-family=\"Times,serif\" font-size=\"14.00\" fill=\"#000000\">gini = 0.115</text>\n",
       "<text text-anchor=\"middle\" x=\"810\" y=\"-498.8\" font-family=\"Times,serif\" font-size=\"14.00\" fill=\"#000000\">samples = 7980</text>\n",
       "<text text-anchor=\"middle\" x=\"810\" y=\"-483.8\" font-family=\"Times,serif\" font-size=\"14.00\" fill=\"#000000\">value = [7492, 488]</text>\n",
       "<text text-anchor=\"middle\" x=\"810\" y=\"-468.8\" font-family=\"Times,serif\" font-size=\"14.00\" fill=\"#000000\">class = 일반</text>\n",
       "</g>\n",
       "<!-- 1 -->\n",
       "<g id=\"node2\" class=\"node\">\n",
       "<title>1</title>\n",
       "<polygon fill=\"#e5823a\" stroke=\"#000000\" points=\"760,-425 574,-425 574,-342 760,-342 760,-425\"/>\n",
       "<text text-anchor=\"middle\" x=\"667\" y=\"-409.8\" font-family=\"Times,serif\" font-size=\"14.00\" fill=\"#000000\">주별평균구매금액 &lt;= 6782.5</text>\n",
       "<text text-anchor=\"middle\" x=\"667\" y=\"-394.8\" font-family=\"Times,serif\" font-size=\"14.00\" fill=\"#000000\">gini = 0.011</text>\n",
       "<text text-anchor=\"middle\" x=\"667\" y=\"-379.8\" font-family=\"Times,serif\" font-size=\"14.00\" fill=\"#000000\">samples = 6169</text>\n",
       "<text text-anchor=\"middle\" x=\"667\" y=\"-364.8\" font-family=\"Times,serif\" font-size=\"14.00\" fill=\"#000000\">value = [6135, 34]</text>\n",
       "<text text-anchor=\"middle\" x=\"667\" y=\"-349.8\" font-family=\"Times,serif\" font-size=\"14.00\" fill=\"#000000\">class = 일반</text>\n",
       "</g>\n",
       "<!-- 0&#45;&gt;1 -->\n",
       "<g id=\"edge1\" class=\"edge\">\n",
       "<title>0&#45;&gt;1</title>\n",
       "<path fill=\"none\" stroke=\"#000000\" d=\"M759.9855,-460.8796C748.7299,-451.513 736.6912,-441.4948 725.1354,-431.8784\"/>\n",
       "<polygon fill=\"#000000\" stroke=\"#000000\" points=\"727.1534,-429.0043 717.2279,-425.2981 722.6758,-434.385 727.1534,-429.0043\"/>\n",
       "<text text-anchor=\"middle\" x=\"719.5085\" y=\"-446.4938\" font-family=\"Times,serif\" font-size=\"14.00\" fill=\"#000000\">True</text>\n",
       "</g>\n",
       "<!-- 14 -->\n",
       "<g id=\"node15\" class=\"node\">\n",
       "<title>14</title>\n",
       "<polygon fill=\"#eeab7b\" stroke=\"#000000\" points=\"1014.5,-425 889.5,-425 889.5,-342 1014.5,-342 1014.5,-425\"/>\n",
       "<text text-anchor=\"middle\" x=\"952\" y=\"-409.8\" font-family=\"Times,serif\" font-size=\"14.00\" fill=\"#000000\">방문주기 &lt;= 8.15</text>\n",
       "<text text-anchor=\"middle\" x=\"952\" y=\"-394.8\" font-family=\"Times,serif\" font-size=\"14.00\" fill=\"#000000\">gini = 0.376</text>\n",
       "<text text-anchor=\"middle\" x=\"952\" y=\"-379.8\" font-family=\"Times,serif\" font-size=\"14.00\" fill=\"#000000\">samples = 1811</text>\n",
       "<text text-anchor=\"middle\" x=\"952\" y=\"-364.8\" font-family=\"Times,serif\" font-size=\"14.00\" fill=\"#000000\">value = [1357, 454]</text>\n",
       "<text text-anchor=\"middle\" x=\"952\" y=\"-349.8\" font-family=\"Times,serif\" font-size=\"14.00\" fill=\"#000000\">class = 일반</text>\n",
       "</g>\n",
       "<!-- 0&#45;&gt;14 -->\n",
       "<g id=\"edge14\" class=\"edge\">\n",
       "<title>0&#45;&gt;14</title>\n",
       "<path fill=\"none\" stroke=\"#000000\" d=\"M859.6647,-460.8796C870.8416,-451.513 882.7962,-441.4948 894.2712,-431.8784\"/>\n",
       "<polygon fill=\"#000000\" stroke=\"#000000\" points=\"896.7069,-434.4037 902.1233,-425.2981 892.2107,-429.0386 896.7069,-434.4037\"/>\n",
       "<text text-anchor=\"middle\" x=\"899.9287\" y=\"-446.5016\" font-family=\"Times,serif\" font-size=\"14.00\" fill=\"#000000\">False</text>\n",
       "</g>\n",
       "<!-- 2 -->\n",
       "<g id=\"node3\" class=\"node\">\n",
       "<title>2</title>\n",
       "<polygon fill=\"#e58139\" stroke=\"#000000\" points=\"463.5,-306 286.5,-306 286.5,-223 463.5,-223 463.5,-306\"/>\n",
       "<text text-anchor=\"middle\" x=\"375\" y=\"-290.8\" font-family=\"Times,serif\" font-size=\"14.00\" fill=\"#000000\">주소_기흥구&#45;죽전동 &lt;= 0.5</text>\n",
       "<text text-anchor=\"middle\" x=\"375\" y=\"-275.8\" font-family=\"Times,serif\" font-size=\"14.00\" fill=\"#000000\">gini = 0.003</text>\n",
       "<text text-anchor=\"middle\" x=\"375\" y=\"-260.8\" font-family=\"Times,serif\" font-size=\"14.00\" fill=\"#000000\">samples = 5885</text>\n",
       "<text text-anchor=\"middle\" x=\"375\" y=\"-245.8\" font-family=\"Times,serif\" font-size=\"14.00\" fill=\"#000000\">value = [5875, 10]</text>\n",
       "<text text-anchor=\"middle\" x=\"375\" y=\"-230.8\" font-family=\"Times,serif\" font-size=\"14.00\" fill=\"#000000\">class = 일반</text>\n",
       "</g>\n",
       "<!-- 1&#45;&gt;2 -->\n",
       "<g id=\"edge2\" class=\"edge\">\n",
       "<title>1&#45;&gt;2</title>\n",
       "<path fill=\"none\" stroke=\"#000000\" d=\"M573.8065,-345.5205C541.7534,-332.4577 505.7759,-317.7956 473.3273,-304.5717\"/>\n",
       "<polygon fill=\"#000000\" stroke=\"#000000\" points=\"474.4098,-301.2335 463.8284,-300.7006 471.768,-307.7158 474.4098,-301.2335\"/>\n",
       "</g>\n",
       "<!-- 9 -->\n",
       "<g id=\"node10\" class=\"node\">\n",
       "<title>9</title>\n",
       "<polygon fill=\"#e78d4b\" stroke=\"#000000\" points=\"740,-306 594,-306 594,-223 740,-223 740,-306\"/>\n",
       "<text text-anchor=\"middle\" x=\"667\" y=\"-290.8\" font-family=\"Times,serif\" font-size=\"14.00\" fill=\"#000000\">구매증감율 &lt;= 31.557</text>\n",
       "<text text-anchor=\"middle\" x=\"667\" y=\"-275.8\" font-family=\"Times,serif\" font-size=\"14.00\" fill=\"#000000\">gini = 0.155</text>\n",
       "<text text-anchor=\"middle\" x=\"667\" y=\"-260.8\" font-family=\"Times,serif\" font-size=\"14.00\" fill=\"#000000\">samples = 284</text>\n",
       "<text text-anchor=\"middle\" x=\"667\" y=\"-245.8\" font-family=\"Times,serif\" font-size=\"14.00\" fill=\"#000000\">value = [260, 24]</text>\n",
       "<text text-anchor=\"middle\" x=\"667\" y=\"-230.8\" font-family=\"Times,serif\" font-size=\"14.00\" fill=\"#000000\">class = 일반</text>\n",
       "</g>\n",
       "<!-- 1&#45;&gt;9 -->\n",
       "<g id=\"edge9\" class=\"edge\">\n",
       "<title>1&#45;&gt;9</title>\n",
       "<path fill=\"none\" stroke=\"#000000\" d=\"M667,-341.8796C667,-333.6838 667,-324.9891 667,-316.5013\"/>\n",
       "<polygon fill=\"#000000\" stroke=\"#000000\" points=\"670.5001,-316.298 667,-306.2981 663.5001,-316.2981 670.5001,-316.298\"/>\n",
       "</g>\n",
       "<!-- 3 -->\n",
       "<g id=\"node4\" class=\"node\">\n",
       "<title>3</title>\n",
       "<polygon fill=\"#e58139\" stroke=\"#000000\" points=\"276,-187 90,-187 90,-104 276,-104 276,-187\"/>\n",
       "<text text-anchor=\"middle\" x=\"183\" y=\"-171.8\" font-family=\"Times,serif\" font-size=\"14.00\" fill=\"#000000\">주별평균구매금액 &lt;= 5845.5</text>\n",
       "<text text-anchor=\"middle\" x=\"183\" y=\"-156.8\" font-family=\"Times,serif\" font-size=\"14.00\" fill=\"#000000\">gini = 0.003</text>\n",
       "<text text-anchor=\"middle\" x=\"183\" y=\"-141.8\" font-family=\"Times,serif\" font-size=\"14.00\" fill=\"#000000\">samples = 5877</text>\n",
       "<text text-anchor=\"middle\" x=\"183\" y=\"-126.8\" font-family=\"Times,serif\" font-size=\"14.00\" fill=\"#000000\">value = [5868, 9]</text>\n",
       "<text text-anchor=\"middle\" x=\"183\" y=\"-111.8\" font-family=\"Times,serif\" font-size=\"14.00\" fill=\"#000000\">class = 일반</text>\n",
       "</g>\n",
       "<!-- 2&#45;&gt;3 -->\n",
       "<g id=\"edge3\" class=\"edge\">\n",
       "<title>2&#45;&gt;3</title>\n",
       "<path fill=\"none\" stroke=\"#000000\" d=\"M307.8477,-222.8796C292.0628,-213.0962 275.1307,-202.6019 258.9886,-192.5971\"/>\n",
       "<polygon fill=\"#000000\" stroke=\"#000000\" points=\"260.4581,-189.3901 250.1144,-187.0969 256.7703,-195.34 260.4581,-189.3901\"/>\n",
       "</g>\n",
       "<!-- 6 -->\n",
       "<g id=\"node7\" class=\"node\">\n",
       "<title>6</title>\n",
       "<polygon fill=\"#e99355\" stroke=\"#000000\" points=\"421,-187 329,-187 329,-104 421,-104 421,-187\"/>\n",
       "<text text-anchor=\"middle\" x=\"375\" y=\"-171.8\" font-family=\"Times,serif\" font-size=\"14.00\" fill=\"#000000\">연령 &lt;= 62.5</text>\n",
       "<text text-anchor=\"middle\" x=\"375\" y=\"-156.8\" font-family=\"Times,serif\" font-size=\"14.00\" fill=\"#000000\">gini = 0.219</text>\n",
       "<text text-anchor=\"middle\" x=\"375\" y=\"-141.8\" font-family=\"Times,serif\" font-size=\"14.00\" fill=\"#000000\">samples = 8</text>\n",
       "<text text-anchor=\"middle\" x=\"375\" y=\"-126.8\" font-family=\"Times,serif\" font-size=\"14.00\" fill=\"#000000\">value = [7, 1]</text>\n",
       "<text text-anchor=\"middle\" x=\"375\" y=\"-111.8\" font-family=\"Times,serif\" font-size=\"14.00\" fill=\"#000000\">class = 일반</text>\n",
       "</g>\n",
       "<!-- 2&#45;&gt;6 -->\n",
       "<g id=\"edge6\" class=\"edge\">\n",
       "<title>2&#45;&gt;6</title>\n",
       "<path fill=\"none\" stroke=\"#000000\" d=\"M375,-222.8796C375,-214.6838 375,-205.9891 375,-197.5013\"/>\n",
       "<polygon fill=\"#000000\" stroke=\"#000000\" points=\"378.5001,-197.298 375,-187.2981 371.5001,-197.2981 378.5001,-197.298\"/>\n",
       "</g>\n",
       "<!-- 4 -->\n",
       "<g id=\"node5\" class=\"node\">\n",
       "<title>4</title>\n",
       "<polygon fill=\"#e58139\" stroke=\"#000000\" points=\"112,-68 0,-68 0,0 112,0 112,-68\"/>\n",
       "<text text-anchor=\"middle\" x=\"56\" y=\"-52.8\" font-family=\"Times,serif\" font-size=\"14.00\" fill=\"#000000\">gini = 0.001</text>\n",
       "<text text-anchor=\"middle\" x=\"56\" y=\"-37.8\" font-family=\"Times,serif\" font-size=\"14.00\" fill=\"#000000\">samples = 5644</text>\n",
       "<text text-anchor=\"middle\" x=\"56\" y=\"-22.8\" font-family=\"Times,serif\" font-size=\"14.00\" fill=\"#000000\">value = [5640, 4]</text>\n",
       "<text text-anchor=\"middle\" x=\"56\" y=\"-7.8\" font-family=\"Times,serif\" font-size=\"14.00\" fill=\"#000000\">class = 일반</text>\n",
       "</g>\n",
       "<!-- 3&#45;&gt;4 -->\n",
       "<g id=\"edge4\" class=\"edge\">\n",
       "<title>3&#45;&gt;4</title>\n",
       "<path fill=\"none\" stroke=\"#000000\" d=\"M135.7099,-103.9815C124.9275,-94.5151 113.477,-84.462 102.7187,-75.0168\"/>\n",
       "<polygon fill=\"#000000\" stroke=\"#000000\" points=\"104.8507,-72.2311 95.0268,-68.2637 100.2324,-77.4915 104.8507,-72.2311\"/>\n",
       "</g>\n",
       "<!-- 5 -->\n",
       "<g id=\"node6\" class=\"node\">\n",
       "<title>5</title>\n",
       "<polygon fill=\"#e6843d\" stroke=\"#000000\" points=\"235.5,-68 130.5,-68 130.5,0 235.5,0 235.5,-68\"/>\n",
       "<text text-anchor=\"middle\" x=\"183\" y=\"-52.8\" font-family=\"Times,serif\" font-size=\"14.00\" fill=\"#000000\">gini = 0.042</text>\n",
       "<text text-anchor=\"middle\" x=\"183\" y=\"-37.8\" font-family=\"Times,serif\" font-size=\"14.00\" fill=\"#000000\">samples = 233</text>\n",
       "<text text-anchor=\"middle\" x=\"183\" y=\"-22.8\" font-family=\"Times,serif\" font-size=\"14.00\" fill=\"#000000\">value = [228, 5]</text>\n",
       "<text text-anchor=\"middle\" x=\"183\" y=\"-7.8\" font-family=\"Times,serif\" font-size=\"14.00\" fill=\"#000000\">class = 일반</text>\n",
       "</g>\n",
       "<!-- 3&#45;&gt;5 -->\n",
       "<g id=\"edge5\" class=\"edge\">\n",
       "<title>3&#45;&gt;5</title>\n",
       "<path fill=\"none\" stroke=\"#000000\" d=\"M183,-103.9815C183,-95.618 183,-86.7965 183,-78.3409\"/>\n",
       "<polygon fill=\"#000000\" stroke=\"#000000\" points=\"186.5001,-78.2636 183,-68.2637 179.5001,-78.2637 186.5001,-78.2636\"/>\n",
       "</g>\n",
       "<!-- 7 -->\n",
       "<g id=\"node8\" class=\"node\">\n",
       "<title>7</title>\n",
       "<polygon fill=\"#e58139\" stroke=\"#000000\" points=\"346,-68 254,-68 254,0 346,0 346,-68\"/>\n",
       "<text text-anchor=\"middle\" x=\"300\" y=\"-52.8\" font-family=\"Times,serif\" font-size=\"14.00\" fill=\"#000000\">gini = 0.0</text>\n",
       "<text text-anchor=\"middle\" x=\"300\" y=\"-37.8\" font-family=\"Times,serif\" font-size=\"14.00\" fill=\"#000000\">samples = 7</text>\n",
       "<text text-anchor=\"middle\" x=\"300\" y=\"-22.8\" font-family=\"Times,serif\" font-size=\"14.00\" fill=\"#000000\">value = [7, 0]</text>\n",
       "<text text-anchor=\"middle\" x=\"300\" y=\"-7.8\" font-family=\"Times,serif\" font-size=\"14.00\" fill=\"#000000\">class = 일반</text>\n",
       "</g>\n",
       "<!-- 6&#45;&gt;7 -->\n",
       "<g id=\"edge7\" class=\"edge\">\n",
       "<title>6&#45;&gt;7</title>\n",
       "<path fill=\"none\" stroke=\"#000000\" d=\"M347.0728,-103.9815C341.0762,-95.0666 334.7296,-85.6313 328.7041,-76.6734\"/>\n",
       "<polygon fill=\"#000000\" stroke=\"#000000\" points=\"331.5328,-74.6078 323.0473,-68.2637 325.7245,-78.5147 331.5328,-74.6078\"/>\n",
       "</g>\n",
       "<!-- 8 -->\n",
       "<g id=\"node9\" class=\"node\">\n",
       "<title>8</title>\n",
       "<polygon fill=\"#399de5\" stroke=\"#000000\" points=\"456,-68 364,-68 364,0 456,0 456,-68\"/>\n",
       "<text text-anchor=\"middle\" x=\"410\" y=\"-52.8\" font-family=\"Times,serif\" font-size=\"14.00\" fill=\"#000000\">gini = 0.0</text>\n",
       "<text text-anchor=\"middle\" x=\"410\" y=\"-37.8\" font-family=\"Times,serif\" font-size=\"14.00\" fill=\"#000000\">samples = 1</text>\n",
       "<text text-anchor=\"middle\" x=\"410\" y=\"-22.8\" font-family=\"Times,serif\" font-size=\"14.00\" fill=\"#000000\">value = [0, 1]</text>\n",
       "<text text-anchor=\"middle\" x=\"410\" y=\"-7.8\" font-family=\"Times,serif\" font-size=\"14.00\" fill=\"#000000\">class = VIP</text>\n",
       "</g>\n",
       "<!-- 6&#45;&gt;8 -->\n",
       "<g id=\"edge8\" class=\"edge\">\n",
       "<title>6&#45;&gt;8</title>\n",
       "<path fill=\"none\" stroke=\"#000000\" d=\"M388.0327,-103.9815C390.6869,-95.5261 393.488,-86.6026 396.1688,-78.0623\"/>\n",
       "<polygon fill=\"#000000\" stroke=\"#000000\" points=\"399.5889,-78.8529 399.2446,-68.2637 392.9102,-76.7564 399.5889,-78.8529\"/>\n",
       "</g>\n",
       "<!-- 10 -->\n",
       "<g id=\"node11\" class=\"node\">\n",
       "<title>10</title>\n",
       "<polygon fill=\"#e78c4b\" stroke=\"#000000\" points=\"679.5,-187 502.5,-187 502.5,-104 679.5,-104 679.5,-187\"/>\n",
       "<text text-anchor=\"middle\" x=\"591\" y=\"-171.8\" font-family=\"Times,serif\" font-size=\"14.00\" fill=\"#000000\">주소_분당구&#45;서현동 &lt;= 0.5</text>\n",
       "<text text-anchor=\"middle\" x=\"591\" y=\"-156.8\" font-family=\"Times,serif\" font-size=\"14.00\" fill=\"#000000\">gini = 0.149</text>\n",
       "<text text-anchor=\"middle\" x=\"591\" y=\"-141.8\" font-family=\"Times,serif\" font-size=\"14.00\" fill=\"#000000\">samples = 283</text>\n",
       "<text text-anchor=\"middle\" x=\"591\" y=\"-126.8\" font-family=\"Times,serif\" font-size=\"14.00\" fill=\"#000000\">value = [260, 23]</text>\n",
       "<text text-anchor=\"middle\" x=\"591\" y=\"-111.8\" font-family=\"Times,serif\" font-size=\"14.00\" fill=\"#000000\">class = 일반</text>\n",
       "</g>\n",
       "<!-- 9&#45;&gt;10 -->\n",
       "<g id=\"edge10\" class=\"edge\">\n",
       "<title>9&#45;&gt;10</title>\n",
       "<path fill=\"none\" stroke=\"#000000\" d=\"M640.4189,-222.8796C634.8395,-214.1434 628.8981,-204.8404 623.1405,-195.8253\"/>\n",
       "<polygon fill=\"#000000\" stroke=\"#000000\" points=\"626.0269,-193.8421 617.6946,-187.2981 620.1274,-197.6098 626.0269,-193.8421\"/>\n",
       "</g>\n",
       "<!-- 13 -->\n",
       "<g id=\"node14\" class=\"node\">\n",
       "<title>13</title>\n",
       "<polygon fill=\"#399de5\" stroke=\"#000000\" points=\"790,-179.5 698,-179.5 698,-111.5 790,-111.5 790,-179.5\"/>\n",
       "<text text-anchor=\"middle\" x=\"744\" y=\"-164.3\" font-family=\"Times,serif\" font-size=\"14.00\" fill=\"#000000\">gini = 0.0</text>\n",
       "<text text-anchor=\"middle\" x=\"744\" y=\"-149.3\" font-family=\"Times,serif\" font-size=\"14.00\" fill=\"#000000\">samples = 1</text>\n",
       "<text text-anchor=\"middle\" x=\"744\" y=\"-134.3\" font-family=\"Times,serif\" font-size=\"14.00\" fill=\"#000000\">value = [0, 1]</text>\n",
       "<text text-anchor=\"middle\" x=\"744\" y=\"-119.3\" font-family=\"Times,serif\" font-size=\"14.00\" fill=\"#000000\">class = VIP</text>\n",
       "</g>\n",
       "<!-- 9&#45;&gt;13 -->\n",
       "<g id=\"edge13\" class=\"edge\">\n",
       "<title>9&#45;&gt;13</title>\n",
       "<path fill=\"none\" stroke=\"#000000\" d=\"M693.9309,-222.8796C701.1883,-211.6636 709.0503,-199.5131 716.3465,-188.2372\"/>\n",
       "<polygon fill=\"#000000\" stroke=\"#000000\" points=\"719.3022,-190.112 721.7962,-179.8149 713.4252,-186.3093 719.3022,-190.112\"/>\n",
       "</g>\n",
       "<!-- 11 -->\n",
       "<g id=\"node12\" class=\"node\">\n",
       "<title>11</title>\n",
       "<polygon fill=\"#e78c4a\" stroke=\"#000000\" points=\"586,-68 474,-68 474,0 586,0 586,-68\"/>\n",
       "<text text-anchor=\"middle\" x=\"530\" y=\"-52.8\" font-family=\"Times,serif\" font-size=\"14.00\" fill=\"#000000\">gini = 0.144</text>\n",
       "<text text-anchor=\"middle\" x=\"530\" y=\"-37.8\" font-family=\"Times,serif\" font-size=\"14.00\" fill=\"#000000\">samples = 282</text>\n",
       "<text text-anchor=\"middle\" x=\"530\" y=\"-22.8\" font-family=\"Times,serif\" font-size=\"14.00\" fill=\"#000000\">value = [260, 22]</text>\n",
       "<text text-anchor=\"middle\" x=\"530\" y=\"-7.8\" font-family=\"Times,serif\" font-size=\"14.00\" fill=\"#000000\">class = 일반</text>\n",
       "</g>\n",
       "<!-- 10&#45;&gt;11 -->\n",
       "<g id=\"edge11\" class=\"edge\">\n",
       "<title>10&#45;&gt;11</title>\n",
       "<path fill=\"none\" stroke=\"#000000\" d=\"M568.2859,-103.9815C563.5092,-95.2504 558.4595,-86.0202 553.6494,-77.2281\"/>\n",
       "<polygon fill=\"#000000\" stroke=\"#000000\" points=\"556.6153,-75.3568 548.7451,-68.2637 550.4742,-78.7165 556.6153,-75.3568\"/>\n",
       "</g>\n",
       "<!-- 12 -->\n",
       "<g id=\"node13\" class=\"node\">\n",
       "<title>12</title>\n",
       "<polygon fill=\"#399de5\" stroke=\"#000000\" points=\"696,-68 604,-68 604,0 696,0 696,-68\"/>\n",
       "<text text-anchor=\"middle\" x=\"650\" y=\"-52.8\" font-family=\"Times,serif\" font-size=\"14.00\" fill=\"#000000\">gini = 0.0</text>\n",
       "<text text-anchor=\"middle\" x=\"650\" y=\"-37.8\" font-family=\"Times,serif\" font-size=\"14.00\" fill=\"#000000\">samples = 1</text>\n",
       "<text text-anchor=\"middle\" x=\"650\" y=\"-22.8\" font-family=\"Times,serif\" font-size=\"14.00\" fill=\"#000000\">value = [0, 1]</text>\n",
       "<text text-anchor=\"middle\" x=\"650\" y=\"-7.8\" font-family=\"Times,serif\" font-size=\"14.00\" fill=\"#000000\">class = VIP</text>\n",
       "</g>\n",
       "<!-- 10&#45;&gt;12 -->\n",
       "<g id=\"edge12\" class=\"edge\">\n",
       "<title>10&#45;&gt;12</title>\n",
       "<path fill=\"none\" stroke=\"#000000\" d=\"M612.9694,-103.9815C617.5895,-95.2504 622.4736,-86.0202 627.126,-77.2281\"/>\n",
       "<polygon fill=\"#000000\" stroke=\"#000000\" points=\"630.2859,-78.7395 631.8694,-68.2637 624.0987,-75.4655 630.2859,-78.7395\"/>\n",
       "</g>\n",
       "<!-- 15 -->\n",
       "<g id=\"node16\" class=\"node\">\n",
       "<title>15</title>\n",
       "<polygon fill=\"#e68540\" stroke=\"#000000\" points=\"1014.5,-306 889.5,-306 889.5,-223 1014.5,-223 1014.5,-306\"/>\n",
       "<text text-anchor=\"middle\" x=\"952\" y=\"-290.8\" font-family=\"Times,serif\" font-size=\"14.00\" fill=\"#000000\">첫방문일 &lt;= 100.5</text>\n",
       "<text text-anchor=\"middle\" x=\"952\" y=\"-275.8\" font-family=\"Times,serif\" font-size=\"14.00\" fill=\"#000000\">gini = 0.066</text>\n",
       "<text text-anchor=\"middle\" x=\"952\" y=\"-260.8\" font-family=\"Times,serif\" font-size=\"14.00\" fill=\"#000000\">samples = 820</text>\n",
       "<text text-anchor=\"middle\" x=\"952\" y=\"-245.8\" font-family=\"Times,serif\" font-size=\"14.00\" fill=\"#000000\">value = [792, 28]</text>\n",
       "<text text-anchor=\"middle\" x=\"952\" y=\"-230.8\" font-family=\"Times,serif\" font-size=\"14.00\" fill=\"#000000\">class = 일반</text>\n",
       "</g>\n",
       "<!-- 14&#45;&gt;15 -->\n",
       "<g id=\"edge15\" class=\"edge\">\n",
       "<title>14&#45;&gt;15</title>\n",
       "<path fill=\"none\" stroke=\"#000000\" d=\"M952,-341.8796C952,-333.6838 952,-324.9891 952,-316.5013\"/>\n",
       "<polygon fill=\"#000000\" stroke=\"#000000\" points=\"955.5001,-316.298 952,-306.2981 948.5001,-316.2981 955.5001,-316.298\"/>\n",
       "</g>\n",
       "<!-- 22 -->\n",
       "<g id=\"node23\" class=\"node\">\n",
       "<title>22</title>\n",
       "<polygon fill=\"#f9e0ce\" stroke=\"#000000\" points=\"1321.5,-306 1202.5,-306 1202.5,-223 1321.5,-223 1321.5,-306\"/>\n",
       "<text text-anchor=\"middle\" x=\"1262\" y=\"-290.8\" font-family=\"Times,serif\" font-size=\"14.00\" fill=\"#000000\">동_상현동 &lt;= 0.5</text>\n",
       "<text text-anchor=\"middle\" x=\"1262\" y=\"-275.8\" font-family=\"Times,serif\" font-size=\"14.00\" fill=\"#000000\">gini = 0.49</text>\n",
       "<text text-anchor=\"middle\" x=\"1262\" y=\"-260.8\" font-family=\"Times,serif\" font-size=\"14.00\" fill=\"#000000\">samples = 991</text>\n",
       "<text text-anchor=\"middle\" x=\"1262\" y=\"-245.8\" font-family=\"Times,serif\" font-size=\"14.00\" fill=\"#000000\">value = [565, 426]</text>\n",
       "<text text-anchor=\"middle\" x=\"1262\" y=\"-230.8\" font-family=\"Times,serif\" font-size=\"14.00\" fill=\"#000000\">class = 일반</text>\n",
       "</g>\n",
       "<!-- 14&#45;&gt;22 -->\n",
       "<g id=\"edge22\" class=\"edge\">\n",
       "<title>14&#45;&gt;22</title>\n",
       "<path fill=\"none\" stroke=\"#000000\" d=\"M1014.7331,-359.4186C1066.3883,-339.5896 1139.5389,-311.5093 1192.8715,-291.0364\"/>\n",
       "<polygon fill=\"#000000\" stroke=\"#000000\" points=\"1194.1732,-294.2858 1202.2547,-287.4345 1191.6646,-287.7508 1194.1732,-294.2858\"/>\n",
       "</g>\n",
       "<!-- 16 -->\n",
       "<g id=\"node17\" class=\"node\">\n",
       "<title>16</title>\n",
       "<polygon fill=\"#e6843e\" stroke=\"#000000\" points=\"948.5,-187 809.5,-187 809.5,-104 948.5,-104 948.5,-187\"/>\n",
       "<text text-anchor=\"middle\" x=\"879\" y=\"-171.8\" font-family=\"Times,serif\" font-size=\"14.00\" fill=\"#000000\">최종방문일 &lt;= 209.5</text>\n",
       "<text text-anchor=\"middle\" x=\"879\" y=\"-156.8\" font-family=\"Times,serif\" font-size=\"14.00\" fill=\"#000000\">gini = 0.046</text>\n",
       "<text text-anchor=\"middle\" x=\"879\" y=\"-141.8\" font-family=\"Times,serif\" font-size=\"14.00\" fill=\"#000000\">samples = 801</text>\n",
       "<text text-anchor=\"middle\" x=\"879\" y=\"-126.8\" font-family=\"Times,serif\" font-size=\"14.00\" fill=\"#000000\">value = [782, 19]</text>\n",
       "<text text-anchor=\"middle\" x=\"879\" y=\"-111.8\" font-family=\"Times,serif\" font-size=\"14.00\" fill=\"#000000\">class = 일반</text>\n",
       "</g>\n",
       "<!-- 15&#45;&gt;16 -->\n",
       "<g id=\"edge16\" class=\"edge\">\n",
       "<title>15&#45;&gt;16</title>\n",
       "<path fill=\"none\" stroke=\"#000000\" d=\"M926.4681,-222.8796C921.109,-214.1434 915.4021,-204.8404 909.8718,-195.8253\"/>\n",
       "<polygon fill=\"#000000\" stroke=\"#000000\" points=\"912.8533,-193.9919 904.6408,-187.2981 906.8865,-197.6522 912.8533,-193.9919\"/>\n",
       "</g>\n",
       "<!-- 19 -->\n",
       "<g id=\"node20\" class=\"node\">\n",
       "<title>19</title>\n",
       "<polygon fill=\"#fcf2eb\" stroke=\"#000000\" points=\"1085.5,-187 966.5,-187 966.5,-104 1085.5,-104 1085.5,-187\"/>\n",
       "<text text-anchor=\"middle\" x=\"1026\" y=\"-171.8\" font-family=\"Times,serif\" font-size=\"14.00\" fill=\"#000000\">방문주기 &lt;= 4.35</text>\n",
       "<text text-anchor=\"middle\" x=\"1026\" y=\"-156.8\" font-family=\"Times,serif\" font-size=\"14.00\" fill=\"#000000\">gini = 0.499</text>\n",
       "<text text-anchor=\"middle\" x=\"1026\" y=\"-141.8\" font-family=\"Times,serif\" font-size=\"14.00\" fill=\"#000000\">samples = 19</text>\n",
       "<text text-anchor=\"middle\" x=\"1026\" y=\"-126.8\" font-family=\"Times,serif\" font-size=\"14.00\" fill=\"#000000\">value = [10, 9]</text>\n",
       "<text text-anchor=\"middle\" x=\"1026\" y=\"-111.8\" font-family=\"Times,serif\" font-size=\"14.00\" fill=\"#000000\">class = 일반</text>\n",
       "</g>\n",
       "<!-- 15&#45;&gt;19 -->\n",
       "<g id=\"edge19\" class=\"edge\">\n",
       "<title>15&#45;&gt;19</title>\n",
       "<path fill=\"none\" stroke=\"#000000\" d=\"M977.8816,-222.8796C983.3142,-214.1434 989.0992,-204.8404 994.7053,-195.8253\"/>\n",
       "<polygon fill=\"#000000\" stroke=\"#000000\" points=\"997.6993,-197.6383 1000.0079,-187.2981 991.7549,-193.9418 997.6993,-197.6383\"/>\n",
       "</g>\n",
       "<!-- 17 -->\n",
       "<g id=\"node18\" class=\"node\">\n",
       "<title>17</title>\n",
       "<polygon fill=\"#9ccef2\" stroke=\"#000000\" points=\"806,-68 714,-68 714,0 806,0 806,-68\"/>\n",
       "<text text-anchor=\"middle\" x=\"760\" y=\"-52.8\" font-family=\"Times,serif\" font-size=\"14.00\" fill=\"#000000\">gini = 0.444</text>\n",
       "<text text-anchor=\"middle\" x=\"760\" y=\"-37.8\" font-family=\"Times,serif\" font-size=\"14.00\" fill=\"#000000\">samples = 9</text>\n",
       "<text text-anchor=\"middle\" x=\"760\" y=\"-22.8\" font-family=\"Times,serif\" font-size=\"14.00\" fill=\"#000000\">value = [3, 6]</text>\n",
       "<text text-anchor=\"middle\" x=\"760\" y=\"-7.8\" font-family=\"Times,serif\" font-size=\"14.00\" fill=\"#000000\">class = VIP</text>\n",
       "</g>\n",
       "<!-- 16&#45;&gt;17 -->\n",
       "<g id=\"edge17\" class=\"edge\">\n",
       "<title>16&#45;&gt;17</title>\n",
       "<path fill=\"none\" stroke=\"#000000\" d=\"M834.6888,-103.9815C824.6837,-94.607 814.0646,-84.6572 804.0696,-75.2921\"/>\n",
       "<polygon fill=\"#000000\" stroke=\"#000000\" points=\"806.2588,-72.547 796.5684,-68.2637 801.4726,-77.6551 806.2588,-72.547\"/>\n",
       "</g>\n",
       "<!-- 18 -->\n",
       "<g id=\"node19\" class=\"node\">\n",
       "<title>18</title>\n",
       "<polygon fill=\"#e5833c\" stroke=\"#000000\" points=\"936,-68 824,-68 824,0 936,0 936,-68\"/>\n",
       "<text text-anchor=\"middle\" x=\"880\" y=\"-52.8\" font-family=\"Times,serif\" font-size=\"14.00\" fill=\"#000000\">gini = 0.032</text>\n",
       "<text text-anchor=\"middle\" x=\"880\" y=\"-37.8\" font-family=\"Times,serif\" font-size=\"14.00\" fill=\"#000000\">samples = 792</text>\n",
       "<text text-anchor=\"middle\" x=\"880\" y=\"-22.8\" font-family=\"Times,serif\" font-size=\"14.00\" fill=\"#000000\">value = [779, 13]</text>\n",
       "<text text-anchor=\"middle\" x=\"880\" y=\"-7.8\" font-family=\"Times,serif\" font-size=\"14.00\" fill=\"#000000\">class = 일반</text>\n",
       "</g>\n",
       "<!-- 16&#45;&gt;18 -->\n",
       "<g id=\"edge18\" class=\"edge\">\n",
       "<title>16&#45;&gt;18</title>\n",
       "<path fill=\"none\" stroke=\"#000000\" d=\"M879.3724,-103.9815C879.4474,-95.618 879.5265,-86.7965 879.6023,-78.3409\"/>\n",
       "<polygon fill=\"#000000\" stroke=\"#000000\" points=\"883.1028,-78.2947 879.6927,-68.2637 876.1031,-78.2318 883.1028,-78.2947\"/>\n",
       "</g>\n",
       "<!-- 20 -->\n",
       "<g id=\"node21\" class=\"node\">\n",
       "<title>20</title>\n",
       "<polygon fill=\"#e58139\" stroke=\"#000000\" points=\"1046,-68 954,-68 954,0 1046,0 1046,-68\"/>\n",
       "<text text-anchor=\"middle\" x=\"1000\" y=\"-52.8\" font-family=\"Times,serif\" font-size=\"14.00\" fill=\"#000000\">gini = 0.0</text>\n",
       "<text text-anchor=\"middle\" x=\"1000\" y=\"-37.8\" font-family=\"Times,serif\" font-size=\"14.00\" fill=\"#000000\">samples = 6</text>\n",
       "<text text-anchor=\"middle\" x=\"1000\" y=\"-22.8\" font-family=\"Times,serif\" font-size=\"14.00\" fill=\"#000000\">value = [6, 0]</text>\n",
       "<text text-anchor=\"middle\" x=\"1000\" y=\"-7.8\" font-family=\"Times,serif\" font-size=\"14.00\" fill=\"#000000\">class = 일반</text>\n",
       "</g>\n",
       "<!-- 19&#45;&gt;20 -->\n",
       "<g id=\"edge20\" class=\"edge\">\n",
       "<title>19&#45;&gt;20</title>\n",
       "<path fill=\"none\" stroke=\"#000000\" d=\"M1016.3186,-103.9815C1014.3469,-95.5261 1012.2661,-86.6026 1010.2746,-78.0623\"/>\n",
       "<polygon fill=\"#000000\" stroke=\"#000000\" points=\"1013.6693,-77.2076 1007.9897,-68.2637 1006.8522,-78.7973 1013.6693,-77.2076\"/>\n",
       "</g>\n",
       "<!-- 21 -->\n",
       "<g id=\"node22\" class=\"node\">\n",
       "<title>21</title>\n",
       "<polygon fill=\"#91c9f1\" stroke=\"#000000\" points=\"1156,-68 1064,-68 1064,0 1156,0 1156,-68\"/>\n",
       "<text text-anchor=\"middle\" x=\"1110\" y=\"-52.8\" font-family=\"Times,serif\" font-size=\"14.00\" fill=\"#000000\">gini = 0.426</text>\n",
       "<text text-anchor=\"middle\" x=\"1110\" y=\"-37.8\" font-family=\"Times,serif\" font-size=\"14.00\" fill=\"#000000\">samples = 13</text>\n",
       "<text text-anchor=\"middle\" x=\"1110\" y=\"-22.8\" font-family=\"Times,serif\" font-size=\"14.00\" fill=\"#000000\">value = [4, 9]</text>\n",
       "<text text-anchor=\"middle\" x=\"1110\" y=\"-7.8\" font-family=\"Times,serif\" font-size=\"14.00\" fill=\"#000000\">class = VIP</text>\n",
       "</g>\n",
       "<!-- 19&#45;&gt;21 -->\n",
       "<g id=\"edge21\" class=\"edge\">\n",
       "<title>19&#45;&gt;21</title>\n",
       "<path fill=\"none\" stroke=\"#000000\" d=\"M1057.2785,-103.9815C1064.0639,-94.9747 1071.2495,-85.4367 1078.0601,-76.3965\"/>\n",
       "<polygon fill=\"#000000\" stroke=\"#000000\" points=\"1080.9653,-78.3568 1084.187,-68.2637 1075.3743,-74.1448 1080.9653,-78.3568\"/>\n",
       "</g>\n",
       "<!-- 23 -->\n",
       "<g id=\"node24\" class=\"node\">\n",
       "<title>23</title>\n",
       "<polygon fill=\"#fefbf9\" stroke=\"#000000\" points=\"1353,-187 1171,-187 1171,-104 1353,-104 1353,-187\"/>\n",
       "<text text-anchor=\"middle\" x=\"1262\" y=\"-171.8\" font-family=\"Times,serif\" font-size=\"14.00\" fill=\"#000000\">최대매출매장_매장A &lt;= 0.5</text>\n",
       "<text text-anchor=\"middle\" x=\"1262\" y=\"-156.8\" font-family=\"Times,serif\" font-size=\"14.00\" fill=\"#000000\">gini = 0.5</text>\n",
       "<text text-anchor=\"middle\" x=\"1262\" y=\"-141.8\" font-family=\"Times,serif\" font-size=\"14.00\" fill=\"#000000\">samples = 828</text>\n",
       "<text text-anchor=\"middle\" x=\"1262\" y=\"-126.8\" font-family=\"Times,serif\" font-size=\"14.00\" fill=\"#000000\">value = [420, 408]</text>\n",
       "<text text-anchor=\"middle\" x=\"1262\" y=\"-111.8\" font-family=\"Times,serif\" font-size=\"14.00\" fill=\"#000000\">class = 일반</text>\n",
       "</g>\n",
       "<!-- 22&#45;&gt;23 -->\n",
       "<g id=\"edge23\" class=\"edge\">\n",
       "<title>22&#45;&gt;23</title>\n",
       "<path fill=\"none\" stroke=\"#000000\" d=\"M1262,-222.8796C1262,-214.6838 1262,-205.9891 1262,-197.5013\"/>\n",
       "<polygon fill=\"#000000\" stroke=\"#000000\" points=\"1265.5001,-197.298 1262,-187.2981 1258.5001,-197.2981 1265.5001,-197.298\"/>\n",
       "</g>\n",
       "<!-- 26 -->\n",
       "<g id=\"node27\" class=\"node\">\n",
       "<title>26</title>\n",
       "<polygon fill=\"#e89152\" stroke=\"#000000\" points=\"1582,-187 1400,-187 1400,-104 1582,-104 1582,-187\"/>\n",
       "<text text-anchor=\"middle\" x=\"1491\" y=\"-171.8\" font-family=\"Times,serif\" font-size=\"14.00\" fill=\"#000000\">최대매출매장_매장B &lt;= 0.5</text>\n",
       "<text text-anchor=\"middle\" x=\"1491\" y=\"-156.8\" font-family=\"Times,serif\" font-size=\"14.00\" fill=\"#000000\">gini = 0.196</text>\n",
       "<text text-anchor=\"middle\" x=\"1491\" y=\"-141.8\" font-family=\"Times,serif\" font-size=\"14.00\" fill=\"#000000\">samples = 163</text>\n",
       "<text text-anchor=\"middle\" x=\"1491\" y=\"-126.8\" font-family=\"Times,serif\" font-size=\"14.00\" fill=\"#000000\">value = [145, 18]</text>\n",
       "<text text-anchor=\"middle\" x=\"1491\" y=\"-111.8\" font-family=\"Times,serif\" font-size=\"14.00\" fill=\"#000000\">class = 일반</text>\n",
       "</g>\n",
       "<!-- 22&#45;&gt;26 -->\n",
       "<g id=\"edge26\" class=\"edge\">\n",
       "<title>22&#45;&gt;26</title>\n",
       "<path fill=\"none\" stroke=\"#000000\" d=\"M1321.5693,-233.5448C1346.0963,-220.7993 1375.0305,-205.7636 1401.9807,-191.7589\"/>\n",
       "<polygon fill=\"#000000\" stroke=\"#000000\" points=\"1403.7755,-194.7707 1411.035,-187.0538 1400.5477,-188.5593 1403.7755,-194.7707\"/>\n",
       "</g>\n",
       "<!-- 24 -->\n",
       "<g id=\"node25\" class=\"node\">\n",
       "<title>24</title>\n",
       "<polygon fill=\"#c4e2f7\" stroke=\"#000000\" points=\"1293.5,-68 1174.5,-68 1174.5,0 1293.5,0 1293.5,-68\"/>\n",
       "<text text-anchor=\"middle\" x=\"1234\" y=\"-52.8\" font-family=\"Times,serif\" font-size=\"14.00\" fill=\"#000000\">gini = 0.485</text>\n",
       "<text text-anchor=\"middle\" x=\"1234\" y=\"-37.8\" font-family=\"Times,serif\" font-size=\"14.00\" fill=\"#000000\">samples = 657</text>\n",
       "<text text-anchor=\"middle\" x=\"1234\" y=\"-22.8\" font-family=\"Times,serif\" font-size=\"14.00\" fill=\"#000000\">value = [271, 386]</text>\n",
       "<text text-anchor=\"middle\" x=\"1234\" y=\"-7.8\" font-family=\"Times,serif\" font-size=\"14.00\" fill=\"#000000\">class = VIP</text>\n",
       "</g>\n",
       "<!-- 23&#45;&gt;24 -->\n",
       "<g id=\"edge24\" class=\"edge\">\n",
       "<title>23&#45;&gt;24</title>\n",
       "<path fill=\"none\" stroke=\"#000000\" d=\"M1251.5738,-103.9815C1249.4505,-95.5261 1247.2096,-86.6026 1245.065,-78.0623\"/>\n",
       "<polygon fill=\"#000000\" stroke=\"#000000\" points=\"1248.4346,-77.1101 1242.6043,-68.2637 1241.6454,-78.815 1248.4346,-77.1101\"/>\n",
       "</g>\n",
       "<!-- 25 -->\n",
       "<g id=\"node26\" class=\"node\">\n",
       "<title>25</title>\n",
       "<polygon fill=\"#e99456\" stroke=\"#000000\" points=\"1424,-68 1312,-68 1312,0 1424,0 1424,-68\"/>\n",
       "<text text-anchor=\"middle\" x=\"1368\" y=\"-52.8\" font-family=\"Times,serif\" font-size=\"14.00\" fill=\"#000000\">gini = 0.224</text>\n",
       "<text text-anchor=\"middle\" x=\"1368\" y=\"-37.8\" font-family=\"Times,serif\" font-size=\"14.00\" fill=\"#000000\">samples = 171</text>\n",
       "<text text-anchor=\"middle\" x=\"1368\" y=\"-22.8\" font-family=\"Times,serif\" font-size=\"14.00\" fill=\"#000000\">value = [149, 22]</text>\n",
       "<text text-anchor=\"middle\" x=\"1368\" y=\"-7.8\" font-family=\"Times,serif\" font-size=\"14.00\" fill=\"#000000\">class = 일반</text>\n",
       "</g>\n",
       "<!-- 23&#45;&gt;25 -->\n",
       "<g id=\"edge25\" class=\"edge\">\n",
       "<title>23&#45;&gt;25</title>\n",
       "<path fill=\"none\" stroke=\"#000000\" d=\"M1301.4705,-103.9815C1310.2952,-94.6989 1319.6562,-84.8522 1328.4827,-75.5677\"/>\n",
       "<polygon fill=\"#000000\" stroke=\"#000000\" points=\"1331.073,-77.9228 1335.4265,-68.2637 1325.9997,-73.0997 1331.073,-77.9228\"/>\n",
       "</g>\n",
       "<!-- 27 -->\n",
       "<g id=\"node28\" class=\"node\">\n",
       "<title>27</title>\n",
       "<polygon fill=\"#91c9f1\" stroke=\"#000000\" points=\"1540,-68 1442,-68 1442,0 1540,0 1540,-68\"/>\n",
       "<text text-anchor=\"middle\" x=\"1491\" y=\"-52.8\" font-family=\"Times,serif\" font-size=\"14.00\" fill=\"#000000\">gini = 0.426</text>\n",
       "<text text-anchor=\"middle\" x=\"1491\" y=\"-37.8\" font-family=\"Times,serif\" font-size=\"14.00\" fill=\"#000000\">samples = 26</text>\n",
       "<text text-anchor=\"middle\" x=\"1491\" y=\"-22.8\" font-family=\"Times,serif\" font-size=\"14.00\" fill=\"#000000\">value = [8, 18]</text>\n",
       "<text text-anchor=\"middle\" x=\"1491\" y=\"-7.8\" font-family=\"Times,serif\" font-size=\"14.00\" fill=\"#000000\">class = VIP</text>\n",
       "</g>\n",
       "<!-- 26&#45;&gt;27 -->\n",
       "<g id=\"edge27\" class=\"edge\">\n",
       "<title>26&#45;&gt;27</title>\n",
       "<path fill=\"none\" stroke=\"#000000\" d=\"M1491,-103.9815C1491,-95.618 1491,-86.7965 1491,-78.3409\"/>\n",
       "<polygon fill=\"#000000\" stroke=\"#000000\" points=\"1494.5001,-78.2636 1491,-68.2637 1487.5001,-78.2637 1494.5001,-78.2636\"/>\n",
       "</g>\n",
       "<!-- 28 -->\n",
       "<g id=\"node29\" class=\"node\">\n",
       "<title>28</title>\n",
       "<polygon fill=\"#e58139\" stroke=\"#000000\" points=\"1663.5,-68 1558.5,-68 1558.5,0 1663.5,0 1663.5,-68\"/>\n",
       "<text text-anchor=\"middle\" x=\"1611\" y=\"-52.8\" font-family=\"Times,serif\" font-size=\"14.00\" fill=\"#000000\">gini = 0.0</text>\n",
       "<text text-anchor=\"middle\" x=\"1611\" y=\"-37.8\" font-family=\"Times,serif\" font-size=\"14.00\" fill=\"#000000\">samples = 137</text>\n",
       "<text text-anchor=\"middle\" x=\"1611\" y=\"-22.8\" font-family=\"Times,serif\" font-size=\"14.00\" fill=\"#000000\">value = [137, 0]</text>\n",
       "<text text-anchor=\"middle\" x=\"1611\" y=\"-7.8\" font-family=\"Times,serif\" font-size=\"14.00\" fill=\"#000000\">class = 일반</text>\n",
       "</g>\n",
       "<!-- 26&#45;&gt;28 -->\n",
       "<g id=\"edge28\" class=\"edge\">\n",
       "<title>26&#45;&gt;28</title>\n",
       "<path fill=\"none\" stroke=\"#000000\" d=\"M1535.6836,-103.9815C1545.7727,-94.607 1556.481,-84.6572 1566.5601,-75.2921\"/>\n",
       "<polygon fill=\"#000000\" stroke=\"#000000\" points=\"1569.1809,-77.6346 1574.1243,-68.2637 1564.4161,-72.5065 1569.1809,-77.6346\"/>\n",
       "</g>\n",
       "</g>\n",
       "</svg>\n"
      ],
      "text/plain": [
       "<graphviz.files.Source at 0x7f680c2e2790>"
      ]
     },
     "metadata": {},
     "output_type": "display_data"
    }
   ],
   "source": [
    "v_feature_name = x_train.columns\n",
    "export_graphviz(dt, out_file='tree_low.dot', class_names=['일반', 'VIP'], feature_names=v_feature_name, impurity=True, filled=True)\n",
    "with open('tree_low.dot') as f:\n",
    "    dot_graph = f.read()\n",
    "\n",
    "display(graphviz.Source(dot_graph))"
   ]
  },
  {
   "cell_type": "code",
   "execution_count": 798,
   "metadata": {
    "ExecuteTime": {
     "end_time": "2020-07-21T16:17:41.955896Z",
     "start_time": "2020-07-21T16:17:41.924819Z"
    }
   },
   "outputs": [
    {
     "data": {
      "text/html": [
       "<div>\n",
       "<style scoped>\n",
       "    .dataframe tbody tr th:only-of-type {\n",
       "        vertical-align: middle;\n",
       "    }\n",
       "\n",
       "    .dataframe tbody tr th {\n",
       "        vertical-align: top;\n",
       "    }\n",
       "\n",
       "    .dataframe thead th {\n",
       "        text-align: right;\n",
       "    }\n",
       "</style>\n",
       "<table border=\"1\" class=\"dataframe\">\n",
       "  <thead>\n",
       "    <tr style=\"text-align: right;\">\n",
       "      <th></th>\n",
       "      <th>Feature</th>\n",
       "      <th>Importance</th>\n",
       "    </tr>\n",
       "  </thead>\n",
       "  <tbody>\n",
       "    <tr>\n",
       "      <th>3</th>\n",
       "      <td>주별평균구매금액</td>\n",
       "      <td>0.55</td>\n",
       "    </tr>\n",
       "    <tr>\n",
       "      <th>7</th>\n",
       "      <td>방문주기</td>\n",
       "      <td>0.45</td>\n",
       "    </tr>\n",
       "    <tr>\n",
       "      <th>0</th>\n",
       "      <td>연령</td>\n",
       "      <td>0.00</td>\n",
       "    </tr>\n",
       "    <tr>\n",
       "      <th>134</th>\n",
       "      <td>동_금곡동</td>\n",
       "      <td>0.00</td>\n",
       "    </tr>\n",
       "    <tr>\n",
       "      <th>124</th>\n",
       "      <td>구_수지구</td>\n",
       "      <td>0.00</td>\n",
       "    </tr>\n",
       "    <tr>\n",
       "      <th>...</th>\n",
       "      <td>...</td>\n",
       "      <td>...</td>\n",
       "    </tr>\n",
       "    <tr>\n",
       "      <th>68</th>\n",
       "      <td>주소_수정구-단대동</td>\n",
       "      <td>0.00</td>\n",
       "    </tr>\n",
       "    <tr>\n",
       "      <th>69</th>\n",
       "      <td>주소_수정구-복정동</td>\n",
       "      <td>0.00</td>\n",
       "    </tr>\n",
       "    <tr>\n",
       "      <th>70</th>\n",
       "      <td>주소_수정구-상대원동</td>\n",
       "      <td>0.00</td>\n",
       "    </tr>\n",
       "    <tr>\n",
       "      <th>71</th>\n",
       "      <td>주소_수정구-신흥동</td>\n",
       "      <td>0.00</td>\n",
       "    </tr>\n",
       "    <tr>\n",
       "      <th>193</th>\n",
       "      <td>최대매출매장_매장D</td>\n",
       "      <td>0.00</td>\n",
       "    </tr>\n",
       "  </tbody>\n",
       "</table>\n",
       "<p>194 rows × 2 columns</p>\n",
       "</div>"
      ],
      "text/plain": [
       "         Feature  Importance\n",
       "3       주별평균구매금액        0.55\n",
       "7           방문주기        0.45\n",
       "0             연령        0.00\n",
       "134        동_금곡동        0.00\n",
       "124        구_수지구        0.00\n",
       "..           ...         ...\n",
       "68    주소_수정구-단대동        0.00\n",
       "69    주소_수정구-복정동        0.00\n",
       "70   주소_수정구-상대원동        0.00\n",
       "71    주소_수정구-신흥동        0.00\n",
       "193   최대매출매장_매장D        0.00\n",
       "\n",
       "[194 rows x 2 columns]"
      ]
     },
     "execution_count": 798,
     "metadata": {},
     "output_type": "execute_result"
    }
   ],
   "source": [
    "df_importance = pd.DataFrame()\n",
    "df_importance['Feature'] = v_feature_name\n",
    "df_importance['Importance'] = dt.feature_importances_\n",
    "\n",
    "df_importance.sort_values('Importance', ascending=False, inplace=True)\n",
    "df_importance.round(3)"
   ]
  },
  {
   "cell_type": "markdown",
   "metadata": {},
   "source": [
    "## agg군집"
   ]
  },
  {
   "cell_type": "code",
   "execution_count": 746,
   "metadata": {
    "ExecuteTime": {
     "end_time": "2020-07-21T16:06:43.108341Z",
     "start_time": "2020-07-21T16:06:43.101555Z"
    }
   },
   "outputs": [],
   "source": [
    "member['VIP'] = 0"
   ]
  },
  {
   "cell_type": "code",
   "execution_count": 747,
   "metadata": {
    "ExecuteTime": {
     "end_time": "2020-07-21T16:06:43.629425Z",
     "start_time": "2020-07-21T16:06:43.616350Z"
    }
   },
   "outputs": [],
   "source": [
    "member.loc[member['agg군집'] == 5, 'VIP'] = 1"
   ]
  },
  {
   "cell_type": "code",
   "execution_count": 748,
   "metadata": {
    "ExecuteTime": {
     "end_time": "2020-07-21T16:06:44.111661Z",
     "start_time": "2020-07-21T16:06:44.061111Z"
    }
   },
   "outputs": [],
   "source": [
    "X = pd.get_dummies(member.drop(['Gold_member', 'VIP', 'agg군집', 'k군집', '배송서비스신청여부', '회원번호'], axis=1))\n",
    "y = member['VIP']"
   ]
  },
  {
   "cell_type": "code",
   "execution_count": 749,
   "metadata": {
    "ExecuteTime": {
     "end_time": "2020-07-21T16:06:45.534590Z",
     "start_time": "2020-07-21T16:06:45.501324Z"
    }
   },
   "outputs": [],
   "source": [
    "x_train, x_test, y_train, y_test = train_test_split(X, y, test_size=0.3, stratify=y, random_state=1234)"
   ]
  },
  {
   "cell_type": "code",
   "execution_count": 750,
   "metadata": {
    "ExecuteTime": {
     "end_time": "2020-07-21T16:06:45.997311Z",
     "start_time": "2020-07-21T16:06:45.921507Z"
    }
   },
   "outputs": [
    {
     "data": {
      "text/plain": [
       "DecisionTreeClassifier(ccp_alpha=0.0, class_weight=None, criterion='gini',\n",
       "                       max_depth=4, max_features=None, max_leaf_nodes=None,\n",
       "                       min_impurity_decrease=0.0, min_impurity_split=None,\n",
       "                       min_samples_leaf=1, min_samples_split=2,\n",
       "                       min_weight_fraction_leaf=0.0, presort='deprecated',\n",
       "                       random_state=1234, splitter='best')"
      ]
     },
     "execution_count": 750,
     "metadata": {},
     "output_type": "execute_result"
    }
   ],
   "source": [
    "dt.fit(x_train, y_train)"
   ]
  },
  {
   "cell_type": "code",
   "execution_count": 752,
   "metadata": {
    "ExecuteTime": {
     "end_time": "2020-07-21T16:06:58.418724Z",
     "start_time": "2020-07-21T16:06:58.397334Z"
    }
   },
   "outputs": [
    {
     "data": {
      "text/plain": [
       "0.9587719298245614"
      ]
     },
     "execution_count": 752,
     "metadata": {},
     "output_type": "execute_result"
    }
   ],
   "source": [
    "dt.score(x_train, y_train)"
   ]
  },
  {
   "cell_type": "code",
   "execution_count": 751,
   "metadata": {
    "ExecuteTime": {
     "end_time": "2020-07-21T16:06:46.323233Z",
     "start_time": "2020-07-21T16:06:46.304684Z"
    }
   },
   "outputs": [
    {
     "data": {
      "text/plain": [
       "0.9511838643671441"
      ]
     },
     "execution_count": 751,
     "metadata": {},
     "output_type": "execute_result"
    }
   ],
   "source": [
    "dt.score(x_test, y_test)"
   ]
  },
  {
   "cell_type": "code",
   "execution_count": 753,
   "metadata": {
    "ExecuteTime": {
     "end_time": "2020-07-21T16:07:01.398540Z",
     "start_time": "2020-07-21T16:07:01.294602Z"
    }
   },
   "outputs": [
    {
     "data": {
      "image/svg+xml": [
       "<?xml version=\"1.0\" encoding=\"UTF-8\" standalone=\"no\"?>\n",
       "<!DOCTYPE svg PUBLIC \"-//W3C//DTD SVG 1.1//EN\"\n",
       " \"http://www.w3.org/Graphics/SVG/1.1/DTD/svg11.dtd\">\n",
       "<!-- Generated by graphviz version 2.40.1 (20161225.0304)\n",
       " -->\n",
       "<!-- Title: Tree Pages: 1 -->\n",
       "<svg width=\"1696pt\" height=\"552pt\"\n",
       " viewBox=\"0.00 0.00 1695.50 552.00\" xmlns=\"http://www.w3.org/2000/svg\" xmlns:xlink=\"http://www.w3.org/1999/xlink\">\n",
       "<g id=\"graph0\" class=\"graph\" transform=\"scale(1 1) rotate(0) translate(4 548)\">\n",
       "<title>Tree</title>\n",
       "<polygon fill=\"#ffffff\" stroke=\"transparent\" points=\"-4,4 -4,-548 1691.5,-548 1691.5,4 -4,4\"/>\n",
       "<!-- 0 -->\n",
       "<g id=\"node1\" class=\"node\">\n",
       "<title>0</title>\n",
       "<polygon fill=\"#e78d4c\" stroke=\"#000000\" points=\"762.5,-544 603.5,-544 603.5,-461 762.5,-461 762.5,-544\"/>\n",
       "<text text-anchor=\"middle\" x=\"683\" y=\"-528.8\" font-family=\"Times,serif\" font-size=\"14.00\" fill=\"#000000\">총구매금액 &lt;= 336696.0</text>\n",
       "<text text-anchor=\"middle\" x=\"683\" y=\"-513.8\" font-family=\"Times,serif\" font-size=\"14.00\" fill=\"#000000\">gini = 0.157</text>\n",
       "<text text-anchor=\"middle\" x=\"683\" y=\"-498.8\" font-family=\"Times,serif\" font-size=\"14.00\" fill=\"#000000\">samples = 7980</text>\n",
       "<text text-anchor=\"middle\" x=\"683\" y=\"-483.8\" font-family=\"Times,serif\" font-size=\"14.00\" fill=\"#000000\">value = [7297, 683]</text>\n",
       "<text text-anchor=\"middle\" x=\"683\" y=\"-468.8\" font-family=\"Times,serif\" font-size=\"14.00\" fill=\"#000000\">class = VIP</text>\n",
       "</g>\n",
       "<!-- 1 -->\n",
       "<g id=\"node2\" class=\"node\">\n",
       "<title>1</title>\n",
       "<polygon fill=\"#e5813a\" stroke=\"#000000\" points=\"670,-425 484,-425 484,-342 670,-342 670,-425\"/>\n",
       "<text text-anchor=\"middle\" x=\"577\" y=\"-409.8\" font-family=\"Times,serif\" font-size=\"14.00\" fill=\"#000000\">주별평균구매금액 &lt;= 6443.5</text>\n",
       "<text text-anchor=\"middle\" x=\"577\" y=\"-394.8\" font-family=\"Times,serif\" font-size=\"14.00\" fill=\"#000000\">gini = 0.008</text>\n",
       "<text text-anchor=\"middle\" x=\"577\" y=\"-379.8\" font-family=\"Times,serif\" font-size=\"14.00\" fill=\"#000000\">samples = 6099</text>\n",
       "<text text-anchor=\"middle\" x=\"577\" y=\"-364.8\" font-family=\"Times,serif\" font-size=\"14.00\" fill=\"#000000\">value = [6075, 24]</text>\n",
       "<text text-anchor=\"middle\" x=\"577\" y=\"-349.8\" font-family=\"Times,serif\" font-size=\"14.00\" fill=\"#000000\">class = VIP</text>\n",
       "</g>\n",
       "<!-- 0&#45;&gt;1 -->\n",
       "<g id=\"edge1\" class=\"edge\">\n",
       "<title>0&#45;&gt;1</title>\n",
       "<path fill=\"none\" stroke=\"#000000\" d=\"M645.9263,-460.8796C637.9039,-451.8733 629.3448,-442.2644 621.0833,-432.9897\"/>\n",
       "<polygon fill=\"#000000\" stroke=\"#000000\" points=\"623.4969,-430.4373 614.2319,-425.2981 618.2698,-435.0933 623.4969,-430.4373\"/>\n",
       "<text text-anchor=\"middle\" x=\"612.7899\" y=\"-446.5564\" font-family=\"Times,serif\" font-size=\"14.00\" fill=\"#000000\">True</text>\n",
       "</g>\n",
       "<!-- 14 -->\n",
       "<g id=\"node15\" class=\"node\">\n",
       "<title>14</title>\n",
       "<polygon fill=\"#f3c5a4\" stroke=\"#000000\" points=\"1029.5,-425 904.5,-425 904.5,-342 1029.5,-342 1029.5,-425\"/>\n",
       "<text text-anchor=\"middle\" x=\"967\" y=\"-409.8\" font-family=\"Times,serif\" font-size=\"14.00\" fill=\"#000000\">방문횟수 &lt;= 35.5</text>\n",
       "<text text-anchor=\"middle\" x=\"967\" y=\"-394.8\" font-family=\"Times,serif\" font-size=\"14.00\" fill=\"#000000\">gini = 0.455</text>\n",
       "<text text-anchor=\"middle\" x=\"967\" y=\"-379.8\" font-family=\"Times,serif\" font-size=\"14.00\" fill=\"#000000\">samples = 1881</text>\n",
       "<text text-anchor=\"middle\" x=\"967\" y=\"-364.8\" font-family=\"Times,serif\" font-size=\"14.00\" fill=\"#000000\">value = [1222, 659]</text>\n",
       "<text text-anchor=\"middle\" x=\"967\" y=\"-349.8\" font-family=\"Times,serif\" font-size=\"14.00\" fill=\"#000000\">class = VIP</text>\n",
       "</g>\n",
       "<!-- 0&#45;&gt;14 -->\n",
       "<g id=\"edge14\" class=\"edge\">\n",
       "<title>0&#45;&gt;14</title>\n",
       "<path fill=\"none\" stroke=\"#000000\" d=\"M762.8656,-469.0352C804.418,-451.6241 854.8124,-430.5082 895.1332,-413.6132\"/>\n",
       "<polygon fill=\"#000000\" stroke=\"#000000\" points=\"896.4928,-416.8384 904.3633,-409.7457 893.7876,-410.3823 896.4928,-416.8384\"/>\n",
       "<text text-anchor=\"middle\" x=\"894.8907\" y=\"-429.1816\" font-family=\"Times,serif\" font-size=\"14.00\" fill=\"#000000\">False</text>\n",
       "</g>\n",
       "<!-- 2 -->\n",
       "<g id=\"node3\" class=\"node\">\n",
       "<title>2</title>\n",
       "<polygon fill=\"#e58139\" stroke=\"#000000\" points=\"408,-306 296,-306 296,-223 408,-223 408,-306\"/>\n",
       "<text text-anchor=\"middle\" x=\"352\" y=\"-290.8\" font-family=\"Times,serif\" font-size=\"14.00\" fill=\"#000000\">연령 &lt;= 85.5</text>\n",
       "<text text-anchor=\"middle\" x=\"352\" y=\"-275.8\" font-family=\"Times,serif\" font-size=\"14.00\" fill=\"#000000\">gini = 0.003</text>\n",
       "<text text-anchor=\"middle\" x=\"352\" y=\"-260.8\" font-family=\"Times,serif\" font-size=\"14.00\" fill=\"#000000\">samples = 5859</text>\n",
       "<text text-anchor=\"middle\" x=\"352\" y=\"-245.8\" font-family=\"Times,serif\" font-size=\"14.00\" fill=\"#000000\">value = [5851, 8]</text>\n",
       "<text text-anchor=\"middle\" x=\"352\" y=\"-230.8\" font-family=\"Times,serif\" font-size=\"14.00\" fill=\"#000000\">class = VIP</text>\n",
       "</g>\n",
       "<!-- 1&#45;&gt;2 -->\n",
       "<g id=\"edge2\" class=\"edge\">\n",
       "<title>1&#45;&gt;2</title>\n",
       "<path fill=\"none\" stroke=\"#000000\" d=\"M498.3059,-341.8796C471.8955,-327.9114 442.7449,-312.494 417.4606,-299.1214\"/>\n",
       "<polygon fill=\"#000000\" stroke=\"#000000\" points=\"418.8086,-295.875 408.3325,-294.2936 415.5359,-302.0629 418.8086,-295.875\"/>\n",
       "</g>\n",
       "<!-- 9 -->\n",
       "<g id=\"node10\" class=\"node\">\n",
       "<title>9</title>\n",
       "<polygon fill=\"#e78a47\" stroke=\"#000000\" points=\"656.5,-306 497.5,-306 497.5,-223 656.5,-223 656.5,-306\"/>\n",
       "<text text-anchor=\"middle\" x=\"577\" y=\"-290.8\" font-family=\"Times,serif\" font-size=\"14.00\" fill=\"#000000\">총구매금액 &lt;= 283897.0</text>\n",
       "<text text-anchor=\"middle\" x=\"577\" y=\"-275.8\" font-family=\"Times,serif\" font-size=\"14.00\" fill=\"#000000\">gini = 0.124</text>\n",
       "<text text-anchor=\"middle\" x=\"577\" y=\"-260.8\" font-family=\"Times,serif\" font-size=\"14.00\" fill=\"#000000\">samples = 240</text>\n",
       "<text text-anchor=\"middle\" x=\"577\" y=\"-245.8\" font-family=\"Times,serif\" font-size=\"14.00\" fill=\"#000000\">value = [224, 16]</text>\n",
       "<text text-anchor=\"middle\" x=\"577\" y=\"-230.8\" font-family=\"Times,serif\" font-size=\"14.00\" fill=\"#000000\">class = VIP</text>\n",
       "</g>\n",
       "<!-- 1&#45;&gt;9 -->\n",
       "<g id=\"edge9\" class=\"edge\">\n",
       "<title>1&#45;&gt;9</title>\n",
       "<path fill=\"none\" stroke=\"#000000\" d=\"M577,-341.8796C577,-333.6838 577,-324.9891 577,-316.5013\"/>\n",
       "<polygon fill=\"#000000\" stroke=\"#000000\" points=\"580.5001,-316.298 577,-306.2981 573.5001,-316.2981 580.5001,-316.298\"/>\n",
       "</g>\n",
       "<!-- 3 -->\n",
       "<g id=\"node4\" class=\"node\">\n",
       "<title>3</title>\n",
       "<polygon fill=\"#e58139\" stroke=\"#000000\" points=\"262.5,-187 103.5,-187 103.5,-104 262.5,-104 262.5,-187\"/>\n",
       "<text text-anchor=\"middle\" x=\"183\" y=\"-171.8\" font-family=\"Times,serif\" font-size=\"14.00\" fill=\"#000000\">총구매금액 &lt;= 199529.5</text>\n",
       "<text text-anchor=\"middle\" x=\"183\" y=\"-156.8\" font-family=\"Times,serif\" font-size=\"14.00\" fill=\"#000000\">gini = 0.002</text>\n",
       "<text text-anchor=\"middle\" x=\"183\" y=\"-141.8\" font-family=\"Times,serif\" font-size=\"14.00\" fill=\"#000000\">samples = 5847</text>\n",
       "<text text-anchor=\"middle\" x=\"183\" y=\"-126.8\" font-family=\"Times,serif\" font-size=\"14.00\" fill=\"#000000\">value = [5840, 7]</text>\n",
       "<text text-anchor=\"middle\" x=\"183\" y=\"-111.8\" font-family=\"Times,serif\" font-size=\"14.00\" fill=\"#000000\">class = VIP</text>\n",
       "</g>\n",
       "<!-- 2&#45;&gt;3 -->\n",
       "<g id=\"edge3\" class=\"edge\">\n",
       "<title>2&#45;&gt;3</title>\n",
       "<path fill=\"none\" stroke=\"#000000\" d=\"M295.7254,-224.8747C281.2234,-214.6632 265.4683,-203.5694 250.4613,-193.0023\"/>\n",
       "<polygon fill=\"#000000\" stroke=\"#000000\" points=\"252.4052,-190.0905 242.2137,-187.1949 248.375,-195.814 252.4052,-190.0905\"/>\n",
       "</g>\n",
       "<!-- 6 -->\n",
       "<g id=\"node7\" class=\"node\">\n",
       "<title>6</title>\n",
       "<polygon fill=\"#e78c4b\" stroke=\"#000000\" points=\"421.5,-187 282.5,-187 282.5,-104 421.5,-104 421.5,-187\"/>\n",
       "<text text-anchor=\"middle\" x=\"352\" y=\"-171.8\" font-family=\"Times,serif\" font-size=\"14.00\" fill=\"#000000\">최종방문일 &lt;= 297.5</text>\n",
       "<text text-anchor=\"middle\" x=\"352\" y=\"-156.8\" font-family=\"Times,serif\" font-size=\"14.00\" fill=\"#000000\">gini = 0.153</text>\n",
       "<text text-anchor=\"middle\" x=\"352\" y=\"-141.8\" font-family=\"Times,serif\" font-size=\"14.00\" fill=\"#000000\">samples = 12</text>\n",
       "<text text-anchor=\"middle\" x=\"352\" y=\"-126.8\" font-family=\"Times,serif\" font-size=\"14.00\" fill=\"#000000\">value = [11, 1]</text>\n",
       "<text text-anchor=\"middle\" x=\"352\" y=\"-111.8\" font-family=\"Times,serif\" font-size=\"14.00\" fill=\"#000000\">class = VIP</text>\n",
       "</g>\n",
       "<!-- 2&#45;&gt;6 -->\n",
       "<g id=\"edge6\" class=\"edge\">\n",
       "<title>2&#45;&gt;6</title>\n",
       "<path fill=\"none\" stroke=\"#000000\" d=\"M352,-222.8796C352,-214.6838 352,-205.9891 352,-197.5013\"/>\n",
       "<polygon fill=\"#000000\" stroke=\"#000000\" points=\"355.5001,-197.298 352,-187.2981 348.5001,-197.2981 355.5001,-197.298\"/>\n",
       "</g>\n",
       "<!-- 4 -->\n",
       "<g id=\"node5\" class=\"node\">\n",
       "<title>4</title>\n",
       "<polygon fill=\"#e58139\" stroke=\"#000000\" points=\"112,-68 0,-68 0,0 112,0 112,-68\"/>\n",
       "<text text-anchor=\"middle\" x=\"56\" y=\"-52.8\" font-family=\"Times,serif\" font-size=\"14.00\" fill=\"#000000\">gini = 0.0</text>\n",
       "<text text-anchor=\"middle\" x=\"56\" y=\"-37.8\" font-family=\"Times,serif\" font-size=\"14.00\" fill=\"#000000\">samples = 5274</text>\n",
       "<text text-anchor=\"middle\" x=\"56\" y=\"-22.8\" font-family=\"Times,serif\" font-size=\"14.00\" fill=\"#000000\">value = [5273, 1]</text>\n",
       "<text text-anchor=\"middle\" x=\"56\" y=\"-7.8\" font-family=\"Times,serif\" font-size=\"14.00\" fill=\"#000000\">class = VIP</text>\n",
       "</g>\n",
       "<!-- 3&#45;&gt;4 -->\n",
       "<g id=\"edge4\" class=\"edge\">\n",
       "<title>3&#45;&gt;4</title>\n",
       "<path fill=\"none\" stroke=\"#000000\" d=\"M135.7099,-103.9815C124.9275,-94.5151 113.477,-84.462 102.7187,-75.0168\"/>\n",
       "<polygon fill=\"#000000\" stroke=\"#000000\" points=\"104.8507,-72.2311 95.0268,-68.2637 100.2324,-77.4915 104.8507,-72.2311\"/>\n",
       "</g>\n",
       "<!-- 5 -->\n",
       "<g id=\"node6\" class=\"node\">\n",
       "<title>5</title>\n",
       "<polygon fill=\"#e5823b\" stroke=\"#000000\" points=\"235.5,-68 130.5,-68 130.5,0 235.5,0 235.5,-68\"/>\n",
       "<text text-anchor=\"middle\" x=\"183\" y=\"-52.8\" font-family=\"Times,serif\" font-size=\"14.00\" fill=\"#000000\">gini = 0.021</text>\n",
       "<text text-anchor=\"middle\" x=\"183\" y=\"-37.8\" font-family=\"Times,serif\" font-size=\"14.00\" fill=\"#000000\">samples = 573</text>\n",
       "<text text-anchor=\"middle\" x=\"183\" y=\"-22.8\" font-family=\"Times,serif\" font-size=\"14.00\" fill=\"#000000\">value = [567, 6]</text>\n",
       "<text text-anchor=\"middle\" x=\"183\" y=\"-7.8\" font-family=\"Times,serif\" font-size=\"14.00\" fill=\"#000000\">class = VIP</text>\n",
       "</g>\n",
       "<!-- 3&#45;&gt;5 -->\n",
       "<g id=\"edge5\" class=\"edge\">\n",
       "<title>3&#45;&gt;5</title>\n",
       "<path fill=\"none\" stroke=\"#000000\" d=\"M183,-103.9815C183,-95.618 183,-86.7965 183,-78.3409\"/>\n",
       "<polygon fill=\"#000000\" stroke=\"#000000\" points=\"186.5001,-78.2636 183,-68.2637 179.5001,-78.2637 186.5001,-78.2636\"/>\n",
       "</g>\n",
       "<!-- 7 -->\n",
       "<g id=\"node8\" class=\"node\">\n",
       "<title>7</title>\n",
       "<polygon fill=\"#e58139\" stroke=\"#000000\" points=\"352,-68 254,-68 254,0 352,0 352,-68\"/>\n",
       "<text text-anchor=\"middle\" x=\"303\" y=\"-52.8\" font-family=\"Times,serif\" font-size=\"14.00\" fill=\"#000000\">gini = 0.0</text>\n",
       "<text text-anchor=\"middle\" x=\"303\" y=\"-37.8\" font-family=\"Times,serif\" font-size=\"14.00\" fill=\"#000000\">samples = 11</text>\n",
       "<text text-anchor=\"middle\" x=\"303\" y=\"-22.8\" font-family=\"Times,serif\" font-size=\"14.00\" fill=\"#000000\">value = [11, 0]</text>\n",
       "<text text-anchor=\"middle\" x=\"303\" y=\"-7.8\" font-family=\"Times,serif\" font-size=\"14.00\" fill=\"#000000\">class = VIP</text>\n",
       "</g>\n",
       "<!-- 6&#45;&gt;7 -->\n",
       "<g id=\"edge7\" class=\"edge\">\n",
       "<title>6&#45;&gt;7</title>\n",
       "<path fill=\"none\" stroke=\"#000000\" d=\"M333.7542,-103.9815C329.9576,-95.3423 325.9462,-86.2144 322.1192,-77.5059\"/>\n",
       "<polygon fill=\"#000000\" stroke=\"#000000\" points=\"325.2851,-76.0105 318.0576,-68.2637 318.8767,-78.8268 325.2851,-76.0105\"/>\n",
       "</g>\n",
       "<!-- 8 -->\n",
       "<g id=\"node9\" class=\"node\">\n",
       "<title>8</title>\n",
       "<polygon fill=\"#399de5\" stroke=\"#000000\" points=\"462,-68 370,-68 370,0 462,0 462,-68\"/>\n",
       "<text text-anchor=\"middle\" x=\"416\" y=\"-52.8\" font-family=\"Times,serif\" font-size=\"14.00\" fill=\"#000000\">gini = 0.0</text>\n",
       "<text text-anchor=\"middle\" x=\"416\" y=\"-37.8\" font-family=\"Times,serif\" font-size=\"14.00\" fill=\"#000000\">samples = 1</text>\n",
       "<text text-anchor=\"middle\" x=\"416\" y=\"-22.8\" font-family=\"Times,serif\" font-size=\"14.00\" fill=\"#000000\">value = [0, 1]</text>\n",
       "<text text-anchor=\"middle\" x=\"416\" y=\"-7.8\" font-family=\"Times,serif\" font-size=\"14.00\" fill=\"#000000\">class = 일반</text>\n",
       "</g>\n",
       "<!-- 6&#45;&gt;8 -->\n",
       "<g id=\"edge8\" class=\"edge\">\n",
       "<title>6&#45;&gt;8</title>\n",
       "<path fill=\"none\" stroke=\"#000000\" d=\"M375.8312,-103.9815C380.8956,-95.1585 386.2525,-85.8258 391.3468,-76.9506\"/>\n",
       "<polygon fill=\"#000000\" stroke=\"#000000\" points=\"394.3903,-78.6789 396.333,-68.2637 388.3193,-75.1942 394.3903,-78.6789\"/>\n",
       "</g>\n",
       "<!-- 10 -->\n",
       "<g id=\"node11\" class=\"node\">\n",
       "<title>10</title>\n",
       "<polygon fill=\"#399de5\" stroke=\"#000000\" points=\"534,-179.5 442,-179.5 442,-111.5 534,-111.5 534,-179.5\"/>\n",
       "<text text-anchor=\"middle\" x=\"488\" y=\"-164.3\" font-family=\"Times,serif\" font-size=\"14.00\" fill=\"#000000\">gini = 0.0</text>\n",
       "<text text-anchor=\"middle\" x=\"488\" y=\"-149.3\" font-family=\"Times,serif\" font-size=\"14.00\" fill=\"#000000\">samples = 1</text>\n",
       "<text text-anchor=\"middle\" x=\"488\" y=\"-134.3\" font-family=\"Times,serif\" font-size=\"14.00\" fill=\"#000000\">value = [0, 1]</text>\n",
       "<text text-anchor=\"middle\" x=\"488\" y=\"-119.3\" font-family=\"Times,serif\" font-size=\"14.00\" fill=\"#000000\">class = 일반</text>\n",
       "</g>\n",
       "<!-- 9&#45;&gt;10 -->\n",
       "<g id=\"edge10\" class=\"edge\">\n",
       "<title>9&#45;&gt;10</title>\n",
       "<path fill=\"none\" stroke=\"#000000\" d=\"M545.8721,-222.8796C537.4014,-211.5536 528.2181,-199.2748 519.7153,-187.9058\"/>\n",
       "<polygon fill=\"#000000\" stroke=\"#000000\" points=\"522.4562,-185.7268 513.6641,-179.8149 516.8505,-189.9193 522.4562,-185.7268\"/>\n",
       "</g>\n",
       "<!-- 11 -->\n",
       "<g id=\"node12\" class=\"node\">\n",
       "<title>11</title>\n",
       "<polygon fill=\"#e78946\" stroke=\"#000000\" points=\"738,-187 552,-187 552,-104 738,-104 738,-187\"/>\n",
       "<text text-anchor=\"middle\" x=\"645\" y=\"-171.8\" font-family=\"Times,serif\" font-size=\"14.00\" fill=\"#000000\">주별평균구매금액 &lt;= 6475.0</text>\n",
       "<text text-anchor=\"middle\" x=\"645\" y=\"-156.8\" font-family=\"Times,serif\" font-size=\"14.00\" fill=\"#000000\">gini = 0.118</text>\n",
       "<text text-anchor=\"middle\" x=\"645\" y=\"-141.8\" font-family=\"Times,serif\" font-size=\"14.00\" fill=\"#000000\">samples = 239</text>\n",
       "<text text-anchor=\"middle\" x=\"645\" y=\"-126.8\" font-family=\"Times,serif\" font-size=\"14.00\" fill=\"#000000\">value = [224, 15]</text>\n",
       "<text text-anchor=\"middle\" x=\"645\" y=\"-111.8\" font-family=\"Times,serif\" font-size=\"14.00\" fill=\"#000000\">class = VIP</text>\n",
       "</g>\n",
       "<!-- 9&#45;&gt;11 -->\n",
       "<g id=\"edge11\" class=\"edge\">\n",
       "<title>9&#45;&gt;11</title>\n",
       "<path fill=\"none\" stroke=\"#000000\" d=\"M600.7831,-222.8796C605.7237,-214.2335 610.9816,-205.0322 616.0833,-196.1042\"/>\n",
       "<polygon fill=\"#000000\" stroke=\"#000000\" points=\"619.1928,-197.717 621.1154,-187.2981 613.1151,-194.244 619.1928,-197.717\"/>\n",
       "</g>\n",
       "<!-- 12 -->\n",
       "<g id=\"node13\" class=\"node\">\n",
       "<title>12</title>\n",
       "<polygon fill=\"#efb388\" stroke=\"#000000\" points=\"572,-68 480,-68 480,0 572,0 572,-68\"/>\n",
       "<text text-anchor=\"middle\" x=\"526\" y=\"-52.8\" font-family=\"Times,serif\" font-size=\"14.00\" fill=\"#000000\">gini = 0.408</text>\n",
       "<text text-anchor=\"middle\" x=\"526\" y=\"-37.8\" font-family=\"Times,serif\" font-size=\"14.00\" fill=\"#000000\">samples = 7</text>\n",
       "<text text-anchor=\"middle\" x=\"526\" y=\"-22.8\" font-family=\"Times,serif\" font-size=\"14.00\" fill=\"#000000\">value = [5, 2]</text>\n",
       "<text text-anchor=\"middle\" x=\"526\" y=\"-7.8\" font-family=\"Times,serif\" font-size=\"14.00\" fill=\"#000000\">class = VIP</text>\n",
       "</g>\n",
       "<!-- 11&#45;&gt;12 -->\n",
       "<g id=\"edge12\" class=\"edge\">\n",
       "<title>11&#45;&gt;12</title>\n",
       "<path fill=\"none\" stroke=\"#000000\" d=\"M600.6888,-103.9815C590.6837,-94.607 580.0646,-84.6572 570.0696,-75.2921\"/>\n",
       "<polygon fill=\"#000000\" stroke=\"#000000\" points=\"572.2588,-72.547 562.5684,-68.2637 567.4726,-77.6551 572.2588,-72.547\"/>\n",
       "</g>\n",
       "<!-- 13 -->\n",
       "<g id=\"node14\" class=\"node\">\n",
       "<title>13</title>\n",
       "<polygon fill=\"#e78845\" stroke=\"#000000\" points=\"702,-68 590,-68 590,0 702,0 702,-68\"/>\n",
       "<text text-anchor=\"middle\" x=\"646\" y=\"-52.8\" font-family=\"Times,serif\" font-size=\"14.00\" fill=\"#000000\">gini = 0.106</text>\n",
       "<text text-anchor=\"middle\" x=\"646\" y=\"-37.8\" font-family=\"Times,serif\" font-size=\"14.00\" fill=\"#000000\">samples = 232</text>\n",
       "<text text-anchor=\"middle\" x=\"646\" y=\"-22.8\" font-family=\"Times,serif\" font-size=\"14.00\" fill=\"#000000\">value = [219, 13]</text>\n",
       "<text text-anchor=\"middle\" x=\"646\" y=\"-7.8\" font-family=\"Times,serif\" font-size=\"14.00\" fill=\"#000000\">class = VIP</text>\n",
       "</g>\n",
       "<!-- 11&#45;&gt;13 -->\n",
       "<g id=\"edge13\" class=\"edge\">\n",
       "<title>11&#45;&gt;13</title>\n",
       "<path fill=\"none\" stroke=\"#000000\" d=\"M645.3724,-103.9815C645.4474,-95.618 645.5265,-86.7965 645.6023,-78.3409\"/>\n",
       "<polygon fill=\"#000000\" stroke=\"#000000\" points=\"649.1028,-78.2947 645.6927,-68.2637 642.1031,-78.2318 649.1028,-78.2947\"/>\n",
       "</g>\n",
       "<!-- 15 -->\n",
       "<g id=\"node16\" class=\"node\">\n",
       "<title>15</title>\n",
       "<polygon fill=\"#cce6f8\" stroke=\"#000000\" points=\"1063.5,-306 870.5,-306 870.5,-223 1063.5,-223 1063.5,-306\"/>\n",
       "<text text-anchor=\"middle\" x=\"967\" y=\"-290.8\" font-family=\"Times,serif\" font-size=\"14.00\" fill=\"#000000\">주별평균구매금액 &lt;= 10500.5</text>\n",
       "<text text-anchor=\"middle\" x=\"967\" y=\"-275.8\" font-family=\"Times,serif\" font-size=\"14.00\" fill=\"#000000\">gini = 0.489</text>\n",
       "<text text-anchor=\"middle\" x=\"967\" y=\"-260.8\" font-family=\"Times,serif\" font-size=\"14.00\" fill=\"#000000\">samples = 1124</text>\n",
       "<text text-anchor=\"middle\" x=\"967\" y=\"-245.8\" font-family=\"Times,serif\" font-size=\"14.00\" fill=\"#000000\">value = [479, 645]</text>\n",
       "<text text-anchor=\"middle\" x=\"967\" y=\"-230.8\" font-family=\"Times,serif\" font-size=\"14.00\" fill=\"#000000\">class = 일반</text>\n",
       "</g>\n",
       "<!-- 14&#45;&gt;15 -->\n",
       "<g id=\"edge15\" class=\"edge\">\n",
       "<title>14&#45;&gt;15</title>\n",
       "<path fill=\"none\" stroke=\"#000000\" d=\"M967,-341.8796C967,-333.6838 967,-324.9891 967,-316.5013\"/>\n",
       "<polygon fill=\"#000000\" stroke=\"#000000\" points=\"970.5001,-316.298 967,-306.2981 963.5001,-316.2981 970.5001,-316.298\"/>\n",
       "</g>\n",
       "<!-- 22 -->\n",
       "<g id=\"node23\" class=\"node\">\n",
       "<title>22</title>\n",
       "<polygon fill=\"#e5833d\" stroke=\"#000000\" points=\"1377.5,-306 1258.5,-306 1258.5,-223 1377.5,-223 1377.5,-306\"/>\n",
       "<text text-anchor=\"middle\" x=\"1318\" y=\"-290.8\" font-family=\"Times,serif\" font-size=\"14.00\" fill=\"#000000\">방문횟수 &lt;= 39.5</text>\n",
       "<text text-anchor=\"middle\" x=\"1318\" y=\"-275.8\" font-family=\"Times,serif\" font-size=\"14.00\" fill=\"#000000\">gini = 0.036</text>\n",
       "<text text-anchor=\"middle\" x=\"1318\" y=\"-260.8\" font-family=\"Times,serif\" font-size=\"14.00\" fill=\"#000000\">samples = 757</text>\n",
       "<text text-anchor=\"middle\" x=\"1318\" y=\"-245.8\" font-family=\"Times,serif\" font-size=\"14.00\" fill=\"#000000\">value = [743, 14]</text>\n",
       "<text text-anchor=\"middle\" x=\"1318\" y=\"-230.8\" font-family=\"Times,serif\" font-size=\"14.00\" fill=\"#000000\">class = VIP</text>\n",
       "</g>\n",
       "<!-- 14&#45;&gt;22 -->\n",
       "<g id=\"edge22\" class=\"edge\">\n",
       "<title>14&#45;&gt;22</title>\n",
       "<path fill=\"none\" stroke=\"#000000\" d=\"M1029.7518,-362.2252C1091.365,-341.3364 1185.1297,-309.5472 1248.8567,-287.9417\"/>\n",
       "<polygon fill=\"#000000\" stroke=\"#000000\" points=\"1250.0783,-291.2233 1258.425,-284.6978 1247.8307,-284.594 1250.0783,-291.2233\"/>\n",
       "</g>\n",
       "<!-- 16 -->\n",
       "<g id=\"node17\" class=\"node\">\n",
       "<title>16</title>\n",
       "<polygon fill=\"#f2be9a\" stroke=\"#000000\" points=\"975,-187 789,-187 789,-104 975,-104 975,-187\"/>\n",
       "<text text-anchor=\"middle\" x=\"882\" y=\"-171.8\" font-family=\"Times,serif\" font-size=\"14.00\" fill=\"#000000\">주별평균구매금액 &lt;= 8918.0</text>\n",
       "<text text-anchor=\"middle\" x=\"882\" y=\"-156.8\" font-family=\"Times,serif\" font-size=\"14.00\" fill=\"#000000\">gini = 0.441</text>\n",
       "<text text-anchor=\"middle\" x=\"882\" y=\"-141.8\" font-family=\"Times,serif\" font-size=\"14.00\" fill=\"#000000\">samples = 436</text>\n",
       "<text text-anchor=\"middle\" x=\"882\" y=\"-126.8\" font-family=\"Times,serif\" font-size=\"14.00\" fill=\"#000000\">value = [293, 143]</text>\n",
       "<text text-anchor=\"middle\" x=\"882\" y=\"-111.8\" font-family=\"Times,serif\" font-size=\"14.00\" fill=\"#000000\">class = VIP</text>\n",
       "</g>\n",
       "<!-- 15&#45;&gt;16 -->\n",
       "<g id=\"edge16\" class=\"edge\">\n",
       "<title>15&#45;&gt;16</title>\n",
       "<path fill=\"none\" stroke=\"#000000\" d=\"M937.2711,-222.8796C930.9667,-214.0534 924.249,-204.6485 917.7476,-195.5466\"/>\n",
       "<polygon fill=\"#000000\" stroke=\"#000000\" points=\"920.5163,-193.4011 911.8558,-187.2981 914.8201,-197.4698 920.5163,-193.4011\"/>\n",
       "</g>\n",
       "<!-- 19 -->\n",
       "<g id=\"node20\" class=\"node\">\n",
       "<title>19</title>\n",
       "<polygon fill=\"#82c1ef\" stroke=\"#000000\" points=\"1112.5,-187 993.5,-187 993.5,-104 1112.5,-104 1112.5,-187\"/>\n",
       "<text text-anchor=\"middle\" x=\"1053\" y=\"-171.8\" font-family=\"Times,serif\" font-size=\"14.00\" fill=\"#000000\">성별_여 &lt;= 0.5</text>\n",
       "<text text-anchor=\"middle\" x=\"1053\" y=\"-156.8\" font-family=\"Times,serif\" font-size=\"14.00\" fill=\"#000000\">gini = 0.395</text>\n",
       "<text text-anchor=\"middle\" x=\"1053\" y=\"-141.8\" font-family=\"Times,serif\" font-size=\"14.00\" fill=\"#000000\">samples = 688</text>\n",
       "<text text-anchor=\"middle\" x=\"1053\" y=\"-126.8\" font-family=\"Times,serif\" font-size=\"14.00\" fill=\"#000000\">value = [186, 502]</text>\n",
       "<text text-anchor=\"middle\" x=\"1053\" y=\"-111.8\" font-family=\"Times,serif\" font-size=\"14.00\" fill=\"#000000\">class = 일반</text>\n",
       "</g>\n",
       "<!-- 15&#45;&gt;19 -->\n",
       "<g id=\"edge19\" class=\"edge\">\n",
       "<title>15&#45;&gt;19</title>\n",
       "<path fill=\"none\" stroke=\"#000000\" d=\"M997.0786,-222.8796C1003.4572,-214.0534 1010.254,-204.6485 1016.8319,-195.5466\"/>\n",
       "<polygon fill=\"#000000\" stroke=\"#000000\" points=\"1019.7723,-197.4532 1022.793,-187.2981 1014.0988,-193.353 1019.7723,-197.4532\"/>\n",
       "</g>\n",
       "<!-- 17 -->\n",
       "<g id=\"node18\" class=\"node\">\n",
       "<title>17</title>\n",
       "<polygon fill=\"#eca572\" stroke=\"#000000\" points=\"832,-68 720,-68 720,0 832,0 832,-68\"/>\n",
       "<text text-anchor=\"middle\" x=\"776\" y=\"-52.8\" font-family=\"Times,serif\" font-size=\"14.00\" fill=\"#000000\">gini = 0.346</text>\n",
       "<text text-anchor=\"middle\" x=\"776\" y=\"-37.8\" font-family=\"Times,serif\" font-size=\"14.00\" fill=\"#000000\">samples = 216</text>\n",
       "<text text-anchor=\"middle\" x=\"776\" y=\"-22.8\" font-family=\"Times,serif\" font-size=\"14.00\" fill=\"#000000\">value = [168, 48]</text>\n",
       "<text text-anchor=\"middle\" x=\"776\" y=\"-7.8\" font-family=\"Times,serif\" font-size=\"14.00\" fill=\"#000000\">class = VIP</text>\n",
       "</g>\n",
       "<!-- 16&#45;&gt;17 -->\n",
       "<g id=\"edge17\" class=\"edge\">\n",
       "<title>16&#45;&gt;17</title>\n",
       "<path fill=\"none\" stroke=\"#000000\" d=\"M842.5295,-103.9815C833.7048,-94.6989 824.3438,-84.8522 815.5173,-75.5677\"/>\n",
       "<polygon fill=\"#000000\" stroke=\"#000000\" points=\"818.0003,-73.0997 808.5735,-68.2637 812.927,-77.9228 818.0003,-73.0997\"/>\n",
       "</g>\n",
       "<!-- 18 -->\n",
       "<g id=\"node19\" class=\"node\">\n",
       "<title>18</title>\n",
       "<polygon fill=\"#f9e1cf\" stroke=\"#000000\" points=\"962,-68 850,-68 850,0 962,0 962,-68\"/>\n",
       "<text text-anchor=\"middle\" x=\"906\" y=\"-52.8\" font-family=\"Times,serif\" font-size=\"14.00\" fill=\"#000000\">gini = 0.491</text>\n",
       "<text text-anchor=\"middle\" x=\"906\" y=\"-37.8\" font-family=\"Times,serif\" font-size=\"14.00\" fill=\"#000000\">samples = 220</text>\n",
       "<text text-anchor=\"middle\" x=\"906\" y=\"-22.8\" font-family=\"Times,serif\" font-size=\"14.00\" fill=\"#000000\">value = [125, 95]</text>\n",
       "<text text-anchor=\"middle\" x=\"906\" y=\"-7.8\" font-family=\"Times,serif\" font-size=\"14.00\" fill=\"#000000\">class = VIP</text>\n",
       "</g>\n",
       "<!-- 16&#45;&gt;18 -->\n",
       "<g id=\"edge18\" class=\"edge\">\n",
       "<title>16&#45;&gt;18</title>\n",
       "<path fill=\"none\" stroke=\"#000000\" d=\"M890.9367,-103.9815C892.7567,-95.5261 894.6775,-86.6026 896.5157,-78.0623\"/>\n",
       "<polygon fill=\"#000000\" stroke=\"#000000\" points=\"899.9421,-78.7763 898.6249,-68.2637 893.0989,-77.3032 899.9421,-78.7763\"/>\n",
       "</g>\n",
       "<!-- 20 -->\n",
       "<g id=\"node21\" class=\"node\">\n",
       "<title>20</title>\n",
       "<polygon fill=\"#e58139\" stroke=\"#000000\" points=\"1078,-68 980,-68 980,0 1078,0 1078,-68\"/>\n",
       "<text text-anchor=\"middle\" x=\"1029\" y=\"-52.8\" font-family=\"Times,serif\" font-size=\"14.00\" fill=\"#000000\">gini = 0.0</text>\n",
       "<text text-anchor=\"middle\" x=\"1029\" y=\"-37.8\" font-family=\"Times,serif\" font-size=\"14.00\" fill=\"#000000\">samples = 36</text>\n",
       "<text text-anchor=\"middle\" x=\"1029\" y=\"-22.8\" font-family=\"Times,serif\" font-size=\"14.00\" fill=\"#000000\">value = [36, 0]</text>\n",
       "<text text-anchor=\"middle\" x=\"1029\" y=\"-7.8\" font-family=\"Times,serif\" font-size=\"14.00\" fill=\"#000000\">class = VIP</text>\n",
       "</g>\n",
       "<!-- 19&#45;&gt;20 -->\n",
       "<g id=\"edge20\" class=\"edge\">\n",
       "<title>19&#45;&gt;20</title>\n",
       "<path fill=\"none\" stroke=\"#000000\" d=\"M1044.0633,-103.9815C1042.2433,-95.5261 1040.3225,-86.6026 1038.4843,-78.0623\"/>\n",
       "<polygon fill=\"#000000\" stroke=\"#000000\" points=\"1041.9011,-77.3032 1036.3751,-68.2637 1035.0579,-78.7763 1041.9011,-77.3032\"/>\n",
       "</g>\n",
       "<!-- 21 -->\n",
       "<g id=\"node22\" class=\"node\">\n",
       "<title>21</title>\n",
       "<polygon fill=\"#74baed\" stroke=\"#000000\" points=\"1215.5,-68 1096.5,-68 1096.5,0 1215.5,0 1215.5,-68\"/>\n",
       "<text text-anchor=\"middle\" x=\"1156\" y=\"-52.8\" font-family=\"Times,serif\" font-size=\"14.00\" fill=\"#000000\">gini = 0.354</text>\n",
       "<text text-anchor=\"middle\" x=\"1156\" y=\"-37.8\" font-family=\"Times,serif\" font-size=\"14.00\" fill=\"#000000\">samples = 652</text>\n",
       "<text text-anchor=\"middle\" x=\"1156\" y=\"-22.8\" font-family=\"Times,serif\" font-size=\"14.00\" fill=\"#000000\">value = [150, 502]</text>\n",
       "<text text-anchor=\"middle\" x=\"1156\" y=\"-7.8\" font-family=\"Times,serif\" font-size=\"14.00\" fill=\"#000000\">class = 일반</text>\n",
       "</g>\n",
       "<!-- 19&#45;&gt;21 -->\n",
       "<g id=\"edge21\" class=\"edge\">\n",
       "<title>19&#45;&gt;21</title>\n",
       "<path fill=\"none\" stroke=\"#000000\" d=\"M1091.3534,-103.9815C1099.8434,-94.7908 1108.8443,-85.0472 1117.3463,-75.8436\"/>\n",
       "<polygon fill=\"#000000\" stroke=\"#000000\" points=\"1120.1337,-77.9842 1124.3484,-68.2637 1114.9919,-73.2343 1120.1337,-77.9842\"/>\n",
       "</g>\n",
       "<!-- 23 -->\n",
       "<g id=\"node24\" class=\"node\">\n",
       "<title>23</title>\n",
       "<polygon fill=\"#e89152\" stroke=\"#000000\" points=\"1391.5,-187 1244.5,-187 1244.5,-104 1391.5,-104 1391.5,-187\"/>\n",
       "<text text-anchor=\"middle\" x=\"1318\" y=\"-171.8\" font-family=\"Times,serif\" font-size=\"14.00\" fill=\"#000000\">연령대_55 ~ 64 &lt;= 0.5</text>\n",
       "<text text-anchor=\"middle\" x=\"1318\" y=\"-156.8\" font-family=\"Times,serif\" font-size=\"14.00\" fill=\"#000000\">gini = 0.199</text>\n",
       "<text text-anchor=\"middle\" x=\"1318\" y=\"-141.8\" font-family=\"Times,serif\" font-size=\"14.00\" fill=\"#000000\">samples = 116</text>\n",
       "<text text-anchor=\"middle\" x=\"1318\" y=\"-126.8\" font-family=\"Times,serif\" font-size=\"14.00\" fill=\"#000000\">value = [103, 13]</text>\n",
       "<text text-anchor=\"middle\" x=\"1318\" y=\"-111.8\" font-family=\"Times,serif\" font-size=\"14.00\" fill=\"#000000\">class = VIP</text>\n",
       "</g>\n",
       "<!-- 22&#45;&gt;23 -->\n",
       "<g id=\"edge23\" class=\"edge\">\n",
       "<title>22&#45;&gt;23</title>\n",
       "<path fill=\"none\" stroke=\"#000000\" d=\"M1318,-222.8796C1318,-214.6838 1318,-205.9891 1318,-197.5013\"/>\n",
       "<polygon fill=\"#000000\" stroke=\"#000000\" points=\"1321.5001,-197.298 1318,-187.2981 1314.5001,-197.2981 1321.5001,-197.298\"/>\n",
       "</g>\n",
       "<!-- 26 -->\n",
       "<g id=\"node27\" class=\"node\">\n",
       "<title>26</title>\n",
       "<polygon fill=\"#e58139\" stroke=\"#000000\" points=\"1584.5,-187 1445.5,-187 1445.5,-104 1584.5,-104 1584.5,-187\"/>\n",
       "<text text-anchor=\"middle\" x=\"1515\" y=\"-171.8\" font-family=\"Times,serif\" font-size=\"14.00\" fill=\"#000000\">최종방문일 &lt;= 293.5</text>\n",
       "<text text-anchor=\"middle\" x=\"1515\" y=\"-156.8\" font-family=\"Times,serif\" font-size=\"14.00\" fill=\"#000000\">gini = 0.003</text>\n",
       "<text text-anchor=\"middle\" x=\"1515\" y=\"-141.8\" font-family=\"Times,serif\" font-size=\"14.00\" fill=\"#000000\">samples = 641</text>\n",
       "<text text-anchor=\"middle\" x=\"1515\" y=\"-126.8\" font-family=\"Times,serif\" font-size=\"14.00\" fill=\"#000000\">value = [640, 1]</text>\n",
       "<text text-anchor=\"middle\" x=\"1515\" y=\"-111.8\" font-family=\"Times,serif\" font-size=\"14.00\" fill=\"#000000\">class = VIP</text>\n",
       "</g>\n",
       "<!-- 22&#45;&gt;26 -->\n",
       "<g id=\"edge26\" class=\"edge\">\n",
       "<title>22&#45;&gt;26</title>\n",
       "<path fill=\"none\" stroke=\"#000000\" d=\"M1377.6411,-228.4731C1396.4829,-217.0915 1417.584,-204.3452 1437.4863,-192.323\"/>\n",
       "<polygon fill=\"#000000\" stroke=\"#000000\" points=\"1439.482,-195.2065 1446.2319,-187.0401 1435.8626,-189.2148 1439.482,-195.2065\"/>\n",
       "</g>\n",
       "<!-- 24 -->\n",
       "<g id=\"node25\" class=\"node\">\n",
       "<title>24</title>\n",
       "<polygon fill=\"#e78a48\" stroke=\"#000000\" points=\"1332,-68 1234,-68 1234,0 1332,0 1332,-68\"/>\n",
       "<text text-anchor=\"middle\" x=\"1283\" y=\"-52.8\" font-family=\"Times,serif\" font-size=\"14.00\" fill=\"#000000\">gini = 0.13</text>\n",
       "<text text-anchor=\"middle\" x=\"1283\" y=\"-37.8\" font-family=\"Times,serif\" font-size=\"14.00\" fill=\"#000000\">samples = 100</text>\n",
       "<text text-anchor=\"middle\" x=\"1283\" y=\"-22.8\" font-family=\"Times,serif\" font-size=\"14.00\" fill=\"#000000\">value = [93, 7]</text>\n",
       "<text text-anchor=\"middle\" x=\"1283\" y=\"-7.8\" font-family=\"Times,serif\" font-size=\"14.00\" fill=\"#000000\">class = VIP</text>\n",
       "</g>\n",
       "<!-- 23&#45;&gt;24 -->\n",
       "<g id=\"edge24\" class=\"edge\">\n",
       "<title>23&#45;&gt;24</title>\n",
       "<path fill=\"none\" stroke=\"#000000\" d=\"M1304.9673,-103.9815C1302.3131,-95.5261 1299.512,-86.6026 1296.8312,-78.0623\"/>\n",
       "<polygon fill=\"#000000\" stroke=\"#000000\" points=\"1300.0898,-76.7564 1293.7554,-68.2637 1293.4111,-78.8529 1300.0898,-76.7564\"/>\n",
       "</g>\n",
       "<!-- 25 -->\n",
       "<g id=\"node26\" class=\"node\">\n",
       "<title>25</title>\n",
       "<polygon fill=\"#f5cdb0\" stroke=\"#000000\" points=\"1448,-68 1350,-68 1350,0 1448,0 1448,-68\"/>\n",
       "<text text-anchor=\"middle\" x=\"1399\" y=\"-52.8\" font-family=\"Times,serif\" font-size=\"14.00\" fill=\"#000000\">gini = 0.469</text>\n",
       "<text text-anchor=\"middle\" x=\"1399\" y=\"-37.8\" font-family=\"Times,serif\" font-size=\"14.00\" fill=\"#000000\">samples = 16</text>\n",
       "<text text-anchor=\"middle\" x=\"1399\" y=\"-22.8\" font-family=\"Times,serif\" font-size=\"14.00\" fill=\"#000000\">value = [10, 6]</text>\n",
       "<text text-anchor=\"middle\" x=\"1399\" y=\"-7.8\" font-family=\"Times,serif\" font-size=\"14.00\" fill=\"#000000\">class = VIP</text>\n",
       "</g>\n",
       "<!-- 23&#45;&gt;25 -->\n",
       "<g id=\"edge25\" class=\"edge\">\n",
       "<title>23&#45;&gt;25</title>\n",
       "<path fill=\"none\" stroke=\"#000000\" d=\"M1348.1614,-103.9815C1354.7045,-94.9747 1361.6334,-85.4367 1368.2008,-76.3965\"/>\n",
       "<polygon fill=\"#000000\" stroke=\"#000000\" points=\"1371.0631,-78.4113 1374.1089,-68.2637 1365.3998,-74.2971 1371.0631,-78.4113\"/>\n",
       "</g>\n",
       "<!-- 27 -->\n",
       "<g id=\"node28\" class=\"node\">\n",
       "<title>27</title>\n",
       "<polygon fill=\"#e5833c\" stroke=\"#000000\" points=\"1564,-68 1466,-68 1466,0 1564,0 1564,-68\"/>\n",
       "<text text-anchor=\"middle\" x=\"1515\" y=\"-52.8\" font-family=\"Times,serif\" font-size=\"14.00\" fill=\"#000000\">gini = 0.03</text>\n",
       "<text text-anchor=\"middle\" x=\"1515\" y=\"-37.8\" font-family=\"Times,serif\" font-size=\"14.00\" fill=\"#000000\">samples = 66</text>\n",
       "<text text-anchor=\"middle\" x=\"1515\" y=\"-22.8\" font-family=\"Times,serif\" font-size=\"14.00\" fill=\"#000000\">value = [65, 1]</text>\n",
       "<text text-anchor=\"middle\" x=\"1515\" y=\"-7.8\" font-family=\"Times,serif\" font-size=\"14.00\" fill=\"#000000\">class = VIP</text>\n",
       "</g>\n",
       "<!-- 26&#45;&gt;27 -->\n",
       "<g id=\"edge27\" class=\"edge\">\n",
       "<title>26&#45;&gt;27</title>\n",
       "<path fill=\"none\" stroke=\"#000000\" d=\"M1515,-103.9815C1515,-95.618 1515,-86.7965 1515,-78.3409\"/>\n",
       "<polygon fill=\"#000000\" stroke=\"#000000\" points=\"1518.5001,-78.2636 1515,-68.2637 1511.5001,-78.2637 1518.5001,-78.2636\"/>\n",
       "</g>\n",
       "<!-- 28 -->\n",
       "<g id=\"node29\" class=\"node\">\n",
       "<title>28</title>\n",
       "<polygon fill=\"#e58139\" stroke=\"#000000\" points=\"1687.5,-68 1582.5,-68 1582.5,0 1687.5,0 1687.5,-68\"/>\n",
       "<text text-anchor=\"middle\" x=\"1635\" y=\"-52.8\" font-family=\"Times,serif\" font-size=\"14.00\" fill=\"#000000\">gini = 0.0</text>\n",
       "<text text-anchor=\"middle\" x=\"1635\" y=\"-37.8\" font-family=\"Times,serif\" font-size=\"14.00\" fill=\"#000000\">samples = 575</text>\n",
       "<text text-anchor=\"middle\" x=\"1635\" y=\"-22.8\" font-family=\"Times,serif\" font-size=\"14.00\" fill=\"#000000\">value = [575, 0]</text>\n",
       "<text text-anchor=\"middle\" x=\"1635\" y=\"-7.8\" font-family=\"Times,serif\" font-size=\"14.00\" fill=\"#000000\">class = VIP</text>\n",
       "</g>\n",
       "<!-- 26&#45;&gt;28 -->\n",
       "<g id=\"edge28\" class=\"edge\">\n",
       "<title>26&#45;&gt;28</title>\n",
       "<path fill=\"none\" stroke=\"#000000\" d=\"M1559.6836,-103.9815C1569.7727,-94.607 1580.481,-84.6572 1590.5601,-75.2921\"/>\n",
       "<polygon fill=\"#000000\" stroke=\"#000000\" points=\"1593.1809,-77.6346 1598.1243,-68.2637 1588.4161,-72.5065 1593.1809,-77.6346\"/>\n",
       "</g>\n",
       "</g>\n",
       "</svg>\n"
      ],
      "text/plain": [
       "<graphviz.files.Source at 0x7f67c584f050>"
      ]
     },
     "metadata": {},
     "output_type": "display_data"
    }
   ],
   "source": [
    "v_feature_name = x_train.columns\n",
    "export_graphviz(dt, out_file='tree_low.dot', class_names=['VIP', '일반'], feature_names=v_feature_name, impurity=True, filled=True)\n",
    "with open('tree_low.dot') as f:\n",
    "    dot_graph = f.read()\n",
    "    \n",
    "display(graphviz.Source(dot_graph))"
   ]
  }
 ],
 "metadata": {
  "kernelspec": {
   "display_name": "Python 3",
   "language": "python",
   "name": "python3"
  },
  "language_info": {
   "codemirror_mode": {
    "name": "ipython",
    "version": 3
   },
   "file_extension": ".py",
   "mimetype": "text/x-python",
   "name": "python",
   "nbconvert_exporter": "python",
   "pygments_lexer": "ipython3",
   "version": "3.7.6"
  },
  "toc": {
   "base_numbering": 1,
   "nav_menu": {},
   "number_sections": true,
   "sideBar": true,
   "skip_h1_title": false,
   "title_cell": "Table of Contents",
   "title_sidebar": "Contents",
   "toc_cell": false,
   "toc_position": {},
   "toc_section_display": true,
   "toc_window_display": false
  },
  "varInspector": {
   "cols": {
    "lenName": 16,
    "lenType": 16,
    "lenVar": 40
   },
   "kernels_config": {
    "python": {
     "delete_cmd_postfix": "",
     "delete_cmd_prefix": "del ",
     "library": "var_list.py",
     "varRefreshCmd": "print(var_dic_list())"
    },
    "r": {
     "delete_cmd_postfix": ") ",
     "delete_cmd_prefix": "rm(",
     "library": "var_list.r",
     "varRefreshCmd": "cat(var_dic_list()) "
    }
   },
   "types_to_exclude": [
    "module",
    "function",
    "builtin_function_or_method",
    "instance",
    "_Feature"
   ],
   "window_display": false
  }
 },
 "nbformat": 4,
 "nbformat_minor": 4
}
