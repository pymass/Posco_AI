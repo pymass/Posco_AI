{
 "cells": [
  {
   "cell_type": "code",
   "execution_count": 23,
   "metadata": {},
   "outputs": [],
   "source": [
    "import pandas as pd\n",
    "import numpy as np\n",
    "from scipy import stats\n",
    "import scipy\n",
    "from statsmodels.stats.proportion import proportions_ztest\n",
    "import statsmodels.api as sm\n",
    "import statsmodels.formula.api as smf"
   ]
  },
  {
   "cell_type": "markdown",
   "metadata": {},
   "source": [
    "\n",
    "# 모평균 추정 (z분포)"
   ]
  },
  {
   "cell_type": "code",
   "execution_count": 15,
   "metadata": {},
   "outputs": [
    {
     "name": "stdout",
     "output_type": "stream",
     "text": [
      "신뢰구간: ([17.83], [21.17])\n"
     ]
    }
   ],
   "source": [
    "df = pd.DataFrame({\"sample\":[18, 18, 20, 21, 20, 23, 19, 18, 17, 21, 22, 20, 20, 21, 20, 19, 19, 18, 17, 19]})\n",
    "\n",
    "lower, upper = stats.norm.interval(0.95, loc = np.mean(df), scale = 3.8/np.sqrt(20))\n",
    "print(\"신뢰구간: ({0}, {1})\".format(lower.round(2), upper.round(2)))"
   ]
  },
  {
   "cell_type": "markdown",
   "metadata": {},
   "source": [
    "# 모평균 추정 (t분포)"
   ]
  },
  {
   "cell_type": "code",
   "execution_count": 24,
   "metadata": {
    "scrolled": true
   },
   "outputs": [
    {
     "name": "stdout",
     "output_type": "stream",
     "text": [
      "신뢰구간: ([70.6], [72.4]\n"
     ]
    }
   ],
   "source": [
    "df = pd.DataFrame({'sample': [73, 71, 74, 69, 70, 73, 70, 68, 75, 72, 70, 72, 73, 70, 70, 72, 71, 70, 75, 72]})\n",
    "\n",
    "lower, upper = stats.t.interval(0.95, len(df) - 1, loc=np.mean(df), scale=scipy.stats.sem(df))\n",
    "print('신뢰구간: ({0}, {1})'.format(lower.round(2), upper.round(2)))"
   ]
  },
  {
   "cell_type": "markdown",
   "metadata": {},
   "source": [
    "# 평균 검정(모집단 표준편차를 모르는 경우)"
   ]
  },
  {
   "cell_type": "code",
   "execution_count": 53,
   "metadata": {},
   "outputs": [
    {
     "data": {
      "text/plain": [
       "(0.8473219275474548, 0.053975414484739304)"
      ]
     },
     "execution_count": 53,
     "metadata": {},
     "output_type": "execute_result"
    }
   ],
   "source": [
    "df = pd.DataFrame({'sample':[85.0, 79.0, 79.1, 79.9, 81.6, 78.6, 85.4, 83.4, 78.1, 79.2]})\n",
    "shapiro(df)"
   ]
  },
  {
   "cell_type": "code",
   "execution_count": 55,
   "metadata": {},
   "outputs": [
    {
     "name": "stdout",
     "output_type": "stream",
     "text": [
      "1-Sample t-test\n",
      "t 통계량: [3.379]\n",
      "p-value: [0.008]\n"
     ]
    }
   ],
   "source": [
    "t_result = stats.ttest_1samp(df, 78.0)\n",
    "\n",
    "t, p = t_result.statistic.round(3), t_result.pvalue.round(3)\n",
    "\n",
    "print('1-Sample t-test')\n",
    "print('t 통계량: {}'.format(t))\n",
    "print('p-value: {}'.format(p))"
   ]
  },
  {
   "cell_type": "markdown",
   "metadata": {},
   "source": [
    "# 2 Sample t-test"
   ]
  },
  {
   "cell_type": "code",
   "execution_count": 56,
   "metadata": {},
   "outputs": [
    {
     "data": {
      "text/plain": [
       "(0.7734811902046204, 0.014793740585446358)"
      ]
     },
     "execution_count": 56,
     "metadata": {},
     "output_type": "execute_result"
    }
   ],
   "source": [
    "df1 = pd.DataFrame({'sample':[1.435,1.572,1.486,1.511,1.457,1.548,1.404,1.883]})\n",
    "df2 = pd.DataFrame({'sample':[1.883,1.715,1,799,1.768,1.711,1.832,1.427,1.344]})\n",
    "\n",
    "shapiro(df1)"
   ]
  },
  {
   "cell_type": "code",
   "execution_count": 57,
   "metadata": {},
   "outputs": [
    {
     "data": {
      "text/plain": [
       "(0.3908460736274719, 3.3066382343349687e-07)"
      ]
     },
     "execution_count": 57,
     "metadata": {},
     "output_type": "execute_result"
    }
   ],
   "source": [
    "shapiro(df2)"
   ]
  },
  {
   "cell_type": "code",
   "execution_count": 58,
   "metadata": {},
   "outputs": [
    {
     "data": {
      "text/plain": [
       "LeveneResult(statistic=0.8848047272536113, pvalue=0.3617916531591635)"
      ]
     },
     "execution_count": 58,
     "metadata": {},
     "output_type": "execute_result"
    }
   ],
   "source": [
    "stats.levene(df1['sample'], df2['sample'])"
   ]
  },
  {
   "cell_type": "code",
   "execution_count": 59,
   "metadata": {},
   "outputs": [
    {
     "name": "stdout",
     "output_type": "stream",
     "text": [
      "2-sample t-test\n",
      "t: [-0.94]\n",
      "p: [0.362]\n"
     ]
    }
   ],
   "source": [
    "t_result = stats.ttest_ind(df1, df2, equal_var=True)\n",
    "\n",
    "t, p = t_result.statistic.round(3), t_result.pvalue.round(3)\n",
    "\n",
    "print('2-sample t-test')\n",
    "print('t: {}'.format(t))\n",
    "print('p: {}'.format(p))"
   ]
  },
  {
   "cell_type": "markdown",
   "metadata": {},
   "source": [
    "# Paired t-test"
   ]
  },
  {
   "cell_type": "code",
   "execution_count": 60,
   "metadata": {},
   "outputs": [
    {
     "name": "stdout",
     "output_type": "stream",
     "text": [
      "Paired t-test\n",
      "t: [-2.266]\n",
      "p: [0.05]\n"
     ]
    }
   ],
   "source": [
    "df1 = pd.DataFrame({'before':[720,589,780,648,720,589,780,648,780,648]})\n",
    "df2 = pd.DataFrame({'after':[710,580,787,712,750,600,782,670,790,680]})\n",
    "\n",
    "t_result = stats.ttest_rel(df1, df2)\n",
    "\n",
    "t, p = t_result.statistic.round(3), t_result.pvalue.round(3)\n",
    "\n",
    "print('Paired t-test')\n",
    "print('t: {}'.format(t))\n",
    "print('p: {}'.format(p))"
   ]
  },
  {
   "cell_type": "markdown",
   "metadata": {},
   "source": [
    "# 1 Proportion test"
   ]
  },
  {
   "cell_type": "code",
   "execution_count": 65,
   "metadata": {},
   "outputs": [
    {
     "name": "stdout",
     "output_type": "stream",
     "text": [
      "1 Proportion test\n",
      "z: -2.041\n",
      "p: 0.041\n"
     ]
    }
   ],
   "source": [
    "count = 40\n",
    "n_obs = 100\n",
    "value = 0.5\n",
    "\n",
    "stat, pval = proportions_ztest(count, n_obs, value)\n",
    "\n",
    "print('1 Proportion test')\n",
    "print('z: {0:0.3f}'.format(stat))\n",
    "print('p: {0:0.3f}'.format(pval))"
   ]
  },
  {
   "cell_type": "markdown",
   "metadata": {},
   "source": [
    "# 2 Proportion test"
   ]
  },
  {
   "cell_type": "code",
   "execution_count": 67,
   "metadata": {},
   "outputs": [
    {
     "name": "stdout",
     "output_type": "stream",
     "text": [
      "2 Proportion test\n",
      "z: 2.073\n",
      "p: 0.038\n"
     ]
    }
   ],
   "source": [
    "count = np.array([14,5])\n",
    "nobs = np.array([1200, 1200])\n",
    "\n",
    "stat, pval = proportions_ztest(count,nobs)\n",
    "\n",
    "print('2 Proportion test')\n",
    "print('z: {0:0.3f}'.format(stat))\n",
    "print('p: {0:0.3f}'.format(pval))"
   ]
  },
  {
   "cell_type": "markdown",
   "metadata": {},
   "source": [
    "# 카이제곱 검정"
   ]
  },
  {
   "cell_type": "code",
   "execution_count": 69,
   "metadata": {},
   "outputs": [
    {
     "name": "stdout",
     "output_type": "stream",
     "text": [
      "chi-square test\n",
      "chisq: 98.274\n",
      "p: 0.000\n",
      "degree of freedom: 30\n",
      "expected value:\n",
      "[[11.004  8.21   5.24   3.843  1.921  9.782]\n",
      " [ 8.528  6.362  4.061  2.978  1.489  7.581]\n",
      " [10.454  7.799  4.978  3.651  1.825  9.293]\n",
      " [ 8.253  6.157  3.93   2.882  1.441  7.336]\n",
      " [ 7.978  5.952  3.799  2.786  1.393  7.092]\n",
      " [ 8.803  6.568  4.192  3.074  1.537  7.825]\n",
      " [ 7.978  5.952  3.799  2.786  1.393  7.092]]\n"
     ]
    }
   ],
   "source": [
    "df = pd.DataFrame({'as':[18,8,4,4,3,3], 'price':[1,2,1,1,1,25], 'performance':[8,14,3,2,3,8],\n",
    "                  'expand':[7,5,4,3,1,10], 'design':[10,5,9,2,1,2], 'safe':[9,9,5,7,1,1], \n",
    "                   'function':[10,4,4,3,1,7]})\n",
    "\n",
    "chi, pval, dof, expected = stats.chi2_contingency(df.T)\n",
    "\n",
    "print('chi-square test')\n",
    "print('chisq: {0:0.3f}'.format(chi))\n",
    "print('p: {0:0.3f}'.format(pval))\n",
    "print('degree of freedom: {}'.format(dof))\n",
    "print('expected value:\\n{}'.format(expected.round(3)))"
   ]
  },
  {
   "cell_type": "markdown",
   "metadata": {},
   "source": [
    "# One way ANOVA"
   ]
  },
  {
   "cell_type": "code",
   "execution_count": 96,
   "metadata": {},
   "outputs": [
    {
     "name": "stdout",
     "output_type": "stream",
     "text": [
      "One-way\n",
      "F 통계량: 4.172\n",
      "p-value: 0.019\n"
     ]
    }
   ],
   "source": [
    "df = pd.read_csv('../Data/1. 통계이해/ANOVA.csv')\n",
    "\n",
    "a = df.loc[df['gangjong'] == 'a', 'time']\n",
    "b = df.loc[df['gangjong'] == 'b', 'time']\n",
    "c = df.loc[df['gangjong'] == 'c', 'time']\n",
    "d = df.loc[df['gangjong'] == 'd', 'time']\n",
    "\n",
    "f_result = stats.f_oneway(a,b,c,d)\n",
    "f, p = f_result.statistic.round(3), f_result.pvalue.round(3)\n",
    "\n",
    "print('One-way')\n",
    "print('F 통계량: {}'.format(f))\n",
    "print('p-value: {}'.format(p))"
   ]
  },
  {
   "cell_type": "markdown",
   "metadata": {},
   "source": [
    "# 상관분석"
   ]
  },
  {
   "cell_type": "code",
   "execution_count": 100,
   "metadata": {},
   "outputs": [
    {
     "name": "stdout",
     "output_type": "stream",
     "text": [
      "Correlation Analysis\n",
      "corr: -0.723\n",
      "p-value: 0.000\n"
     ]
    }
   ],
   "source": [
    "strength = [37.6,38.6,37.2,36.4,38.6,39,37.2,36.1,35.9,37.1,36.9,37.5,36.3,38.1,39,36.9,36.8,37.6,33,33.5]\n",
    "temperature = [14,15,14,16,17,14,17,16,15,16,14,16,18,13,15,17,14,16,20,21]\n",
    "\n",
    "corr, pval = stats.pearsonr(strength, temperature)\n",
    "\n",
    "print('Correlation Analysis')\n",
    "print('corr: {0:0.3f}'.format(corr))\n",
    "print('p-value: {0:0.3f}'.format(pval))"
   ]
  },
  {
   "cell_type": "markdown",
   "metadata": {},
   "source": [
    "# 단순선형회귀 1"
   ]
  },
  {
   "cell_type": "code",
   "execution_count": 113,
   "metadata": {},
   "outputs": [
    {
     "name": "stdout",
     "output_type": "stream",
     "text": [
      "                            OLS Regression Results                            \n",
      "==============================================================================\n",
      "Dep. Variable:                      y   R-squared:                       0.646\n",
      "Model:                            OLS   Adj. R-squared:                  0.627\n",
      "Method:                 Least Squares   F-statistic:                     32.90\n",
      "Date:                Tue, 30 Jun 2020   Prob (F-statistic):           1.95e-05\n",
      "Time:                        18:51:12   Log-Likelihood:                -26.432\n",
      "No. Observations:                  20   AIC:                             56.86\n",
      "Df Residuals:                      18   BIC:                             58.85\n",
      "Df Model:                           1                                         \n",
      "Covariance Type:            nonrobust                                         \n",
      "==============================================================================\n",
      "                 coef    std err          t      P>|t|      [0.025      0.975]\n",
      "------------------------------------------------------------------------------\n",
      "const         13.0026      4.183      3.108      0.006       4.214      21.791\n",
      "x1            30.8705      5.382      5.736      0.000      19.563      42.178\n",
      "==============================================================================\n",
      "Omnibus:                        1.722   Durbin-Watson:                   0.765\n",
      "Prob(Omnibus):                  0.423   Jarque-Bera (JB):                1.205\n",
      "Skew:                          -0.588   Prob(JB):                        0.547\n",
      "Kurtosis:                       2.753   Cond. No.                         40.4\n",
      "==============================================================================\n",
      "\n",
      "Warnings:\n",
      "[1] Standard Errors assume that the covariance matrix of the errors is correctly specified.\n"
     ]
    }
   ],
   "source": [
    "strength = [37.6,38.6,37.2,36.4,38.6,39,37.2,36.1,35.9,37.1,36.9,37.5,36.3,38.1,39,36.9,36.8,37.6,33,33.5]\n",
    "baking_time = [0.798992,0.84902,0.816163,0.758266,0.815894,0.807477,0.809068,0.7664,0.742243,0.751118,0.740629,0.751495,0.738863,0.827428,0.818172,0.740939,0.757128,0.804695,0.695121,0.735377]\n",
    "\n",
    "baking_time = sm.add_constant(baking_time)\n",
    "model = sm.OLS(strength, baking_time)\n",
    "result = model.fit()\n",
    "print(result.summary())"
   ]
  },
  {
   "cell_type": "markdown",
   "metadata": {},
   "source": [
    "# 단순선형회귀 2"
   ]
  },
  {
   "cell_type": "code",
   "execution_count": 114,
   "metadata": {},
   "outputs": [
    {
     "name": "stdout",
     "output_type": "stream",
     "text": [
      "                            OLS Regression Results                            \n",
      "==============================================================================\n",
      "Dep. Variable:               strength   R-squared:                       0.001\n",
      "Model:                            OLS   Adj. R-squared:                 -0.011\n",
      "Method:                 Least Squares   F-statistic:                    0.1136\n",
      "Date:                Tue, 30 Jun 2020   Prob (F-statistic):              0.737\n",
      "Time:                        18:51:14   Log-Likelihood:                -223.88\n",
      "No. Observations:                  86   AIC:                             451.8\n",
      "Df Residuals:                      84   BIC:                             456.7\n",
      "Df Model:                           1                                         \n",
      "Covariance Type:            nonrobust                                         \n",
      "==============================================================================\n",
      "                 coef    std err          t      P>|t|      [0.025      0.975]\n",
      "------------------------------------------------------------------------------\n",
      "Intercept     30.4190      5.271      5.771      0.000      19.936      40.902\n",
      "Oven_TMP       0.0056      0.017      0.337      0.737      -0.027       0.038\n",
      "==============================================================================\n",
      "Omnibus:                       15.278   Durbin-Watson:                   0.175\n",
      "Prob(Omnibus):                  0.000   Jarque-Bera (JB):                8.264\n",
      "Skew:                           0.581   Prob(JB):                       0.0160\n",
      "Kurtosis:                       2.023   Cond. No.                     4.71e+03\n",
      "==============================================================================\n",
      "\n",
      "Warnings:\n",
      "[1] Standard Errors assume that the covariance matrix of the errors is correctly specified.\n",
      "[2] The condition number is large, 4.71e+03. This might indicate that there are\n",
      "strong multicollinearity or other numerical problems.\n"
     ]
    }
   ],
   "source": [
    "df = pd.read_csv('../Data/1. 통계이해/correaltion.csv')\n",
    "model = smf.ols(formula = \"strength ~ Oven_TMP\", data=df)\n",
    "result = model.fit()\n",
    "print(result.summary())"
   ]
  }
 ],
 "metadata": {
  "kernelspec": {
   "display_name": "Python 3",
   "language": "python",
   "name": "python3"
  },
  "language_info": {
   "codemirror_mode": {
    "name": "ipython",
    "version": 3
   },
   "file_extension": ".py",
   "mimetype": "text/x-python",
   "name": "python",
   "nbconvert_exporter": "python",
   "pygments_lexer": "ipython3",
   "version": "3.7.6"
  }
 },
 "nbformat": 4,
 "nbformat_minor": 4
}
