{
 "cells": [
  {
   "cell_type": "code",
   "execution_count": 123,
   "metadata": {
    "ExecuteTime": {
     "end_time": "2020-07-04T08:34:30.773736Z",
     "start_time": "2020-07-04T08:34:26.280759Z"
    }
   },
   "outputs": [
    {
     "name": "stdout",
     "output_type": "stream",
     "text": [
      "파이썬 완벽 가이드과 가장 유사한 책 5개\n",
      "\n",
      "1. 파이썬 (왕초보를 위한)\n",
      "2. 혼자 공부하는 파이썬 (파이썬 최신 버전 반영)\n",
      "3. 처음 시작을 위한 파이썬 해설Ⅰ\n",
      "4. 파이썬으로 배우는 누구나 코딩\n",
      "5. 파이썬 (과학적 컴퓨팅을 위한)\n"
     ]
    }
   ],
   "source": [
    "# 필요한 라이브러리 불러오기\n",
    "import requests\n",
    "from sklearn.feature_extraction.text import TfidfVectorizer\n",
    "from sklearn.metrics.pairwise import cosine_similarity\n",
    "from pandas import DataFrame\n",
    "\n",
    "# 네이버 api를 통해 책 데이터 받아오기\n",
    "def load_book(index):\n",
    "    client_id = \"Oenp_txefVJLpceQgJDV\"\n",
    "    secret_id = \"tGJJoV54sf\"\n",
    "\n",
    "    url = \"https://openapi.naver.com/v1/search/book.json\"\n",
    "    headers = {\n",
    "        \"X-Naver-Client-id\": client_id,\n",
    "        \"X-Naver-Client-Secret\": secret_id\n",
    "    }\n",
    "    params = {\n",
    "        \"query\":\"파이썬\",\n",
    "        \"display\":100,\n",
    "        \"start\":index\n",
    "    }\n",
    "\n",
    "    resp = requests.get(url, headers=headers, params=params)\n",
    "    result = resp.json()\n",
    "    \n",
    "    return result['items']\n",
    "\n",
    "# 책 이름 입력 시 가장 유사한 책 5개 출력\n",
    "def search(title):\n",
    "    result = df_cos.loc[title].sort_values(ascending=False)\n",
    "    print(f'{title}와(과) 가장 유사한 책 5개')\n",
    "    print()\n",
    "\n",
    "    for i,j in enumerate(result.iloc[1:6].index):\n",
    "        print(f'{i+1}. {j}')\n",
    "\n",
    "# 데이터 1000개 받아오기\n",
    "result = []\n",
    "for i in range(1, 1001, 100):\n",
    "    result += load_book(i)\n",
    "\n",
    "# 리스트 -> 데이터프레임\n",
    "df = DataFrame(result)\n",
    "\n",
    "# pre-processing (특수문자 등 삭제)\n",
    "df['description'] = df['description'] = df['description'].str.replace(r'[</*b>\\n\\.{3}]|&*#*x0D;*|&.t', '')\n",
    "df['title'] = df['title'].str.replace(r'</*b>', '')\n",
    "\n",
    "# tf-idf 계산 \n",
    "tfidf = TfidfVectorizer()\n",
    "model = tfidf.fit_transform(df['description'])\n",
    "\n",
    "# 코사인 유사도 계산\n",
    "cosine_sim = cosine_similarity(model, model)\n",
    "df_cos = DataFrame(cosine_sim)\n",
    "\n",
    "# 컬럼과 인덱스 명 변경\n",
    "df_cos.columns = df['title']\n",
    "df_cos.index = df['title']\n",
    "\n",
    "# 유사한 책 검색\n",
    "search('파이썬 완벽 가이드')"
   ]
  }
 ],
 "metadata": {
  "kernelspec": {
   "display_name": "Python 3",
   "language": "python",
   "name": "python3"
  },
  "language_info": {
   "codemirror_mode": {
    "name": "ipython",
    "version": 3
   },
   "file_extension": ".py",
   "mimetype": "text/x-python",
   "name": "python",
   "nbconvert_exporter": "python",
   "pygments_lexer": "ipython3",
   "version": "3.7.6"
  },
  "toc": {
   "base_numbering": 1,
   "nav_menu": {},
   "number_sections": true,
   "sideBar": true,
   "skip_h1_title": false,
   "title_cell": "Table of Contents",
   "title_sidebar": "Contents",
   "toc_cell": false,
   "toc_position": {},
   "toc_section_display": true,
   "toc_window_display": false
  },
  "varInspector": {
   "cols": {
    "lenName": 16,
    "lenType": 16,
    "lenVar": 40
   },
   "kernels_config": {
    "python": {
     "delete_cmd_postfix": "",
     "delete_cmd_prefix": "del ",
     "library": "var_list.py",
     "varRefreshCmd": "print(var_dic_list())"
    },
    "r": {
     "delete_cmd_postfix": ") ",
     "delete_cmd_prefix": "rm(",
     "library": "var_list.r",
     "varRefreshCmd": "cat(var_dic_list()) "
    }
   },
   "types_to_exclude": [
    "module",
    "function",
    "builtin_function_or_method",
    "instance",
    "_Feature"
   ],
   "window_display": false
  }
 },
 "nbformat": 4,
 "nbformat_minor": 4
}
